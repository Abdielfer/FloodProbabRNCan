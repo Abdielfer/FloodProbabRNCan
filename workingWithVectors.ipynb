{
 "cells": [
  {
   "cell_type": "code",
   "execution_count": null,
   "metadata": {},
   "outputs": [],
   "source": [
    "import vectorManipulation as VM\n",
    "import myServices as ms\n",
    "import geopandas as gpd\n",
    "from shapely.geometry import MultiPolygon, Polygon\n",
    "from shapely.ops import unary_union\n",
    "import utm\n",
    "    "
   ]
  },
  {
   "cell_type": "code",
   "execution_count": 15,
   "metadata": {},
   "outputs": [
    {
     "name": "stdout",
     "output_type": "stream",
     "text": [
      "epsg:4617\n"
     ]
    }
   ],
   "source": [
    "shpPath = '/Users/abdielfer/RNCanWork/CrossCanFloodSuscMap/HRDTMByAOI/BC_Bulton_2018_ok/BC_Bulton_Subset.shp'\n",
    "shp = VM.importSHPFIles(shpPath)\n",
    "# shp.print_headAttributeTable()\n",
    "gpdObject = shp.getGPDObject()\n",
    "print(shp.getCRS())"
   ]
  },
  {
   "cell_type": "code",
   "execution_count": null,
   "metadata": {},
   "outputs": [],
   "source": [
    "gpdObject.head(1)"
   ]
  },
  {
   "cell_type": "code",
   "execution_count": 16,
   "metadata": {},
   "outputs": [
    {
     "name": "stdout",
     "output_type": "stream",
     "text": [
      "<class 'geopandas.geodataframe.GeoDataFrame'>\n"
     ]
    }
   ],
   "source": [
    "# print(gpdObject['geometry'])\n",
    "\n",
    "if gpdObject.loc[0,'geometry'].geom_type == 'MultiPolygon':\n",
    "#     geomed = gpdObject.loc[0,'geometry'].geoms\n",
    "#     print('geomed.....:', type(geomed),len(geomed))\n",
    "#     [print(g) for g in geomed]\n",
    "    explodedMultipoligon= gpdObject.explode(index_parts=True)\n",
    "    newGeoDf = explodedMultipoligon.dissolve(by=sum)\n",
    "    print(type(newGeoDf))\n",
    "else:\n",
    "    print(gpdObject.loc[0,'geometry'].area)"
   ]
  },
  {
   "cell_type": "code",
   "execution_count": 17,
   "metadata": {},
   "outputs": [],
   "source": [
    "from pyproj import CRS\n",
    "\n",
    "def findtheutm(aGeometry):\n",
    "    '''\n",
    "    A function to find a coordinates UTM zone\n",
    "    '''   \n",
    "    x, y, parallell, latband = utm.from_latlon(aGeometry.centroid.y, aGeometry.centroid.x)\n",
    "    if latband in 'CDEFGHJKLM': #https://www.lantmateriet.se/contentassets/379fe00e09d74fa68550f4154350b047/utm-zoner.gif\n",
    "        ns = 'S'\n",
    "    else:\n",
    "        ns = 'N'\n",
    "    crs = \"+proj=utm +zone={0} +{1}\".format(parallell, ns) #https://gis.stackexchange.com/questions/365584/convert-utm-zone-into-epsg-code\n",
    "    crs = CRS.from_string(crs)\n",
    "    _, code = crs.to_authority()\n",
    "    return int(code)\n",
    "    \n",
    "def computeGeometryArea(gpdFrame: gpd.geodataframe.GeoDataFrame):\n",
    "    '''\n",
    "        You must extrac de polygon from the GeoDataFrame befor passing to the function.\n",
    "    '''\n",
    "    epsg = findtheutm(gpdFrame.geometry.iloc[0])\n",
    "    gpdFrame['Area_m2'] = gpdFrame.to_crs(epsg).area\n",
    "    return gpdFrame\n",
    "\n",
    "# newDfWithAreaOK = computeGeometryArea(newGeoDf)"
   ]
  },
  {
   "cell_type": "code",
   "execution_count": 19,
   "metadata": {},
   "outputs": [
    {
     "name": "stdout",
     "output_type": "stream",
     "text": [
      "32611\n",
      "<class 'shapely.geometry.multipolygon.MultiPolygon'> 511426.07802608906\n"
     ]
    }
   ],
   "source": [
    "epsg = findtheutm(newGeoDf.geometry.iloc[0])\n",
    "print(epsg)\n",
    "reporjGoeDF= newGeoDf.to_crs(epsg)\n",
    "omega = unary_union([\n",
    "    Polygon(g)for g in reporjGoeDF['geometry'] \n",
    "])\n",
    "print(type(omega), omega.area)"
   ]
  },
  {
   "cell_type": "code",
   "execution_count": null,
   "metadata": {},
   "outputs": [],
   "source": [
    "newDfWithAreaOK"
   ]
  },
  {
   "cell_type": "code",
   "execution_count": null,
   "metadata": {},
   "outputs": [],
   "source": [
    "if 'MULTIPOLYGON' in gpdObject.loc[0,'geometry'].geoms:\n",
    "    print('Yeaaa..')\n",
    "    "
   ]
  },
  {
   "cell_type": "code",
   "execution_count": null,
   "metadata": {},
   "outputs": [],
   "source": [
    "\n",
    "print(VM.computePolygonArea(gpdObject.loc[0,'geometry']))"
   ]
  },
  {
   "cell_type": "code",
   "execution_count": null,
   "metadata": {},
   "outputs": [],
   "source": []
  }
 ],
 "metadata": {
  "kernelspec": {
   "display_name": "Python 3 (ipykernel)",
   "language": "python",
   "name": "python3"
  },
  "language_info": {
   "codemirror_mode": {
    "name": "ipython",
    "version": 3
   },
   "file_extension": ".py",
   "mimetype": "text/x-python",
   "name": "python",
   "nbconvert_exporter": "python",
   "pygments_lexer": "ipython3",
   "version": "3.9.13"
  }
 },
 "nbformat": 4,
 "nbformat_minor": 2
}

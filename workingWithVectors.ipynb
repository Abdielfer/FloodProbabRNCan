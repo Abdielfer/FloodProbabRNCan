{
 "cells": [
  {
   "cell_type": "code",
   "execution_count": 78,
   "metadata": {},
   "outputs": [],
   "source": [
    "import vectorManipulation as VM\n",
    "import myServices as ms\n",
    "import geopandas as gpd\n",
    "from shapely.geometry import MultiPolygon, Polygon\n",
    "from shapely.ops import unary_union\n",
    "    "
   ]
  },
  {
   "cell_type": "code",
   "execution_count": 70,
   "metadata": {},
   "outputs": [
    {
     "name": "stdout",
     "output_type": "stream",
     "text": [
      "epsg:4617\n"
     ]
    }
   ],
   "source": [
    "shpPath = '/Users/abdielfer/RNCanWork/CrossCanFloodSuscMap/HRDTMByAOI/BC_Kootenay_Creston_2017_ok/BC_Kootenay_Creston_subset.shp'\n",
    "shp = VM.importSHPFIles(shpPath)\n",
    "# shp.print_headAttributeTable()\n",
    "gpdObject = shp.getGPDObject()\n",
    "print(shp.getCRS())"
   ]
  },
  {
   "cell_type": "code",
   "execution_count": 3,
   "metadata": {},
   "outputs": [
    {
     "data": {
      "text/html": [
       "<div>\n",
       "<style scoped>\n",
       "    .dataframe tbody tr th:only-of-type {\n",
       "        vertical-align: middle;\n",
       "    }\n",
       "\n",
       "    .dataframe tbody tr th {\n",
       "        vertical-align: top;\n",
       "    }\n",
       "\n",
       "    .dataframe thead th {\n",
       "        text-align: right;\n",
       "    }\n",
       "</style>\n",
       "<table border=\"1\" class=\"dataframe\">\n",
       "  <thead>\n",
       "    <tr style=\"text-align: right;\">\n",
       "      <th></th>\n",
       "      <th>id</th>\n",
       "      <th>in_id</th>\n",
       "      <th>flood_mech</th>\n",
       "      <th>flood_me_1</th>\n",
       "      <th>inundation</th>\n",
       "      <th>inundati_1</th>\n",
       "      <th>sa_id</th>\n",
       "      <th>definition</th>\n",
       "      <th>percentage</th>\n",
       "      <th>study_name</th>\n",
       "      <th>...</th>\n",
       "      <th>Project</th>\n",
       "      <th>Coord_Sys</th>\n",
       "      <th>Ftp_dtm</th>\n",
       "      <th>Ftp_dsm</th>\n",
       "      <th>Index_kmz</th>\n",
       "      <th>Index_shp</th>\n",
       "      <th>Meta_dtm</th>\n",
       "      <th>Meta_dsm</th>\n",
       "      <th>See</th>\n",
       "      <th>geometry</th>\n",
       "    </tr>\n",
       "  </thead>\n",
       "  <tbody>\n",
       "    <tr>\n",
       "      <th>0</th>\n",
       "      <td>58.0</td>\n",
       "      <td>BCBRTN0099IN0012</td>\n",
       "      <td>riverine</td>\n",
       "      <td>The temporary inundation by water of normally ...</td>\n",
       "      <td>directly inundated</td>\n",
       "      <td>Inundation areas with a direct hydraulic or ov...</td>\n",
       "      <td>BCBRTN0099</td>\n",
       "      <td>None</td>\n",
       "      <td>5</td>\n",
       "      <td>Burton Creek</td>\n",
       "      <td>...</td>\n",
       "      <td>Kootenay_Columbia_2018</td>\n",
       "      <td>utm11</td>\n",
       "      <td>https://ftp.maps.canada.ca/pub/elevation/dem_m...</td>\n",
       "      <td>https://ftp.maps.canada.ca/pub/elevation/dem_m...</td>\n",
       "      <td>https://ftp.maps.canada.ca/pub/elevation/dem_m...</td>\n",
       "      <td>https://ftp.maps.canada.ca/pub/elevation/dem_m...</td>\n",
       "      <td>https://ftp.maps.canada.ca/pub/elevation/dem_m...</td>\n",
       "      <td>https://ftp.maps.canada.ca/pub/elevation/dem_m...</td>\n",
       "      <td>1</td>\n",
       "      <td>MULTIPOLYGON (((-117.89216 49.96990, -117.8921...</td>\n",
       "    </tr>\n",
       "  </tbody>\n",
       "</table>\n",
       "<p>1 rows × 29 columns</p>\n",
       "</div>"
      ],
      "text/plain": [
       "     id             in_id flood_mech  \\\n",
       "0  58.0  BCBRTN0099IN0012   riverine   \n",
       "\n",
       "                                          flood_me_1          inundation  \\\n",
       "0  The temporary inundation by water of normally ...  directly inundated   \n",
       "\n",
       "                                          inundati_1       sa_id definition  \\\n",
       "0  Inundation areas with a direct hydraulic or ov...  BCBRTN0099       None   \n",
       "\n",
       "  percentage    study_name  ...                 Project Coord_Sys  \\\n",
       "0          5  Burton Creek  ...  Kootenay_Columbia_2018     utm11   \n",
       "\n",
       "                                             Ftp_dtm  \\\n",
       "0  https://ftp.maps.canada.ca/pub/elevation/dem_m...   \n",
       "\n",
       "                                             Ftp_dsm  \\\n",
       "0  https://ftp.maps.canada.ca/pub/elevation/dem_m...   \n",
       "\n",
       "                                           Index_kmz  \\\n",
       "0  https://ftp.maps.canada.ca/pub/elevation/dem_m...   \n",
       "\n",
       "                                           Index_shp  \\\n",
       "0  https://ftp.maps.canada.ca/pub/elevation/dem_m...   \n",
       "\n",
       "                                            Meta_dtm  \\\n",
       "0  https://ftp.maps.canada.ca/pub/elevation/dem_m...   \n",
       "\n",
       "                                            Meta_dsm See  \\\n",
       "0  https://ftp.maps.canada.ca/pub/elevation/dem_m...   1   \n",
       "\n",
       "                                            geometry  \n",
       "0  MULTIPOLYGON (((-117.89216 49.96990, -117.8921...  \n",
       "\n",
       "[1 rows x 29 columns]"
      ]
     },
     "execution_count": 3,
     "metadata": {},
     "output_type": "execute_result"
    }
   ],
   "source": [
    "gpdObject.head(1)"
   ]
  },
  {
   "cell_type": "code",
   "execution_count": 72,
   "metadata": {},
   "outputs": [
    {
     "name": "stdout",
     "output_type": "stream",
     "text": [
      "geomed.....: <class 'shapely.geometry.base.GeometrySequence'> 7820\n",
      "<class 'geopandas.geodataframe.GeoDataFrame'>\n"
     ]
    }
   ],
   "source": [
    "# print(gpdObject['geometry'])\n",
    "\n",
    "\n",
    "if gpdObject.loc[0,'geometry'].geom_type == 'MultiPolygon':\n",
    "    geomed = gpdObject.loc[0,'geometry'].geoms\n",
    "    print('geomed.....:', type(geomed),len(geomed))\n",
    "#     [print(g) for g in geomed]\n",
    "    \n",
    "    explodedMultipoligon= gpdObject.explode(index_parts=True)\n",
    "#     \n",
    "    newGeoDf = explodedMultipoligon.dissolve(by=sum)\n",
    "    print(type(newGeoDf))\n",
    "else:\n",
    "    print(gpdObject.loc[0,'geometry'].area)"
   ]
  },
  {
   "cell_type": "code",
   "execution_count": 80,
   "metadata": {},
   "outputs": [
    {
     "name": "stdout",
     "output_type": "stream",
     "text": [
      "<class 'shapely.geometry.multipolygon.MultiPolygon'> 0.000856389268609782\n"
     ]
    }
   ],
   "source": [
    "omega = unary_union([\n",
    "    Polygon(g)for g in explodedMultipoligon['geometry'] \n",
    "])\n",
    "print(type(omega), omega.area)"
   ]
  },
  {
   "cell_type": "code",
   "execution_count": 11,
   "metadata": {},
   "outputs": [],
   "source": [
    "if 'MULTIPOLYGON' in gpdObject.loc[0,'geometry'].geoms:\n",
    "    print('Yeaaa..')\n",
    "    "
   ]
  },
  {
   "cell_type": "code",
   "execution_count": 12,
   "metadata": {},
   "outputs": [
    {
     "name": "stdout",
     "output_type": "stream",
     "text": [
      "6.414645159705675e-05\n"
     ]
    }
   ],
   "source": [
    "\n",
    "print(VM.computePolygonArea(gpdObject.loc[0,'geometry']))"
   ]
  },
  {
   "cell_type": "code",
   "execution_count": null,
   "metadata": {},
   "outputs": [],
   "source": []
  }
 ],
 "metadata": {
  "kernelspec": {
   "display_name": "Python 3 (ipykernel)",
   "language": "python",
   "name": "python3"
  },
  "language_info": {
   "codemirror_mode": {
    "name": "ipython",
    "version": 3
   },
   "file_extension": ".py",
   "mimetype": "text/x-python",
   "name": "python",
   "nbconvert_exporter": "python",
   "pygments_lexer": "ipython3",
   "version": "3.9.13"
  }
 },
 "nbformat": 4,
 "nbformat_minor": 2
}

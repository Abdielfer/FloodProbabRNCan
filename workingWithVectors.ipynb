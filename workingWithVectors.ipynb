{
 "cells": [
  {
   "cell_type": "code",
   "execution_count": 1,
   "metadata": {},
   "outputs": [],
   "source": [
    "import rasterManipulation as RM\n",
    "import myServices as ms\n",
    "import os\n",
    "import rasterio as rst"
   ]
  },
  {
   "cell_type": "code",
   "execution_count": 15,
   "metadata": {
    "scrolled": true
   },
   "outputs": [
    {
     "name": "stdout",
     "output_type": "stream",
     "text": [
      "['.DS_Store']\n",
      "['.DS_Store', 'BC_Kootenay_Creston_2017_5m_CRS_OK.tif']\n"
     ]
    },
    {
     "ename": "AttributeError",
     "evalue": "'dtmTransformer' object has no attribute 'get_CRSAndTranslation_GTIFF'",
     "output_type": "error",
     "traceback": [
      "\u001b[0;31m---------------------------------------------------------------------------\u001b[0m",
      "\u001b[0;31mAttributeError\u001b[0m                            Traceback (most recent call last)",
      "Input \u001b[0;32mIn [15]\u001b[0m, in \u001b[0;36m<cell line: 33>\u001b[0;34m()\u001b[0m\n\u001b[1;32m     29\u001b[0m     \u001b[38;5;28mprint\u001b[39m(\u001b[38;5;124m'\u001b[39m\u001b[38;5;124m-------------------------------------------------------\u001b[39m\u001b[38;5;124m'\u001b[39m)\n\u001b[1;32m     31\u001b[0m searchDir \u001b[38;5;241m=\u001b[39m\u001b[38;5;124m'\u001b[39m\u001b[38;5;124m/Users/abdielfer/RNCanFloodProject/CrossCanFloodSuscMap/HRDTMByAOI/\u001b[39m\u001b[38;5;124m'\u001b[39m\n\u001b[0;32m---> 33\u001b[0m \u001b[43mapplyMethodToFilesWithNameSubstring\u001b[49m\u001b[43m(\u001b[49m\u001b[43msearchDir\u001b[49m\u001b[43m,\u001b[49m\u001b[38;5;124;43m'\u001b[39;49m\u001b[38;5;124;43m_5m_CRS_OK.tif\u001b[39;49m\u001b[38;5;124;43m'\u001b[39;49m\u001b[43m,\u001b[49m\u001b[43m \u001b[49m\u001b[43mactionToapply\u001b[49m\u001b[43m)\u001b[49m\n",
      "Input \u001b[0;32mIn [15]\u001b[0m, in \u001b[0;36mapplyMethodToFilesWithNameSubstring\u001b[0;34m(searchDir, nameSubstring, action)\u001b[0m\n\u001b[1;32m      9\u001b[0m     \u001b[38;5;28;01mfor\u001b[39;00m i \u001b[38;5;129;01min\u001b[39;00m file:\n\u001b[1;32m     10\u001b[0m         \u001b[38;5;28;01mif\u001b[39;00m nameSubstring \u001b[38;5;129;01min\u001b[39;00m i:\n\u001b[0;32m---> 11\u001b[0m             \u001b[43maction\u001b[49m\u001b[43m(\u001b[49m\u001b[43mroot\u001b[49m\u001b[43m,\u001b[49m\u001b[43mi\u001b[49m\u001b[43m)\u001b[49m   \n\u001b[1;32m     12\u001b[0m \u001b[38;5;28;01mreturn\u001b[39;00m \u001b[38;5;28;01mTrue\u001b[39;00m\n",
      "Input \u001b[0;32mIn [15]\u001b[0m, in \u001b[0;36mactionToapply\u001b[0;34m(root, fileName)\u001b[0m\n\u001b[1;32m     20\u001b[0m rasterTool \u001b[38;5;241m=\u001b[39m RM\u001b[38;5;241m.\u001b[39mdtmTransformer(root)\n\u001b[1;32m     21\u001b[0m RM\u001b[38;5;241m.\u001b[39msetWBTWorkingDir(root)\n\u001b[0;32m---> 22\u001b[0m crs,_\u001b[38;5;241m=\u001b[39m\u001b[43mrasterTool\u001b[49m\u001b[38;5;241;43m.\u001b[39;49m\u001b[43mget_CRSAndTranslation_GTIFF\u001b[49m(dtmPath)\n\u001b[1;32m     23\u001b[0m name,_\u001b[38;5;241m=\u001b[39m ms\u001b[38;5;241m.\u001b[39msplitFilenameAndExtention(dtmPath)\n\u001b[1;32m     24\u001b[0m end \u001b[38;5;241m=\u001b[39m name\u001b[38;5;241m.\u001b[39mfind(\u001b[38;5;124m\"\u001b[39m\u001b[38;5;124m_5m\u001b[39m\u001b[38;5;124m\"\u001b[39m)\n",
      "\u001b[0;31mAttributeError\u001b[0m: 'dtmTransformer' object has no attribute 'get_CRSAndTranslation_GTIFF'"
     ]
    }
   ],
   "source": [
    "#### Go through all dir in a root @searchDir:\n",
    "#####.    check some condition to: \n",
    "######.      apply action.\n",
    "\n",
    "### NO BORRAR. ## DO NOT DELETE\n",
    "def applyMethodToFilesWithNameSubstring(searchDir,nameSubstring:str, action):\n",
    "    for (root, dirs, file) in os.walk(searchDir):\n",
    "        print(file)\n",
    "        for i in file:\n",
    "            if nameSubstring in i:\n",
    "                action(root,i)   \n",
    "    return True \n",
    "\n",
    "def actionToapply(root,fileName):\n",
    "    dtmPath = os.path.join(root,fileName)\n",
    "    newWDir = os.path.join(root)\n",
    "#     print(\"i :\", fileName)\n",
    "#     print(\"root. :\", root)\n",
    "#     print('source DTM 5m:', dtmPath)\n",
    "    dtmTransformer = RM.dtmTransformer(root)\n",
    "    rasterTool = RM.generalRasterTools(root)\n",
    "    RM.setWBTWorkingDir(root)\n",
    "    crs,_=rasterTool.get_CRSAndTranslation_GTIFF(dtmPath)\n",
    "    name,_= ms.splitFilenameAndExtention(dtmPath)\n",
    "    end = name.find(\"_5m\")\n",
    "    newName = name[0:end] + '_Slope.tif'\n",
    "    dtm_5m_CRS_OK = ms.makePath(root,newName)\n",
    "#     print('destination DTM_5m_CRS_OK:', dtm_5m_CRS_OK)\n",
    "    \n",
    "    print('-------------------------------------------------------')\n",
    "    \n",
    "searchDir ='/Users/abdielfer/RNCanFloodProject/CrossCanFloodSuscMap/HRDTMByAOI/'\n",
    "\n",
    "applyMethodToFilesWithNameSubstring(searchDir,'_5m_CRS_OK.tif', actionToapply)\n",
    " \n",
    "\n",
    "\n"
   ]
  },
  {
   "cell_type": "code",
   "execution_count": null,
   "metadata": {},
   "outputs": [],
   "source": [
    "## Testing reprojection\n",
    "cwd ='/Users/abdielfer/RNCanFloodProject/CrossCanFloodSuscMap/DataSourcesByAOI/TransitDir'\n",
    "rasterTool = RM.generalRasterTools(cwd)\n",
    "\n",
    "sourcName = 'dtm_1m_utm13_e_4_159.tif'\n",
    "sourcePath = os.path.join(cwd,sourcName)\n",
    "url = 'https://ftp.maps.canada.ca/pub/elevation/dem_mne/highresolution_hauteresolution/dtm_mnt/1m/NS/Urbania/utm20/dtm_1m_utm20_w_2_101.tif'\n",
    "inName = 'SK_Regina_2019_2ForTest_5m.tif'\n",
    "inputPath = os.path.join(cwd,inName)\n",
    "\n",
    "outName = 'SK_Regina_2019_2ForTest_5m_CRS.tif'\n",
    "outPath = os.path.join(cwd,outName)\n",
    "\n",
    "crs,trns = rasterTool.get_CRSAndTranslation_GTIFF(url) \n",
    "# _,trns = rasterTool.get_CRSAndTranslation_GTIFF(sourcePath)\n",
    "# res = rasterTool.get_rasterResolution(inputPath)\n",
    "# print ('original CRS & transformatin', crs , '\\n', trns)\n",
    "# rasterTool.set_CRS_GTIF(inputPath, outPath, crs)"
   ]
  },
  {
   "cell_type": "code",
   "execution_count": 9,
   "metadata": {},
   "outputs": [
    {
     "ename": "NameError",
     "evalue": "name 'newTrns' is not defined",
     "output_type": "error",
     "traceback": [
      "\u001b[0;31m---------------------------------------------------------------------------\u001b[0m",
      "\u001b[0;31mNameError\u001b[0m                                 Traceback (most recent call last)",
      "Input \u001b[0;32mIn [9]\u001b[0m, in \u001b[0;36m<cell line: 1>\u001b[0;34m()\u001b[0m\n\u001b[0;32m----> 1\u001b[0m trans \u001b[38;5;241m=\u001b[39m \u001b[43mnewTrns\u001b[49m[\u001b[38;5;124m'\u001b[39m\u001b[38;5;124mtransform\u001b[39m\u001b[38;5;124m'\u001b[39m]\n\u001b[1;32m      2\u001b[0m \u001b[38;5;28mprint\u001b[39m(trans[\u001b[38;5;241m0\u001b[39m])\n\u001b[1;32m      3\u001b[0m newTrans \u001b[38;5;241m=\u001b[39m rst\u001b[38;5;241m.\u001b[39mAffine(\u001b[38;5;241m5\u001b[39m,trans[\u001b[38;5;241m1\u001b[39m],trans[\u001b[38;5;241m2\u001b[39m],trans[\u001b[38;5;241m3\u001b[39m],\u001b[38;5;241m-\u001b[39m\u001b[38;5;241m5\u001b[39m,trans[\u001b[38;5;241m5\u001b[39m] )\n",
      "\u001b[0;31mNameError\u001b[0m: name 'newTrns' is not defined"
     ]
    }
   ],
   "source": [
    "trans = newTrns['transform']\n",
    "print(trans[0])\n",
    "newTrans = rst.Affine(5,trans[1],trans[2],trans[3],-5,trans[5] )\n"
   ]
  },
  {
   "cell_type": "code",
   "execution_count": 16,
   "metadata": {},
   "outputs": [],
   "source": [
    "#### Print UTM zone by Ftp_dtm address in *.csv\n",
    "cwd = '/Users/abdielfer/RNCanFloodProject/CrossCanFloodSuscMap/DataSourcesByAOI'\n",
    "file_list = ms.listFreeFilesInDirByExt(cwd, ext ='.csv')\n",
    "for i in file_list:\n",
    "    print(i) \n",
    "    path = os.path.join(cwd,i)\n",
    "    with open(path,'r+') as file:\n",
    "#         reader = csv.reader(file)\n",
    "        for r in file:\n",
    "            fin = r.find(\"_5m\")\n",
    "            if init > 0:\n",
    "                end = init+5  \n",
    "                print(r[init:end])\n"
   ]
  },
  {
   "cell_type": "code",
   "execution_count": null,
   "metadata": {
    "scrolled": true
   },
   "outputs": [],
   "source": [
    "### Read ALL *.CSV in cwd, download all DTM_htp by *.CSV, compute Mosaik and Resampling.\n",
    "\n",
    "cwd ='/Users/abdielfer/RNCanFloodProject/CrossCanFloodSuscMap/DataSourcesByAOI/'\n",
    "\n",
    "file_list = ms.listFreeFilesInDirByExt(cwd, ext ='.csv')\n",
    "print(file_list)\n",
    "rasterTool = RM.generalRasterTools(cwd)\n",
    "for file in file_list:\n",
    "    rasterTool.mosaikAndResamplingFromCSV(file,5,'Ftp_dtm',clearTransitDir = True)\n",
    "    "
   ]
  },
  {
   "cell_type": "code",
   "execution_count": null,
   "metadata": {
    "slideshow": {
     "slide_type": "-"
    }
   },
   "outputs": [],
   "source": [
    "# Excecute ONLY RESAMPLING from TransitDir\n",
    "transitFolderPath ='/Users/abdielfer/RNCanFloodProject/CrossCanFloodSuscMap/DataSourcesByAOI/TransitDir'\n",
    "k = ms.listFreeFilesInDirByExt(transitFolderPath, ext = '.tif')\n",
    "name,ext = ms.splitFilenameAndExtention(k[0])\n",
    "rasterTool = RM.generalRasterTools(transitFolderPath)\n",
    "resampledRaster = ms.makePath(transitFolderPath,(name + '_5m.tif'))\n",
    "rasterTool.rasterResampler(k, resampledRaster, 5)"
   ]
  },
  {
   "cell_type": "code",
   "execution_count": null,
   "metadata": {
    "scrolled": true
   },
   "outputs": [],
   "source": [
    "## Download individuals files\n",
    "dtmFtpList = ['https://ftp.maps.canada.ca/pub/elevation/dem_mne/highresolution_hauteresolution/dtm_mnt/1m/NRCAN/GTA2015/utm17/dtm_1m_utm17_e_10_82.tif']\n",
    "transitFolderPath ='/Users/abdielfer/RNCanFloodProject/CrossCanFloodSuscMap/DataSourcesByAOI/TransitDir'\n",
    "RM.downloadTailsToLocalDir(dtmFtpList,transitFolderPath)"
   ]
  },
  {
   "cell_type": "code",
   "execution_count": null,
   "metadata": {},
   "outputs": [],
   "source": [
    "# Excecute ONLY MOSAIK from TransitDir\n",
    "transitFolderPath = '/Users/abdielfer/RNCanFloodProject/CrossCanFloodSuscMap/DataSourcesByAOI/TransitDir'\n",
    "dtmTail = ms.listFreeFilesInDirByExt(transitFolderPath, ext ='.tif')\n",
    "print(dtmTail[0])\n",
    "generalRasterTools = RM.generalRasterTools(transitFolderPath)\n",
    "name,ext = ms.splitFilenameAndExtention(dtmTail[0])\n",
    "mosaikFileNamePermanent = ms.makePath(transitFolderPath,(name + '_mosaik.tif'))\n",
    "generalRasterTools.computeMosaic(mosaikFileNamePermanent)"
   ]
  },
  {
   "cell_type": "code",
   "execution_count": null,
   "metadata": {},
   "outputs": [],
   "source": [
    "generalRasterTools.rasterToVectorLine('basin4_StrahOrder_level5.tif', 'basin4_SOL5.shp')"
   ]
  },
  {
   "cell_type": "code",
   "execution_count": null,
   "metadata": {},
   "outputs": [],
   "source": [
    "generalRasterTools.rasterVisibility_index('basin4_5m_fill.tif', 'visibilityBasin4.tif')"
   ]
  }
 ],
 "metadata": {
  "kernelspec": {
   "display_name": "Python 3 (ipykernel)",
   "language": "python",
   "name": "python3"
  },
  "language_info": {
   "codemirror_mode": {
    "name": "ipython",
    "version": 3
   },
   "file_extension": ".py",
   "mimetype": "text/x-python",
   "name": "python",
   "nbconvert_exporter": "python",
   "pygments_lexer": "ipython3",
   "version": "3.9.13"
  }
 },
 "nbformat": 4,
 "nbformat_minor": 2
}

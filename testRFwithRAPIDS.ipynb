{
 "cells": [
  {
   "cell_type": "code",
   "execution_count": null,
   "metadata": {},
   "outputs": [],
   "source": [
    "import cudf as cu\n",
    "from cuml.ensemble import RandomForestClassifier as cusRandomForestClassifier\n",
    "from cuml.metrics import accuracy_score as cu_accuracy_score\n",
    "from cuml.preprocessing.model_selection import train_test_split as cu_train_test_split\n",
    "import numpy as np\n",
    "\n",
    "# data link: https://gist.githubusercontent.com/curran/a08a1080b88344b0c8a7/raw/639388c2cbc2120a14dcf466e85730eb8be498bb/iris.csv\n",
    "\n",
    "# Read data\n",
    "df = cu.read_csv('./iris.csv', header = 0, delimiter = ',') # Get complete CSV\n",
    "\n",
    "# Prep data\n",
    "X = df.iloc[:, [0, 1, 2, 3]].astype(np.float32) # Get data columns.  Must be float32 for our Classifier\n",
    "y = df.iloc[:, 4].astype('category').cat.codes # Get labels column.  Will convert to int32\n",
    "\n",
    "cu_s_random_forest = cusRandomForestClassifier(\n",
    "                                           n_bins = 16, \n",
    "                                           n_estimators = 40,\n",
    "                                           max_depth = 16,\n",
    "                                           max_features = 1.0,\n",
    "                                           n_streams = 1)\n",
    "\n",
    "train_data, test_data, train_label, test_label = cu_train_test_split(X, y, train_size=0.8)\n",
    "\n",
    "# Fit data in RandomForest\n",
    "cu_s_random_forest.fit(train_data,train_label)\n",
    "\n",
    "# Predict data\n",
    "predict = cu_s_random_forest.predict(test_data, predict_model=\"CPU\") # use CPU to do multi-class classifications\n",
    "print(predict)\n",
    "\n",
    "# Check score\n",
    "print('accuracy_score: ', cu_accuracy_score(test_label, predict))"
   ]
  },
  {
   "cell_type": "code",
   "execution_count": null,
   "metadata": {},
   "outputs": [],
   "source": []
  }
 ],
 "metadata": {
  "language_info": {
   "name": "python"
  },
  "orig_nbformat": 4
 },
 "nbformat": 4,
 "nbformat_minor": 2
}

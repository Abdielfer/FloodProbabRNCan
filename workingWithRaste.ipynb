{
 "cells": [
  {
   "cell_type": "code",
   "execution_count": 1,
   "metadata": {},
   "outputs": [],
   "source": [
    "import raserManipulation as RM\n",
    "import myServices as ms\n",
    "import os\n",
    "import rasterio as rst"
   ]
  },
  {
   "cell_type": "code",
   "execution_count": null,
   "metadata": {},
   "outputs": [],
   "source": [
    "## Testing reprojection\n",
    "cwd ='/Users/abdielfer/RNCanFloodProject/CrossCanFloodSuscMap/DataSourcesByAOI/TransitDir'\n",
    "rasterTool = RM.generalRasterTools(cwd)\n",
    "\n",
    "sourcName = 'dtm_1m_utm13_e_4_159.tif'\n",
    "sourcePath = os.path.join(cwd,sourcName)\n",
    "url = 'https://ftp.maps.canada.ca/pub/elevation/dem_mne/highresolution_hauteresolution/dtm_mnt/1m/NS/Urbania/utm20/dtm_1m_utm20_w_2_101.tif'\n",
    "inName = 'SK_Regina_2019_2ForTest_5m.tif'\n",
    "inputPath = os.path.join(cwd,inName)\n",
    "\n",
    "outName = 'SK_Regina_2019_2ForTest_5m_CRS.tif'\n",
    "outPath = os.path.join(cwd,outName)\n",
    "\n",
    "crs,trns = rasterTool.get_CRSAndTranslation_GTIFF(url) \n",
    "# _,trns = rasterTool.get_CRSAndTranslation_GTIFF(sourcePath)\n",
    "# res = rasterTool.get_rasterResolution(inputPath)\n",
    "# print ('original CRS & transformatin', crs , '\\n', trns)\n",
    "# rasterTool.set_CRS_GTIF(inputPath, outPath, crs)"
   ]
  },
  {
   "cell_type": "code",
   "execution_count": null,
   "metadata": {
    "scrolled": true
   },
   "outputs": [],
   "source": [
    "#### Go through all dir in a root @searchDir:\n",
    "#####.    check some condition to: \n",
    "######.      apply action.\n",
    "\n",
    "### NO BORRAR. ## DO NOT DELETE\n",
    "\n",
    "searchDir ='/Users/abdielfer/RNCanFloodProject/CrossCanFloodSuscMap/DataSourcesByAOI'\n",
    "rasterTool = RM.generalRasterTools(cwd)\n",
    "for (root, dirs, file) in os.walk(searchDir):\n",
    "        for i in file:\n",
    "            if '.csv' in i:\n",
    "                csvPath = os.path.join(root,i)\n",
    "                print('CSV found at: ', csvPath)\n",
    "                dtmFtpList = ms.createListFromCSVColumn(csvPath,'Ftp_dtm')\n",
    "                newWDir = root\n",
    "                dtm_5mTif = ms.listFreeFilesInDirByExt(root,'5m.tif')\n",
    "                dtm_5mTif_path = os.path.join(root,dtm_5mTif[0])\n",
    "                print('source DTM 5m:', dtm_5mTif_path)\n",
    "                RM.setWBTWorkingDir(newWDir)\n",
    "                crs,_=rasterTool.get_CRSAndTranslation_GTIFF(dtmFtpList[0])\n",
    "                name,_= ms.splitFilenameAndExtention(dtm_5mTif[0])\n",
    "                dtm_5mTif_CRS_OK = ms.makePath(root,(name +'_CRS_OK.tif'))\n",
    "                print('destination DTM_5m_CRS_OK:', dtm_5mTif_CRS_OK)\n",
    "                rasterTool.set_CRS_GTIF(dtm_5mTif_path, dtm_5mTif_CRS_OK, crs)\n",
    "                print('-------------------------------------------------------')\n",
    "                "
   ]
  },
  {
   "cell_type": "code",
   "execution_count": null,
   "metadata": {},
   "outputs": [],
   "source": [
    "trans = newTrns['transform']\n",
    "print(trans[0])\n",
    "newTrans = rst.Affine(5,trans[1],trans[2],trans[3],-5,trans[5] )\n"
   ]
  },
  {
   "cell_type": "code",
   "execution_count": null,
   "metadata": {},
   "outputs": [],
   "source": [
    "#### Print UTM zone by Ftp_dtm address in *.csv\n",
    "cwd = '/Users/abdielfer/RNCanFloodProject/CrossCanFloodSuscMap/DataSourcesByAOI'\n",
    "file_list = ms.listFreeFilesInDirByExt(cwd, ext ='.csv')\n",
    "for i in file_list:\n",
    "    print(i) \n",
    "    path = os.path.join(cwd,i)\n",
    "    with open(path,'r+') as file:\n",
    "#         reader = csv.reader(file)\n",
    "        for r in file:\n",
    "            init = r.find(\"utm\")\n",
    "            if init > 0:\n",
    "                end = init+5  \n",
    "                print(r[init:end])\n"
   ]
  },
  {
   "cell_type": "code",
   "execution_count": 13,
   "metadata": {
    "scrolled": true
   },
   "outputs": [
    {
     "name": "stdout",
     "output_type": "stream",
     "text": [
      "['QC_BonaventureComplement_1.csv']\n",
      "Current working directory :  /Users/abdielfer/RNCanFloodProject/CrossCanFloodSuscMap/DataSourcesByAOI/\n",
      "filename : QC_BonaventureComplement_1  ext:  .csv\n",
      "Confirmed directory at: /Users/abdielfer/RNCanFloodProject/CrossCanFloodSuscMap/DataSourcesByAOI/QC_BonaventureComplement_1 \n",
      "Downloading https://ftp.maps.canada.ca/pub/elevation/dem_mne/highresolution_hauteresolution/dtm_mnt/1m/QC/600020_09_Gaspesie_MTM5_2020_21_A/utm20/dtm_1m_utm20_w_16_132.tif to /Users/abdielfer/RNCanFloodProject/CrossCanFloodSuscMap/DataSourcesByAOI/TransitDir/dtm_1m_utm20_w_16_132.tif\n"
     ]
    },
    {
     "data": {
      "application/vnd.jupyter.widget-view+json": {
       "model_id": "1c3c251f080444109bc84919cdb1d3dc",
       "version_major": 2,
       "version_minor": 0
      },
      "text/plain": [
       "  0%|          | 0/35469765 [00:00<?, ?it/s]"
      ]
     },
     "metadata": {},
     "output_type": "display_data"
    },
    {
     "name": "stdout",
     "output_type": "stream",
     "text": [
      "Downloading https://ftp.maps.canada.ca/pub/elevation/dem_mne/highresolution_hauteresolution/dtm_mnt/1m/QC/600020_09_Gaspesie_MTM5_2020_21_A/utm20/dtm_1m_utm20_w_16_133.tif to /Users/abdielfer/RNCanFloodProject/CrossCanFloodSuscMap/DataSourcesByAOI/TransitDir/dtm_1m_utm20_w_16_133.tif\n"
     ]
    },
    {
     "data": {
      "application/vnd.jupyter.widget-view+json": {
       "model_id": "0bb88c331d20472fb8db603628d3f464",
       "version_major": 2,
       "version_minor": 0
      },
      "text/plain": [
       "  0%|          | 0/133843982 [00:00<?, ?it/s]"
      ]
     },
     "metadata": {},
     "output_type": "display_data"
    },
    {
     "name": "stdout",
     "output_type": "stream",
     "text": [
      "Downloading https://ftp.maps.canada.ca/pub/elevation/dem_mne/highresolution_hauteresolution/dtm_mnt/1m/QC/600020_09_Gaspesie_MTM5_2020_21_A/utm20/dtm_1m_utm20_w_17_132.tif to /Users/abdielfer/RNCanFloodProject/CrossCanFloodSuscMap/DataSourcesByAOI/TransitDir/dtm_1m_utm20_w_17_132.tif\n"
     ]
    },
    {
     "data": {
      "application/vnd.jupyter.widget-view+json": {
       "model_id": "6579e4a541f5476792216d1ba4ad69ca",
       "version_major": 2,
       "version_minor": 0
      },
      "text/plain": [
       "  0%|          | 0/20455107 [00:00<?, ?it/s]"
      ]
     },
     "metadata": {},
     "output_type": "display_data"
    },
    {
     "name": "stdout",
     "output_type": "stream",
     "text": [
      "Downloading https://ftp.maps.canada.ca/pub/elevation/dem_mne/highresolution_hauteresolution/dtm_mnt/1m/QC/600020_09_Gaspesie_MTM5_2020_21_A/utm20/dtm_1m_utm20_w_17_133.tif to /Users/abdielfer/RNCanFloodProject/CrossCanFloodSuscMap/DataSourcesByAOI/TransitDir/dtm_1m_utm20_w_17_133.tif\n"
     ]
    },
    {
     "data": {
      "application/vnd.jupyter.widget-view+json": {
       "model_id": "3b4353293aa247bc81fa498a163c4199",
       "version_major": 2,
       "version_minor": 0
      },
      "text/plain": [
       "  0%|          | 0/270351909 [00:00<?, ?it/s]"
      ]
     },
     "metadata": {},
     "output_type": "display_data"
    },
    {
     "name": "stdout",
     "output_type": "stream",
     "text": [
      "Tails downloaded to: /Users/abdielfer/RNCanFloodProject/CrossCanFloodSuscMap/DataSourcesByAOI/TransitDir\n",
      "./whitebox_tools --run=\"Resample\" --wd=\"/Users/abdielfer/RNCanFloodProject/CrossCanFloodSuscMap/DataSourcesByAOI/TransitDir\" --inputs='dtm_1m_utm20_w_16_132.tif;dtm_1m_utm20_w_16_133.tif;dtm_1m_utm20_w_17_132.tif;dtm_1m_utm20_w_17_133.tif' --output='/Users/abdielfer/RNCanFloodProject/CrossCanFloodSuscMap/DataSourcesByAOI/QC_BonaventureComplement_1/QC_BonaventureComplement_1_5m.tif' --cell_size='5' --method=bilinear -v --compress_rasters=True\n",
      "\n",
      "****************************\n",
      "* Welcome to Resample      *\n",
      "* Powered by WhiteboxTools *\n",
      "* www.whiteboxgeo.com      *\n",
      "****************************\n",
      "Reading data...\n",
      "Progress: 0%\n",
      "Progress: 1%\n",
      "Progress: 2%\n",
      "Progress: 3%\n",
      "Progress: 4%\n",
      "Progress: 5%\n",
      "Progress: 6%\n",
      "Progress: 7%\n",
      "Progress: 8%\n",
      "Progress: 9%\n",
      "Progress: 10%\n",
      "Progress: 11%\n",
      "Progress: 12%\n",
      "Progress: 13%\n",
      "Progress: 14%\n",
      "Progress: 15%\n",
      "Progress: 16%\n",
      "Progress: 17%\n",
      "Progress: 18%\n",
      "Progress: 19%\n",
      "Progress: 20%\n",
      "Progress: 21%\n",
      "Progress: 22%\n",
      "Progress: 23%\n",
      "Progress: 24%\n",
      "Progress: 25%\n",
      "Progress: 26%\n",
      "Progress: 27%\n",
      "Progress: 28%\n",
      "Progress: 29%\n",
      "Progress: 30%\n",
      "Progress: 31%\n",
      "Progress: 32%\n",
      "Progress: 33%\n",
      "Progress: 34%\n",
      "Progress: 35%\n",
      "Progress: 36%\n",
      "Progress: 37%\n",
      "Progress: 38%\n",
      "Progress: 39%\n",
      "Progress: 40%\n",
      "Progress: 41%\n",
      "Progress: 42%\n",
      "Progress: 43%\n",
      "Progress: 44%\n",
      "Progress: 45%\n",
      "Progress: 46%\n",
      "Progress: 47%\n",
      "Progress: 48%\n",
      "Progress: 49%\n",
      "Progress: 50%\n",
      "Progress: 51%\n",
      "Progress: 52%\n",
      "Progress: 53%\n",
      "Progress: 54%\n",
      "Progress: 55%\n",
      "Progress: 56%\n",
      "Progress: 57%\n",
      "Progress: 58%\n",
      "Progress: 59%\n",
      "Progress: 60%\n",
      "Progress: 61%\n",
      "Progress: 62%\n",
      "Progress: 63%\n",
      "Progress: 64%\n",
      "Progress: 65%\n",
      "Progress: 66%\n",
      "Progress: 67%\n",
      "Progress: 68%\n",
      "Progress: 69%\n",
      "Progress: 70%\n",
      "Progress: 71%\n",
      "Progress: 72%\n",
      "Progress: 73%\n",
      "Progress: 74%\n",
      "Progress: 75%\n",
      "Progress: 76%\n",
      "Progress: 77%\n",
      "Progress: 78%\n",
      "Progress: 79%\n",
      "Progress: 80%\n",
      "Progress: 81%\n",
      "Progress: 82%\n",
      "Progress: 83%\n",
      "Progress: 84%\n",
      "Progress: 85%\n",
      "Progress: 86%\n",
      "Progress: 87%\n",
      "Progress: 88%\n",
      "Progress: 89%\n",
      "Progress: 90%\n",
      "Progress: 91%\n",
      "Progress: 92%\n",
      "Progress: 93%\n",
      "Progress: 94%\n",
      "Progress: 95%\n",
      "Progress: 96%\n",
      "Progress: 97%\n",
      "Progress: 98%\n",
      "Progress: 99%\n",
      "Progress: 100%\n",
      "Saving data...\n",
      "Output file written\n",
      "Elapsed Time (including I/O): 12.884s\n",
      "This is a profile : {'driver': 'GTiff', 'dtype': 'float32', 'nodata': -32767.0, 'width': 4000, 'height': 4000, 'count': 1, 'crs': CRS.from_wkt('LOCAL_CS[\"unnamed\",UNIT[\"unknown\",1],AXIS[\"Easting\",EAST],AXIS[\"Northing\",NORTH]]'), 'transform': Affine(5.0, 0.0, 320000.0,\n",
      "       0.0, -5.0, 5340000.0), 'tiled': False, 'compress': 'deflate', 'interleave': 'band'}\n"
     ]
    }
   ],
   "source": [
    "### Read ALL *.CSV in cwd, download all DTM_htp by *.CSV, compute Mosaik and Resampling.\n",
    "\n",
    "cwd ='/Users/abdielfer/RNCanFloodProject/CrossCanFloodSuscMap/DataSourcesByAOI/'\n",
    "\n",
    "file_list = ms.listFreeFilesInDirByExt(cwd, ext ='.csv')\n",
    "print(file_list)\n",
    "rasterTool = RM.generalRasterTools(cwd)\n",
    "for file in file_list:\n",
    "    rasterTool.mosaikAndResamplingFromCSV(file,5,'Ftp_dtm',clearTransitDir = True)\n",
    "    "
   ]
  },
  {
   "cell_type": "code",
   "execution_count": null,
   "metadata": {
    "slideshow": {
     "slide_type": "-"
    }
   },
   "outputs": [],
   "source": [
    "# Excecute ONLY RESAMPLING from TransitDir\n",
    "transitFolderPath ='/Users/abdielfer/RNCanFloodProject/CrossCanFloodSuscMap/DataSourcesByAOI/TransitDir'\n",
    "k = ms.listFreeFilesInDirByExt(transitFolderPath, ext = '.tif')\n",
    "name,ext = ms.splitFilenameAndExtention(k[0])\n",
    "rasterTool = RM.generalRasterTools(transitFolderPath)\n",
    "resampledRaster = ms.makePath(transitFolderPath,(name + '_5m.tif'))\n",
    "rasterTool.rasterResampler(k, resampledRaster, 5)"
   ]
  },
  {
   "cell_type": "code",
   "execution_count": null,
   "metadata": {
    "scrolled": true
   },
   "outputs": [],
   "source": [
    "## Download individuals files\n",
    "dtmFtpList = ['https://ftp.maps.canada.ca/pub/elevation/dem_mne/highresolution_hauteresolution/dtm_mnt/1m/NRCAN/GTA2015/utm17/dtm_1m_utm17_e_10_82.tif']\n",
    "transitFolderPath ='/Users/abdielfer/RNCanFloodProject/CrossCanFloodSuscMap/DataSourcesByAOI/TransitDir'\n",
    "RM.downloadTailsToLocalDir(dtmFtpList,transitFolderPath)"
   ]
  },
  {
   "cell_type": "code",
   "execution_count": null,
   "metadata": {},
   "outputs": [],
   "source": [
    "# Excecute ONLY MOSAIK from TransitDir\n",
    "transitFolderPath = '/Users/abdielfer/RNCanFloodProject/CrossCanFloodSuscMap/DataSourcesByAOI/TransitDir'\n",
    "dtmTail = ms.listFreeFilesInDirByExt(transitFolderPath, ext ='.tif')\n",
    "print(dtmTail[0])\n",
    "generalRasterTools = RM.generalRasterTools(transitFolderPath)\n",
    "name,ext = ms.splitFilenameAndExtention(dtmTail[0])\n",
    "mosaikFileNamePermanent = ms.makePath(transitFolderPath,(name + '_mosaik.tif'))\n",
    "generalRasterTools.computeMosaic(mosaikFileNamePermanent)"
   ]
  },
  {
   "cell_type": "code",
   "execution_count": null,
   "metadata": {},
   "outputs": [],
   "source": [
    "generalRasterTools.rasterToVectorLine('basin4_StrahOrder_level5.tif', 'basin4_SOL5.shp')"
   ]
  },
  {
   "cell_type": "code",
   "execution_count": null,
   "metadata": {},
   "outputs": [],
   "source": [
    "generalRasterTools.rasterVisibility_index('basin4_5m_fill.tif', 'visibilityBasin4.tif')"
   ]
  }
 ],
 "metadata": {
  "kernelspec": {
   "display_name": "Python 3 (ipykernel)",
   "language": "python",
   "name": "python3"
  },
  "language_info": {
   "codemirror_mode": {
    "name": "ipython",
    "version": 3
   },
   "file_extension": ".py",
   "mimetype": "text/x-python",
   "name": "python",
   "nbconvert_exporter": "python",
   "pygments_lexer": "ipython3",
   "version": "3.9.13"
  }
 },
 "nbformat": 4,
 "nbformat_minor": 2
}

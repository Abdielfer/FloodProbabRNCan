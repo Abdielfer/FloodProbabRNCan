{
 "cells": [
  {
   "cell_type": "code",
   "execution_count": null,
   "metadata": {},
   "outputs": [],
   "source": [
    "import raserManipulation as RM\n",
    "import myServices as ms\n",
    "import os"
   ]
  },
  {
   "cell_type": "code",
   "execution_count": null,
   "metadata": {},
   "outputs": [],
   "source": [
    "#### Print UTM zone by Ftp_dtm address in *.csv\n",
    "cwd = '/Users/abdielfer/RNCanFloodProject/CrossCanFloodSuscMap/DataSourcesByAOI'\n",
    "file_list = ms.listFreeFilesInDirByExt(cwd, ext ='.csv')\n",
    "for i in file_list:\n",
    "    print(i) \n",
    "    path = os.path.join(cwd,i)\n",
    "    with open(path,'r+') as file:\n",
    "#         reader = csv.reader(file)\n",
    "        for r in file:\n",
    "            init = r.find(\"utm\")\n",
    "            if init > 0:\n",
    "                end = init+5  \n",
    "                print(r[init:end])\n"
   ]
  },
  {
   "cell_type": "code",
   "execution_count": 10,
   "metadata": {
    "scrolled": true
   },
   "outputs": [
    {
     "name": "stdout",
     "output_type": "stream",
     "text": [
      "['SK_Regina_2019_2.csv']\n",
      "Current working directory :  /Users/abdielfer/RNCanFloodProject/CrossCanFloodSuscMap/DataSourcesByAOI/\n",
      "filename : SK_Regina_2019_2  ext:  .csv\n",
      "Using downloaded and verified file: /Users/abdielfer/RNCanFloodProject/CrossCanFloodSuscMap/DataSourcesByAOI/TransitDir/dtm_1m_utm13_e_1_159.tif\n",
      "Using downloaded and verified file: /Users/abdielfer/RNCanFloodProject/CrossCanFloodSuscMap/DataSourcesByAOI/TransitDir/dtm_1m_utm13_e_3_158.tif\n",
      "Downloading https://ftp.maps.canada.ca/pub/elevation/dem_mne/highresolution_hauteresolution/dtm_mnt/1m/SK/Regina_2019/utm13/dtm_1m_utm13_e_3_159.tif to /Users/abdielfer/RNCanFloodProject/CrossCanFloodSuscMap/DataSourcesByAOI/TransitDir/dtm_1m_utm13_e_3_159.tif\n"
     ]
    },
    {
     "data": {
      "application/vnd.jupyter.widget-view+json": {
       "model_id": "a9d759acf76142a3b520dad079ddceff",
       "version_major": 2,
       "version_minor": 0
      },
      "text/plain": [
       "  0%|          | 0/30898972 [00:00<?, ?it/s]"
      ]
     },
     "metadata": {},
     "output_type": "display_data"
    },
    {
     "name": "stdout",
     "output_type": "stream",
     "text": [
      "Downloading https://ftp.maps.canada.ca/pub/elevation/dem_mne/highresolution_hauteresolution/dtm_mnt/1m/SK/Regina_2019/utm13/dtm_1m_utm13_e_4_158.tif to /Users/abdielfer/RNCanFloodProject/CrossCanFloodSuscMap/DataSourcesByAOI/TransitDir/dtm_1m_utm13_e_4_158.tif\n"
     ]
    },
    {
     "data": {
      "application/vnd.jupyter.widget-view+json": {
       "model_id": "4dbee1c7f3a144edb5d6c977c8d0c798",
       "version_major": 2,
       "version_minor": 0
      },
      "text/plain": [
       "  0%|          | 0/116932453 [00:00<?, ?it/s]"
      ]
     },
     "metadata": {},
     "output_type": "display_data"
    },
    {
     "name": "stdout",
     "output_type": "stream",
     "text": [
      "Downloading https://ftp.maps.canada.ca/pub/elevation/dem_mne/highresolution_hauteresolution/dtm_mnt/1m/SK/Regina_2019/utm13/dtm_1m_utm13_e_4_159.tif to /Users/abdielfer/RNCanFloodProject/CrossCanFloodSuscMap/DataSourcesByAOI/TransitDir/dtm_1m_utm13_e_4_159.tif\n"
     ]
    },
    {
     "data": {
      "application/vnd.jupyter.widget-view+json": {
       "model_id": "07d15f355684432eafbc1469798fd274",
       "version_major": 2,
       "version_minor": 0
      },
      "text/plain": [
       "  0%|          | 0/76393572 [00:00<?, ?it/s]"
      ]
     },
     "metadata": {},
     "output_type": "display_data"
    },
    {
     "name": "stdout",
     "output_type": "stream",
     "text": [
      "Tails downloaded to: /Users/abdielfer/RNCanFloodProject/CrossCanFloodSuscMap/DataSourcesByAOI/TransitDir\n",
      "./whitebox_tools --run=\"Resample\" --wd=\"/Users/abdielfer/RNCanFloodProject/CrossCanFloodSuscMap/DataSourcesByAOI/TransitDir\" --inputs='dtm_1m_utm13_e_3_158.tif;dtm_1m_utm13_e_3_159.tif;dtm_1m_utm13_e_1_159.tif;dtm_1m_utm13_e_4_159.tif;dtm_1m_utm13_e_4_158.tif' --output='/Users/abdielfer/RNCanFloodProject/CrossCanFloodSuscMap/DataSourcesByAOI/SK_Regina_2019_2/SK_Regina_2019_2_5m.tif' --cell_size='5' --method=bilinear -v --compress_rasters=True\n",
      "\n",
      "****************************\n",
      "* Welcome to Resample      *\n",
      "* Powered by WhiteboxTools *\n",
      "* www.whiteboxgeo.com      *\n",
      "****************************\n",
      "Reading data...\n",
      "Progress: 0%\n",
      "Progress: 1%\n",
      "Progress: 2%\n",
      "Progress: 3%\n",
      "Progress: 4%\n",
      "Progress: 5%\n",
      "Progress: 6%\n",
      "Progress: 7%\n",
      "Progress: 8%\n",
      "Progress: 9%\n",
      "Progress: 10%\n",
      "Progress: 11%\n",
      "Progress: 12%\n",
      "Progress: 13%\n",
      "Progress: 14%\n",
      "Progress: 15%\n",
      "Progress: 16%\n",
      "Progress: 17%\n",
      "Progress: 18%\n",
      "Progress: 19%\n",
      "Progress: 20%\n",
      "Progress: 21%\n",
      "Progress: 22%\n",
      "Progress: 23%\n",
      "Progress: 24%\n",
      "Progress: 25%\n",
      "Progress: 26%\n",
      "Progress: 27%\n",
      "Progress: 28%\n",
      "Progress: 29%\n",
      "Progress: 30%\n",
      "Progress: 31%\n",
      "Progress: 32%\n",
      "Progress: 33%\n",
      "Progress: 34%\n",
      "Progress: 35%\n",
      "Progress: 36%\n",
      "Progress: 37%\n",
      "Progress: 38%\n",
      "Progress: 39%\n",
      "Progress: 40%\n",
      "Progress: 41%\n",
      "Progress: 42%\n",
      "Progress: 43%\n",
      "Progress: 44%\n",
      "Progress: 45%\n",
      "Progress: 46%\n",
      "Progress: 47%\n",
      "Progress: 48%\n",
      "Progress: 49%\n",
      "Progress: 50%\n",
      "Progress: 51%\n",
      "Progress: 52%\n",
      "Progress: 53%\n",
      "Progress: 54%\n",
      "Progress: 55%\n",
      "Progress: 56%\n",
      "Progress: 57%\n",
      "Progress: 58%\n",
      "Progress: 59%\n",
      "Progress: 60%\n",
      "Progress: 61%\n",
      "Progress: 62%\n",
      "Progress: 63%\n",
      "Progress: 64%\n",
      "Progress: 65%\n",
      "Progress: 66%\n",
      "Progress: 67%\n",
      "Progress: 68%\n",
      "Progress: 69%\n",
      "Progress: 70%\n",
      "Progress: 71%\n",
      "Progress: 72%\n",
      "Progress: 73%\n",
      "Progress: 74%\n",
      "Progress: 75%\n",
      "Progress: 76%\n",
      "Progress: 77%\n",
      "Progress: 78%\n",
      "Progress: 79%\n",
      "Progress: 80%\n",
      "Progress: 81%\n",
      "Progress: 82%\n",
      "Progress: 83%\n",
      "Progress: 84%\n",
      "Progress: 85%\n",
      "Progress: 86%\n",
      "Progress: 87%\n",
      "Progress: 88%\n",
      "Progress: 89%\n",
      "Progress: 90%\n",
      "Progress: 91%\n",
      "Progress: 92%\n",
      "Progress: 93%\n",
      "Progress: 94%\n",
      "Progress: 95%\n",
      "Progress: 96%\n",
      "Progress: 97%\n",
      "Progress: 98%\n",
      "Progress: 99%\n",
      "Progress: 100%\n",
      "Saving data...\n",
      "Output file written\n",
      "Elapsed Time (including I/O): 15.70s\n"
     ]
    }
   ],
   "source": [
    "### Read ALL *.CSV in cwd, download all DTM_htp by *.CSV, compute Mosaik and Resampling.\n",
    "\n",
    "cwd ='/Users/abdielfer/RNCanFloodProject/CrossCanFloodSuscMap/DataSourcesByAOI/'\n",
    "\n",
    "file_list = ms.listFreeFilesInDirByExt(cwd, ext ='.csv')\n",
    "print(file_list)\n",
    "rasterTool = RM.generalRasterTools(cwd)\n",
    "for file in file_list:\n",
    "    rasterTool.mosaikAndResamplingFromCSV(file,5,'Ftp_dtm',crearTransitDir = False)\n",
    "    "
   ]
  },
  {
   "cell_type": "markdown",
   "metadata": {},
   "source": [
    "'ON_NRCAN_PEEL.csv', \n",
    "'ON_NRCAN_York_2019.csv',\n",
    "'NS_NSDNR_2020.csv', \n",
    "'ON_Lake_Erie_2018.csv',  \n",
    "'NS_NSDNR_2019_2_2.csv', \n",
    "'NS_NSDNR_2018.csv', "
   ]
  },
  {
   "cell_type": "code",
   "execution_count": null,
   "metadata": {
    "slideshow": {
     "slide_type": "-"
    }
   },
   "outputs": [],
   "source": [
    "# Excecute ONLY RESAMPLING from TransitDir\n",
    "transitFolderPath ='/Users/abdielfer/RNCanFloodProject/CrossCanFloodSuscMap/DataSourcesByAOI/TransitDir'\n",
    "k = ms.listFreeFilesInDirByExt(transitFolderPath, ext = '.tif')\n",
    "name,ext = ms.splitFilenameAndExtention(k[0])\n",
    "rasterTool = RM.generalRasterTools(transitFolderPath)\n",
    "resampledRaster = ms.makePath(transitFolderPath,(name + '_5m.tif'))\n",
    "rasterTool.rasterResampler(k, resampledRaster, 5)"
   ]
  },
  {
   "cell_type": "code",
   "execution_count": null,
   "metadata": {
    "scrolled": true
   },
   "outputs": [],
   "source": [
    "## Download individuals files\n",
    "dtmFtpList = ['https://ftp.maps.canada.ca/pub/elevation/dem_mne/highresolution_hauteresolution/dtm_mnt/1m/NRCAN/GTA2015/utm17/dtm_1m_utm17_e_10_82.tif']\n",
    "transitFolderPath ='/Users/abdielfer/RNCanFloodProject/CrossCanFloodSuscMap/DataSourcesByAOI/TransitDir'\n",
    "RM.downloadTailsToLocalDir(dtmFtpList,transitFolderPath)"
   ]
  },
  {
   "cell_type": "code",
   "execution_count": null,
   "metadata": {},
   "outputs": [],
   "source": [
    "# Excecute ONLY MOSAIK from TransitDir\n",
    "transitFolderPath = '/Users/abdielfer/RNCanFloodProject/CrossCanFloodSuscMap/DataSourcesByAOI/TransitDir'\n",
    "dtmTail = ms.listFreeFilesInDirByExt(transitFolderPath, ext ='.tif')\n",
    "print(dtmTail[0])\n",
    "generalRasterTools = RM.generalRasterTools(transitFolderPath)\n",
    "name,ext = ms.splitFilenameAndExtention(dtmTail[0])\n",
    "mosaikFileNamePermanent = ms.makePath(transitFolderPath,(name + '_mosaik.tif'))\n",
    "generalRasterTools.computeMosaic(mosaikFileNamePermanent)"
   ]
  },
  {
   "cell_type": "code",
   "execution_count": null,
   "metadata": {},
   "outputs": [],
   "source": [
    "generalRasterTools.rasterToVectorLine('basin4_StrahOrder_level5.tif', 'basin4_SOL5.shp')"
   ]
  },
  {
   "cell_type": "code",
   "execution_count": null,
   "metadata": {},
   "outputs": [],
   "source": [
    "generalRasterTools.rasterVisibility_index('basin4_5m_fill.tif', 'visibilityBasin4.tif')"
   ]
  }
 ],
 "metadata": {
  "kernelspec": {
   "display_name": "Python 3 (ipykernel)",
   "language": "python",
   "name": "python3"
  },
  "language_info": {
   "codemirror_mode": {
    "name": "ipython",
    "version": 3
   },
   "file_extension": ".py",
   "mimetype": "text/x-python",
   "name": "python",
   "nbconvert_exporter": "python",
   "pygments_lexer": "ipython3",
   "version": "3.9.13"
  }
 },
 "nbformat": 4,
 "nbformat_minor": 2
}

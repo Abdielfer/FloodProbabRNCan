{
 "cells": [
  {
   "cell_type": "code",
   "execution_count": 2,
   "metadata": {},
   "outputs": [],
   "source": [
    "import rasterManipulation as RM\n",
    "import myServices as ms\n",
    "import os\n",
    "import rasterio as rst"
   ]
  },
  {
   "cell_type": "code",
   "execution_count": null,
   "metadata": {},
   "outputs": [
    {
     "name": "stdout",
     "output_type": "stream",
     "text": [
      "Current working directory :  /Users/abdielfer/RNCanFloodProject/CrossCanFloodSuscMap/DataSourcesHRDTMByAOI/BC_Kootenay_Creston_2017_ok/\n",
      "./whitebox_tools --run=\"VisibilityIndex\" --wd=\"/Users/abdielfer/RNCanFloodProject/CrossCanFloodSuscMap/DataSourcesHRDTMByAOI/BC_Kootenay_Creston_2017_ok\" --dem='BC_Kootenay_Creston_2017_5m_CRS_OK.tif' --output='BC_Kootenay_Creston_2017_Visibility.tif' --height=2.0 --res_factor=4 -v --compress_rasters=True\n",
      "\n",
      "******************************\n",
      "* Welcome to VisibilityIndex *\n",
      "* Powered by WhiteboxTools   *\n",
      "* www.whiteboxgeo.com        *\n",
      "******************************\n",
      "Reading data...\n",
      "Performing analysis. Please be patient...\n"
     ]
    }
   ],
   "source": [
    "searchDir ='/Users/abdielfer/RNCanFloodProject/CrossCanFloodSuscMap/DataSourcesHRDTMByAOI/BC_Kootenay_Creston_2017_ok/'\n",
    "rasterTool = RM.generalRasterTools(searchDir)\n",
    "rasterTool.rasterVisibility_index('BC_Kootenay_Creston_2017_5m_CRS_OK.tif', 'BC_Kootenay_Creston_2017_Visibility.tif',4)"
   ]
  },
  {
   "cell_type": "code",
   "execution_count": null,
   "metadata": {
    "scrolled": true
   },
   "outputs": [],
   "source": [
    "#### Go through all dir in a root @searchDir:\n",
    "#####.    check some condition to: \n",
    "######.      apply action.\n",
    "\n",
    "### NO BORRAR. ## DO NOT DELETE\n",
    "\n",
    "searchDir ='/Users/abdielfer/RNCanFloodProject/CrossCanFloodSuscMap/DataSourcesHRDTMByAOI/'\n",
    "rasterTool = RM.generalRasterTools(searchDir)\n",
    "for (root, dirs, file) in os.walk(searchDir):\n",
    "    print(file)\n",
    "    for i in file:\n",
    "        if 'CRS_OK.tif' in i:\n",
    "            dtmPath = os.path.join(root,i)\n",
    "#             newWDir = os.path.join(root)\n",
    "            print(\"i :\", i)\n",
    "            print(\"root. :\", root)\n",
    "            print('source DTM 5m:', dtmPath)\n",
    "            RM.setWBTWorkingDir(root)\n",
    "            crs,_=rasterTool.get_CRSAndTranslation_GTIFF(dtmPath)\n",
    "            name,_= ms.splitFilenameAndExtention(dtmPath)\n",
    "            end = name.find(\"_5m\")\n",
    "            newName = name[0:end] + '_Visibility.tif'\n",
    "            dtm_5mTif_CRS_OK = ms.makePath(root,newName)\n",
    "            print('destination DTM_5m_CRS_OK:', dtm_5mTif_CRS_OK)\n",
    "            wdr = rasterTool.get_WorkingDir()\n",
    "            print('Actual wdr:', wdr)\n",
    "            rasterTool.rasterVisibility_index(i, newName)\n",
    "            print('-------------------------------------------------------')\n"
   ]
  },
  {
   "cell_type": "code",
   "execution_count": null,
   "metadata": {},
   "outputs": [],
   "source": [
    "## Testing reprojection\n",
    "cwd ='/Users/abdielfer/RNCanFloodProject/CrossCanFloodSuscMap/DataSourcesByAOI/TransitDir'\n",
    "rasterTool = RM.generalRasterTools(cwd)\n",
    "\n",
    "sourcName = 'dtm_1m_utm13_e_4_159.tif'\n",
    "sourcePath = os.path.join(cwd,sourcName)\n",
    "url = 'https://ftp.maps.canada.ca/pub/elevation/dem_mne/highresolution_hauteresolution/dtm_mnt/1m/NS/Urbania/utm20/dtm_1m_utm20_w_2_101.tif'\n",
    "inName = 'SK_Regina_2019_2ForTest_5m.tif'\n",
    "inputPath = os.path.join(cwd,inName)\n",
    "\n",
    "outName = 'SK_Regina_2019_2ForTest_5m_CRS.tif'\n",
    "outPath = os.path.join(cwd,outName)\n",
    "\n",
    "crs,trns = rasterTool.get_CRSAndTranslation_GTIFF(url) \n",
    "# _,trns = rasterTool.get_CRSAndTranslation_GTIFF(sourcePath)\n",
    "# res = rasterTool.get_rasterResolution(inputPath)\n",
    "# print ('original CRS & transformatin', crs , '\\n', trns)\n",
    "# rasterTool.set_CRS_GTIF(inputPath, outPath, crs)"
   ]
  },
  {
   "cell_type": "code",
   "execution_count": 9,
   "metadata": {},
   "outputs": [
    {
     "ename": "NameError",
     "evalue": "name 'newTrns' is not defined",
     "output_type": "error",
     "traceback": [
      "\u001b[0;31m---------------------------------------------------------------------------\u001b[0m",
      "\u001b[0;31mNameError\u001b[0m                                 Traceback (most recent call last)",
      "Input \u001b[0;32mIn [9]\u001b[0m, in \u001b[0;36m<cell line: 1>\u001b[0;34m()\u001b[0m\n\u001b[0;32m----> 1\u001b[0m trans \u001b[38;5;241m=\u001b[39m \u001b[43mnewTrns\u001b[49m[\u001b[38;5;124m'\u001b[39m\u001b[38;5;124mtransform\u001b[39m\u001b[38;5;124m'\u001b[39m]\n\u001b[1;32m      2\u001b[0m \u001b[38;5;28mprint\u001b[39m(trans[\u001b[38;5;241m0\u001b[39m])\n\u001b[1;32m      3\u001b[0m newTrans \u001b[38;5;241m=\u001b[39m rst\u001b[38;5;241m.\u001b[39mAffine(\u001b[38;5;241m5\u001b[39m,trans[\u001b[38;5;241m1\u001b[39m],trans[\u001b[38;5;241m2\u001b[39m],trans[\u001b[38;5;241m3\u001b[39m],\u001b[38;5;241m-\u001b[39m\u001b[38;5;241m5\u001b[39m,trans[\u001b[38;5;241m5\u001b[39m] )\n",
      "\u001b[0;31mNameError\u001b[0m: name 'newTrns' is not defined"
     ]
    }
   ],
   "source": [
    "trans = newTrns['transform']\n",
    "print(trans[0])\n",
    "newTrans = rst.Affine(5,trans[1],trans[2],trans[3],-5,trans[5] )\n"
   ]
  },
  {
   "cell_type": "code",
   "execution_count": 16,
   "metadata": {},
   "outputs": [],
   "source": [
    "#### Print UTM zone by Ftp_dtm address in *.csv\n",
    "cwd = '/Users/abdielfer/RNCanFloodProject/CrossCanFloodSuscMap/DataSourcesByAOI'\n",
    "file_list = ms.listFreeFilesInDirByExt(cwd, ext ='.csv')\n",
    "for i in file_list:\n",
    "    print(i) \n",
    "    path = os.path.join(cwd,i)\n",
    "    with open(path,'r+') as file:\n",
    "#         reader = csv.reader(file)\n",
    "        for r in file:\n",
    "            fin = r.find(\"_5m\")\n",
    "            if init > 0:\n",
    "                end = init+5  \n",
    "                print(r[init:end])\n"
   ]
  },
  {
   "cell_type": "code",
   "execution_count": null,
   "metadata": {
    "scrolled": true
   },
   "outputs": [],
   "source": [
    "### Read ALL *.CSV in cwd, download all DTM_htp by *.CSV, compute Mosaik and Resampling.\n",
    "\n",
    "cwd ='/Users/abdielfer/RNCanFloodProject/CrossCanFloodSuscMap/DataSourcesByAOI/'\n",
    "\n",
    "file_list = ms.listFreeFilesInDirByExt(cwd, ext ='.csv')\n",
    "print(file_list)\n",
    "rasterTool = RM.generalRasterTools(cwd)\n",
    "for file in file_list:\n",
    "    rasterTool.mosaikAndResamplingFromCSV(file,5,'Ftp_dtm',clearTransitDir = True)\n",
    "    "
   ]
  },
  {
   "cell_type": "code",
   "execution_count": null,
   "metadata": {
    "slideshow": {
     "slide_type": "-"
    }
   },
   "outputs": [],
   "source": [
    "# Excecute ONLY RESAMPLING from TransitDir\n",
    "transitFolderPath ='/Users/abdielfer/RNCanFloodProject/CrossCanFloodSuscMap/DataSourcesByAOI/TransitDir'\n",
    "k = ms.listFreeFilesInDirByExt(transitFolderPath, ext = '.tif')\n",
    "name,ext = ms.splitFilenameAndExtention(k[0])\n",
    "rasterTool = RM.generalRasterTools(transitFolderPath)\n",
    "resampledRaster = ms.makePath(transitFolderPath,(name + '_5m.tif'))\n",
    "rasterTool.rasterResampler(k, resampledRaster, 5)"
   ]
  },
  {
   "cell_type": "code",
   "execution_count": null,
   "metadata": {
    "scrolled": true
   },
   "outputs": [],
   "source": [
    "## Download individuals files\n",
    "dtmFtpList = ['https://ftp.maps.canada.ca/pub/elevation/dem_mne/highresolution_hauteresolution/dtm_mnt/1m/NRCAN/GTA2015/utm17/dtm_1m_utm17_e_10_82.tif']\n",
    "transitFolderPath ='/Users/abdielfer/RNCanFloodProject/CrossCanFloodSuscMap/DataSourcesByAOI/TransitDir'\n",
    "RM.downloadTailsToLocalDir(dtmFtpList,transitFolderPath)"
   ]
  },
  {
   "cell_type": "code",
   "execution_count": null,
   "metadata": {},
   "outputs": [],
   "source": [
    "# Excecute ONLY MOSAIK from TransitDir\n",
    "transitFolderPath = '/Users/abdielfer/RNCanFloodProject/CrossCanFloodSuscMap/DataSourcesByAOI/TransitDir'\n",
    "dtmTail = ms.listFreeFilesInDirByExt(transitFolderPath, ext ='.tif')\n",
    "print(dtmTail[0])\n",
    "generalRasterTools = RM.generalRasterTools(transitFolderPath)\n",
    "name,ext = ms.splitFilenameAndExtention(dtmTail[0])\n",
    "mosaikFileNamePermanent = ms.makePath(transitFolderPath,(name + '_mosaik.tif'))\n",
    "generalRasterTools.computeMosaic(mosaikFileNamePermanent)"
   ]
  },
  {
   "cell_type": "code",
   "execution_count": null,
   "metadata": {},
   "outputs": [],
   "source": [
    "generalRasterTools.rasterToVectorLine('basin4_StrahOrder_level5.tif', 'basin4_SOL5.shp')"
   ]
  },
  {
   "cell_type": "code",
   "execution_count": null,
   "metadata": {},
   "outputs": [],
   "source": [
    "generalRasterTools.rasterVisibility_index('basin4_5m_fill.tif', 'visibilityBasin4.tif')"
   ]
  }
 ],
 "metadata": {
  "kernelspec": {
   "display_name": "Python 3 (ipykernel)",
   "language": "python",
   "name": "python3"
  },
  "language_info": {
   "codemirror_mode": {
    "name": "ipython",
    "version": 3
   },
   "file_extension": ".py",
   "mimetype": "text/x-python",
   "name": "python",
   "nbconvert_exporter": "python",
   "pygments_lexer": "ipython3",
   "version": "3.9.13"
  }
 },
 "nbformat": 4,
 "nbformat_minor": 2
}

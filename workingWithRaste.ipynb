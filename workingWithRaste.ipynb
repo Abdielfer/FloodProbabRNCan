{
 "cells": [
  {
   "cell_type": "code",
   "execution_count": 1,
   "metadata": {},
   "outputs": [],
   "source": [
    "import raserManipulation as RM\n",
    "import myServices as ms\n",
    "import os\n",
    "import rasterio as rst"
   ]
  },
  {
   "cell_type": "code",
   "execution_count": 4,
   "metadata": {},
   "outputs": [
    {
     "name": "stdout",
     "output_type": "stream",
     "text": [
      "Current working directory :  /Users/abdielfer/RNCanFloodProject/CrossCanFloodSuscMap/DataSourcesByAOI/TransitDir\n",
      "original transformatin | 1.00, 0.00, 540000.00|\n",
      "| 0.00,-1.00, 5600000.00|\n",
      "| 0.00, 0.00, 1.00|\n",
      "newTrns transformatin | 5.00, 0.00, 540000.00|\n",
      "| 0.00,-5.00, 5600000.00|\n",
      "| 0.00, 0.00, 1.00|\n",
      "This is a profile : {'driver': 'GTiff', 'dtype': 'float32', 'nodata': -32767.0, 'width': 8000, 'height': 4000, 'count': 1, 'crs': CRS.from_wkt('LOCAL_CS[\"unnamed\",UNIT[\"unknown\",1],AXIS[\"Easting\",EAST],AXIS[\"Northing\",NORTH]]'), 'transform': Affine(5.0, 0.0, 510000.0,\n",
      "       0.0, -5.0, 5600000.0), 'tiled': False, 'compress': 'deflate', 'interleave': 'band'}\n",
      "#######  set_CRSAndTranslation_GTIF  ##########\n",
      "original kwds : {'driver': 'GTiff', 'dtype': 'float32', 'nodata': -32767.0, 'width': 8000, 'height': 4000, 'count': 1, 'crs': CRS.from_wkt('LOCAL_CS[\"unnamed\",UNIT[\"unknown\",1],AXIS[\"Easting\",EAST],AXIS[\"Northing\",NORTH]]'), 'transform': Affine(5.0, 0.0, 510000.0,\n",
      "       0.0, -5.0, 5600000.0), 'tiled': False, 'compress': 'deflate', 'interleave': 'band'}\n",
      "Modified kwds : {'driver': 'GTiff', 'dtype': 'float32', 'nodata': -32767.0, 'width': 8000, 'height': 4000, 'count': 1, 'crs': CRS.from_epsg(2957), 'transform': Affine(5.0, 0.0, 540000.0,\n",
      "       0.0, -5.0, 5600000.0), 'tiled': False, 'compress': 'lzw', 'interleave': 'band'}\n"
     ]
    },
    {
     "data": {
      "text/plain": [
       "True"
      ]
     },
     "execution_count": 4,
     "metadata": {},
     "output_type": "execute_result"
    }
   ],
   "source": [
    "## Testing reprojection\n",
    "cwd ='/Users/abdielfer/RNCanFloodProject/CrossCanFloodSuscMap/DataSourcesByAOI/TransitDir'\n",
    "rasterTool = RM.generalRasterTools(cwd)\n",
    "\n",
    "sourcName = 'dtm_1m_utm13_e_4_159.tif'\n",
    "sourcePath = os.path.join(cwd,sourcName)\n",
    "\n",
    "inName = 'SK_Regina_2019_2ForTest_5m.tif'\n",
    "inputPath = os.path.join(cwd,inName)\n",
    "\n",
    "outName = 'SK_Regina_2019_2ForTest_5m_CRS.tif'\n",
    "outPath = os.path.join(cwd,outName)\n",
    "\n",
    "\n",
    "crs, trns = rasterTool.get_CRSAndTranslation_GTIFF(sourcePath) \n",
    "\n",
    "res = rasterTool.get_rasterResolution(inputPath)\n",
    "print ('original transformatin', trns)\n",
    "newTrns = rasterTool.ensureTranslationResolution(trns,res) \n",
    "print ('newTrns transformatin', newTrns)\n",
    "\n",
    "rasterTool.set_CRSAndTranslation_GTIF(inputPath, outPath, crs, newTrns)\n",
    "\n",
    "# with rst.open(sourcePath) as src: \n",
    "#             profile = src.profile\n",
    "#             src.close()\n",
    "\n",
    "\n",
    "# print('crs, trns : ',newTrns)\n",
    "\n",
    "\n"
   ]
  },
  {
   "cell_type": "code",
   "execution_count": 10,
   "metadata": {},
   "outputs": [
    {
     "name": "stdout",
     "output_type": "stream",
     "text": [
      "1.0\n"
     ]
    }
   ],
   "source": [
    "trans = newTrns['transform']\n",
    "print(trans[0])\n",
    "newTrans = rst.Affine(5,trans[1],trans[2],trans[3],-5,trans[5] )\n"
   ]
  },
  {
   "cell_type": "code",
   "execution_count": null,
   "metadata": {},
   "outputs": [],
   "source": [
    "#### Print UTM zone by Ftp_dtm address in *.csv\n",
    "cwd = '/Users/abdielfer/RNCanFloodProject/CrossCanFloodSuscMap/DataSourcesByAOI'\n",
    "file_list = ms.listFreeFilesInDirByExt(cwd, ext ='.csv')\n",
    "for i in file_list:\n",
    "    print(i) \n",
    "    path = os.path.join(cwd,i)\n",
    "    with open(path,'r+') as file:\n",
    "#         reader = csv.reader(file)\n",
    "        for r in file:\n",
    "            init = r.find(\"utm\")\n",
    "            if init > 0:\n",
    "                end = init+5  \n",
    "                print(r[init:end])\n"
   ]
  },
  {
   "cell_type": "code",
   "execution_count": null,
   "metadata": {
    "scrolled": true
   },
   "outputs": [],
   "source": [
    "### Read ALL *.CSV in cwd, download all DTM_htp by *.CSV, compute Mosaik and Resampling.\n",
    "\n",
    "cwd ='/Users/abdielfer/RNCanFloodProject/CrossCanFloodSuscMap/DataSourcesByAOI/'\n",
    "\n",
    "file_list = ms.listFreeFilesInDirByExt(cwd, ext ='.csv')\n",
    "print(file_list)\n",
    "rasterTool = RM.generalRasterTools(cwd)\n",
    "for file in file_list:\n",
    "    rasterTool.mosaikAndResamplingFromCSV(file,5,'Ftp_dtm',crearTransitDir = False)\n",
    "    "
   ]
  },
  {
   "cell_type": "markdown",
   "metadata": {},
   "source": [
    "'ON_NRCAN_PEEL.csv', \n",
    "'ON_NRCAN_York_2019.csv',\n",
    "'NS_NSDNR_2020.csv', \n",
    "'ON_Lake_Erie_2018.csv',  \n",
    "'NS_NSDNR_2019_2_2.csv', \n",
    "'NS_NSDNR_2018.csv', "
   ]
  },
  {
   "cell_type": "code",
   "execution_count": null,
   "metadata": {
    "slideshow": {
     "slide_type": "-"
    }
   },
   "outputs": [],
   "source": [
    "# Excecute ONLY RESAMPLING from TransitDir\n",
    "transitFolderPath ='/Users/abdielfer/RNCanFloodProject/CrossCanFloodSuscMap/DataSourcesByAOI/TransitDir'\n",
    "k = ms.listFreeFilesInDirByExt(transitFolderPath, ext = '.tif')\n",
    "name,ext = ms.splitFilenameAndExtention(k[0])\n",
    "rasterTool = RM.generalRasterTools(transitFolderPath)\n",
    "resampledRaster = ms.makePath(transitFolderPath,(name + '_5m.tif'))\n",
    "rasterTool.rasterResampler(k, resampledRaster, 5)"
   ]
  },
  {
   "cell_type": "code",
   "execution_count": null,
   "metadata": {
    "scrolled": true
   },
   "outputs": [],
   "source": [
    "## Download individuals files\n",
    "dtmFtpList = ['https://ftp.maps.canada.ca/pub/elevation/dem_mne/highresolution_hauteresolution/dtm_mnt/1m/NRCAN/GTA2015/utm17/dtm_1m_utm17_e_10_82.tif']\n",
    "transitFolderPath ='/Users/abdielfer/RNCanFloodProject/CrossCanFloodSuscMap/DataSourcesByAOI/TransitDir'\n",
    "RM.downloadTailsToLocalDir(dtmFtpList,transitFolderPath)"
   ]
  },
  {
   "cell_type": "code",
   "execution_count": null,
   "metadata": {},
   "outputs": [],
   "source": [
    "# Excecute ONLY MOSAIK from TransitDir\n",
    "transitFolderPath = '/Users/abdielfer/RNCanFloodProject/CrossCanFloodSuscMap/DataSourcesByAOI/TransitDir'\n",
    "dtmTail = ms.listFreeFilesInDirByExt(transitFolderPath, ext ='.tif')\n",
    "print(dtmTail[0])\n",
    "generalRasterTools = RM.generalRasterTools(transitFolderPath)\n",
    "name,ext = ms.splitFilenameAndExtention(dtmTail[0])\n",
    "mosaikFileNamePermanent = ms.makePath(transitFolderPath,(name + '_mosaik.tif'))\n",
    "generalRasterTools.computeMosaic(mosaikFileNamePermanent)"
   ]
  },
  {
   "cell_type": "code",
   "execution_count": null,
   "metadata": {},
   "outputs": [],
   "source": [
    "generalRasterTools.rasterToVectorLine('basin4_StrahOrder_level5.tif', 'basin4_SOL5.shp')"
   ]
  },
  {
   "cell_type": "code",
   "execution_count": null,
   "metadata": {},
   "outputs": [],
   "source": [
    "generalRasterTools.rasterVisibility_index('basin4_5m_fill.tif', 'visibilityBasin4.tif')"
   ]
  }
 ],
 "metadata": {
  "kernelspec": {
   "display_name": "Python 3 (ipykernel)",
   "language": "python",
   "name": "python3"
  },
  "language_info": {
   "codemirror_mode": {
    "name": "ipython",
    "version": 3
   },
   "file_extension": ".py",
   "mimetype": "text/x-python",
   "name": "python",
   "nbconvert_exporter": "python",
   "pygments_lexer": "ipython3",
   "version": "3.9.13"
  }
 },
 "nbformat": 4,
 "nbformat_minor": 2
}

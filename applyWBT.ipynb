{
 "cells": [
  {
   "cell_type": "code",
   "execution_count": 1,
   "metadata": {},
   "outputs": [],
   "source": [
    "import whiteboxApplications as wbtapp\n",
    "import myServices as ms\n",
    "import os"
   ]
  },
  {
   "cell_type": "code",
   "execution_count": null,
   "metadata": {},
   "outputs": [],
   "source": [
    "cwd = '/Users/abdielfer/RNCanFloodProject/CrossCanFloodSuscMap/HRDTMCliped'\n",
    "k = ms.listFreeFilesInDirByExt(cwd, ext ='.csv')\n",
    "print(len(k))\n",
    " "
   ]
  },
  {
   "cell_type": "code",
   "execution_count": 3,
   "metadata": {},
   "outputs": [
    {
     "name": "stdout",
     "output_type": "stream",
     "text": [
      "filename : NF_Shearstown  ext:  .csv\n",
      "Downloading https://ftp.maps.canada.ca/pub/elevation/dem_mne/highresolution_hauteresolution/dtm_mnt/1m/NRCAN/St_Johns_2020_2/utm22/dtm_1m_utm22_w_17_126.tif to /Users/abdielfer/RNCanFloodProject/CrossCanFloodSuscMap/HRDTMCliped/TransitDir/dtm_1m_utm22_w_17_126.tif\n"
     ]
    },
    {
     "data": {
      "application/vnd.jupyter.widget-view+json": {
       "model_id": "42763b5697004d14addfde4730af6396",
       "version_major": 2,
       "version_minor": 0
      },
      "text/plain": [
       "  0%|          | 0/225774411 [00:00<?, ?it/s]"
      ]
     },
     "metadata": {},
     "output_type": "display_data"
    },
    {
     "ename": "KeyboardInterrupt",
     "evalue": "",
     "output_type": "error",
     "traceback": [
      "\u001b[0;31m---------------------------------------------------------------------------\u001b[0m",
      "\u001b[0;31mKeyboardInterrupt\u001b[0m                         Traceback (most recent call last)",
      "Input \u001b[0;32mIn [3]\u001b[0m, in \u001b[0;36m<cell line: 3>\u001b[0;34m()\u001b[0m\n\u001b[1;32m      1\u001b[0m cwd \u001b[38;5;241m=\u001b[39m \u001b[38;5;124m'\u001b[39m\u001b[38;5;124m/Users/abdielfer/RNCanFloodProject/CrossCanFloodSuscMap/HRDTMCliped/\u001b[39m\u001b[38;5;124m'\u001b[39m\n\u001b[1;32m      2\u001b[0m rasterTool \u001b[38;5;241m=\u001b[39m wbtapp\u001b[38;5;241m.\u001b[39mrasterTools(cwd)\n\u001b[0;32m----> 3\u001b[0m \u001b[43mrasterTool\u001b[49m\u001b[38;5;241;43m.\u001b[39;49m\u001b[43mmosaikAndResampling\u001b[49m\u001b[43m(\u001b[49m\u001b[38;5;124;43m'\u001b[39;49m\u001b[38;5;124;43mNF_Shearstown.csv\u001b[39;49m\u001b[38;5;124;43m'\u001b[39;49m\u001b[43m,\u001b[49m\u001b[38;5;241;43m5\u001b[39;49m\u001b[43m,\u001b[49m\u001b[38;5;124;43m'\u001b[39;49m\u001b[38;5;124;43mFtp_dtm\u001b[39;49m\u001b[38;5;124;43m'\u001b[39;49m\u001b[43m)\u001b[49m\n",
      "File \u001b[0;32m~/DESS/Internship2022/RNCanWork/FloodProbabRNCanAbd/whiteboxApplications.py:251\u001b[0m, in \u001b[0;36mrasterTools.mosaikAndResampling\u001b[0;34m(self, csvName, outputResolution, csvColumn)\u001b[0m\n\u001b[1;32m    249\u001b[0m dtmFtpList \u001b[38;5;241m=\u001b[39m ms\u001b[38;5;241m.\u001b[39mcreateListFromCSVColumn(sourcePath_dtm_ftp,csvColumn)\n\u001b[1;32m    250\u001b[0m importer \u001b[38;5;241m=\u001b[39m dtmTailImporter(dtmFtpList,transitFolderPath)\n\u001b[0;32m--> 251\u001b[0m \u001b[43mimporter\u001b[49m\u001b[38;5;241;43m.\u001b[39;49m\u001b[43mdownloadTailsToLocalDir\u001b[49m\u001b[43m(\u001b[49m\u001b[43m)\u001b[49m\n\u001b[1;32m    252\u001b[0m \u001b[38;5;28;01mif\u001b[39;00m \u001b[38;5;28mlen\u001b[39m(dtmFtpList)\u001b[38;5;241m>\u001b[39m\u001b[38;5;241m1\u001b[39m:\n\u001b[1;32m    253\u001b[0m     mosaikFileNamePermanent \u001b[38;5;241m=\u001b[39m ms\u001b[38;5;241m.\u001b[39mmakePath(destinationFolder,(name \u001b[38;5;241m+\u001b[39m\u001b[38;5;124m'\u001b[39m\u001b[38;5;124m.tif\u001b[39m\u001b[38;5;124m'\u001b[39m))\n",
      "File \u001b[0;32m~/DESS/Internship2022/RNCanWork/FloodProbabRNCanAbd/whiteboxApplications.py:308\u001b[0m, in \u001b[0;36mdtmTailImporter.downloadTailsToLocalDir\u001b[0;34m(self)\u001b[0m\n\u001b[1;32m    304\u001b[0m \u001b[38;5;124;03m'''\u001b[39;00m\n\u001b[1;32m    305\u001b[0m \u001b[38;5;124;03mimport the tails in the url <tail_URL_NamesList> to the local directory defined in <localPath> \u001b[39;00m\n\u001b[1;32m    306\u001b[0m \u001b[38;5;124;03m'''\u001b[39;00m\n\u001b[1;32m    307\u001b[0m \u001b[38;5;28;01mfor\u001b[39;00m url \u001b[38;5;129;01min\u001b[39;00m \u001b[38;5;28mself\u001b[39m\u001b[38;5;241m.\u001b[39mtail_URL_NamesList:\n\u001b[0;32m--> 308\u001b[0m     \u001b[43mdownload_url\u001b[49m\u001b[43m(\u001b[49m\u001b[43murl\u001b[49m\u001b[43m,\u001b[49m\u001b[43m \u001b[49m\u001b[38;5;28;43mself\u001b[39;49m\u001b[38;5;241;43m.\u001b[39;49m\u001b[43mlocalPath\u001b[49m\u001b[43m)\u001b[49m\n\u001b[1;32m    309\u001b[0m \u001b[38;5;28mprint\u001b[39m(\u001b[38;5;124mf\u001b[39m\u001b[38;5;124m\"\u001b[39m\u001b[38;5;124mTails downloaded to: \u001b[39m\u001b[38;5;132;01m{\u001b[39;00m\u001b[38;5;28mself\u001b[39m\u001b[38;5;241m.\u001b[39mlocalPath\u001b[38;5;132;01m}\u001b[39;00m\u001b[38;5;124m\"\u001b[39m)\n",
      "File \u001b[0;32m~/DESS/Internship2022/RNCanWork/FloodProbabRNCanAbd/venv/lib/python3.9/site-packages/torchvision/datasets/utils.py:141\u001b[0m, in \u001b[0;36mdownload_url\u001b[0;34m(url, root, filename, md5, max_redirect_hops)\u001b[0m\n\u001b[1;32m    139\u001b[0m \u001b[38;5;28;01mtry\u001b[39;00m:\n\u001b[1;32m    140\u001b[0m     \u001b[38;5;28mprint\u001b[39m(\u001b[38;5;124m\"\u001b[39m\u001b[38;5;124mDownloading \u001b[39m\u001b[38;5;124m\"\u001b[39m \u001b[38;5;241m+\u001b[39m url \u001b[38;5;241m+\u001b[39m \u001b[38;5;124m\"\u001b[39m\u001b[38;5;124m to \u001b[39m\u001b[38;5;124m\"\u001b[39m \u001b[38;5;241m+\u001b[39m fpath)\n\u001b[0;32m--> 141\u001b[0m     \u001b[43m_urlretrieve\u001b[49m\u001b[43m(\u001b[49m\u001b[43murl\u001b[49m\u001b[43m,\u001b[49m\u001b[43m \u001b[49m\u001b[43mfpath\u001b[49m\u001b[43m)\u001b[49m\n\u001b[1;32m    142\u001b[0m \u001b[38;5;28;01mexcept\u001b[39;00m (urllib\u001b[38;5;241m.\u001b[39merror\u001b[38;5;241m.\u001b[39mURLError, \u001b[38;5;167;01mOSError\u001b[39;00m) \u001b[38;5;28;01mas\u001b[39;00m e:  \u001b[38;5;66;03m# type: ignore[attr-defined]\u001b[39;00m\n\u001b[1;32m    143\u001b[0m     \u001b[38;5;28;01mif\u001b[39;00m url[:\u001b[38;5;241m5\u001b[39m] \u001b[38;5;241m==\u001b[39m \u001b[38;5;124m\"\u001b[39m\u001b[38;5;124mhttps\u001b[39m\u001b[38;5;124m\"\u001b[39m:\n",
      "File \u001b[0;32m~/DESS/Internship2022/RNCanWork/FloodProbabRNCanAbd/venv/lib/python3.9/site-packages/torchvision/datasets/utils.py:35\u001b[0m, in \u001b[0;36m_urlretrieve\u001b[0;34m(url, filename, chunk_size)\u001b[0m\n\u001b[1;32m     33\u001b[0m \u001b[38;5;28;01mwith\u001b[39;00m urllib\u001b[38;5;241m.\u001b[39mrequest\u001b[38;5;241m.\u001b[39murlopen(urllib\u001b[38;5;241m.\u001b[39mrequest\u001b[38;5;241m.\u001b[39mRequest(url, headers\u001b[38;5;241m=\u001b[39m{\u001b[38;5;124m\"\u001b[39m\u001b[38;5;124mUser-Agent\u001b[39m\u001b[38;5;124m\"\u001b[39m: USER_AGENT})) \u001b[38;5;28;01mas\u001b[39;00m response:\n\u001b[1;32m     34\u001b[0m     \u001b[38;5;28;01mwith\u001b[39;00m tqdm(total\u001b[38;5;241m=\u001b[39mresponse\u001b[38;5;241m.\u001b[39mlength) \u001b[38;5;28;01mas\u001b[39;00m pbar:\n\u001b[0;32m---> 35\u001b[0m         \u001b[38;5;28;01mfor\u001b[39;00m chunk \u001b[38;5;129;01min\u001b[39;00m \u001b[38;5;28miter\u001b[39m(\u001b[38;5;28;01mlambda\u001b[39;00m: response\u001b[38;5;241m.\u001b[39mread(chunk_size), \u001b[38;5;124m\"\u001b[39m\u001b[38;5;124m\"\u001b[39m):\n\u001b[1;32m     36\u001b[0m             \u001b[38;5;28;01mif\u001b[39;00m \u001b[38;5;129;01mnot\u001b[39;00m chunk:\n\u001b[1;32m     37\u001b[0m                 \u001b[38;5;28;01mbreak\u001b[39;00m\n",
      "File \u001b[0;32m~/DESS/Internship2022/RNCanWork/FloodProbabRNCanAbd/venv/lib/python3.9/site-packages/torchvision/datasets/utils.py:35\u001b[0m, in \u001b[0;36m_urlretrieve.<locals>.<lambda>\u001b[0;34m()\u001b[0m\n\u001b[1;32m     33\u001b[0m \u001b[38;5;28;01mwith\u001b[39;00m urllib\u001b[38;5;241m.\u001b[39mrequest\u001b[38;5;241m.\u001b[39murlopen(urllib\u001b[38;5;241m.\u001b[39mrequest\u001b[38;5;241m.\u001b[39mRequest(url, headers\u001b[38;5;241m=\u001b[39m{\u001b[38;5;124m\"\u001b[39m\u001b[38;5;124mUser-Agent\u001b[39m\u001b[38;5;124m\"\u001b[39m: USER_AGENT})) \u001b[38;5;28;01mas\u001b[39;00m response:\n\u001b[1;32m     34\u001b[0m     \u001b[38;5;28;01mwith\u001b[39;00m tqdm(total\u001b[38;5;241m=\u001b[39mresponse\u001b[38;5;241m.\u001b[39mlength) \u001b[38;5;28;01mas\u001b[39;00m pbar:\n\u001b[0;32m---> 35\u001b[0m         \u001b[38;5;28;01mfor\u001b[39;00m chunk \u001b[38;5;129;01min\u001b[39;00m \u001b[38;5;28miter\u001b[39m(\u001b[38;5;28;01mlambda\u001b[39;00m: \u001b[43mresponse\u001b[49m\u001b[38;5;241;43m.\u001b[39;49m\u001b[43mread\u001b[49m\u001b[43m(\u001b[49m\u001b[43mchunk_size\u001b[49m\u001b[43m)\u001b[49m, \u001b[38;5;124m\"\u001b[39m\u001b[38;5;124m\"\u001b[39m):\n\u001b[1;32m     36\u001b[0m             \u001b[38;5;28;01mif\u001b[39;00m \u001b[38;5;129;01mnot\u001b[39;00m chunk:\n\u001b[1;32m     37\u001b[0m                 \u001b[38;5;28;01mbreak\u001b[39;00m\n",
      "File \u001b[0;32m/usr/local/Cellar/python@3.9/3.9.13_1/Frameworks/Python.framework/Versions/3.9/lib/python3.9/http/client.py:463\u001b[0m, in \u001b[0;36mHTTPResponse.read\u001b[0;34m(self, amt)\u001b[0m\n\u001b[1;32m    460\u001b[0m \u001b[38;5;28;01mif\u001b[39;00m amt \u001b[38;5;129;01mis\u001b[39;00m \u001b[38;5;129;01mnot\u001b[39;00m \u001b[38;5;28;01mNone\u001b[39;00m:\n\u001b[1;32m    461\u001b[0m     \u001b[38;5;66;03m# Amount is given, implement using readinto\u001b[39;00m\n\u001b[1;32m    462\u001b[0m     b \u001b[38;5;241m=\u001b[39m \u001b[38;5;28mbytearray\u001b[39m(amt)\n\u001b[0;32m--> 463\u001b[0m     n \u001b[38;5;241m=\u001b[39m \u001b[38;5;28;43mself\u001b[39;49m\u001b[38;5;241;43m.\u001b[39;49m\u001b[43mreadinto\u001b[49m\u001b[43m(\u001b[49m\u001b[43mb\u001b[49m\u001b[43m)\u001b[49m\n\u001b[1;32m    464\u001b[0m     \u001b[38;5;28;01mreturn\u001b[39;00m \u001b[38;5;28mmemoryview\u001b[39m(b)[:n]\u001b[38;5;241m.\u001b[39mtobytes()\n\u001b[1;32m    465\u001b[0m \u001b[38;5;28;01melse\u001b[39;00m:\n\u001b[1;32m    466\u001b[0m     \u001b[38;5;66;03m# Amount is not given (unbounded read) so we must check self.length\u001b[39;00m\n\u001b[1;32m    467\u001b[0m     \u001b[38;5;66;03m# and self.chunked\u001b[39;00m\n",
      "File \u001b[0;32m/usr/local/Cellar/python@3.9/3.9.13_1/Frameworks/Python.framework/Versions/3.9/lib/python3.9/http/client.py:507\u001b[0m, in \u001b[0;36mHTTPResponse.readinto\u001b[0;34m(self, b)\u001b[0m\n\u001b[1;32m    502\u001b[0m         b \u001b[38;5;241m=\u001b[39m \u001b[38;5;28mmemoryview\u001b[39m(b)[\u001b[38;5;241m0\u001b[39m:\u001b[38;5;28mself\u001b[39m\u001b[38;5;241m.\u001b[39mlength]\n\u001b[1;32m    504\u001b[0m \u001b[38;5;66;03m# we do not use _safe_read() here because this may be a .will_close\u001b[39;00m\n\u001b[1;32m    505\u001b[0m \u001b[38;5;66;03m# connection, and the user is reading more bytes than will be provided\u001b[39;00m\n\u001b[1;32m    506\u001b[0m \u001b[38;5;66;03m# (for example, reading in 1k chunks)\u001b[39;00m\n\u001b[0;32m--> 507\u001b[0m n \u001b[38;5;241m=\u001b[39m \u001b[38;5;28;43mself\u001b[39;49m\u001b[38;5;241;43m.\u001b[39;49m\u001b[43mfp\u001b[49m\u001b[38;5;241;43m.\u001b[39;49m\u001b[43mreadinto\u001b[49m\u001b[43m(\u001b[49m\u001b[43mb\u001b[49m\u001b[43m)\u001b[49m\n\u001b[1;32m    508\u001b[0m \u001b[38;5;28;01mif\u001b[39;00m \u001b[38;5;129;01mnot\u001b[39;00m n \u001b[38;5;129;01mand\u001b[39;00m b:\n\u001b[1;32m    509\u001b[0m     \u001b[38;5;66;03m# Ideally, we would raise IncompleteRead if the content-length\u001b[39;00m\n\u001b[1;32m    510\u001b[0m     \u001b[38;5;66;03m# wasn't satisfied, but it might break compatibility.\u001b[39;00m\n\u001b[1;32m    511\u001b[0m     \u001b[38;5;28mself\u001b[39m\u001b[38;5;241m.\u001b[39m_close_conn()\n",
      "File \u001b[0;32m/usr/local/Cellar/python@3.9/3.9.13_1/Frameworks/Python.framework/Versions/3.9/lib/python3.9/socket.py:704\u001b[0m, in \u001b[0;36mSocketIO.readinto\u001b[0;34m(self, b)\u001b[0m\n\u001b[1;32m    702\u001b[0m \u001b[38;5;28;01mwhile\u001b[39;00m \u001b[38;5;28;01mTrue\u001b[39;00m:\n\u001b[1;32m    703\u001b[0m     \u001b[38;5;28;01mtry\u001b[39;00m:\n\u001b[0;32m--> 704\u001b[0m         \u001b[38;5;28;01mreturn\u001b[39;00m \u001b[38;5;28;43mself\u001b[39;49m\u001b[38;5;241;43m.\u001b[39;49m\u001b[43m_sock\u001b[49m\u001b[38;5;241;43m.\u001b[39;49m\u001b[43mrecv_into\u001b[49m\u001b[43m(\u001b[49m\u001b[43mb\u001b[49m\u001b[43m)\u001b[49m\n\u001b[1;32m    705\u001b[0m     \u001b[38;5;28;01mexcept\u001b[39;00m timeout:\n\u001b[1;32m    706\u001b[0m         \u001b[38;5;28mself\u001b[39m\u001b[38;5;241m.\u001b[39m_timeout_occurred \u001b[38;5;241m=\u001b[39m \u001b[38;5;28;01mTrue\u001b[39;00m\n",
      "File \u001b[0;32m/usr/local/Cellar/python@3.9/3.9.13_1/Frameworks/Python.framework/Versions/3.9/lib/python3.9/ssl.py:1242\u001b[0m, in \u001b[0;36mSSLSocket.recv_into\u001b[0;34m(self, buffer, nbytes, flags)\u001b[0m\n\u001b[1;32m   1238\u001b[0m     \u001b[38;5;28;01mif\u001b[39;00m flags \u001b[38;5;241m!=\u001b[39m \u001b[38;5;241m0\u001b[39m:\n\u001b[1;32m   1239\u001b[0m         \u001b[38;5;28;01mraise\u001b[39;00m \u001b[38;5;167;01mValueError\u001b[39;00m(\n\u001b[1;32m   1240\u001b[0m           \u001b[38;5;124m\"\u001b[39m\u001b[38;5;124mnon-zero flags not allowed in calls to recv_into() on \u001b[39m\u001b[38;5;132;01m%s\u001b[39;00m\u001b[38;5;124m\"\u001b[39m \u001b[38;5;241m%\u001b[39m\n\u001b[1;32m   1241\u001b[0m           \u001b[38;5;28mself\u001b[39m\u001b[38;5;241m.\u001b[39m\u001b[38;5;18m__class__\u001b[39m)\n\u001b[0;32m-> 1242\u001b[0m     \u001b[38;5;28;01mreturn\u001b[39;00m \u001b[38;5;28;43mself\u001b[39;49m\u001b[38;5;241;43m.\u001b[39;49m\u001b[43mread\u001b[49m\u001b[43m(\u001b[49m\u001b[43mnbytes\u001b[49m\u001b[43m,\u001b[49m\u001b[43m \u001b[49m\u001b[43mbuffer\u001b[49m\u001b[43m)\u001b[49m\n\u001b[1;32m   1243\u001b[0m \u001b[38;5;28;01melse\u001b[39;00m:\n\u001b[1;32m   1244\u001b[0m     \u001b[38;5;28;01mreturn\u001b[39;00m \u001b[38;5;28msuper\u001b[39m()\u001b[38;5;241m.\u001b[39mrecv_into(buffer, nbytes, flags)\n",
      "File \u001b[0;32m/usr/local/Cellar/python@3.9/3.9.13_1/Frameworks/Python.framework/Versions/3.9/lib/python3.9/ssl.py:1100\u001b[0m, in \u001b[0;36mSSLSocket.read\u001b[0;34m(self, len, buffer)\u001b[0m\n\u001b[1;32m   1098\u001b[0m \u001b[38;5;28;01mtry\u001b[39;00m:\n\u001b[1;32m   1099\u001b[0m     \u001b[38;5;28;01mif\u001b[39;00m buffer \u001b[38;5;129;01mis\u001b[39;00m \u001b[38;5;129;01mnot\u001b[39;00m \u001b[38;5;28;01mNone\u001b[39;00m:\n\u001b[0;32m-> 1100\u001b[0m         \u001b[38;5;28;01mreturn\u001b[39;00m \u001b[38;5;28;43mself\u001b[39;49m\u001b[38;5;241;43m.\u001b[39;49m\u001b[43m_sslobj\u001b[49m\u001b[38;5;241;43m.\u001b[39;49m\u001b[43mread\u001b[49m\u001b[43m(\u001b[49m\u001b[38;5;28;43mlen\u001b[39;49m\u001b[43m,\u001b[49m\u001b[43m \u001b[49m\u001b[43mbuffer\u001b[49m\u001b[43m)\u001b[49m\n\u001b[1;32m   1101\u001b[0m     \u001b[38;5;28;01melse\u001b[39;00m:\n\u001b[1;32m   1102\u001b[0m         \u001b[38;5;28;01mreturn\u001b[39;00m \u001b[38;5;28mself\u001b[39m\u001b[38;5;241m.\u001b[39m_sslobj\u001b[38;5;241m.\u001b[39mread(\u001b[38;5;28mlen\u001b[39m)\n",
      "\u001b[0;31mKeyboardInterrupt\u001b[0m: "
     ]
    }
   ],
   "source": [
    "cwd = '/Users/abdielfer/RNCanFloodProject/CrossCanFloodSuscMap/HRDTMCliped/'\n",
    "rasterTool = wbtapp.rasterTools(cwd)\n",
    "rasterTool.mosaikAndResampling('NF_Shearstown.csv',5,'Ftp_dtm')"
   ]
  },
  {
   "cell_type": "code",
   "execution_count": null,
   "metadata": {},
   "outputs": [],
   "source": [
    "cwd = '/Users/abdielfer/RNCanFloodProject/CrossCanFloodSuscMap/HRDTMCliped'\n",
    "for (root, dirs, file) in os.walk(cwd):\n",
    "    for d in dirs:    \n",
    "        k = ms.listFilesInDirByExt(os.path.join(root,d), ext = '.csv')\n",
    "        if len(k)>0:\n",
    "            print(k)\n",
    "#             transformer = wbtapp.dtmTransformer(os.path.join(root,d))\n",
    "#             transformer.fixNoDataAndfillDTM(*k)           "
   ]
  },
  {
   "cell_type": "code",
   "execution_count": null,
   "metadata": {},
   "outputs": [],
   "source": [
    "sourcePath_dtm_ftp = cwd + 'Ottawa_Gatineau_2019_20.csv'\n",
    "dtmFtpList = ms.createListFromCSVColumn(sourcePath_dtm_ftp,'Ftp_dtm')\n",
    "print(dtmFtpList)"
   ]
  },
  {
   "cell_type": "code",
   "execution_count": null,
   "metadata": {},
   "outputs": [],
   "source": [
    "dtmFtpList = ['https://ftp.maps.canada.ca/pub/elevation/dem_mne/highresolution_hauteresolution/dtm_mnt/1m/VILLE_OTTAWA/Ottawa_Gatineau_2020/utm18/dtm_1m_utm18_w_2_99.tif',\n",
    "             'https://ftp.maps.canada.ca/pub/elevation/dem_mne/highresolution_hauteresolution/dtm_mnt/1m/VILLE_OTTAWA/Ottawa_Gatineau_2020/utm18/dtm_1m_utm18_w_1_102.tif']\n",
    "importer = wbtapp.dtmTailImporter(dtmFtpList,transitFolderPath)\n",
    "importer.downloadTailsToLocalDir()"
   ]
  },
  {
   "cell_type": "code",
   "execution_count": null,
   "metadata": {},
   "outputs": [],
   "source": [
    "##### \n",
    "# 1- entrar en el directorio con todos los csv files y crear la lista de scv file\n",
    "# 2- crear TransitFolder\n",
    "# 3- crear instancia de: wbtapp.rasterTools(TransitFolder Path)\n",
    "# 4- recorrer los *.csv:\n",
    "#      - crear un Folder con el nombre del csv. \n",
    "#      - importar todos los DTM en TransitFolder\n",
    "#      - mosaic todos los DTM en el TransitFoldes.\n",
    "#      - clear TransitFolder\n",
    "def mosaikAndResampling(cwDir, csvName):\n",
    "    transitFolderPath = ms.createTransintFolder(cwd)\n",
    "    sourcePath_dtm_ftp = cwd + csvName \n",
    "    name,ext = ms.splitFilenameAndExtention(csvName)\n",
    "    print('filename :', name, ' ext: ',ext)\n",
    "    destinationFolder = ms.makePath(cwd,name)\n",
    "    ms.ensureDirectory(destinationFolder)\n",
    "    dtmFtpList = ms.createListFromCSVColumn(sourcePath_dtm_ftp,'Ftp_dtm')\n",
    "    importer = wbtapp.dtmTailImporter(dtmFtpList,transitFolderPath)\n",
    "    importer.downloadTailsToLocalDir()\n",
    "    rasterTools = wbtapp.rasterTools(transitFolderPath)\n",
    "    if len(dtmFtpList)>1:\n",
    "        mosaikFileNamePermanent = ms.makePath(destinationFolder,(name +'.tif'))\n",
    "        rasterTools.computeMosaic(mosaikFileNamePermanent)\n",
    "    else:\n",
    "        dtmTail = os.listdir(transitFolderPath)\n",
    "        mosaikFileNamePermanent = ms.makePath(transitFolderPath,dtmTail[0])\n",
    "    resampledFileNamePermanent = ms.makePath(destinationFolder,(name +'_5m.tif'))   \n",
    "    rasterTools.rasterResampler(mosaikFileNamePermanent,resampledFileNamePermanent,5)\n",
    "    ms.clearTransitFolderContent(transitFolderPath)\n",
    "    transformer = wbtapp.dtmTransformer(os.path.join(root,d))\n",
    "    transformer.fixNoDataAndfillDTM(*k)\n",
    "\n",
    "    \n",
    "    # Compute mosaic with all .tif  into TransitFolder \n",
    "mosaikAndResampling(cwd, 'ON_Toronto_Mississauga.csv')\n",
    "    \n",
    "    "
   ]
  },
  {
   "cell_type": "code",
   "execution_count": null,
   "metadata": {},
   "outputs": [],
   "source": [
    "\n",
    "transitFolderPath = '/Users/abdielfer/RNCanFloodProject/CrossCanFloodSuscMap/HRDTMCliped/TransitDir/'\n",
    "dtmTail = os.listdir(transitFolderPath)\n",
    "print(dtmTail)"
   ]
  },
  {
   "cell_type": "code",
   "execution_count": null,
   "metadata": {},
   "outputs": [],
   "source": [
    "\n",
    "# dtmList = dtm_1m_utm18_w_7_103.tif, 'dtm_1m_utm18_w_6_106.tif', 'dtm_1m_utm18_w_6_107.tif', 'dtm_1m_utm18_w_7_102.tif', 'dtm_1m_utm18_w_7_100.tif', 'dtm_1m_utm18_w_6_105.tif', 'dtm_1m_utm18_w_6_104.tif', 'dtm_1m_utm18_w_7_101.tif', 'dtm_1m_utm18_w_10_102.tif', 'dtm_1m_utm18_w_7_105.tif', '.DS_Store', 'dtm_1m_utm18_w_6_100.tif', 'dtm_1m_utm18_w_6_101.tif', 'dtm_1m_utm18_w_7_104.tif', 'dtm_1m_utm18_w_2_99.tif', 'dtm_1m_utm18_w_10_103.tif', 'dtm_1m_utm18_w_6_103.tif', 'dtm_1m_utm18_w_6_102.tif', 'dtm_1m_utm18_w_5_105.tif', 'dtm_1m_utm18_w_6_99.tif', 'dtm_1m_utm18_w_4_100.tif', 'dtm_1m_utm18_w_4_101.tif', 'dtm_1m_utm18_w_6_98.tif', 'dtm_1m_utm18_w_5_104.tif', 'dtm_1m_utm18_w_5_106.tif', 'dtm_1m_utm18_w_4_103.tif', 'dtm_1m_utm18_w_4_102.tif', 'dtm_1m_utm18_w_5_107.tif', 'dtm_1m_utm18_w_5_103.tif', 'dtm_1m_utm18_w_4_106.tif', 'dtm_1m_utm18_w_4_107.tif', 'dtm_1m_utm18_w_5_102.tif', 'dtm_1m_utm18_w_5_100.tif', 'dtm_1m_utm18_w_8_99.tif', 'dtm_1m_utm18_w_4_105.tif', 'dtm_1m_utm18_w_4_99.tif', 'dtm_1m_utm18_w_4_98.tif', 'dtm_1m_utm18_w_4_104.tif', 'dtm_1m_utm18_w_5_101.tif', 'dtm_1m_utm18_w_9_102.tif', 'dtm_1m_utm18_w_9_103.tif', 'dtm_1m_utm18_w_8_106.tif', 'dtm_1m_utm18_w_8_104.tif', 'dtm_1m_utm18_w_9_101.tif', 'dtm_1m_utm18_w_9_100.tif', 'dtm_1m_utm18_w_8_105.tif', 'dtm_1m_utm18_w_8_101.tif', 'dtm_1m_utm18_w_9_104.tif', 'dtm_1m_utm18_w_1_102.tif', 'dtm_1m_utm18_w_9_105.tif', 'dtm_1m_utm18_w_6_97.tif', 'dtm_1m_utm18_w_8_100.tif', 'dtm_1m_utm18_w_8_102.tif', 'dtm_1m_utm18_w_3_99.tif', 'dtm_1m_utm18_w_9_106.tif', 'dtm_1m_utm18_w_8_103.tif', 'dtm_1m_utm18_w_3_102.tif', 'dtm_1m_utm18_w_3_103.tif', 'dtm_1m_utm18_w_3_101.tif', 'dtm_1m_utm18_w_2_104.tif', 'dtm_1m_utm18_w_7_98.tif', 'dtm_1m_utm18_w_7_99.tif', 'dtm_1m_utm18_w_3_100.tif', 'dtm_1m_utm18_w_3_104.tif', 'dtm_1m_utm18_w_2_101.tif', 'dtm_1m_utm18_w_5_98.tif', 'dtm_1m_utm18_w_9_99.tif', 'dtm_1m_utm18_w_5_99.tif', 'dtm_1m_utm18_w_2_100.tif', 'dtm_1m_utm18_w_3_105.tif', 'dtm_1m_utm18_w_3_107.tif', 'dtm_1m_utm18_w_2_102.tif', 'dtm_1m_utm18_w_2_103.tif', 'dtm_1m_utm18_w_3_106.tif'\n",
    "# print(dtmTail)\n",
    "resampledFileNamePermanent = '/Users/abdielfer/RNCanFloodProject/CrossCanFloodSuscMap/HRDTMCliped/QC_Sherbrooke/QC_Sherbrooke_5m.tif'\n",
    "transitFolderPath= '/Users/abdielfer/RNCanFloodProject/CrossCanFloodSuscMap/HRDTMCliped/QC_Sherbrooke/QC_Sherbrooke.tif'\n",
    "rasterTools = wbtapp.rasterTools(transitFolderPath)\n",
    "rasterTools.rasterResampler(transitFolderPath,resampledFileNamePermanent,5)\n",
    "\n",
    "\n"
   ]
  },
  {
   "cell_type": "code",
   "execution_count": null,
   "metadata": {},
   "outputs": [],
   "source": [
    "name,ext = ms.splitFilenameAndExtention(dtmTail[1])\n",
    "mosaikFileNamePermanent = ms.makePath(transitFolderPath,(name + '_mosaik.tif'))\n",
    "rasterTools.computeMosaic(mosaikFileNamePermanent)"
   ]
  },
  {
   "cell_type": "code",
   "execution_count": null,
   "metadata": {},
   "outputs": [],
   "source": [
    "transformer.dInfFlowAcc('basin2_5m_Fill.tif','basin_FAccDInf.tif', userLog=False)"
   ]
  },
  {
   "cell_type": "code",
   "execution_count": null,
   "metadata": {},
   "outputs": [],
   "source": [
    "rasterTools.rasterToVectorLine('basin4_StrahOrder_level5.tif', 'basin4_SOL5.shp')"
   ]
  },
  {
   "cell_type": "code",
   "execution_count": null,
   "metadata": {},
   "outputs": [],
   "source": [
    "rasterTools.rasterVisibility_index('basin4_5m_fill.tif', 'visibilityBasin4.tif' )"
   ]
  }
 ],
 "metadata": {
  "kernelspec": {
   "display_name": "Python 3 (ipykernel)",
   "language": "python",
   "name": "python3"
  },
  "language_info": {
   "codemirror_mode": {
    "name": "ipython",
    "version": 3
   },
   "file_extension": ".py",
   "mimetype": "text/x-python",
   "name": "python",
   "nbconvert_exporter": "python",
   "pygments_lexer": "ipython3",
   "version": "3.9.13"
  }
 },
 "nbformat": 4,
 "nbformat_minor": 2
}

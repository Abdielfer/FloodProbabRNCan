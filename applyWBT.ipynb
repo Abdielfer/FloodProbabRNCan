{
 "cells": [
  {
   "cell_type": "code",
   "execution_count": 1,
   "metadata": {},
   "outputs": [
    {
     "name": "stdout",
     "output_type": "stream",
     "text": [
      "['./whitebox_tools', '-v']\n"
     ]
    }
   ],
   "source": [
    "import whiteboxApplications as wbtapp\n",
    "import myServices as ms"
   ]
  },
  {
   "cell_type": "code",
   "execution_count": 2,
   "metadata": {},
   "outputs": [],
   "source": [
    "cwd = '/Users/abdielfer/DESS/Internship2022/RNCanWork/FloodMaps/WBTWorkDir'"
   ]
  },
  {
   "cell_type": "code",
   "execution_count": null,
   "metadata": {},
   "outputs": [],
   "source": [
    "transformer = wbtapp.dtmTransformer(cwd)\n",
    "transformer.dInfFlowAcc('basin1DEM5mFilled.tif','basin1_FAccDInf.tif', userLog=False)"
   ]
  },
  {
   "cell_type": "code",
   "execution_count": null,
   "metadata": {},
   "outputs": [],
   "source": [
    "processing.run(\"native:linedensity\", {'INPUT':'memory://MultiLineString?crs=EPSG:3761&field=fid:long(0,0)&field=DN:integer(0,0)&uid={60a724a6-8c2a-49a4-8f54-1226ad9bb723}',\n",
    "                                      'WEIGHT':'DN',\n",
    "                                      'RADIUS':1,\n",
    "                                      'PIXEL_SIZE':5,\n",
    "                                      'OUTPUT':'TEMPORARY_OUTPUT'})"
   ]
  },
  {
   "cell_type": "code",
   "execution_count": 3,
   "metadata": {},
   "outputs": [],
   "source": [
    "rasterTols = wbtapp.rasterTools(cwd)"
   ]
  },
  {
   "cell_type": "code",
   "execution_count": null,
   "metadata": {},
   "outputs": [],
   "source": [
    "rasterTols.rasterToVectorLine('basin1_SOL5.tif', 'basin1_SOL5.shp')"
   ]
  },
  {
   "cell_type": "code",
   "execution_count": null,
   "metadata": {},
   "outputs": [],
   "source": []
  }
 ],
 "metadata": {
  "kernelspec": {
   "display_name": "Python 3 (ipykernel)",
   "language": "python",
   "name": "python3"
  },
  "language_info": {
   "codemirror_mode": {
    "name": "ipython",
    "version": 3
   },
   "file_extension": ".py",
   "mimetype": "text/x-python",
   "name": "python",
   "nbconvert_exporter": "python",
   "pygments_lexer": "ipython3",
   "version": "3.9.13"
  }
 },
 "nbformat": 4,
 "nbformat_minor": 2
}

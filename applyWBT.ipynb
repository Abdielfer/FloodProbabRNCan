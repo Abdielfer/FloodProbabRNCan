{
 "cells": [
  {
   "cell_type": "code",
   "execution_count": 1,
   "metadata": {},
   "outputs": [],
   "source": [
    "import whiteboxApplications as wbtapp\n",
    "import myServices as ms\n",
    "import os\n",
    "import csv"
   ]
  },
  {
   "cell_type": "code",
   "execution_count": null,
   "metadata": {},
   "outputs": [],
   "source": [
    "cwd = '/Users/abdielfer/RNCanFloodProject/CrossCanFloodSuscMap/DataSourcesByAOI'\n",
    "file_list = ms.listFreeFilesInDirByExt(cwd, ext ='.csv')\n",
    "for i in file_list:\n",
    "    print(i) \n",
    "    path = os.path.join(cwd,i)\n",
    "    with open(path,'r+') as file:\n",
    "#         reader = csv.reader(file)\n",
    "        for r in file:\n",
    "            init = r.find(\"utm\")\n",
    "            if init > 0:\n",
    "                end = init+5  \n",
    "                print(r[init:end])\n"
   ]
  },
  {
   "cell_type": "code",
   "execution_count": null,
   "metadata": {},
   "outputs": [
    {
     "name": "stdout",
     "output_type": "stream",
     "text": [
      "['NF_StJohns_2020.csv', 'NS_MargareeRiver_UTM20.csv', 'NF_Shearstown.csv']\n",
      "/Users/abdielfer/RNCanFloodProject/CrossCanFloodSuscMap/DataSourcesByAOI/\n",
      "filename : NF_StJohns_2020  ext:  .csv\n",
      "Downloading https://ftp.maps.canada.ca/pub/elevation/dem_mne/highresolution_hauteresolution/dtm_mnt/1m/NRCAN/St_Johns_2020_2/utm22/dtm_1m_utm22_w_12_125.tif to /Users/abdielfer/RNCanFloodProject/CrossCanFloodSuscMap/DataSourcesByAOI/TransitDir/dtm_1m_utm22_w_12_125.tif\n"
     ]
    },
    {
     "data": {
      "application/vnd.jupyter.widget-view+json": {
       "model_id": "516f7ca143ac4b448c90aaf365dd4c9c",
       "version_major": 2,
       "version_minor": 0
      },
      "text/plain": [
       "  0%|          | 0/111523659 [00:00<?, ?it/s]"
      ]
     },
     "metadata": {},
     "output_type": "display_data"
    },
    {
     "name": "stdout",
     "output_type": "stream",
     "text": [
      "Downloading https://ftp.maps.canada.ca/pub/elevation/dem_mne/highresolution_hauteresolution/dtm_mnt/1m/NRCAN/St_Johns_2020_2/utm22/dtm_1m_utm22_w_12_126.tif to /Users/abdielfer/RNCanFloodProject/CrossCanFloodSuscMap/DataSourcesByAOI/TransitDir/dtm_1m_utm22_w_12_126.tif\n"
     ]
    },
    {
     "data": {
      "application/vnd.jupyter.widget-view+json": {
       "model_id": "248a84f9808347a5bc2c3ade561fa860",
       "version_major": 2,
       "version_minor": 0
      },
      "text/plain": [
       "  0%|          | 0/203516192 [00:00<?, ?it/s]"
      ]
     },
     "metadata": {},
     "output_type": "display_data"
    },
    {
     "name": "stdout",
     "output_type": "stream",
     "text": [
      "Downloading https://ftp.maps.canada.ca/pub/elevation/dem_mne/highresolution_hauteresolution/dtm_mnt/1m/NRCAN/St_Johns_2020_2/utm22/dtm_1m_utm22_w_12_127.tif to /Users/abdielfer/RNCanFloodProject/CrossCanFloodSuscMap/DataSourcesByAOI/TransitDir/dtm_1m_utm22_w_12_127.tif\n"
     ]
    },
    {
     "data": {
      "application/vnd.jupyter.widget-view+json": {
       "model_id": "e18e48668f964f68a5c76d36c24c573f",
       "version_major": 2,
       "version_minor": 0
      },
      "text/plain": [
       "  0%|          | 0/177033336 [00:00<?, ?it/s]"
      ]
     },
     "metadata": {},
     "output_type": "display_data"
    },
    {
     "name": "stdout",
     "output_type": "stream",
     "text": [
      "Downloading https://ftp.maps.canada.ca/pub/elevation/dem_mne/highresolution_hauteresolution/dtm_mnt/1m/NRCAN/St_Johns_2020_2/utm22/dtm_1m_utm22_w_12_128.tif to /Users/abdielfer/RNCanFloodProject/CrossCanFloodSuscMap/DataSourcesByAOI/TransitDir/dtm_1m_utm22_w_12_128.tif\n"
     ]
    },
    {
     "data": {
      "application/vnd.jupyter.widget-view+json": {
       "model_id": "e6b00d356ece467380822d504bfa6150",
       "version_major": 2,
       "version_minor": 0
      },
      "text/plain": [
       "  0%|          | 0/74428958 [00:00<?, ?it/s]"
      ]
     },
     "metadata": {},
     "output_type": "display_data"
    },
    {
     "name": "stdout",
     "output_type": "stream",
     "text": [
      "Downloading https://ftp.maps.canada.ca/pub/elevation/dem_mne/highresolution_hauteresolution/dtm_mnt/1m/NRCAN/St_Johns_2020_2/utm22/dtm_1m_utm22_w_13_125.tif to /Users/abdielfer/RNCanFloodProject/CrossCanFloodSuscMap/DataSourcesByAOI/TransitDir/dtm_1m_utm22_w_13_125.tif\n"
     ]
    },
    {
     "data": {
      "application/vnd.jupyter.widget-view+json": {
       "model_id": "8477e0c335af42478f50c29e7f5cb29f",
       "version_major": 2,
       "version_minor": 0
      },
      "text/plain": [
       "  0%|          | 0/329670809 [00:00<?, ?it/s]"
      ]
     },
     "metadata": {},
     "output_type": "display_data"
    },
    {
     "name": "stdout",
     "output_type": "stream",
     "text": [
      "Downloading https://ftp.maps.canada.ca/pub/elevation/dem_mne/highresolution_hauteresolution/dtm_mnt/1m/NRCAN/St_Johns_2020_2/utm22/dtm_1m_utm22_w_13_126.tif to /Users/abdielfer/RNCanFloodProject/CrossCanFloodSuscMap/DataSourcesByAOI/TransitDir/dtm_1m_utm22_w_13_126.tif\n"
     ]
    },
    {
     "data": {
      "application/vnd.jupyter.widget-view+json": {
       "model_id": "a85684147e5c4ea598312b7794b0c2be",
       "version_major": 2,
       "version_minor": 0
      },
      "text/plain": [
       "  0%|          | 0/340176524 [00:00<?, ?it/s]"
      ]
     },
     "metadata": {},
     "output_type": "display_data"
    },
    {
     "name": "stdout",
     "output_type": "stream",
     "text": [
      "Downloading https://ftp.maps.canada.ca/pub/elevation/dem_mne/highresolution_hauteresolution/dtm_mnt/1m/NRCAN/St_Johns_2020_2/utm22/dtm_1m_utm22_w_13_127.tif to /Users/abdielfer/RNCanFloodProject/CrossCanFloodSuscMap/DataSourcesByAOI/TransitDir/dtm_1m_utm22_w_13_127.tif\n"
     ]
    },
    {
     "data": {
      "application/vnd.jupyter.widget-view+json": {
       "model_id": "eca7b93027444a8a9b7283cfaf0c5b54",
       "version_major": 2,
       "version_minor": 0
      },
      "text/plain": [
       "  0%|          | 0/329172684 [00:00<?, ?it/s]"
      ]
     },
     "metadata": {},
     "output_type": "display_data"
    },
    {
     "name": "stdout",
     "output_type": "stream",
     "text": [
      "Downloading https://ftp.maps.canada.ca/pub/elevation/dem_mne/highresolution_hauteresolution/dtm_mnt/1m/NRCAN/St_Johns_2020_2/utm22/dtm_1m_utm22_w_13_128.tif to /Users/abdielfer/RNCanFloodProject/CrossCanFloodSuscMap/DataSourcesByAOI/TransitDir/dtm_1m_utm22_w_13_128.tif\n"
     ]
    },
    {
     "data": {
      "application/vnd.jupyter.widget-view+json": {
       "model_id": "76965e258b2845f7ad514f194188bfc1",
       "version_major": 2,
       "version_minor": 0
      },
      "text/plain": [
       "  0%|          | 0/292169640 [00:00<?, ?it/s]"
      ]
     },
     "metadata": {},
     "output_type": "display_data"
    },
    {
     "name": "stdout",
     "output_type": "stream",
     "text": [
      "Downloading https://ftp.maps.canada.ca/pub/elevation/dem_mne/highresolution_hauteresolution/dtm_mnt/1m/NRCAN/St_Johns_2020_2/utm22/dtm_1m_utm22_w_14_126.tif to /Users/abdielfer/RNCanFloodProject/CrossCanFloodSuscMap/DataSourcesByAOI/TransitDir/dtm_1m_utm22_w_14_126.tif\n"
     ]
    },
    {
     "data": {
      "application/vnd.jupyter.widget-view+json": {
       "model_id": "66449d0dd1c142d2b3d351473283f7bb",
       "version_major": 2,
       "version_minor": 0
      },
      "text/plain": [
       "  0%|          | 0/266812974 [00:00<?, ?it/s]"
      ]
     },
     "metadata": {},
     "output_type": "display_data"
    },
    {
     "name": "stdout",
     "output_type": "stream",
     "text": [
      "Downloading https://ftp.maps.canada.ca/pub/elevation/dem_mne/highresolution_hauteresolution/dtm_mnt/1m/NRCAN/St_Johns_2020_2/utm22/dtm_1m_utm22_w_14_127.tif to /Users/abdielfer/RNCanFloodProject/CrossCanFloodSuscMap/DataSourcesByAOI/TransitDir/dtm_1m_utm22_w_14_127.tif\n"
     ]
    },
    {
     "data": {
      "application/vnd.jupyter.widget-view+json": {
       "model_id": "2a639e5fc5ff48539a21ffe1574f62b1",
       "version_major": 2,
       "version_minor": 0
      },
      "text/plain": [
       "  0%|          | 0/52431660 [00:00<?, ?it/s]"
      ]
     },
     "metadata": {},
     "output_type": "display_data"
    },
    {
     "name": "stdout",
     "output_type": "stream",
     "text": [
      "Tails downloaded to: /Users/abdielfer/RNCanFloodProject/CrossCanFloodSuscMap/DataSourcesByAOI/TransitDir\n",
      "./whitebox_tools --run=\"Mosaic\" --wd=\"/Users/abdielfer/RNCanFloodProject/CrossCanFloodSuscMap/DataSourcesByAOI/TransitDir\" --output='/Users/abdielfer/RNCanFloodProject/CrossCanFloodSuscMap/DataSourcesByAOI/NF_StJohns_2020/NF_StJohns_2020.tif' --method=nn -v --compress_rasters=True\n",
      "\n",
      "****************************\n",
      "* Welcome to Mosaic        *\n",
      "* Powered by WhiteboxTools *\n",
      "* www.whiteboxgeo.com      *\n",
      "****************************\n",
      "Number of tiles: 10\n",
      "Reading data...\n",
      "Progress: 0%\n",
      "Progress: 11%\n",
      "Progress: 22%\n",
      "Progress: 33%\n",
      "Progress: 44%\n",
      "Progress: 55%\n",
      "Progress: 66%\n",
      "Progress: 77%\n",
      "Progress: 88%\n",
      "Progress: 100%\n",
      "Output image size: (39999 x 29999)\n",
      "Progress: 0%\n",
      "Progress: 1%\n",
      "Progress: 2%\n",
      "Progress: 3%\n",
      "Progress: 4%\n",
      "Progress: 5%\n",
      "Progress: 6%\n",
      "Progress: 7%\n",
      "Progress: 8%\n",
      "Progress: 9%\n",
      "Progress: 10%\n",
      "Progress: 11%\n",
      "Progress: 12%\n",
      "Progress: 13%\n",
      "Progress: 14%\n",
      "Progress: 15%\n",
      "Progress: 16%\n",
      "Progress: 17%\n",
      "Progress: 18%\n",
      "Progress: 19%\n",
      "Progress: 20%\n",
      "Progress: 21%\n",
      "Progress: 22%\n",
      "Progress: 23%\n",
      "Progress: 24%\n",
      "Progress: 25%\n",
      "Progress: 26%\n",
      "Progress: 27%\n",
      "Progress: 28%\n",
      "Progress: 29%\n",
      "Progress: 30%\n",
      "Progress: 31%\n",
      "Progress: 32%\n",
      "Progress: 33%\n",
      "Progress: 34%\n",
      "Progress: 35%\n",
      "Progress: 36%\n",
      "Progress: 37%\n",
      "Progress: 38%\n",
      "Progress: 39%\n",
      "Progress: 40%\n",
      "Progress: 41%\n",
      "Progress: 42%\n",
      "Progress: 43%\n",
      "Progress: 44%\n",
      "Progress: 45%\n",
      "Progress: 46%\n",
      "Progress: 47%\n",
      "Progress: 48%\n",
      "Progress: 49%\n",
      "Progress: 50%\n",
      "Progress: 51%\n",
      "Progress: 52%\n",
      "Progress: 53%\n",
      "Progress: 54%\n",
      "Progress: 55%\n",
      "Progress: 56%\n",
      "Progress: 57%\n",
      "Progress: 58%\n",
      "Progress: 59%\n",
      "Progress: 60%\n",
      "Progress: 61%\n",
      "Progress: 62%\n",
      "Progress: 63%\n",
      "Progress: 64%\n",
      "Progress: 65%\n",
      "Progress: 66%\n",
      "Progress: 67%\n",
      "Progress: 68%\n",
      "Progress: 69%\n",
      "Progress: 70%\n",
      "Progress: 71%\n",
      "Progress: 72%\n",
      "Progress: 73%\n",
      "Progress: 74%\n",
      "Progress: 75%\n",
      "Progress: 76%\n",
      "Progress: 77%\n",
      "Progress: 78%\n",
      "Progress: 79%\n",
      "Progress: 80%\n",
      "Progress: 81%\n",
      "Progress: 82%\n",
      "Progress: 83%\n",
      "Progress: 84%\n",
      "Progress: 85%\n",
      "Progress: 86%\n",
      "Progress: 87%\n",
      "Progress: 88%\n",
      "Progress: 89%\n",
      "Progress: 90%\n",
      "Progress: 91%\n",
      "Progress: 92%\n",
      "Progress: 93%\n",
      "Progress: 94%\n",
      "Progress: 95%\n",
      "Progress: 96%\n",
      "Progress: 97%\n",
      "Progress: 98%\n",
      "Progress: 99%\n",
      "Progress: 100%\n",
      "Saving data...\n",
      "Output file written\n",
      "Elapsed Time (including I/O): 1min 31.939s\n",
      "./whitebox_tools --run=\"Resample\" --wd=\"/Users/abdielfer/RNCanFloodProject/CrossCanFloodSuscMap/DataSourcesByAOI\" --inputs='/Users/abdielfer/RNCanFloodProject/CrossCanFloodSuscMap/DataSourcesByAOI/NF_StJohns_2020/NF_StJohns_2020.tif' --output='/Users/abdielfer/RNCanFloodProject/CrossCanFloodSuscMap/DataSourcesByAOI/NF_StJohns_2020/NF_StJohns_2020_5m.tif' --cell_size='5' --method=bilinear -v --compress_rasters=True\n",
      "\n",
      "****************************\n",
      "* Welcome to Resample      *\n",
      "* Powered by WhiteboxTools *\n",
      "* www.whiteboxgeo.com      *\n",
      "****************************\n",
      "Reading data...\n",
      "Progress: 0%\n",
      "Progress: 1%\n",
      "Progress: 2%\n",
      "Progress: 3%\n",
      "Progress: 4%\n",
      "Progress: 5%\n",
      "Progress: 6%\n",
      "Progress: 7%\n",
      "Progress: 8%\n",
      "Progress: 9%\n",
      "Progress: 10%\n",
      "Progress: 11%\n",
      "Progress: 12%\n",
      "Progress: 13%\n",
      "Progress: 14%\n",
      "Progress: 15%\n",
      "Progress: 16%\n",
      "Progress: 17%\n",
      "Progress: 18%\n",
      "Progress: 19%\n",
      "Progress: 20%\n",
      "Progress: 21%\n",
      "Progress: 22%\n",
      "Progress: 23%\n",
      "Progress: 24%\n",
      "Progress: 25%\n",
      "Progress: 26%\n",
      "Progress: 27%\n",
      "Progress: 28%\n",
      "Progress: 29%\n",
      "Progress: 30%\n",
      "Progress: 31%\n",
      "Progress: 32%\n",
      "Progress: 33%\n",
      "Progress: 34%\n",
      "Progress: 35%\n",
      "Progress: 36%\n",
      "Progress: 37%\n",
      "Progress: 38%\n",
      "Progress: 39%\n",
      "Progress: 40%\n",
      "Progress: 41%\n",
      "Progress: 42%\n",
      "Progress: 43%\n",
      "Progress: 44%\n",
      "Progress: 45%\n",
      "Progress: 46%\n",
      "Progress: 47%\n",
      "Progress: 48%\n",
      "Progress: 49%\n",
      "Progress: 50%\n",
      "Progress: 51%\n",
      "Progress: 52%\n",
      "Progress: 53%\n",
      "Progress: 54%\n",
      "Progress: 55%\n",
      "Progress: 56%\n",
      "Progress: 57%\n",
      "Progress: 58%\n",
      "Progress: 59%\n",
      "Progress: 60%\n",
      "Progress: 61%\n",
      "Progress: 62%\n",
      "Progress: 63%\n",
      "Progress: 64%\n",
      "Progress: 65%\n",
      "Progress: 66%\n",
      "Progress: 67%\n",
      "Progress: 68%\n",
      "Progress: 69%\n",
      "Progress: 70%\n",
      "Progress: 71%\n",
      "Progress: 72%\n",
      "Progress: 73%\n",
      "Progress: 74%\n",
      "Progress: 75%\n",
      "Progress: 76%\n",
      "Progress: 77%\n",
      "Progress: 78%\n",
      "Progress: 79%\n",
      "Progress: 80%\n",
      "Progress: 81%\n",
      "Progress: 82%\n",
      "Progress: 83%\n",
      "Progress: 84%\n",
      "Progress: 85%\n",
      "Progress: 86%\n",
      "Progress: 87%\n",
      "Progress: 88%\n",
      "Progress: 89%\n",
      "Progress: 90%\n",
      "Progress: 91%\n",
      "Progress: 92%\n",
      "Progress: 93%\n",
      "Progress: 94%\n",
      "Progress: 95%\n",
      "Progress: 96%\n",
      "Progress: 97%\n",
      "Progress: 98%\n",
      "Progress: 99%\n",
      "Progress: 100%\n",
      "Saving data...\n",
      "Output file written\n",
      "Elapsed Time (including I/O): 32.395s\n",
      "filename : NS_MargareeRiver_UTM20  ext:  .csv\n",
      "Downloading https://ftp.maps.canada.ca/pub/elevation/dem_mne/highresolution_hauteresolution/dtm_mnt/1m/NS/NSDNR_2018/utm20/dtm_1m_utm20_e_13_111.tif to /Users/abdielfer/RNCanFloodProject/CrossCanFloodSuscMap/DataSourcesByAOI/TransitDir/dtm_1m_utm20_e_13_111.tif\n"
     ]
    },
    {
     "data": {
      "application/vnd.jupyter.widget-view+json": {
       "model_id": "21135866ca4048c2b945b29a94f5563d",
       "version_major": 2,
       "version_minor": 0
      },
      "text/plain": [
       "  0%|          | 0/189796341 [00:00<?, ?it/s]"
      ]
     },
     "metadata": {},
     "output_type": "display_data"
    },
    {
     "name": "stdout",
     "output_type": "stream",
     "text": [
      "Downloading https://ftp.maps.canada.ca/pub/elevation/dem_mne/highresolution_hauteresolution/dtm_mnt/1m/NS/NSDNR_2018/utm20/dtm_1m_utm20_e_13_112.tif to /Users/abdielfer/RNCanFloodProject/CrossCanFloodSuscMap/DataSourcesByAOI/TransitDir/dtm_1m_utm20_e_13_112.tif\n"
     ]
    },
    {
     "data": {
      "application/vnd.jupyter.widget-view+json": {
       "model_id": "4be59fb72e90417dbd42d2eb8ab4082d",
       "version_major": 2,
       "version_minor": 0
      },
      "text/plain": [
       "  0%|          | 0/130125325 [00:00<?, ?it/s]"
      ]
     },
     "metadata": {},
     "output_type": "display_data"
    },
    {
     "name": "stdout",
     "output_type": "stream",
     "text": [
      "Downloading https://ftp.maps.canada.ca/pub/elevation/dem_mne/highresolution_hauteresolution/dtm_mnt/1m/NS/NSDNR_2018/utm20/dtm_1m_utm20_e_13_113.tif to /Users/abdielfer/RNCanFloodProject/CrossCanFloodSuscMap/DataSourcesByAOI/TransitDir/dtm_1m_utm20_e_13_113.tif\n"
     ]
    },
    {
     "data": {
      "application/vnd.jupyter.widget-view+json": {
       "model_id": "4ad0b1856b954e64a36b6eba05b409aa",
       "version_major": 2,
       "version_minor": 0
      },
      "text/plain": [
       "  0%|          | 0/83430880 [00:00<?, ?it/s]"
      ]
     },
     "metadata": {},
     "output_type": "display_data"
    },
    {
     "name": "stdout",
     "output_type": "stream",
     "text": [
      "Downloading https://ftp.maps.canada.ca/pub/elevation/dem_mne/highresolution_hauteresolution/dtm_mnt/1m/NS/NSDNR_2018/utm20/dtm_1m_utm20_e_14_110.tif to /Users/abdielfer/RNCanFloodProject/CrossCanFloodSuscMap/DataSourcesByAOI/TransitDir/dtm_1m_utm20_e_14_110.tif\n"
     ]
    },
    {
     "data": {
      "application/vnd.jupyter.widget-view+json": {
       "model_id": "2004287d04b447eb96511b97681a343a",
       "version_major": 2,
       "version_minor": 0
      },
      "text/plain": [
       "  0%|          | 0/315394334 [00:00<?, ?it/s]"
      ]
     },
     "metadata": {},
     "output_type": "display_data"
    },
    {
     "name": "stdout",
     "output_type": "stream",
     "text": [
      "Downloading https://ftp.maps.canada.ca/pub/elevation/dem_mne/highresolution_hauteresolution/dtm_mnt/1m/NS/NSDNR_2018/utm20/dtm_1m_utm20_e_14_111.tif to /Users/abdielfer/RNCanFloodProject/CrossCanFloodSuscMap/DataSourcesByAOI/TransitDir/dtm_1m_utm20_e_14_111.tif\n"
     ]
    },
    {
     "data": {
      "application/vnd.jupyter.widget-view+json": {
       "model_id": "4da840fd8cc646d5b1d0a96c40697480",
       "version_major": 2,
       "version_minor": 0
      },
      "text/plain": [
       "  0%|          | 0/323951570 [00:00<?, ?it/s]"
      ]
     },
     "metadata": {},
     "output_type": "display_data"
    },
    {
     "name": "stdout",
     "output_type": "stream",
     "text": [
      "Downloading https://ftp.maps.canada.ca/pub/elevation/dem_mne/highresolution_hauteresolution/dtm_mnt/1m/NS/NSDNR_2018/utm20/dtm_1m_utm20_e_14_112.tif to /Users/abdielfer/RNCanFloodProject/CrossCanFloodSuscMap/DataSourcesByAOI/TransitDir/dtm_1m_utm20_e_14_112.tif\n"
     ]
    },
    {
     "data": {
      "application/vnd.jupyter.widget-view+json": {
       "model_id": "58b94ce556d046ee801bf7445e3bef82",
       "version_major": 2,
       "version_minor": 0
      },
      "text/plain": [
       "  0%|          | 0/358388332 [00:00<?, ?it/s]"
      ]
     },
     "metadata": {},
     "output_type": "display_data"
    }
   ],
   "source": [
    "cwd ='/Users/abdielfer/RNCanFloodProject/CrossCanFloodSuscMap/DataSourcesByAOI/'\n",
    "\n",
    "file_list = ms.listFreeFilesInDirByExt(cwd, ext ='.csv')\n",
    "# fixNoDataAndfillDTM(self, inDTMName, eraseIntermediateRasters = True)\n",
    "print(file_list)\n",
    "rasterTool = wbtapp.rasterTools(cwd)\n",
    "for file in file_list:\n",
    "    rasterTool.mosaikAndResampling(file,5,'Ftp_dtm')"
   ]
  },
  {
   "cell_type": "code",
   "execution_count": null,
   "metadata": {},
   "outputs": [],
   "source": [
    "cwd = '/Users/abdielfer/RNCanFloodProject/CrossCanFloodSuscMap/HRDTMCliped'\n",
    "for (root, dirs, file) in os.walk(cwd):\n",
    "    for d in dirs:    \n",
    "        k = ms.listFilesInDirByExt(os.path.join(root,d), ext = '.csv')\n",
    "        if len(k)>0:\n",
    "            print(k)\n",
    "#             transformer = wbtapp.dtmTransformer(os.path.join(root,d))\n",
    "#             transformer.fixNoDataAndfillDTM(*k)           "
   ]
  },
  {
   "cell_type": "code",
   "execution_count": null,
   "metadata": {},
   "outputs": [],
   "source": [
    "sourcePath_dtm_ftp = cwd + 'Ottawa_Gatineau_2019_20.csv'\n",
    "dtmFtpList = ms.createListFromCSVColumn(sourcePath_dtm_ftp,'Ftp_dtm')\n",
    "print(dtmFtpList)"
   ]
  },
  {
   "cell_type": "code",
   "execution_count": null,
   "metadata": {},
   "outputs": [],
   "source": [
    "dtmFtpList = ['https://ftp.maps.canada.ca/pub/elevation/dem_mne/highresolution_hauteresolution/dtm_mnt/1m/VILLE_OTTAWA/Ottawa_Gatineau_2020/utm18/dtm_1m_utm18_w_2_99.tif',\n",
    "             'https://ftp.maps.canada.ca/pub/elevation/dem_mne/highresolution_hauteresolution/dtm_mnt/1m/VILLE_OTTAWA/Ottawa_Gatineau_2020/utm18/dtm_1m_utm18_w_1_102.tif']\n",
    "importer = wbtapp.dtmTailImporter(dtmFtpList,transitFolderPath)\n",
    "importer.downloadTailsToLocalDir()"
   ]
  },
  {
   "cell_type": "code",
   "execution_count": null,
   "metadata": {},
   "outputs": [],
   "source": [
    "##### \n",
    "# 1- entrar en el directorio con todos los csv files y crear la lista de scv file\n",
    "# 2- crear TransitFolder\n",
    "# 3- crear instancia de: wbtapp.rasterTools(TransitFolder Path)\n",
    "# 4- recorrer los *.csv:\n",
    "#      - crear un Folder con el nombre del csv. \n",
    "#      - importar todos los DTM en TransitFolder\n",
    "#      - mosaic todos los DTM en el TransitFoldes.\n",
    "#      - clear TransitFolder\n",
    "def mosaikAndResampling(cwDir, csvName):\n",
    "    transitFolderPath = ms.createTransintFolder(cwd)\n",
    "    sourcePath_dtm_ftp = cwd + csvName \n",
    "    name,ext = ms.splitFilenameAndExtention(csvName)\n",
    "    print('filename :', name, ' ext: ',ext)\n",
    "    destinationFolder = ms.makePath(cwd,name)\n",
    "    ms.ensureDirectory(destinationFolder)\n",
    "    dtmFtpList = ms.createListFromCSVColumn(sourcePath_dtm_ftp,'Ftp_dtm')\n",
    "    importer = wbtapp.dtmTailImporter(dtmFtpList,transitFolderPath)\n",
    "    importer.downloadTailsToLocalDir()\n",
    "    rasterTools = wbtapp.rasterTools(transitFolderPath)\n",
    "    if len(dtmFtpList)>1:\n",
    "        mosaikFileNamePermanent = ms.makePath(destinationFolder,(name +'.tif'))\n",
    "        rasterTools.computeMosaic(mosaikFileNamePermanent)\n",
    "    else:\n",
    "        dtmTail = os.listdir(transitFolderPath)\n",
    "        mosaikFileNamePermanent = ms.makePath(transitFolderPath,dtmTail[0])\n",
    "    resampledFileNamePermanent = ms.makePath(destinationFolder,(name +'_5m.tif'))   \n",
    "    rasterTools.rasterResampler(mosaikFileNamePermanent,resampledFileNamePermanent,5)\n",
    "    ms.clearTransitFolderContent(transitFolderPath)\n",
    "    transformer = wbtapp.dtmTransformer(os.path.join(root,d))\n",
    "    transformer.fixNoDataAndfillDTM(*k)\n",
    "\n",
    "    \n",
    "    # Compute mosaic with all .tif  into TransitFolder \n",
    "file_list = ms.listFreeFilesInDirByExt(cwd, ext ='.csv')\n",
    "# fixNoDataAndfillDTM(self, inDTMName, eraseIntermediateRasters = True)\n",
    "for file in file_list:\n",
    "    mosaikAndResampling(cwd, file)\n",
    "    \n",
    "    "
   ]
  },
  {
   "cell_type": "code",
   "execution_count": null,
   "metadata": {},
   "outputs": [],
   "source": [
    "\n",
    "transitFolderPath = '/Users/abdielfer/RNCanFloodProject/CrossCanFloodSuscMap/HRDTMCliped/TransitDir/'\n",
    "dtmTail = os.listdir(transitFolderPath)\n",
    "print(dtmTail)"
   ]
  },
  {
   "cell_type": "code",
   "execution_count": null,
   "metadata": {},
   "outputs": [],
   "source": [
    "\n",
    "# dtmList = dtm_1m_utm18_w_7_103.tif, 'dtm_1m_utm18_w_6_106.tif', 'dtm_1m_utm18_w_6_107.tif', 'dtm_1m_utm18_w_7_102.tif', 'dtm_1m_utm18_w_7_100.tif', 'dtm_1m_utm18_w_6_105.tif', 'dtm_1m_utm18_w_6_104.tif', 'dtm_1m_utm18_w_7_101.tif', 'dtm_1m_utm18_w_10_102.tif', 'dtm_1m_utm18_w_7_105.tif', '.DS_Store', 'dtm_1m_utm18_w_6_100.tif', 'dtm_1m_utm18_w_6_101.tif', 'dtm_1m_utm18_w_7_104.tif', 'dtm_1m_utm18_w_2_99.tif', 'dtm_1m_utm18_w_10_103.tif', 'dtm_1m_utm18_w_6_103.tif', 'dtm_1m_utm18_w_6_102.tif', 'dtm_1m_utm18_w_5_105.tif', 'dtm_1m_utm18_w_6_99.tif', 'dtm_1m_utm18_w_4_100.tif', 'dtm_1m_utm18_w_4_101.tif', 'dtm_1m_utm18_w_6_98.tif', 'dtm_1m_utm18_w_5_104.tif', 'dtm_1m_utm18_w_5_106.tif', 'dtm_1m_utm18_w_4_103.tif', 'dtm_1m_utm18_w_4_102.tif', 'dtm_1m_utm18_w_5_107.tif', 'dtm_1m_utm18_w_5_103.tif', 'dtm_1m_utm18_w_4_106.tif', 'dtm_1m_utm18_w_4_107.tif', 'dtm_1m_utm18_w_5_102.tif', 'dtm_1m_utm18_w_5_100.tif', 'dtm_1m_utm18_w_8_99.tif', 'dtm_1m_utm18_w_4_105.tif', 'dtm_1m_utm18_w_4_99.tif', 'dtm_1m_utm18_w_4_98.tif', 'dtm_1m_utm18_w_4_104.tif', 'dtm_1m_utm18_w_5_101.tif', 'dtm_1m_utm18_w_9_102.tif', 'dtm_1m_utm18_w_9_103.tif', 'dtm_1m_utm18_w_8_106.tif', 'dtm_1m_utm18_w_8_104.tif', 'dtm_1m_utm18_w_9_101.tif', 'dtm_1m_utm18_w_9_100.tif', 'dtm_1m_utm18_w_8_105.tif', 'dtm_1m_utm18_w_8_101.tif', 'dtm_1m_utm18_w_9_104.tif', 'dtm_1m_utm18_w_1_102.tif', 'dtm_1m_utm18_w_9_105.tif', 'dtm_1m_utm18_w_6_97.tif', 'dtm_1m_utm18_w_8_100.tif', 'dtm_1m_utm18_w_8_102.tif', 'dtm_1m_utm18_w_3_99.tif', 'dtm_1m_utm18_w_9_106.tif', 'dtm_1m_utm18_w_8_103.tif', 'dtm_1m_utm18_w_3_102.tif', 'dtm_1m_utm18_w_3_103.tif', 'dtm_1m_utm18_w_3_101.tif', 'dtm_1m_utm18_w_2_104.tif', 'dtm_1m_utm18_w_7_98.tif', 'dtm_1m_utm18_w_7_99.tif', 'dtm_1m_utm18_w_3_100.tif', 'dtm_1m_utm18_w_3_104.tif', 'dtm_1m_utm18_w_2_101.tif', 'dtm_1m_utm18_w_5_98.tif', 'dtm_1m_utm18_w_9_99.tif', 'dtm_1m_utm18_w_5_99.tif', 'dtm_1m_utm18_w_2_100.tif', 'dtm_1m_utm18_w_3_105.tif', 'dtm_1m_utm18_w_3_107.tif', 'dtm_1m_utm18_w_2_102.tif', 'dtm_1m_utm18_w_2_103.tif', 'dtm_1m_utm18_w_3_106.tif'\n",
    "# print(dtmTail)\n",
    "resampledFileNamePermanent = '/Users/abdielfer/RNCanFloodProject/CrossCanFloodSuscMap/HRDTMCliped/QC_Sherbrooke/QC_Sherbrooke_5m.tif'\n",
    "transitFolderPath= '/Users/abdielfer/RNCanFloodProject/CrossCanFloodSuscMap/HRDTMCliped/QC_Sherbrooke/QC_Sherbrooke.tif'\n",
    "rasterTools = wbtapp.rasterTools(transitFolderPath)\n",
    "rasterTools.rasterResampler(transitFolderPath,resampledFileNamePermanent,5)\n",
    "\n",
    "\n"
   ]
  },
  {
   "cell_type": "code",
   "execution_count": null,
   "metadata": {},
   "outputs": [],
   "source": [
    "name,ext = ms.splitFilenameAndExtention(dtmTail[1])\n",
    "mosaikFileNamePermanent = ms.makePath(transitFolderPath,(name + '_mosaik.tif'))\n",
    "rasterTools.computeMosaic(mosaikFileNamePermanent)"
   ]
  },
  {
   "cell_type": "code",
   "execution_count": null,
   "metadata": {},
   "outputs": [],
   "source": [
    "transformer.dInfFlowAcc('basin2_5m_Fill.tif','basin_FAccDInf.tif', userLog=False)"
   ]
  },
  {
   "cell_type": "code",
   "execution_count": null,
   "metadata": {},
   "outputs": [],
   "source": [
    "rasterTools.rasterToVectorLine('basin4_StrahOrder_level5.tif', 'basin4_SOL5.shp')"
   ]
  },
  {
   "cell_type": "code",
   "execution_count": null,
   "metadata": {},
   "outputs": [],
   "source": [
    "rasterTools.rasterVisibility_index('basin4_5m_fill.tif', 'visibilityBasin4.tif' )"
   ]
  }
 ],
 "metadata": {
  "kernelspec": {
   "display_name": "Python 3 (ipykernel)",
   "language": "python",
   "name": "python3"
  },
  "language_info": {
   "codemirror_mode": {
    "name": "ipython",
    "version": 3
   },
   "file_extension": ".py",
   "mimetype": "text/x-python",
   "name": "python",
   "nbconvert_exporter": "python",
   "pygments_lexer": "ipython3",
   "version": "3.9.13"
  }
 },
 "nbformat": 4,
 "nbformat_minor": 2
}

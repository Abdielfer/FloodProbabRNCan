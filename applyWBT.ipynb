{
 "cells": [
  {
   "cell_type": "code",
   "execution_count": 1,
   "metadata": {},
   "outputs": [
    {
     "name": "stdout",
     "output_type": "stream",
     "text": [
      "['./whitebox_tools', '-v']\n"
     ]
    }
   ],
   "source": [
    "import whiteboxApplications as wbtapp\n",
    "import myServices as ms\n",
    "import os"
   ]
  },
  {
   "cell_type": "code",
   "execution_count": null,
   "metadata": {},
   "outputs": [],
   "source": []
  },
  {
   "cell_type": "code",
   "execution_count": null,
   "metadata": {},
   "outputs": [],
   "source": [
    "print(dir_list)"
   ]
  },
  {
   "cell_type": "code",
   "execution_count": null,
   "metadata": {},
   "outputs": [
    {
     "name": "stdout",
     "output_type": "stream",
     "text": [
      "SK_Maple_Creek_2019.csv\n",
      "SK_Watson_2019.csv\n",
      "SK_Tisdale_2019.csv\n",
      "SK_Regina_2019.csv\n",
      "QC_RiviereBonaventure_2016_17.csv\n",
      "SK_Borden_2019.csv\n",
      ".csv\n",
      "CA_Lethbridge.csv\n",
      "fQC_Bromont.csv\n",
      "SK_Wadena_2019.csv\n",
      "SK_Foam_Lake_2019.csv\n",
      "SK_Yorkton_2019.csv\n",
      "Ottawa_Gatineau_2019_20csv.csv\n",
      "QC_Plessisville_2012.csv\n",
      "NL_Churchill_2019.csv\n",
      "NS_NSDNR_2019_2.csv\n",
      "QC_Sherbrookecsv.csv\n",
      "QC_Gaspesie_2016_17.csv\n",
      "BC_Kootenay_Creston_2017.csv\n",
      "QCCity_HRDTMIndex.csv\n",
      "NS_NSDNR_2019.csv\n",
      "QC_Abitibi_LaSarre_10_2017.csv\n",
      "SK_Weyburn_2019.csv\n",
      "BC_Bulton_2018.csv\n",
      "BC_Salmo_2018.csv\n",
      "NL_Exploits_2019.csv\n",
      "filename : SK_Maple_Creek_2019  ext:  .csv\n",
      "Confirmed directory at: /Users/abdielfer/RNCanFloodProject/CrossCanFloodSuscMap/HRDTMCliped/SK_Maple_Creek_2019 \n",
      "Downloading https://ftp.maps.canada.ca/pub/elevation/dem_mne/highresolution_hauteresolution/dtm_mnt/1m/SK/Maple_Creek_2019/utm12/dtm_1m_utm12_e_10_152.tif to /Users/abdielfer/RNCanFloodProject/CrossCanFloodSuscMap/HRDTMCliped/TransitDir/dtm_1m_utm12_e_10_152.tif\n"
     ]
    },
    {
     "data": {
      "application/vnd.jupyter.widget-view+json": {
       "model_id": "e37be5e564f94ade9cd56ee0c4b12f98",
       "version_major": 2,
       "version_minor": 0
      },
      "text/plain": [
       "  0%|          | 0/60005822 [00:00<?, ?it/s]"
      ]
     },
     "metadata": {},
     "output_type": "display_data"
    },
    {
     "name": "stdout",
     "output_type": "stream",
     "text": [
      "Downloading https://ftp.maps.canada.ca/pub/elevation/dem_mne/highresolution_hauteresolution/dtm_mnt/1m/SK/Maple_Creek_2019/utm12/dtm_1m_utm12_e_10_153.tif to /Users/abdielfer/RNCanFloodProject/CrossCanFloodSuscMap/HRDTMCliped/TransitDir/dtm_1m_utm12_e_10_153.tif\n"
     ]
    },
    {
     "data": {
      "application/vnd.jupyter.widget-view+json": {
       "model_id": "247e06b436bc453d8f57c86dcede829b",
       "version_major": 2,
       "version_minor": 0
      },
      "text/plain": [
       "  0%|          | 0/21784875 [00:00<?, ?it/s]"
      ]
     },
     "metadata": {},
     "output_type": "display_data"
    },
    {
     "name": "stdout",
     "output_type": "stream",
     "text": [
      "Downloading https://ftp.maps.canada.ca/pub/elevation/dem_mne/highresolution_hauteresolution/dtm_mnt/1m/SK/Maple_Creek_2019/utm12/dtm_1m_utm12_e_11_152.tif to /Users/abdielfer/RNCanFloodProject/CrossCanFloodSuscMap/HRDTMCliped/TransitDir/dtm_1m_utm12_e_11_152.tif\n"
     ]
    },
    {
     "data": {
      "application/vnd.jupyter.widget-view+json": {
       "model_id": "0d83cc979fd7411ba11fb16cf71a471a",
       "version_major": 2,
       "version_minor": 0
      },
      "text/plain": [
       "  0%|          | 0/29994084 [00:00<?, ?it/s]"
      ]
     },
     "metadata": {},
     "output_type": "display_data"
    },
    {
     "name": "stdout",
     "output_type": "stream",
     "text": [
      "Downloading https://ftp.maps.canada.ca/pub/elevation/dem_mne/highresolution_hauteresolution/dtm_mnt/1m/SK/Maple_Creek_2019/utm12/dtm_1m_utm12_e_11_153.tif to /Users/abdielfer/RNCanFloodProject/CrossCanFloodSuscMap/HRDTMCliped/TransitDir/dtm_1m_utm12_e_11_153.tif\n"
     ]
    },
    {
     "data": {
      "application/vnd.jupyter.widget-view+json": {
       "model_id": "2cd588699f044f5fb953f60be91ebb91",
       "version_major": 2,
       "version_minor": 0
      },
      "text/plain": [
       "  0%|          | 0/15306490 [00:00<?, ?it/s]"
      ]
     },
     "metadata": {},
     "output_type": "display_data"
    },
    {
     "name": "stdout",
     "output_type": "stream",
     "text": [
      "Tails downloaded to: /Users/abdielfer/RNCanFloodProject/CrossCanFloodSuscMap/HRDTMCliped/TransitDir\n",
      "./whitebox_tools --run=\"Mosaic\" --wd=\"/Users/abdielfer/RNCanFloodProject/CrossCanFloodSuscMap/HRDTMCliped/TransitDir\" --output='/Users/abdielfer/RNCanFloodProject/CrossCanFloodSuscMap/HRDTMCliped/SK_Maple_Creek_2019/SK_Maple_Creek_2019.tif' --method=nn --compress_rasters\n",
      "\n",
      "****************************\n",
      "* Welcome to Mosaic        *\n",
      "* Powered by WhiteboxTools *\n",
      "* www.whiteboxgeo.com      *\n",
      "****************************\n",
      "Number of tiles: 5\n",
      "Reading data...\n",
      "Progress: 0%\n",
      "Progress: 25%\n",
      "Progress: 50%\n",
      "Progress: 75%\n",
      "Progress: 100%\n",
      "Output image size: (69999 x 29999)\n",
      "Progress: 0%\n",
      "Progress: 1%\n",
      "Progress: 2%\n",
      "Progress: 3%\n",
      "Progress: 4%\n",
      "Progress: 5%\n",
      "Progress: 6%\n",
      "Progress: 7%\n",
      "Progress: 8%\n",
      "Progress: 9%\n",
      "Progress: 10%\n",
      "Progress: 11%\n",
      "Progress: 12%\n",
      "Progress: 13%\n",
      "Progress: 14%\n",
      "Progress: 15%\n",
      "Progress: 16%\n",
      "Progress: 17%\n",
      "Progress: 18%\n",
      "Progress: 19%\n",
      "Progress: 20%\n",
      "Progress: 21%\n",
      "Progress: 22%\n",
      "Progress: 23%\n",
      "Progress: 24%\n",
      "Progress: 25%\n",
      "Progress: 26%\n",
      "Progress: 27%\n",
      "Progress: 28%\n",
      "Progress: 29%\n",
      "Progress: 30%\n",
      "Progress: 31%\n",
      "Progress: 32%\n",
      "Progress: 33%\n",
      "Progress: 34%\n",
      "Progress: 35%\n",
      "Progress: 36%\n",
      "Progress: 37%\n",
      "Progress: 38%\n",
      "Progress: 39%\n",
      "Progress: 40%\n",
      "Progress: 41%\n",
      "Progress: 42%\n",
      "Progress: 43%\n",
      "Progress: 44%\n",
      "Progress: 45%\n",
      "Progress: 46%\n",
      "Progress: 47%\n",
      "Progress: 48%\n",
      "Progress: 49%\n",
      "Progress: 50%\n",
      "Progress: 51%\n",
      "Progress: 52%\n",
      "Progress: 53%\n",
      "Progress: 54%\n",
      "Progress: 55%\n",
      "Progress: 56%\n",
      "Progress: 57%\n",
      "Progress: 58%\n",
      "Progress: 59%\n",
      "Progress: 60%\n",
      "Progress: 61%\n",
      "Progress: 62%\n",
      "Progress: 63%\n",
      "Progress: 64%\n",
      "Progress: 65%\n",
      "Progress: 66%\n",
      "Progress: 67%\n",
      "Progress: 68%\n",
      "Progress: 69%\n",
      "Progress: 70%\n",
      "Progress: 71%\n",
      "Progress: 72%\n",
      "Progress: 73%\n",
      "Progress: 74%\n",
      "Progress: 75%\n",
      "Progress: 76%\n",
      "Progress: 77%\n",
      "Progress: 78%\n",
      "Progress: 79%\n",
      "Progress: 80%\n",
      "Progress: 81%\n",
      "Progress: 82%\n",
      "Progress: 83%\n",
      "Progress: 84%\n",
      "Progress: 85%\n",
      "Progress: 86%\n",
      "Progress: 87%\n",
      "Progress: 88%\n",
      "Progress: 89%\n",
      "Progress: 90%\n",
      "Progress: 91%\n",
      "Progress: 92%\n",
      "Progress: 93%\n",
      "Progress: 94%\n",
      "Progress: 95%\n",
      "Progress: 96%\n",
      "Progress: 97%\n",
      "Progress: 98%\n",
      "Progress: 99%\n",
      "Progress: 100%\n",
      "Saving data...\n",
      "Output file written\n",
      "Elapsed Time (including I/O): 33.368s\n",
      "./whitebox_tools --run=\"Resample\" --wd=\"/Users/abdielfer/RNCanFloodProject/CrossCanFloodSuscMap/HRDTMCliped/TransitDir\" --inputs='/Users/abdielfer/RNCanFloodProject/CrossCanFloodSuscMap/HRDTMCliped/SK_Maple_Creek_2019/SK_Maple_Creek_2019.tif' --output='/Users/abdielfer/RNCanFloodProject/CrossCanFloodSuscMap/HRDTMCliped/SK_Maple_Creek_2019/SK_Maple_Creek_2019_5m.tif' --cell_size='5' --method=bilinear --compress_rasters\n",
      "\n",
      "****************************\n",
      "* Welcome to Resample      *\n",
      "* Powered by WhiteboxTools *\n",
      "* www.whiteboxgeo.com      *\n",
      "****************************\n",
      "Reading data...\n",
      "Progress: 0%\n",
      "Progress: 1%\n",
      "Progress: 2%\n",
      "Progress: 3%\n",
      "Progress: 4%\n",
      "Progress: 5%\n",
      "Progress: 6%\n",
      "Progress: 7%\n",
      "Progress: 8%\n",
      "Progress: 9%\n",
      "Progress: 10%\n",
      "Progress: 11%\n",
      "Progress: 12%\n",
      "Progress: 13%\n",
      "Progress: 14%\n",
      "Progress: 15%\n",
      "Progress: 16%\n",
      "Progress: 17%\n",
      "Progress: 18%\n",
      "Progress: 19%\n",
      "Progress: 20%\n",
      "Progress: 21%\n",
      "Progress: 22%\n",
      "Progress: 23%\n",
      "Progress: 24%\n",
      "Progress: 25%\n",
      "Progress: 26%\n",
      "Progress: 27%\n",
      "Progress: 28%\n",
      "Progress: 29%\n",
      "Progress: 30%\n",
      "Progress: 31%\n",
      "Progress: 32%\n",
      "Progress: 33%\n",
      "Progress: 34%\n",
      "Progress: 35%\n",
      "Progress: 36%\n",
      "Progress: 37%\n",
      "Progress: 38%\n",
      "Progress: 39%\n",
      "Progress: 40%\n",
      "Progress: 41%\n",
      "Progress: 42%\n",
      "Progress: 43%\n",
      "Progress: 44%\n",
      "Progress: 45%\n",
      "Progress: 46%\n",
      "Progress: 47%\n",
      "Progress: 48%\n",
      "Progress: 49%\n",
      "Progress: 50%\n",
      "Progress: 51%\n",
      "Progress: 52%\n",
      "Progress: 53%\n",
      "Progress: 54%\n",
      "Progress: 55%\n",
      "Progress: 56%\n",
      "Progress: 57%\n",
      "Progress: 58%\n",
      "Progress: 59%\n",
      "Progress: 60%\n",
      "Progress: 61%\n",
      "Progress: 62%\n",
      "Progress: 63%\n",
      "Progress: 64%\n",
      "Progress: 65%\n",
      "Progress: 66%\n",
      "Progress: 67%\n",
      "Progress: 68%\n",
      "Progress: 69%\n",
      "Progress: 70%\n",
      "Progress: 71%\n",
      "Progress: 72%\n",
      "Progress: 73%\n",
      "Progress: 74%\n",
      "Progress: 75%\n",
      "Progress: 76%\n",
      "Progress: 77%\n",
      "Progress: 78%\n",
      "Progress: 79%\n",
      "Progress: 80%\n",
      "Progress: 81%\n",
      "Progress: 82%\n",
      "Progress: 83%\n",
      "Progress: 84%\n",
      "Progress: 85%\n",
      "Progress: 86%\n",
      "Progress: 87%\n",
      "Progress: 88%\n",
      "Progress: 89%\n",
      "Progress: 90%\n",
      "Progress: 91%\n",
      "Progress: 92%\n",
      "Progress: 93%\n",
      "Progress: 94%\n",
      "Progress: 95%\n",
      "Progress: 96%\n",
      "Progress: 97%\n",
      "Progress: 98%\n",
      "Progress: 99%\n",
      "Progress: 100%\n",
      "Saving data...\n",
      "Output file written\n",
      "Elapsed Time (including I/O): 40.116s\n",
      "filename : SK_Watson_2019  ext:  .csv\n",
      "Confirmed directory at: /Users/abdielfer/RNCanFloodProject/CrossCanFloodSuscMap/HRDTMCliped/SK_Watson_2019 \n",
      "Downloading https://ftp.maps.canada.ca/pub/elevation/dem_mne/highresolution_hauteresolution/dtm_mnt/1m/SK/Watson_2019/utm13/dtm_1m_utm13_e_3_177.tif to /Users/abdielfer/RNCanFloodProject/CrossCanFloodSuscMap/HRDTMCliped/TransitDir/dtm_1m_utm13_e_3_177.tif\n"
     ]
    },
    {
     "data": {
      "application/vnd.jupyter.widget-view+json": {
       "model_id": "91c6fb79b28646029b778c079dde265b",
       "version_major": 2,
       "version_minor": 0
      },
      "text/plain": [
       "  0%|          | 0/63460305 [00:00<?, ?it/s]"
      ]
     },
     "metadata": {},
     "output_type": "display_data"
    },
    {
     "name": "stdout",
     "output_type": "stream",
     "text": [
      "Tails downloaded to: /Users/abdielfer/RNCanFloodProject/CrossCanFloodSuscMap/HRDTMCliped/TransitDir\n",
      "./whitebox_tools --run=\"Resample\" --wd=\"/Users/abdielfer/RNCanFloodProject/CrossCanFloodSuscMap/HRDTMCliped/TransitDir\" --inputs='/Users/abdielfer/RNCanFloodProject/CrossCanFloodSuscMap/HRDTMCliped/TransitDir/dtm_1m_utm13_e_3_177.tif' --output='/Users/abdielfer/RNCanFloodProject/CrossCanFloodSuscMap/HRDTMCliped/SK_Watson_2019/SK_Watson_2019_5m.tif' --cell_size='5' --method=bilinear --compress_rasters\n",
      "\n",
      "****************************\n",
      "* Welcome to Resample      *\n",
      "* Powered by WhiteboxTools *\n",
      "* www.whiteboxgeo.com      *\n",
      "****************************\n",
      "Reading data...\n",
      "Progress: 0%\n",
      "Progress: 1%\n",
      "Progress: 2%\n",
      "Progress: 3%\n",
      "Progress: 4%\n",
      "Progress: 5%\n",
      "Progress: 6%\n",
      "Progress: 7%\n",
      "Progress: 8%\n",
      "Progress: 9%\n",
      "Progress: 10%\n",
      "Progress: 11%\n",
      "Progress: 12%\n",
      "Progress: 13%\n",
      "Progress: 14%\n",
      "Progress: 15%\n",
      "Progress: 16%\n",
      "Progress: 17%\n",
      "Progress: 18%\n",
      "Progress: 19%\n",
      "Progress: 20%\n",
      "Progress: 21%\n",
      "Progress: 22%\n",
      "Progress: 23%\n",
      "Progress: 24%\n",
      "Progress: 25%\n",
      "Progress: 26%\n",
      "Progress: 27%\n",
      "Progress: 28%\n",
      "Progress: 29%\n",
      "Progress: 30%\n",
      "Progress: 31%\n",
      "Progress: 32%\n",
      "Progress: 33%\n",
      "Progress: 34%\n",
      "Progress: 35%\n",
      "Progress: 36%\n",
      "Progress: 37%\n",
      "Progress: 38%\n",
      "Progress: 39%\n",
      "Progress: 40%\n",
      "Progress: 41%\n",
      "Progress: 42%\n",
      "Progress: 43%\n",
      "Progress: 44%\n",
      "Progress: 45%\n",
      "Progress: 46%\n",
      "Progress: 47%\n",
      "Progress: 48%\n",
      "Progress: 49%\n",
      "Progress: 50%\n",
      "Progress: 51%\n",
      "Progress: 52%\n",
      "Progress: 53%\n",
      "Progress: 54%\n",
      "Progress: 55%\n",
      "Progress: 56%\n",
      "Progress: 57%\n",
      "Progress: 58%\n",
      "Progress: 59%\n",
      "Progress: 60%\n",
      "Progress: 61%\n",
      "Progress: 62%\n",
      "Progress: 63%\n",
      "Progress: 64%\n",
      "Progress: 65%\n",
      "Progress: 66%\n",
      "Progress: 67%\n",
      "Progress: 68%\n",
      "Progress: 69%\n",
      "Progress: 70%\n",
      "Progress: 71%\n",
      "Progress: 72%\n",
      "Progress: 73%\n",
      "Progress: 74%\n",
      "Progress: 75%\n",
      "Progress: 76%\n",
      "Progress: 77%\n",
      "Progress: 78%\n",
      "Progress: 79%\n",
      "Progress: 80%\n",
      "Progress: 81%\n",
      "Progress: 82%\n",
      "Progress: 83%\n",
      "Progress: 84%\n",
      "Progress: 85%\n",
      "Progress: 86%\n",
      "Progress: 87%\n",
      "Progress: 88%\n",
      "Progress: 89%\n",
      "Progress: 90%\n",
      "Progress: 91%\n",
      "Progress: 92%\n",
      "Progress: 93%\n",
      "Progress: 94%\n",
      "Progress: 95%\n",
      "Progress: 96%\n",
      "Progress: 97%\n",
      "Progress: 98%\n",
      "Progress: 99%\n",
      "Progress: 100%\n",
      "Saving data...\n",
      "Output file written\n",
      "Elapsed Time (including I/O): 2.556s\n",
      "filename : SK_Tisdale_2019  ext:  .csv\n",
      "Confirmed directory at: /Users/abdielfer/RNCanFloodProject/CrossCanFloodSuscMap/HRDTMCliped/SK_Tisdale_2019 \n",
      "Downloading https://ftp.maps.canada.ca/pub/elevation/dem_mne/highresolution_hauteresolution/dtm_mnt/1m/SK/Tisdale_2019/utm13/dtm_1m_utm13_e_6_185.tif to /Users/abdielfer/RNCanFloodProject/CrossCanFloodSuscMap/HRDTMCliped/TransitDir/dtm_1m_utm13_e_6_185.tif\n"
     ]
    },
    {
     "data": {
      "application/vnd.jupyter.widget-view+json": {
       "model_id": "ce47726092264acc9767393e5a40ea33",
       "version_major": 2,
       "version_minor": 0
      },
      "text/plain": [
       "  0%|          | 0/48831267 [00:00<?, ?it/s]"
      ]
     },
     "metadata": {},
     "output_type": "display_data"
    },
    {
     "name": "stdout",
     "output_type": "stream",
     "text": [
      "Tails downloaded to: /Users/abdielfer/RNCanFloodProject/CrossCanFloodSuscMap/HRDTMCliped/TransitDir\n",
      "./whitebox_tools --run=\"Resample\" --wd=\"/Users/abdielfer/RNCanFloodProject/CrossCanFloodSuscMap/HRDTMCliped/TransitDir\" --inputs='/Users/abdielfer/RNCanFloodProject/CrossCanFloodSuscMap/HRDTMCliped/TransitDir/dtm_1m_utm13_e_6_185.tif' --output='/Users/abdielfer/RNCanFloodProject/CrossCanFloodSuscMap/HRDTMCliped/SK_Tisdale_2019/SK_Tisdale_2019_5m.tif' --cell_size='5' --method=bilinear --compress_rasters\n",
      "\n",
      "****************************\n",
      "* Welcome to Resample      *\n",
      "* Powered by WhiteboxTools *\n",
      "* www.whiteboxgeo.com      *\n",
      "****************************\n",
      "Reading data...\n",
      "Progress: 0%\n",
      "Progress: 1%\n",
      "Progress: 2%\n",
      "Progress: 3%\n",
      "Progress: 4%\n",
      "Progress: 5%\n",
      "Progress: 6%\n",
      "Progress: 7%\n",
      "Progress: 8%\n",
      "Progress: 9%\n",
      "Progress: 10%\n",
      "Progress: 11%\n",
      "Progress: 12%\n",
      "Progress: 13%\n",
      "Progress: 14%\n",
      "Progress: 15%\n",
      "Progress: 16%\n",
      "Progress: 17%\n",
      "Progress: 18%\n",
      "Progress: 19%\n",
      "Progress: 20%\n",
      "Progress: 21%\n",
      "Progress: 22%\n",
      "Progress: 23%\n",
      "Progress: 24%\n",
      "Progress: 25%\n",
      "Progress: 26%\n",
      "Progress: 27%\n",
      "Progress: 28%\n",
      "Progress: 29%\n",
      "Progress: 30%\n",
      "Progress: 31%\n",
      "Progress: 32%\n",
      "Progress: 33%\n",
      "Progress: 34%\n",
      "Progress: 35%\n",
      "Progress: 36%\n",
      "Progress: 37%\n",
      "Progress: 38%\n",
      "Progress: 39%\n",
      "Progress: 40%\n",
      "Progress: 41%\n",
      "Progress: 42%\n",
      "Progress: 43%\n",
      "Progress: 44%\n",
      "Progress: 45%\n",
      "Progress: 46%\n",
      "Progress: 47%\n",
      "Progress: 48%\n",
      "Progress: 49%\n",
      "Progress: 50%\n",
      "Progress: 51%\n",
      "Progress: 52%\n",
      "Progress: 53%\n",
      "Progress: 54%\n",
      "Progress: 55%\n",
      "Progress: 56%\n",
      "Progress: 57%\n",
      "Progress: 58%\n",
      "Progress: 59%\n",
      "Progress: 60%\n",
      "Progress: 61%\n",
      "Progress: 62%\n",
      "Progress: 63%\n",
      "Progress: 64%\n",
      "Progress: 65%\n",
      "Progress: 66%\n",
      "Progress: 67%\n",
      "Progress: 68%\n",
      "Progress: 69%\n",
      "Progress: 70%\n",
      "Progress: 71%\n",
      "Progress: 72%\n",
      "Progress: 73%\n",
      "Progress: 74%\n",
      "Progress: 75%\n",
      "Progress: 76%\n",
      "Progress: 77%\n",
      "Progress: 78%\n",
      "Progress: 79%\n",
      "Progress: 80%\n",
      "Progress: 81%\n",
      "Progress: 82%\n",
      "Progress: 83%\n",
      "Progress: 84%\n",
      "Progress: 85%\n",
      "Progress: 86%\n",
      "Progress: 87%\n",
      "Progress: 88%\n",
      "Progress: 89%\n",
      "Progress: 90%\n",
      "Progress: 91%\n",
      "Progress: 92%\n",
      "Progress: 93%\n",
      "Progress: 94%\n",
      "Progress: 95%\n",
      "Progress: 96%\n",
      "Progress: 97%\n",
      "Progress: 98%\n",
      "Progress: 99%\n",
      "Progress: 100%\n",
      "Saving data...\n",
      "Output file written\n",
      "Elapsed Time (including I/O): 2.438s\n",
      "filename : SK_Regina_2019  ext:  .csv\n",
      "Confirmed directory at: /Users/abdielfer/RNCanFloodProject/CrossCanFloodSuscMap/HRDTMCliped/SK_Regina_2019 \n",
      "Downloading https://ftp.maps.canada.ca/pub/elevation/dem_mne/highresolution_hauteresolution/dtm_mnt/1m/VILLE_REGINA/VILLE_REGINA/utm13/dtm_1m_utm13_e_1_158.tif to /Users/abdielfer/RNCanFloodProject/CrossCanFloodSuscMap/HRDTMCliped/TransitDir/dtm_1m_utm13_e_1_158.tif\n"
     ]
    },
    {
     "data": {
      "application/vnd.jupyter.widget-view+json": {
       "model_id": "7f745cac79c1453d878104acce34b6d6",
       "version_major": 2,
       "version_minor": 0
      },
      "text/plain": [
       "  0%|          | 0/39338549 [00:00<?, ?it/s]"
      ]
     },
     "metadata": {},
     "output_type": "display_data"
    },
    {
     "name": "stdout",
     "output_type": "stream",
     "text": [
      "Downloading https://ftp.maps.canada.ca/pub/elevation/dem_mne/highresolution_hauteresolution/dtm_mnt/1m/VILLE_REGINA/VILLE_REGINA/utm13/dtm_1m_utm13_e_1_159.tif to /Users/abdielfer/RNCanFloodProject/CrossCanFloodSuscMap/HRDTMCliped/TransitDir/dtm_1m_utm13_e_1_159.tif\n"
     ]
    },
    {
     "data": {
      "application/vnd.jupyter.widget-view+json": {
       "model_id": "aa9636c32a154873b868b0a78855222e",
       "version_major": 2,
       "version_minor": 0
      },
      "text/plain": [
       "  0%|          | 0/32433987 [00:00<?, ?it/s]"
      ]
     },
     "metadata": {},
     "output_type": "display_data"
    },
    {
     "name": "stdout",
     "output_type": "stream",
     "text": [
      "Downloading https://ftp.maps.canada.ca/pub/elevation/dem_mne/highresolution_hauteresolution/dtm_mnt/1m/VILLE_REGINA/VILLE_REGINA/utm13/dtm_1m_utm13_e_2_158.tif to /Users/abdielfer/RNCanFloodProject/CrossCanFloodSuscMap/HRDTMCliped/TransitDir/dtm_1m_utm13_e_2_158.tif\n"
     ]
    },
    {
     "data": {
      "application/vnd.jupyter.widget-view+json": {
       "model_id": "2683c99a9ea042a7a5ba2763a92bf009",
       "version_major": 2,
       "version_minor": 0
      },
      "text/plain": [
       "  0%|          | 0/170002203 [00:00<?, ?it/s]"
      ]
     },
     "metadata": {},
     "output_type": "display_data"
    },
    {
     "name": "stdout",
     "output_type": "stream",
     "text": [
      "Downloading https://ftp.maps.canada.ca/pub/elevation/dem_mne/highresolution_hauteresolution/dtm_mnt/1m/VILLE_REGINA/VILLE_REGINA/utm13/dtm_1m_utm13_e_2_159.tif to /Users/abdielfer/RNCanFloodProject/CrossCanFloodSuscMap/HRDTMCliped/TransitDir/dtm_1m_utm13_e_2_159.tif\n"
     ]
    },
    {
     "data": {
      "application/vnd.jupyter.widget-view+json": {
       "model_id": "f001f2ae66b0414288b1b9a2b94d3009",
       "version_major": 2,
       "version_minor": 0
      },
      "text/plain": [
       "  0%|          | 0/157955621 [00:00<?, ?it/s]"
      ]
     },
     "metadata": {},
     "output_type": "display_data"
    },
    {
     "name": "stdout",
     "output_type": "stream",
     "text": [
      "Downloading https://ftp.maps.canada.ca/pub/elevation/dem_mne/highresolution_hauteresolution/dtm_mnt/1m/VILLE_REGINA/VILLE_REGINA/utm13/dtm_1m_utm13_e_3_158.tif to /Users/abdielfer/RNCanFloodProject/CrossCanFloodSuscMap/HRDTMCliped/TransitDir/dtm_1m_utm13_e_3_158.tif\n"
     ]
    }
   ],
   "source": [
    "##### \n",
    "# 1- entrar en el directorio con todos los csv files y crear la lista de scv file\n",
    "# 2- crear TransitFolder\n",
    "# 3- crear instancia de: wbtapp.rasterTools(TransitFolder Path)\n",
    "# 4- recorrer los *.csv:\n",
    "#      - crear un Folder con el nombre del csv. \n",
    "#      - importar todos los DTM en TransitFolder\n",
    "#      - mosaic todos los DTM en el TransitFoldes.\n",
    "#      - clear TransitFolder\n",
    "cwd = '/Users/abdielfer/RNCanFloodProject/CrossCanFloodSuscMap/HRDTMCliped/'\n",
    "csvFiles_list = []\n",
    "for x in os.listdir(cwd):\n",
    "    if x.endswith(\".csv\"):\n",
    "        csvFiles_list.append(x)\n",
    "transitFolderPath = ms.createTransintFolder(cwd)\n",
    "rasterTools = wbtapp.rasterTools(transitFolderPath) # Compute mosaic with all .tif  into TransitFolder \n",
    "for i in csvFiles_list:\n",
    "    sourcePath_dtm_ftp = cwd + i \n",
    "    name,ext = ms.splitFilenameAndExtention(i)\n",
    "    print('filename :', name, ' ext: ',ext)\n",
    "    destinationFolder = ms.makePath(cwd,name)\n",
    "    ms.ensureDirectory(destinationFolder)\n",
    "    dtmFtpList = ms.createListFromCSVColumn(sourcePath_dtm_ftp,'Ftp_dtm')\n",
    "    importer = wbtapp.dtmTailImporter(dtmFtpList,transitFolderPath)\n",
    "    importer.downloadTailsToLocalDir()\n",
    "    if len(dtmFtpList)>1:\n",
    "        mosaikFileNamePermanent = ms.makePath(destinationFolder,(name +'.tif'))\n",
    "        rasterTools.computeMosaic(mosaikFileNamePermanent)\n",
    "    else:\n",
    "        dtmTail = os.listdir(transitFolderPath)\n",
    "        mosaikFileNamePermanent = ms.makePath(transitFolderPath,dtmTail[0])\n",
    "    resampledFileNamePermanent = ms.makePath(destinationFolder,(name +'_5m.tif'))   \n",
    "    rasterTools.rasterResampler(mosaikFileNamePermanent,resampledFileNamePermanent,5)\n",
    "    ms.clearTransitFolderContent(transitFolderPath)\n",
    "    "
   ]
  },
  {
   "cell_type": "code",
   "execution_count": null,
   "metadata": {},
   "outputs": [],
   "source": [
    "transformer.dInfFlowAcc('basin2_5m_Fill.tif','basin_FAccDInf.tif', userLog=False)"
   ]
  },
  {
   "cell_type": "code",
   "execution_count": null,
   "metadata": {},
   "outputs": [],
   "source": [
    "rasterTools.rasterToVectorLine('basin4_StrahOrder_level5.tif', 'basin4_SOL5.shp')"
   ]
  },
  {
   "cell_type": "code",
   "execution_count": null,
   "metadata": {},
   "outputs": [],
   "source": [
    "rasterTools.rasterVisibility_index('basin4_5m_fill.tif', 'visibilityBasin4.tif' )"
   ]
  }
 ],
 "metadata": {
  "kernelspec": {
   "display_name": "Python 3 (ipykernel)",
   "language": "python",
   "name": "python3"
  },
  "language_info": {
   "codemirror_mode": {
    "name": "ipython",
    "version": 3
   },
   "file_extension": ".py",
   "mimetype": "text/x-python",
   "name": "python",
   "nbconvert_exporter": "python",
   "pygments_lexer": "ipython3",
   "version": "3.9.13"
  }
 },
 "nbformat": 4,
 "nbformat_minor": 2
}

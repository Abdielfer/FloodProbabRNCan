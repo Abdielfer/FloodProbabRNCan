{
 "cells": [
  {
   "cell_type": "code",
   "execution_count": null,
   "metadata": {
    "scrolled": true
   },
   "outputs": [],
   "source": [
    "import os\n",
    "import myServices as ms\n",
    "import randForest as rfr\n",
    "import numpy as np\n",
    "import pandas as pd\n",
    "import sklearn\n",
    "import joblib"
   ]
  },
  {
   "cell_type": "code",
   "execution_count": null,
   "metadata": {},
   "outputs": [],
   "source": [
    "# to compute ececution time do:\n",
    "# with timeit():\n",
    "#     # your code, e.g., \n",
    "class timeit(): \n",
    "    from datetime import datetime\n",
    "    def __enter__(self):\n",
    "        self.tic = self.datetime.now()\n",
    "    def __exit__(self, *args, **kwargs):\n",
    "        print('runtime: {}'.format(self.datetime.now() - self.tic))"
   ]
  },
  {
   "cell_type": "markdown",
   "metadata": {},
   "source": [
    "## Random Forest Section"
   ]
  },
  {
   "cell_type": "code",
   "execution_count": null,
   "metadata": {},
   "outputs": [],
   "source": [
    "sklearn.metrics.get_scorer_names()"
   ]
  },
  {
   "cell_type": "code",
   "execution_count": 8,
   "metadata": {},
   "outputs": [
    {
     "name": "stdout",
     "output_type": "stream",
     "text": [
      "[ 50  51  53  55  57  59  61  63  65  66  68  70  72  74  76  78  80  81\n",
      "  83  85  87  89  91  93  95  96  98 100 102 104 106 108 110]\n"
     ]
    }
   ],
   "source": [
    "print(np.linspace(50,110, 33).astype(int))"
   ]
  },
  {
   "cell_type": "code",
   "execution_count": null,
   "metadata": {},
   "outputs": [],
   "source": [
    "DS = pd.read_csv('basin1CleanToTrain.csv', index_col = None)"
   ]
  },
  {
   "cell_type": "code",
   "execution_count": null,
   "metadata": {},
   "outputs": [],
   "source": [
    "print(DS.keys())\n",
    "DS.info()\n",
    "print(DS.keys())\n"
   ]
  },
  {
   "cell_type": "code",
   "execution_count": null,
   "metadata": {},
   "outputs": [],
   "source": [
    "import "
   ]
  },
  {
   "cell_type": "code",
   "execution_count": null,
   "metadata": {},
   "outputs": [],
   "source": [
    "s = {}\n",
    "m = {'cv': 4, 'error_score': 'nan', 'estimator__bootstrap': True, \n",
    "     'estimator__ccp_alpha': 0.0, 'estimator__class_weight': None, \n",
    "     'estimator__criterion': 'entropy', 'estimator__max_depth': None, \n",
    "     'estimator__max_features': 'sqrt', 'estimator__max_leaf_nodes': None, \n",
    "     'estimator__max_samples': None, 'estimator__min_impurity_decrease': 0.0, \n",
    "     'estimator__min_samples_leaf': 1, 'estimator__min_samples_split': 2, \n",
    "     'estimator__min_weight_fraction_leaf': 0.0, 'estimator__n_estimators': 100,\n",
    "     'estimator__n_jobs': None, 'estimator__oob_score': False, 'estimator__random_state': 50,\n",
    "     'estimator__verbose': 0, 'estimator__warm_start': False, \n",
    "     'estimator': 'RandomForestClassifier(criterion =entropy, random_state=50)', \n",
    "     'n_jobs': -1, 'param_grid': {'n_estimators': [8], 'max_depth': [None], 'max_features': [0.8], 'max_leaf_nodes': [None], \n",
    "                                  'bootstrap': [False]}, 'pre_dispatch': '2*n_jobs', \n",
    "     'refit': True, 'return_train_score': False, 'scoring': 'roc_auc', 'verbose': 5}"
   ]
  },
  {
   "cell_type": "code",
   "execution_count": null,
   "metadata": {},
   "outputs": [],
   "source": [
    "s['test'] = m"
   ]
  },
  {
   "cell_type": "code",
   "execution_count": null,
   "metadata": {},
   "outputs": [],
   "source": [
    "print(s)"
   ]
  },
  {
   "cell_type": "code",
   "execution_count": null,
   "metadata": {},
   "outputs": [],
   "source": []
  }
 ],
 "metadata": {
  "kernelspec": {
   "display_name": "Python 3 (ipykernel)",
   "language": "python",
   "name": "python3"
  },
  "language_info": {
   "codemirror_mode": {
    "name": "ipython",
    "version": 3
   },
   "file_extension": ".py",
   "mimetype": "text/x-python",
   "name": "python",
   "nbconvert_exporter": "python",
   "pygments_lexer": "ipython3",
   "version": "3.9.13"
  },
  "vscode": {
   "interpreter": {
    "hash": "c444c068df4da933f83035bc75b2ed5aea8e7fb8bc113357e2f14ee7cca6a8fe"
   }
  }
 },
 "nbformat": 4,
 "nbformat_minor": 2
}

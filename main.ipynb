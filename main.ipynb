{
 "cells": [
  {
   "cell_type": "code",
   "execution_count": 1,
   "metadata": {},
   "outputs": [
    {
     "name": "stderr",
     "output_type": "stream",
     "text": [
      "/Users/abdielfer/DESS/Internship2022/RNCanWork/FloodProbabRNCanAbd/floodProbProj/lib/python3.9/site-packages/tqdm/auto.py:22: TqdmWarning: IProgress not found. Please update jupyter and ipywidgets. See https://ipywidgets.readthedocs.io/en/stable/user_install.html\n",
      "  from .autonotebook import tqdm as notebook_tqdm\n"
     ]
    },
    {
     "name": "stdout",
     "output_type": "stream",
     "text": [
      "['./whitebox_tools', '-v']\n"
     ]
    }
   ],
   "source": [
    "import services as svs"
   ]
  },
  {
   "cell_type": "code",
   "execution_count": null,
   "metadata": {},
   "outputs": [],
   "source": [
    "# Import tails form an xxcell doc. ]\n",
    "excell_file = '/Users/abdielfer/DESS/Internship2022/RNCanWork/FloodProbabRNCanAbd/saint_john_NFL_DTM.xlsx'\n",
    "listTails = svs.importListFromExelCol(excell_file,'Feuil1','ftp_dtm')\n",
    "importer = svs.dtmTailImporter(listTails)\n",
    "importer.impotTailToLocalDir()"
   ]
  },
  {
   "cell_type": "code",
   "execution_count": 2,
   "metadata": {},
   "outputs": [
    {
     "name": "stdout",
     "output_type": "stream",
     "text": [
      "/Users/abdielfer\n"
     ]
    }
   ],
   "source": [
    "import os\n",
    "desktop = os.path.expanduser(\"~\")\n",
    "print(desktop)\n"
   ]
  },
  {
   "cell_type": "code",
   "execution_count": 2,
   "metadata": {},
   "outputs": [],
   "source": [
    "transformer = svs.dtmTransformer()"
   ]
  },
  {
   "cell_type": "code",
   "execution_count": null,
   "metadata": {},
   "outputs": [],
   "source": [
    "svs.setWBTWorkingDir('/Users/abdielfer/DESS/Internship2022/RNCanWork/FloodMaps/testZone')"
   ]
  },
  {
   "cell_type": "code",
   "execution_count": null,
   "metadata": {},
   "outputs": [],
   "source": [
    "transformer.computeMosaic('zone_one.tif')"
   ]
  },
  {
   "cell_type": "code",
   "execution_count": null,
   "metadata": {},
   "outputs": [],
   "source": [
    "dtmName = 'zone_one.tif' \n",
    "transformer.fixNoDataAndfillDTM(dtmName)\n",
    "# transformer.computeSlope(dtmName)\n",
    "# transformer.computeAspect(dtmName)"
   ]
  },
  {
   "cell_type": "code",
   "execution_count": 6,
   "metadata": {},
   "outputs": [],
   "source": [
    "os.remove(os.path.join('/Users/abdielfer/DESS/Internship2022/RNCanWork/FloodMaps/testZone','aspect_zone_one.tif'))"
   ]
  }
 ],
 "metadata": {
  "interpreter": {
   "hash": "f3d9516b24a79ab9dbb253d0a6a8b4e0289f78c37ae4de49cc288060e42b4bef"
  },
  "kernelspec": {
   "display_name": "Python 3.9.12 ('floodProbProj': venv)",
   "language": "python",
   "name": "python3"
  },
  "language_info": {
   "codemirror_mode": {
    "name": "ipython",
    "version": 3
   },
   "file_extension": ".py",
   "mimetype": "text/x-python",
   "name": "python",
   "nbconvert_exporter": "python",
   "pygments_lexer": "ipython3",
   "version": "3.9.12"
  },
  "orig_nbformat": 4
 },
 "nbformat": 4,
 "nbformat_minor": 2
}

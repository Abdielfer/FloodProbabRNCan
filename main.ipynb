{
 "cells": [
  {
   "cell_type": "code",
   "execution_count": 1,
   "metadata": {},
   "outputs": [
    {
     "name": "stderr",
     "output_type": "stream",
     "text": [
      "/Users/abdielfer/DESS/Internship2022/RNCanWork/FloodProbabRNCanAbd/floodProbProj/lib/python3.9/site-packages/tqdm/auto.py:22: TqdmWarning: IProgress not found. Please update jupyter and ipywidgets. See https://ipywidgets.readthedocs.io/en/stable/user_install.html\n",
      "  from .autonotebook import tqdm as notebook_tqdm\n"
     ]
    },
    {
     "name": "stdout",
     "output_type": "stream",
     "text": [
      "['./whitebox_tools', '-v']\n"
     ]
    }
   ],
   "source": [
    "import services as svs"
   ]
  },
  {
   "cell_type": "code",
   "execution_count": null,
   "metadata": {},
   "outputs": [],
   "source": [
    "# Import tails form an xxcell doc. ]\n",
    "excell_file = '/Users/abdielfer/DESS/Internship2022/RNCanWork/FloodProbabRNCanAbd/saint_john_NFL_DTM.xlsx'\n",
    "listTails = svs.importListFromExelCol(excell_file,'Feuil1','ftp_dtm')\n",
    "importer = svs.dtmTailImporter(listTails)\n",
    "importer.impotTailToLocalDir()"
   ]
  },
  {
   "cell_type": "code",
   "execution_count": 6,
   "metadata": {},
   "outputs": [
    {
     "name": "stdout",
     "output_type": "stream",
     "text": [
      "/Users/abdielfer\n"
     ]
    }
   ],
   "source": [
    "import os\n",
    "desktop = os.path.expanduser(\"~\")\n",
    "print(desktop)\n"
   ]
  },
  {
   "cell_type": "code",
   "execution_count": 3,
   "metadata": {},
   "outputs": [
    {
     "ename": "TypeError",
     "evalue": "stat: path should be string, bytes, os.PathLike or integer, not NoneType",
     "output_type": "error",
     "traceback": [
      "\u001b[0;31m---------------------------------------------------------------------------\u001b[0m",
      "\u001b[0;31mTypeError\u001b[0m                                 Traceback (most recent call last)",
      "\u001b[1;32m/Users/abdielfer/DESS/Internship2022/RNCanWork/FloodProbabRNCanAbd/main.ipynb Cell 3'\u001b[0m in \u001b[0;36m<cell line: 1>\u001b[0;34m()\u001b[0m\n\u001b[0;32m----> <a href='vscode-notebook-cell:/Users/abdielfer/DESS/Internship2022/RNCanWork/FloodProbabRNCanAbd/main.ipynb#ch0000002?line=0'>1</a>\u001b[0m transformer \u001b[39m=\u001b[39m svs\u001b[39m.\u001b[39;49mdtmTransformer()\n",
      "File \u001b[0;32m~/DESS/Internship2022/RNCanWork/FloodProbabRNCanAbd/services.py:71\u001b[0m, in \u001b[0;36mdtmTransformer.__init__\u001b[0;34m(self, workingDir)\u001b[0m\n\u001b[1;32m     <a href='file:///Users/abdielfer/DESS/Internship2022/RNCanWork/FloodProbabRNCanAbd/services.py?line=69'>70</a>\u001b[0m \u001b[39mdef\u001b[39;00m \u001b[39m__init__\u001b[39m(\u001b[39mself\u001b[39m,workingDir \u001b[39m=\u001b[39m \u001b[39mNone\u001b[39;00m):\n\u001b[0;32m---> <a href='file:///Users/abdielfer/DESS/Internship2022/RNCanWork/FloodProbabRNCanAbd/services.py?line=70'>71</a>\u001b[0m     \u001b[39mif\u001b[39;00m os\u001b[39m.\u001b[39;49mpath\u001b[39m.\u001b[39;49misfile(workingDir)\u001b[39m!=\u001b[39m \u001b[39mTrue\u001b[39;00m: \u001b[39m# Creates output dir if it does not already exist \u001b[39;00m\n\u001b[1;32m     <a href='file:///Users/abdielfer/DESS/Internship2022/RNCanWork/FloodProbabRNCanAbd/services.py?line=71'>72</a>\u001b[0m         \u001b[39mself\u001b[39m\u001b[39m.\u001b[39mworkingDir \u001b[39m=\u001b[39m workingDir\n\u001b[1;32m     <a href='file:///Users/abdielfer/DESS/Internship2022/RNCanWork/FloodProbabRNCanAbd/services.py?line=72'>73</a>\u001b[0m     \u001b[39melse\u001b[39;00m:\n",
      "File \u001b[0;32m/usr/local/Cellar/python@3.9/3.9.12_1/Frameworks/Python.framework/Versions/3.9/lib/python3.9/genericpath.py:30\u001b[0m, in \u001b[0;36misfile\u001b[0;34m(path)\u001b[0m\n\u001b[1;32m     <a href='file:///usr/local/Cellar/python%403.9/3.9.12_1/Frameworks/Python.framework/Versions/3.9/lib/python3.9/genericpath.py?line=27'>28</a>\u001b[0m \u001b[39m\"\"\"Test whether a path is a regular file\"\"\"\u001b[39;00m\n\u001b[1;32m     <a href='file:///usr/local/Cellar/python%403.9/3.9.12_1/Frameworks/Python.framework/Versions/3.9/lib/python3.9/genericpath.py?line=28'>29</a>\u001b[0m \u001b[39mtry\u001b[39;00m:\n\u001b[0;32m---> <a href='file:///usr/local/Cellar/python%403.9/3.9.12_1/Frameworks/Python.framework/Versions/3.9/lib/python3.9/genericpath.py?line=29'>30</a>\u001b[0m     st \u001b[39m=\u001b[39m os\u001b[39m.\u001b[39;49mstat(path)\n\u001b[1;32m     <a href='file:///usr/local/Cellar/python%403.9/3.9.12_1/Frameworks/Python.framework/Versions/3.9/lib/python3.9/genericpath.py?line=30'>31</a>\u001b[0m \u001b[39mexcept\u001b[39;00m (\u001b[39mOSError\u001b[39;00m, \u001b[39mValueError\u001b[39;00m):\n\u001b[1;32m     <a href='file:///usr/local/Cellar/python%403.9/3.9.12_1/Frameworks/Python.framework/Versions/3.9/lib/python3.9/genericpath.py?line=31'>32</a>\u001b[0m     \u001b[39mreturn\u001b[39;00m \u001b[39mFalse\u001b[39;00m\n",
      "\u001b[0;31mTypeError\u001b[0m: stat: path should be string, bytes, os.PathLike or integer, not NoneType"
     ]
    }
   ],
   "source": [
    "transformer = svs.dtmTransformer()"
   ]
  },
  {
   "cell_type": "code",
   "execution_count": null,
   "metadata": {},
   "outputs": [],
   "source": [
    "transformer.computeMosaic('zone_one.tif')"
   ]
  },
  {
   "cell_type": "code",
   "execution_count": null,
   "metadata": {},
   "outputs": [],
   "source": [
    "dtmName = 'zone_one.tif' \n",
    "transformer.computeSlope(dtmName)\n",
    "# transformer.computeAspect(dtmName)"
   ]
  }
 ],
 "metadata": {
  "interpreter": {
   "hash": "f3d9516b24a79ab9dbb253d0a6a8b4e0289f78c37ae4de49cc288060e42b4bef"
  },
  "kernelspec": {
   "display_name": "Python 3.9.12 ('floodProbProj': venv)",
   "language": "python",
   "name": "python3"
  },
  "language_info": {
   "codemirror_mode": {
    "name": "ipython",
    "version": 3
   },
   "file_extension": ".py",
   "mimetype": "text/x-python",
   "name": "python",
   "nbconvert_exporter": "python",
   "pygments_lexer": "ipython3",
   "version": "3.9.12"
  },
  "orig_nbformat": 4
 },
 "nbformat": 4,
 "nbformat_minor": 2
}

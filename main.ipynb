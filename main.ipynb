{
 "cells": [
  {
   "cell_type": "code",
   "execution_count": 1,
   "metadata": {},
   "outputs": [
    {
     "data": {
      "text/plain": [
       "'3.9.12 (main, May  8 2022, 18:05:47) \\n[Clang 13.1.6 (clang-1316.0.21.2)]'"
      ]
     },
     "execution_count": 1,
     "metadata": {},
     "output_type": "execute_result"
    }
   ],
   "source": [
    "import sys\n",
    "sys.version"
   ]
  },
  {
   "cell_type": "code",
   "execution_count": null,
   "metadata": {},
   "outputs": [],
   "source": [
    "import services as svs"
   ]
  },
  {
   "cell_type": "code",
   "execution_count": null,
   "metadata": {},
   "outputs": [],
   "source": [
    "# Import tails form an excell doc. ]\n",
    "excell_file = 'C:/Users/abfernan/floodprobabilityProject/floodprobability/saint_john_NFL_DTM.xlsx'\n",
    "listTails = svs.importListFromExelCol(excell_file,'Feuil1','ftp_dtm')\n",
    "importer = svs.dtmTailImporter(listTails)\n",
    "importer.impotTailToLocalDir()"
   ]
  },
  {
   "cell_type": "code",
   "execution_count": null,
   "metadata": {},
   "outputs": [],
   "source": [
    "tansformer = svs.transformingDTM()"
   ]
  },
  {
   "cell_type": "code",
   "execution_count": null,
   "metadata": {},
   "outputs": [],
   "source": [
    "tansformer.computeMosaic('zone_one.tif')"
   ]
  },
  {
   "cell_type": "code",
   "execution_count": null,
   "metadata": {},
   "outputs": [],
   "source": [
    "dtmName = 'zone_one.tif' \n",
    "tansformer.computeSlope(dtmName)\n",
    "# tansformer.computeAspect(dtmName)"
   ]
  }
 ],
 "metadata": {
  "interpreter": {
   "hash": "f3d9516b24a79ab9dbb253d0a6a8b4e0289f78c37ae4de49cc288060e42b4bef"
  },
  "kernelspec": {
   "display_name": "Python 3.9.12 ('floodProbProj': venv)",
   "language": "python",
   "name": "python3"
  },
  "language_info": {
   "codemirror_mode": {
    "name": "ipython",
    "version": 3
   },
   "file_extension": ".py",
   "mimetype": "text/x-python",
   "name": "python",
   "nbconvert_exporter": "python",
   "pygments_lexer": "ipython3",
   "version": "3.9.12"
  },
  "orig_nbformat": 4
 },
 "nbformat": 4,
 "nbformat_minor": 2
}

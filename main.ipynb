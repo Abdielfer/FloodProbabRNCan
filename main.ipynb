{
 "cells": [
  {
   "cell_type": "code",
   "execution_count": 1,
   "metadata": {
    "scrolled": true
   },
   "outputs": [],
   "source": [
    "import os\n",
    "from collections import Counter\n",
    "import seaborn as sns\n",
    "import matplotlib.pyplot as plt\n",
    "import myServices as ms\n",
    "import randForest as rfr\n",
    "import numpy as np\n",
    "import pandas as pd\n",
    "import sklearn\n",
    "import joblib"
   ]
  },
  {
   "cell_type": "code",
   "execution_count": null,
   "metadata": {},
   "outputs": [],
   "source": [
    "# to compute ececution time do:\n",
    "# with timeit():\n",
    "#     # your code, e.g., \n",
    "class timeit(): \n",
    "    from datetime import datetime\n",
    "    def __enter__(self):\n",
    "        self.tic = self.datetime.now()\n",
    "    def __exit__(self, *args, **kwargs):\n",
    "        print('runtime: {}'.format(self.datetime.now() - self.tic))"
   ]
  },
  {
   "cell_type": "markdown",
   "metadata": {},
   "source": [
    "## Random Forest Section"
   ]
  },
  {
   "cell_type": "code",
   "execution_count": null,
   "metadata": {},
   "outputs": [],
   "source": [
    "sklearn.metrics.get_scorer_names()"
   ]
  },
  {
   "cell_type": "code",
   "execution_count": null,
   "metadata": {},
   "outputs": [],
   "source": [
    "print(np.linspace(28,60, 19).astype(int))"
   ]
  },
  {
   "cell_type": "code",
   "execution_count": 2,
   "metadata": {},
   "outputs": [],
   "source": [
    "DS = pd.read_csv('basin1_FaccNorm.csv', index_col = None)"
   ]
  },
  {
   "cell_type": "code",
   "execution_count": 3,
   "metadata": {},
   "outputs": [
    {
     "data": {
      "text/html": [
       "<div>\n",
       "<style scoped>\n",
       "    .dataframe tbody tr th:only-of-type {\n",
       "        vertical-align: middle;\n",
       "    }\n",
       "\n",
       "    .dataframe tbody tr th {\n",
       "        vertical-align: top;\n",
       "    }\n",
       "\n",
       "    .dataframe thead th {\n",
       "        text-align: right;\n",
       "    }\n",
       "</style>\n",
       "<table border=\"1\" class=\"dataframe\">\n",
       "  <thead>\n",
       "    <tr style=\"text-align: right;\">\n",
       "      <th></th>\n",
       "      <th>percentage</th>\n",
       "      <th>disToRiv</th>\n",
       "      <th>TWI</th>\n",
       "      <th>TPI</th>\n",
       "      <th>slope</th>\n",
       "      <th>elevation</th>\n",
       "      <th>FAcc_norm</th>\n",
       "    </tr>\n",
       "  </thead>\n",
       "  <tbody>\n",
       "    <tr>\n",
       "      <th>count</th>\n",
       "      <td>2.479538e+06</td>\n",
       "      <td>2.479538e+06</td>\n",
       "      <td>2.479538e+06</td>\n",
       "      <td>2.479538e+06</td>\n",
       "      <td>2.479538e+06</td>\n",
       "      <td>2.479538e+06</td>\n",
       "      <td>2.479538e+06</td>\n",
       "    </tr>\n",
       "    <tr>\n",
       "      <th>mean</th>\n",
       "      <td>9.201795e-02</td>\n",
       "      <td>2.084064e+02</td>\n",
       "      <td>9.483515e+00</td>\n",
       "      <td>-3.328848e-04</td>\n",
       "      <td>4.821367e+00</td>\n",
       "      <td>1.453463e+02</td>\n",
       "      <td>6.924467e-04</td>\n",
       "    </tr>\n",
       "    <tr>\n",
       "      <th>std</th>\n",
       "      <td>6.610626e-01</td>\n",
       "      <td>1.713850e+02</td>\n",
       "      <td>4.081659e+00</td>\n",
       "      <td>1.949152e-01</td>\n",
       "      <td>4.994698e+00</td>\n",
       "      <td>4.569706e+01</td>\n",
       "      <td>1.642044e-02</td>\n",
       "    </tr>\n",
       "    <tr>\n",
       "      <th>min</th>\n",
       "      <td>0.000000e+00</td>\n",
       "      <td>0.000000e+00</td>\n",
       "      <td>-9.252120e+00</td>\n",
       "      <td>-7.461320e+00</td>\n",
       "      <td>4.700000e-04</td>\n",
       "      <td>-3.685000e-02</td>\n",
       "      <td>0.000000e+00</td>\n",
       "    </tr>\n",
       "    <tr>\n",
       "      <th>25%</th>\n",
       "      <td>0.000000e+00</td>\n",
       "      <td>7.382411e+01</td>\n",
       "      <td>5.553190e+00</td>\n",
       "      <td>-6.226000e-02</td>\n",
       "      <td>1.600760e+00</td>\n",
       "      <td>1.157656e+02</td>\n",
       "      <td>1.017589e-06</td>\n",
       "    </tr>\n",
       "    <tr>\n",
       "      <th>50%</th>\n",
       "      <td>0.000000e+00</td>\n",
       "      <td>1.677051e+02</td>\n",
       "      <td>1.025636e+01</td>\n",
       "      <td>-2.700000e-04</td>\n",
       "      <td>3.192175e+00</td>\n",
       "      <td>1.481632e+02</td>\n",
       "      <td>4.189410e-06</td>\n",
       "    </tr>\n",
       "    <tr>\n",
       "      <th>75%</th>\n",
       "      <td>0.000000e+00</td>\n",
       "      <td>3.010399e+02</td>\n",
       "      <td>1.289330e+01</td>\n",
       "      <td>6.091000e-02</td>\n",
       "      <td>6.192805e+00</td>\n",
       "      <td>1.797259e+02</td>\n",
       "      <td>1.974245e-05</td>\n",
       "    </tr>\n",
       "    <tr>\n",
       "      <th>max</th>\n",
       "      <td>5.000000e+00</td>\n",
       "      <td>1.349713e+03</td>\n",
       "      <td>2.486353e+01</td>\n",
       "      <td>6.706970e+00</td>\n",
       "      <td>7.002943e+01</td>\n",
       "      <td>2.605691e+02</td>\n",
       "      <td>1.000000e+00</td>\n",
       "    </tr>\n",
       "  </tbody>\n",
       "</table>\n",
       "</div>"
      ],
      "text/plain": [
       "         percentage      disToRiv           TWI           TPI         slope  \\\n",
       "count  2.479538e+06  2.479538e+06  2.479538e+06  2.479538e+06  2.479538e+06   \n",
       "mean   9.201795e-02  2.084064e+02  9.483515e+00 -3.328848e-04  4.821367e+00   \n",
       "std    6.610626e-01  1.713850e+02  4.081659e+00  1.949152e-01  4.994698e+00   \n",
       "min    0.000000e+00  0.000000e+00 -9.252120e+00 -7.461320e+00  4.700000e-04   \n",
       "25%    0.000000e+00  7.382411e+01  5.553190e+00 -6.226000e-02  1.600760e+00   \n",
       "50%    0.000000e+00  1.677051e+02  1.025636e+01 -2.700000e-04  3.192175e+00   \n",
       "75%    0.000000e+00  3.010399e+02  1.289330e+01  6.091000e-02  6.192805e+00   \n",
       "max    5.000000e+00  1.349713e+03  2.486353e+01  6.706970e+00  7.002943e+01   \n",
       "\n",
       "          elevation     FAcc_norm  \n",
       "count  2.479538e+06  2.479538e+06  \n",
       "mean   1.453463e+02  6.924467e-04  \n",
       "std    4.569706e+01  1.642044e-02  \n",
       "min   -3.685000e-02  0.000000e+00  \n",
       "25%    1.157656e+02  1.017589e-06  \n",
       "50%    1.481632e+02  4.189410e-06  \n",
       "75%    1.797259e+02  1.974245e-05  \n",
       "max    2.605691e+02  1.000000e+00  "
      ]
     },
     "execution_count": 3,
     "metadata": {},
     "output_type": "execute_result"
    }
   ],
   "source": [
    "DS.describe()"
   ]
  },
  {
   "cell_type": "code",
   "execution_count": 4,
   "metadata": {},
   "outputs": [],
   "source": [
    "DS['FAcc_norm_2'] = ms.logTransformation(DS['FAcc_norm'])"
   ]
  },
  {
   "cell_type": "code",
   "execution_count": null,
   "metadata": {},
   "outputs": [],
   "source": [
    "print(DS.keys())\n",
    "DS.info()"
   ]
  },
  {
   "cell_type": "code",
   "execution_count": 5,
   "metadata": {},
   "outputs": [
    {
     "data": {
      "text/html": [
       "<div>\n",
       "<style scoped>\n",
       "    .dataframe tbody tr th:only-of-type {\n",
       "        vertical-align: middle;\n",
       "    }\n",
       "\n",
       "    .dataframe tbody tr th {\n",
       "        vertical-align: top;\n",
       "    }\n",
       "\n",
       "    .dataframe thead th {\n",
       "        text-align: right;\n",
       "    }\n",
       "</style>\n",
       "<table border=\"1\" class=\"dataframe\">\n",
       "  <thead>\n",
       "    <tr style=\"text-align: right;\">\n",
       "      <th></th>\n",
       "      <th>percentage</th>\n",
       "      <th>disToRiv</th>\n",
       "      <th>TWI</th>\n",
       "      <th>TPI</th>\n",
       "      <th>slope</th>\n",
       "      <th>elevation</th>\n",
       "      <th>FAcc_norm</th>\n",
       "      <th>FAcc_norm_2</th>\n",
       "    </tr>\n",
       "  </thead>\n",
       "  <tbody>\n",
       "    <tr>\n",
       "      <th>count</th>\n",
       "      <td>2.479538e+06</td>\n",
       "      <td>2.479538e+06</td>\n",
       "      <td>2.479538e+06</td>\n",
       "      <td>2.479538e+06</td>\n",
       "      <td>2.479538e+06</td>\n",
       "      <td>2.479538e+06</td>\n",
       "      <td>2.479538e+06</td>\n",
       "      <td>2.479538e+06</td>\n",
       "    </tr>\n",
       "    <tr>\n",
       "      <th>mean</th>\n",
       "      <td>9.201795e-02</td>\n",
       "      <td>2.084064e+02</td>\n",
       "      <td>9.483515e+00</td>\n",
       "      <td>-3.328848e-04</td>\n",
       "      <td>4.821367e+00</td>\n",
       "      <td>1.453463e+02</td>\n",
       "      <td>6.924467e-04</td>\n",
       "      <td>1.150860e+02</td>\n",
       "    </tr>\n",
       "    <tr>\n",
       "      <th>std</th>\n",
       "      <td>6.610626e-01</td>\n",
       "      <td>1.713850e+02</td>\n",
       "      <td>4.081659e+00</td>\n",
       "      <td>1.949152e-01</td>\n",
       "      <td>4.994698e+00</td>\n",
       "      <td>4.569706e+01</td>\n",
       "      <td>1.642044e-02</td>\n",
       "      <td>4.985993e+01</td>\n",
       "    </tr>\n",
       "    <tr>\n",
       "      <th>min</th>\n",
       "      <td>0.000000e+00</td>\n",
       "      <td>0.000000e+00</td>\n",
       "      <td>-9.252120e+00</td>\n",
       "      <td>-7.461320e+00</td>\n",
       "      <td>4.700000e-04</td>\n",
       "      <td>-3.685000e-02</td>\n",
       "      <td>0.000000e+00</td>\n",
       "      <td>0.000000e+00</td>\n",
       "    </tr>\n",
       "    <tr>\n",
       "      <th>25%</th>\n",
       "      <td>0.000000e+00</td>\n",
       "      <td>7.382411e+01</td>\n",
       "      <td>5.553190e+00</td>\n",
       "      <td>-6.226000e-02</td>\n",
       "      <td>1.600760e+00</td>\n",
       "      <td>1.157656e+02</td>\n",
       "      <td>1.017589e-06</td>\n",
       "      <td>7.944649e+01</td>\n",
       "    </tr>\n",
       "    <tr>\n",
       "      <th>50%</th>\n",
       "      <td>0.000000e+00</td>\n",
       "      <td>1.677051e+02</td>\n",
       "      <td>1.025636e+01</td>\n",
       "      <td>-2.700000e-04</td>\n",
       "      <td>3.192175e+00</td>\n",
       "      <td>1.481632e+02</td>\n",
       "      <td>4.189410e-06</td>\n",
       "      <td>1.143479e+02</td>\n",
       "    </tr>\n",
       "    <tr>\n",
       "      <th>75%</th>\n",
       "      <td>0.000000e+00</td>\n",
       "      <td>3.010399e+02</td>\n",
       "      <td>1.289330e+01</td>\n",
       "      <td>6.091000e-02</td>\n",
       "      <td>6.192805e+00</td>\n",
       "      <td>1.797259e+02</td>\n",
       "      <td>1.974245e-05</td>\n",
       "      <td>1.523382e+02</td>\n",
       "    </tr>\n",
       "    <tr>\n",
       "      <th>max</th>\n",
       "      <td>5.000000e+00</td>\n",
       "      <td>1.349713e+03</td>\n",
       "      <td>2.486353e+01</td>\n",
       "      <td>6.706970e+00</td>\n",
       "      <td>7.002943e+01</td>\n",
       "      <td>2.605691e+02</td>\n",
       "      <td>1.000000e+00</td>\n",
       "      <td>2.597926e+02</td>\n",
       "    </tr>\n",
       "  </tbody>\n",
       "</table>\n",
       "</div>"
      ],
      "text/plain": [
       "         percentage      disToRiv           TWI           TPI         slope  \\\n",
       "count  2.479538e+06  2.479538e+06  2.479538e+06  2.479538e+06  2.479538e+06   \n",
       "mean   9.201795e-02  2.084064e+02  9.483515e+00 -3.328848e-04  4.821367e+00   \n",
       "std    6.610626e-01  1.713850e+02  4.081659e+00  1.949152e-01  4.994698e+00   \n",
       "min    0.000000e+00  0.000000e+00 -9.252120e+00 -7.461320e+00  4.700000e-04   \n",
       "25%    0.000000e+00  7.382411e+01  5.553190e+00 -6.226000e-02  1.600760e+00   \n",
       "50%    0.000000e+00  1.677051e+02  1.025636e+01 -2.700000e-04  3.192175e+00   \n",
       "75%    0.000000e+00  3.010399e+02  1.289330e+01  6.091000e-02  6.192805e+00   \n",
       "max    5.000000e+00  1.349713e+03  2.486353e+01  6.706970e+00  7.002943e+01   \n",
       "\n",
       "          elevation     FAcc_norm   FAcc_norm_2  \n",
       "count  2.479538e+06  2.479538e+06  2.479538e+06  \n",
       "mean   1.453463e+02  6.924467e-04  1.150860e+02  \n",
       "std    4.569706e+01  1.642044e-02  4.985993e+01  \n",
       "min   -3.685000e-02  0.000000e+00  0.000000e+00  \n",
       "25%    1.157656e+02  1.017589e-06  7.944649e+01  \n",
       "50%    1.481632e+02  4.189410e-06  1.143479e+02  \n",
       "75%    1.797259e+02  1.974245e-05  1.523382e+02  \n",
       "max    2.605691e+02  1.000000e+00  2.597926e+02  "
      ]
     },
     "execution_count": 5,
     "metadata": {},
     "output_type": "execute_result"
    }
   ],
   "source": [
    "DS.describe()"
   ]
  },
  {
   "cell_type": "code",
   "execution_count": 6,
   "metadata": {},
   "outputs": [
    {
     "data": {
      "text/plain": [
       "Index(['percentage', 'disToRiv', 'TWI', 'TPI', 'slope', 'elevation',\n",
       "       'FAcc_norm_2'],\n",
       "      dtype='object')"
      ]
     },
     "execution_count": 6,
     "metadata": {},
     "output_type": "execute_result"
    }
   ],
   "source": [
    "DS.drop(['FAcc_norm'],axis=1, inplace = True)\n",
    "DS.keys()"
   ]
  },
  {
   "cell_type": "code",
   "execution_count": 7,
   "metadata": {},
   "outputs": [],
   "source": [
    "DS.to_csv('basin1_FaccNorm_logTransf.csv', index = None)"
   ]
  },
  {
   "cell_type": "code",
   "execution_count": 6,
   "metadata": {},
   "outputs": [],
   "source": [
    "DS = pd.read_csv('basin1_FaccNorm_logTransf.csv', index_col = None)"
   ]
  },
  {
   "cell_type": "code",
   "execution_count": 7,
   "metadata": {},
   "outputs": [
    {
     "name": "stdout",
     "output_type": "stream",
     "text": [
      "Index(['percentage', 'disToRiv', 'TWI', 'TPI', 'slope', 'elevation',\n",
      "       'FAcc_norm_2'],\n",
      "      dtype='object')\n"
     ]
    },
    {
     "data": {
      "text/html": [
       "<div>\n",
       "<style scoped>\n",
       "    .dataframe tbody tr th:only-of-type {\n",
       "        vertical-align: middle;\n",
       "    }\n",
       "\n",
       "    .dataframe tbody tr th {\n",
       "        vertical-align: top;\n",
       "    }\n",
       "\n",
       "    .dataframe thead th {\n",
       "        text-align: right;\n",
       "    }\n",
       "</style>\n",
       "<table border=\"1\" class=\"dataframe\">\n",
       "  <thead>\n",
       "    <tr style=\"text-align: right;\">\n",
       "      <th></th>\n",
       "      <th>percentage</th>\n",
       "      <th>disToRiv</th>\n",
       "      <th>TWI</th>\n",
       "      <th>TPI</th>\n",
       "      <th>slope</th>\n",
       "      <th>elevation</th>\n",
       "      <th>FAcc_norm_2</th>\n",
       "    </tr>\n",
       "  </thead>\n",
       "  <tbody>\n",
       "    <tr>\n",
       "      <th>count</th>\n",
       "      <td>2.479538e+06</td>\n",
       "      <td>2.479538e+06</td>\n",
       "      <td>2.479538e+06</td>\n",
       "      <td>2.479538e+06</td>\n",
       "      <td>2.479538e+06</td>\n",
       "      <td>2.479538e+06</td>\n",
       "      <td>2.479538e+06</td>\n",
       "    </tr>\n",
       "    <tr>\n",
       "      <th>mean</th>\n",
       "      <td>9.201795e-02</td>\n",
       "      <td>2.084064e+02</td>\n",
       "      <td>9.483515e+00</td>\n",
       "      <td>-3.328848e-04</td>\n",
       "      <td>4.821367e+00</td>\n",
       "      <td>1.453463e+02</td>\n",
       "      <td>1.172543e+02</td>\n",
       "    </tr>\n",
       "    <tr>\n",
       "      <th>std</th>\n",
       "      <td>6.610626e-01</td>\n",
       "      <td>1.713850e+02</td>\n",
       "      <td>4.081659e+00</td>\n",
       "      <td>1.949152e-01</td>\n",
       "      <td>4.994698e+00</td>\n",
       "      <td>4.569706e+01</td>\n",
       "      <td>5.311737e+01</td>\n",
       "    </tr>\n",
       "    <tr>\n",
       "      <th>min</th>\n",
       "      <td>0.000000e+00</td>\n",
       "      <td>0.000000e+00</td>\n",
       "      <td>-9.252120e+00</td>\n",
       "      <td>-7.461320e+00</td>\n",
       "      <td>4.700000e-04</td>\n",
       "      <td>-3.685000e-02</td>\n",
       "      <td>0.000000e+00</td>\n",
       "    </tr>\n",
       "    <tr>\n",
       "      <th>25%</th>\n",
       "      <td>0.000000e+00</td>\n",
       "      <td>7.382411e+01</td>\n",
       "      <td>5.553190e+00</td>\n",
       "      <td>-6.226000e-02</td>\n",
       "      <td>1.600760e+00</td>\n",
       "      <td>1.157656e+02</td>\n",
       "      <td>7.944649e+01</td>\n",
       "    </tr>\n",
       "    <tr>\n",
       "      <th>50%</th>\n",
       "      <td>0.000000e+00</td>\n",
       "      <td>1.677051e+02</td>\n",
       "      <td>1.025636e+01</td>\n",
       "      <td>-2.700000e-04</td>\n",
       "      <td>3.192175e+00</td>\n",
       "      <td>1.481632e+02</td>\n",
       "      <td>1.143479e+02</td>\n",
       "    </tr>\n",
       "    <tr>\n",
       "      <th>75%</th>\n",
       "      <td>0.000000e+00</td>\n",
       "      <td>3.010399e+02</td>\n",
       "      <td>1.289330e+01</td>\n",
       "      <td>6.091000e-02</td>\n",
       "      <td>6.192805e+00</td>\n",
       "      <td>1.797259e+02</td>\n",
       "      <td>1.523382e+02</td>\n",
       "    </tr>\n",
       "    <tr>\n",
       "      <th>max</th>\n",
       "      <td>5.000000e+00</td>\n",
       "      <td>1.349713e+03</td>\n",
       "      <td>2.486353e+01</td>\n",
       "      <td>6.706970e+00</td>\n",
       "      <td>7.002943e+01</td>\n",
       "      <td>2.605691e+02</td>\n",
       "      <td>2.597926e+02</td>\n",
       "    </tr>\n",
       "  </tbody>\n",
       "</table>\n",
       "</div>"
      ],
      "text/plain": [
       "         percentage      disToRiv           TWI           TPI         slope  \\\n",
       "count  2.479538e+06  2.479538e+06  2.479538e+06  2.479538e+06  2.479538e+06   \n",
       "mean   9.201795e-02  2.084064e+02  9.483515e+00 -3.328848e-04  4.821367e+00   \n",
       "std    6.610626e-01  1.713850e+02  4.081659e+00  1.949152e-01  4.994698e+00   \n",
       "min    0.000000e+00  0.000000e+00 -9.252120e+00 -7.461320e+00  4.700000e-04   \n",
       "25%    0.000000e+00  7.382411e+01  5.553190e+00 -6.226000e-02  1.600760e+00   \n",
       "50%    0.000000e+00  1.677051e+02  1.025636e+01 -2.700000e-04  3.192175e+00   \n",
       "75%    0.000000e+00  3.010399e+02  1.289330e+01  6.091000e-02  6.192805e+00   \n",
       "max    5.000000e+00  1.349713e+03  2.486353e+01  6.706970e+00  7.002943e+01   \n",
       "\n",
       "          elevation   FAcc_norm_2  \n",
       "count  2.479538e+06  2.479538e+06  \n",
       "mean   1.453463e+02  1.172543e+02  \n",
       "std    4.569706e+01  5.311737e+01  \n",
       "min   -3.685000e-02  0.000000e+00  \n",
       "25%    1.157656e+02  7.944649e+01  \n",
       "50%    1.481632e+02  1.143479e+02  \n",
       "75%    1.797259e+02  1.523382e+02  \n",
       "max    2.605691e+02  2.597926e+02  "
      ]
     },
     "execution_count": 7,
     "metadata": {},
     "output_type": "execute_result"
    }
   ],
   "source": [
    "print(DS.keys())\n",
    "DS.describe()"
   ]
  },
  {
   "cell_type": "code",
   "execution_count": null,
   "metadata": {},
   "outputs": [],
   "source": [
    "model = rfr.loadModel('./bestModels/21-46-40 Classifier/2207232146.pkl')"
   ]
  },
  {
   "cell_type": "code",
   "execution_count": null,
   "metadata": {},
   "outputs": [],
   "source": [
    "print(model)"
   ]
  },
  {
   "cell_type": "code",
   "execution_count": 25,
   "metadata": {},
   "outputs": [
    {
     "name": "stdout",
     "output_type": "stream",
     "text": [
      "-21.207592441913587\n"
     ]
    }
   ],
   "source": [
    "z_2 = np.log(1)**2 - np.log(0.01)**2 \n",
    "print(z_2)"
   ]
  },
  {
   "cell_type": "code",
   "execution_count": 41,
   "metadata": {},
   "outputs": [
    {
     "data": {
      "text/plain": [
       "<matplotlib.collections.PathCollection at 0x153a0bbe0>"
      ]
     },
     "execution_count": 41,
     "metadata": {},
     "output_type": "execute_result"
    },
    {
     "data": {
      "image/png": "[encoded data removed]",
      "text/plain": [
       "<Figure size 432x288 with 1 Axes>"
      ]
     },
     "metadata": {
      "needs_background": "light"
     },
     "output_type": "display_data"
    },
    {
     "data": {
      "image/png": "[encoded data removed]",
      "text/plain": [
       "<Figure size 432x288 with 1 Axes>"
      ]
     },
     "metadata": {
      "needs_background": "light"
     },
     "output_type": "display_data"
    }
   ],
   "source": [
    "x = DS['FAcc_norm']\n",
    "fig1 = plt.figure()\n",
    "plt.hist(x)\n",
    "\n",
    "x_nonZeros = np.where(x <= 0.0001, 0.0001, x)\n",
    "# Y = np.max(np.log(x)**2) - np.log(x)**2 \n",
    "z = np.max(np.log(x_nonZeros)**2) - (np.log(x_nonZeros)**2)\n",
    "# plt.scatter(x,Y)\n",
    "fig2 = plt.figure()\n",
    "plt.scatter(x,z)\n"
   ]
  },
  {
   "cell_type": "code",
   "execution_count": null,
   "metadata": {},
   "outputs": [],
   "source": []
  }
 ],
 "metadata": {
  "kernelspec": {
   "display_name": "Python 3 (ipykernel)",
   "language": "python",
   "name": "python3"
  },
  "language_info": {
   "codemirror_mode": {
    "name": "ipython",
    "version": 3
   },
   "file_extension": ".py",
   "mimetype": "text/x-python",
   "name": "python",
   "nbconvert_exporter": "python",
   "pygments_lexer": "ipython3",
   "version": "3.9.13"
  },
  "vscode": {
   "interpreter": {
    "hash": "c444c068df4da933f83035bc75b2ed5aea8e7fb8bc113357e2f14ee7cca6a8fe"
   }
  }
 },
 "nbformat": 4,
 "nbformat_minor": 2
}

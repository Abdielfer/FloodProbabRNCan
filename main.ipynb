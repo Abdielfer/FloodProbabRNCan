{
 "cells": [
  {
   "cell_type": "code",
   "execution_count": 1,
   "metadata": {
    "scrolled": true
   },
   "outputs": [],
   "source": [
    "import os\n",
    "import myServices \n",
    "import randForReg as rfr\n",
    "import numpy as np\n",
    "import pandas as pd\n",
    "import sklearn\n",
    "import joblib"
   ]
  },
  {
   "cell_type": "code",
   "execution_count": 2,
   "metadata": {},
   "outputs": [],
   "source": [
    "# to compute ececution time do:\n",
    "# with timeit():\n",
    "#     # your code, e.g., \n",
    "class timeit(): \n",
    "    from datetime import datetime\n",
    "    def __enter__(self):\n",
    "        self.tic = self.datetime.now()\n",
    "    def __exit__(self, *args, **kwargs):\n",
    "        print('runtime: {}'.format(self.datetime.now() - self.tic))"
   ]
  },
  {
   "cell_type": "markdown",
   "metadata": {},
   "source": [
    "## Random Forest Section"
   ]
  },
  {
   "cell_type": "code",
   "execution_count": null,
   "metadata": {},
   "outputs": [],
   "source": [
    "sklearn.metrics.get_scorer_names()"
   ]
  },
  {
   "cell_type": "code",
   "execution_count": 6,
   "metadata": {},
   "outputs": [],
   "source": [
    "DS = pd.read_csv('/Users/abdielfer/DESS/Internship2022/RNCanWork/datasetBasin1.csv')"
   ]
  },
  {
   "cell_type": "code",
   "execution_count": null,
   "metadata": {},
   "outputs": [],
   "source": [
    "DS.isna().sum()"
   ]
  },
  {
   "cell_type": "code",
   "execution_count": null,
   "metadata": {},
   "outputs": [],
   "source": [
    "DS.info()"
   ]
  },
  {
   "cell_type": "code",
   "execution_count": null,
   "metadata": {},
   "outputs": [],
   "source": [
    "DS['percentage'].unique()"
   ]
  },
  {
   "cell_type": "code",
   "execution_count": null,
   "metadata": {},
   "outputs": [],
   "source": [
    "DS['percentage'].value_counts()"
   ]
  },
  {
   "cell_type": "code",
   "execution_count": 20,
   "metadata": {},
   "outputs": [
    {
     "name": "stdout",
     "output_type": "stream",
     "text": [
      "<bound method NDFrame.head of          percentage   disToRiv       TWI      TPI        FAcc     slope  \\\n",
      "1369438           0  646.60651  14.01800 -0.13135  1224.45154   7.05449   \n",
      "2232831           0  197.80040   8.79461  0.05370  1896.90015   5.90719   \n",
      "1138300           1   88.45903  11.02071  0.02264    61.12712   2.45974   \n",
      "123829            0  230.86794  10.19239  0.17564    26.69925   1.92829   \n",
      "946148            5   28.28427  10.66033 -0.00036    42.63065   0.87713   \n",
      "...             ...        ...       ...      ...         ...       ...   \n",
      "186534            0  236.88077  12.21271 -0.19341   201.33145   4.33565   \n",
      "431805            0   74.24622  13.85914 -0.10303  1044.59229   1.68892   \n",
      "616971            0  290.25851  11.75903 -0.01945   127.90278   1.37267   \n",
      "9126              1   10.00000   6.59575  0.45035   702.38647  15.71324   \n",
      "433339            1   14.14214   5.30704  0.19286    35.37451   7.68741   \n",
      "\n",
      "         elevation  x_coord  y_coord  weights  \n",
      "1369438  166.97008   369078  5264038        3  \n",
      "2232831  194.33641   361748  5261653        3  \n",
      "1138300  105.04017   364613  5264618       60  \n",
      "123829   166.43996   361643  5266978        3  \n",
      "946148    55.71241   367513  5265058       37  \n",
      "...            ...      ...      ...      ...  \n",
      "186534   172.70900   362313  5266798        3  \n",
      "431805   149.41032   360953  5266213        3  \n",
      "616971   163.96996   363028  5265803        3  \n",
      "9126       2.75352   370878  5267693       60  \n",
      "433339    20.12164   369463  5266213       60  \n",
      "\n",
      "[10000 rows x 10 columns]>\n"
     ]
    },
    {
     "data": {
      "text/plain": [
       "array([0, 1, 5])"
      ]
     },
     "execution_count": 20,
     "metadata": {},
     "output_type": "execute_result"
    }
   ],
   "source": [
    "DS['weights'] = DS['percentage'].map({0:3, 1: 60, 5: 37})\n",
    "sample = DS.sample(n=10000, weights='weights') # or use : frac=0.05\n",
    "print(sample.head)\n",
    "sample['percentage'].unique()"
   ]
  },
  {
   "cell_type": "code",
   "execution_count": 28,
   "metadata": {},
   "outputs": [],
   "source": [
    "sample['percentage'] = sample['percentage']*10"
   ]
  },
  {
   "cell_type": "code",
   "execution_count": 31,
   "metadata": {},
   "outputs": [
    {
     "name": "stdout",
     "output_type": "stream",
     "text": [
      "[ 0 10 50]\n"
     ]
    }
   ],
   "source": [
    "print(sample['percentage'].unique())"
   ]
  },
  {
   "cell_type": "code",
   "execution_count": 29,
   "metadata": {},
   "outputs": [
    {
     "data": {
      "text/plain": [
       "0     7760\n",
       "50    1660\n",
       "10     580\n",
       "Name: percentage, dtype: int64"
      ]
     },
     "execution_count": 29,
     "metadata": {},
     "output_type": "execute_result"
    }
   ],
   "source": [
    "sample['percentage'].value_counts()"
   ]
  },
  {
   "cell_type": "code",
   "execution_count": null,
   "metadata": {},
   "outputs": [],
   "source": [
    "sample.drop(columns=['x_coord', 'y_coord'],inplace = True)\n",
    "print(sample.head)"
   ]
  },
  {
   "cell_type": "code",
   "execution_count": 32,
   "metadata": {},
   "outputs": [],
   "source": [
    "sample.to_csv('./sample.csv')"
   ]
  },
  {
   "cell_type": "code",
   "execution_count": 33,
   "metadata": {
    "scrolled": true
   },
   "outputs": [
    {
     "name": "stdout",
     "output_type": "stream",
     "text": [
      " (8000, 8)   : (2000, 8)\n",
      "Label balance on Training set:  \n",
      " 0     6210\n",
      "50    1338\n",
      "10     452\n",
      "Name: percentage, dtype: int64\n",
      "Label balance on Validation set:  \n",
      " 0     1550\n",
      "50     322\n",
      "10     128\n",
      "Name: percentage, dtype: int64\n"
     ]
    }
   ],
   "source": [
    "#Data import and exploration\n",
    "datasetPath = './sample.csv'\n",
    "rfReg  = rfr.implementRandomForestRegressor(datasetPath,'percentage', 0.2)\n",
    "x_train,x_validation,y_train, y_validation = rfReg.getSplitedDataset()\n",
    "rfr.printDataBalace(x_train, x_validation, y_train, y_validation,'percentage')"
   ]
  },
  {
   "cell_type": "code",
   "execution_count": 25,
   "metadata": {
    "scrolled": true
   },
   "outputs": [
    {
     "name": "stdout",
     "output_type": "stream",
     "text": [
      "Fitting 3 folds for each of 8160 candidates, totalling 24480 fits\n",
      "fitted\n",
      "RandomForestRegressor(max_features=0.2, max_leaf_nodes=2, n_estimators=150,\n",
      "                      random_state=50)\n",
      "./models/rwReg/rfwgs_2207191438.pkl\n",
      "      feature  importance\n",
      "3         TPI       0.207\n",
      "4        FAcc       0.127\n",
      "5       slope       0.120\n",
      "7     weights       0.120\n",
      "2         TWI       0.113\n",
      "6   elevation       0.113\n",
      "1    disToRiv       0.107\n",
      "0  Unnamed: 0       0.093\n",
      "The best parameters: {'bootstrap': True, 'max_depth': None, 'max_features': 0.2, 'max_leaf_nodes': 2, 'n_estimators': 150}\n",
      "runtime: 0:07:14.099612\n"
     ]
    }
   ],
   "source": [
    "with timeit():\n",
    "    bestEstimator = rfReg.fitRFRegressorWeighted(False)"
   ]
  },
  {
   "cell_type": "code",
   "execution_count": 27,
   "metadata": {},
   "outputs": [
    {
     "name": "stdout",
     "output_type": "stream",
     "text": [
      "Mean Absolute Error:  3.3960051834359763\n",
      "Mean Squared Error:  12.907151140800165\n",
      "Root Mean Squared Error:  3.592652382404978\n"
     ]
    }
   ],
   "source": [
    "## Biggest better \n",
    "rfr.reportErrors(bestEstimator, x_validation, y_validation)"
   ]
  },
  {
   "cell_type": "code",
   "execution_count": null,
   "metadata": {},
   "outputs": [],
   "source": [
    "x = [2,0,0,2,0,2,0,2,0,3,3,0]\n",
    "print(len(x))\n",
    "x_weight = rfr.createWeightVector(x,0.2)\n",
    "print(len(x_weight))\n",
    "print(x_weight)"
   ]
  },
  {
   "cell_type": "code",
   "execution_count": null,
   "metadata": {},
   "outputs": [],
   "source": []
  },
  {
   "cell_type": "code",
   "execution_count": null,
   "metadata": {},
   "outputs": [],
   "source": [
    "import executeRFReg as exe\n",
    "with timeit():\n",
    "    exe.main()"
   ]
  }
 ],
 "metadata": {
  "kernelspec": {
   "display_name": "Python 3 (ipykernel)",
   "language": "python",
   "name": "python3"
  },
  "language_info": {
   "codemirror_mode": {
    "name": "ipython",
    "version": 3
   },
   "file_extension": ".py",
   "mimetype": "text/x-python",
   "name": "python",
   "nbconvert_exporter": "python",
   "pygments_lexer": "ipython3",
   "version": "3.9.13"
  },
  "vscode": {
   "interpreter": {
    "hash": "c444c068df4da933f83035bc75b2ed5aea8e7fb8bc113357e2f14ee7cca6a8fe"
   }
  }
 },
 "nbformat": 4,
 "nbformat_minor": 2
}

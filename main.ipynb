{
 "cells": [
  {
   "cell_type": "code",
   "execution_count": 1,
   "metadata": {},
   "outputs": [
    {
     "data": {
      "text/plain": [
       "'3.8.9 (default, Oct 26 2021, 07:25:54) \\n[Clang 13.0.0 (clang-1300.0.29.30)]'"
      ]
     },
     "execution_count": 1,
     "metadata": {},
     "output_type": "execute_result"
    }
   ],
   "source": [
    "import sys\n",
    "sys.version"
   ]
  },
  {
   "cell_type": "code",
   "execution_count": 2,
   "metadata": {},
   "outputs": [
    {
     "ename": "ModuleNotFoundError",
     "evalue": "No module named 'sqlalchemy'",
     "output_type": "error",
     "traceback": [
      "\u001b[0;31m---------------------------------------------------------------------------\u001b[0m",
      "\u001b[0;31mModuleNotFoundError\u001b[0m                       Traceback (most recent call last)",
      "\u001b[1;32m/Users/abdielfer/DESS/Internship2022/RNCanWork/FloodProbabRNCanAbd/main.ipynb Cell 2'\u001b[0m in \u001b[0;36m<module>\u001b[0;34m\u001b[0m\n\u001b[0;32m----> <a href='vscode-notebook-cell:/Users/abdielfer/DESS/Internship2022/RNCanWork/FloodProbabRNCanAbd/main.ipynb#ch0000000?line=0'>1</a>\u001b[0m \u001b[39mimport\u001b[39;00m \u001b[39mservices\u001b[39;00m \u001b[39mas\u001b[39;00m \u001b[39msvs\u001b[39;00m\n",
      "File \u001b[0;32m~/DESS/Internship2022/RNCanWork/FloodProbabRNCanAbd/services.py:11\u001b[0m, in \u001b[0;36m<module>\u001b[0;34m\u001b[0m\n\u001b[1;32m      <a href='file:///Users/abdielfer/DESS/Internship2022/RNCanWork/FloodProbabRNCanAbd/services.py?line=8'>9</a>\u001b[0m \u001b[39mimport\u001b[39;00m \u001b[39mtempfile\u001b[39;00m\n\u001b[1;32m     <a href='file:///Users/abdielfer/DESS/Internship2022/RNCanWork/FloodProbabRNCanAbd/services.py?line=9'>10</a>\u001b[0m \u001b[39mimport\u001b[39;00m \u001b[39mpandas\u001b[39;00m \u001b[39mas\u001b[39;00m \u001b[39mpd\u001b[39;00m\n\u001b[0;32m---> <a href='file:///Users/abdielfer/DESS/Internship2022/RNCanWork/FloodProbabRNCanAbd/services.py?line=10'>11</a>\u001b[0m \u001b[39mfrom\u001b[39;00m \u001b[39msqlalchemy\u001b[39;00m \u001b[39mimport\u001b[39;00m false, null\n\u001b[1;32m     <a href='file:///Users/abdielfer/DESS/Internship2022/RNCanWork/FloodProbabRNCanAbd/services.py?line=11'>12</a>\u001b[0m \u001b[39mfrom\u001b[39;00m \u001b[39mtorch\u001b[39;00m\u001b[39m.\u001b[39;00m\u001b[39mutils\u001b[39;00m\u001b[39m.\u001b[39;00m\u001b[39mdata\u001b[39;00m \u001b[39mimport\u001b[39;00m DataLoader\n\u001b[1;32m     <a href='file:///Users/abdielfer/DESS/Internship2022/RNCanWork/FloodProbabRNCanAbd/services.py?line=12'>13</a>\u001b[0m \u001b[39mimport\u001b[39;00m \u001b[39mwhitebox\u001b[39;00m \u001b[39mas\u001b[39;00m \u001b[39mWTB\u001b[39;00m\n",
      "\u001b[0;31mModuleNotFoundError\u001b[0m: No module named 'sqlalchemy'"
     ]
    }
   ],
   "source": [
    "import services as svs"
   ]
  },
  {
   "cell_type": "code",
   "execution_count": null,
   "metadata": {},
   "outputs": [],
   "source": [
    "# Import tails form an excell doc. ]\n",
    "excell_file = 'C:/Users/abfernan/floodprobabilityProject/floodprobability/saint_john_NFL_DTM.xlsx'\n",
    "listTails = svs.importListFromExelCol(excell_file,'Feuil1','ftp_dtm')\n",
    "importer = svs.dtmTailImporter(listTails)\n",
    "importer.impotTailToLocalDir()"
   ]
  },
  {
   "cell_type": "markdown",
   "metadata": {},
   "source": [
    "Tailing and preprocessing section"
   ]
  },
  {
   "cell_type": "code",
   "execution_count": 2,
   "metadata": {},
   "outputs": [],
   "source": [
    "tansformer = svs.transformingDTM()"
   ]
  },
  {
   "cell_type": "code",
   "execution_count": null,
   "metadata": {},
   "outputs": [],
   "source": [
    "tansformer.computeMosaic('zone_one.tif')"
   ]
  },
  {
   "cell_type": "code",
   "execution_count": 4,
   "metadata": {},
   "outputs": [
    {
     "name": "stdout",
     "output_type": "stream",
     "text": [
      ".\\whitebox_tools.exe --run=\"Slope\" --wd=\"C:\\Users\\abfernan\\floodprobabilityProject\\dtm\" --dem='zone_one.tif' --output='slope_zone_one.tif' --units=degrees --compress_rasters\n",
      "\n",
      "****************************\n",
      "* Welcome to Slope         *\n",
      "* Powered by WhiteboxTools *\n",
      "* www.whiteboxgeo.com      *\n",
      "****************************\n",
      "thread 'main' panicked at 'Error encountered while decoding the DEFLATE compressed GeoTIFF file.: Adler32Mismatch', whitebox-raster\\src\\geotiff\\mod.rs:1153:72\n",
      "note: run with `RUST_BACKTRACE=1` environment variable to display a backtrace\n"
     ]
    }
   ],
   "source": [
    "dtmName = 'zone_one.tif' \n",
    "tansformer.computeSlope(dtmName)\n",
    "# tansformer.computeAspect(dtmName)"
   ]
  }
 ],
 "metadata": {
  "interpreter": {
   "hash": "aee8b7b246df8f9039afb4144a1f6fd8d2ca17a180786b69acc140d282b71a49"
  },
  "kernelspec": {
   "display_name": "Python 3.9.12 64-bit",
   "language": "python",
   "name": "python3"
  },
  "language_info": {
   "codemirror_mode": {
    "name": "ipython",
    "version": 3
   },
   "file_extension": ".py",
   "mimetype": "text/x-python",
   "name": "python",
   "nbconvert_exporter": "python",
   "pygments_lexer": "ipython3",
   "version": "3.9.12"
  },
  "orig_nbformat": 4
 },
 "nbformat": 4,
 "nbformat_minor": 2
}

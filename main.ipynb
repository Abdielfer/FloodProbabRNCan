{
 "cells": [
  {
   "cell_type": "code",
   "execution_count": 1,
   "metadata": {
    "scrolled": true
   },
   "outputs": [],
   "source": [
    "import os\n",
    "import myServices \n",
    "import randForReg as rfr\n",
    "import numpy as np\n",
    "import pandas as pd\n",
    "import sklearn\n",
    "import joblib"
   ]
  },
  {
   "cell_type": "code",
   "execution_count": 2,
   "metadata": {},
   "outputs": [],
   "source": [
    "# to compute ececution time do:\n",
    "# with timeit():\n",
    "#     # your code, e.g., \n",
    "class timeit(): \n",
    "    from datetime import datetime\n",
    "    def __enter__(self):\n",
    "        self.tic = self.datetime.now()\n",
    "    def __exit__(self, *args, **kwargs):\n",
    "        print('runtime: {}'.format(self.datetime.now() - self.tic))"
   ]
  },
  {
   "cell_type": "markdown",
   "metadata": {},
   "source": [
    "## Random Forest Section"
   ]
  },
  {
   "cell_type": "code",
   "execution_count": null,
   "metadata": {},
   "outputs": [],
   "source": [
    "sklearn.metrics.get_scorer_names()"
   ]
  },
  {
   "cell_type": "code",
   "execution_count": 4,
   "metadata": {},
   "outputs": [],
   "source": [
    "DS = pd.read_csv('/Users/abdielfer/DESS/Internship2022/RNCanWork/datasetBasin1.csv')"
   ]
  },
  {
   "cell_type": "code",
   "execution_count": 5,
   "metadata": {},
   "outputs": [
    {
     "data": {
      "text/plain": [
       "percentage        0\n",
       "disToRiv          0\n",
       "TWI               1\n",
       "TPI               0\n",
       "FAcc              0\n",
       "slope         14442\n",
       "elevation         0\n",
       "x_coord           0\n",
       "y_coord           0\n",
       "dtype: int64"
      ]
     },
     "execution_count": 5,
     "metadata": {},
     "output_type": "execute_result"
    }
   ],
   "source": [
    "DS.isna().sum()"
   ]
  },
  {
   "cell_type": "code",
   "execution_count": null,
   "metadata": {},
   "outputs": [],
   "source": [
    "DS.info()"
   ]
  },
  {
   "cell_type": "code",
   "execution_count": null,
   "metadata": {},
   "outputs": [],
   "source": [
    "DS['percentage'].unique()"
   ]
  },
  {
   "cell_type": "code",
   "execution_count": null,
   "metadata": {},
   "outputs": [],
   "source": [
    "DS['percentage'].value_counts()"
   ]
  },
  {
   "cell_type": "code",
   "execution_count": 9,
   "metadata": {},
   "outputs": [
    {
     "name": "stdout",
     "output_type": "stream",
     "text": [
      "<bound method NDFrame.head of          percentage   disToRiv       TWI      TPI          FAcc    slope  \\\n",
      "1975713           5    0.00000  22.95635 -0.30975  9.328568e+06  2.42856   \n",
      "149859            5   26.92582  16.88536 -0.04187  2.153878e+04  1.59987   \n",
      "494630            0  213.77559  11.63195 -0.00562  1.126398e+02  0.11463   \n",
      "1129158           5   81.31728   7.16604  0.00000  1.663800e+03  0.01081   \n",
      "2383246           0  523.18732   6.11531 -0.05463  4.320821e+02  6.35835   \n",
      "...             ...        ...       ...      ...           ...      ...   \n",
      "1092664           1   60.10408   6.47671  0.06562  6.885674e+01  3.06213   \n",
      "602493            0   20.61553   2.81506  0.43512  2.808694e+02  9.32163   \n",
      "976987            0  102.95630  11.83102 -0.03335  2.801912e+03  0.79791   \n",
      "1165758           1  155.56349  12.71741 -0.17834  3.335038e+02  3.41506   \n",
      "1296081           0  332.34018  10.85908  0.05887  5.200414e+01  1.62107   \n",
      "\n",
      "         elevation  x_coord  y_coord  weights  \n",
      "1975713  109.71812   365953  5262413       37  \n",
      "149859    13.10220   370108  5266903       37  \n",
      "494630    82.96181   368218  5266078        3  \n",
      "1129158  157.51251   361388  5264638       37  \n",
      "2383246  169.32877   367883  5261203        3  \n",
      "...            ...      ...      ...      ...  \n",
      "1092664  103.19369   365328  5264723       60  \n",
      "602493    91.33285   367473  5265838        3  \n",
      "976987    57.76160   367733  5264988        3  \n",
      "1165758  104.91685   364643  5264553       60  \n",
      "1296081  139.14081   363928  5264223        3  \n",
      "\n",
      "[10000 rows x 10 columns]>\n"
     ]
    },
    {
     "data": {
      "text/plain": [
       "array([5, 0, 1])"
      ]
     },
     "execution_count": 9,
     "metadata": {},
     "output_type": "execute_result"
    }
   ],
   "source": [
    "DS['weights'] = DS['percentage'].map({0:3, 1: 60, 5: 37})\n",
    "sample = DS.sample(n=10000, weights='weights') # or use : frac=0.05\n",
    "print(sample.head)\n",
    "sample['percentage'].unique()"
   ]
  },
  {
   "cell_type": "code",
   "execution_count": 10,
   "metadata": {},
   "outputs": [],
   "source": [
    "sample['percentage'] = sample['percentage']*10"
   ]
  },
  {
   "cell_type": "code",
   "execution_count": 11,
   "metadata": {},
   "outputs": [
    {
     "name": "stdout",
     "output_type": "stream",
     "text": [
      "[50  0 10]\n"
     ]
    }
   ],
   "source": [
    "print(sample['percentage'].unique())"
   ]
  },
  {
   "cell_type": "code",
   "execution_count": 12,
   "metadata": {},
   "outputs": [
    {
     "data": {
      "text/plain": [
       "0     7781\n",
       "50    1677\n",
       "10     542\n",
       "Name: percentage, dtype: int64"
      ]
     },
     "execution_count": 12,
     "metadata": {},
     "output_type": "execute_result"
    }
   ],
   "source": [
    "sample['percentage'].value_counts()"
   ]
  },
  {
   "cell_type": "code",
   "execution_count": null,
   "metadata": {},
   "outputs": [],
   "source": [
    "sample.drop(columns=['x_coord', 'y_coord'],inplace = True)\n",
    "print(sample.head)"
   ]
  },
  {
   "cell_type": "code",
   "execution_count": 13,
   "metadata": {},
   "outputs": [],
   "source": [
    "sample.to_csv('./sample.csv')"
   ]
  },
  {
   "cell_type": "code",
   "execution_count": 14,
   "metadata": {
    "scrolled": true
   },
   "outputs": [
    {
     "name": "stdout",
     "output_type": "stream",
     "text": [
      " (8000, 8)   : (2000, 8)\n",
      "Label balance on Training set:  \n",
      " 0     6217\n",
      "50    1339\n",
      "10     444\n",
      "Name: percentage, dtype: int64\n",
      "Label balance on Validation set:  \n",
      " 0     1564\n",
      "50     338\n",
      "10      98\n",
      "Name: percentage, dtype: int64\n"
     ]
    }
   ],
   "source": [
    "#Data import and exploration\n",
    "datasetPath = './sample.csv'\n",
    "rfReg  = rfr.implementRandomForestRegressor(datasetPath,'percentage', 0.2)\n",
    "x_train,x_validation,y_train, y_validation = rfReg.getSplitedDataset()\n",
    "rfr.printDataBalace(x_train, x_validation, y_train, y_validation,'percentage')"
   ]
  },
  {
   "cell_type": "code",
   "execution_count": 15,
   "metadata": {
    "scrolled": true
   },
   "outputs": [
    {
     "name": "stdout",
     "output_type": "stream",
     "text": [
      "Fitting 3 folds for each of 8160 candidates, totalling 24480 fits\n",
      "./models/rwReg/rfwgs_2207191454.pkl\n",
      "      feature  importance\n",
      "3         TPI       0.207\n",
      "4        FAcc       0.127\n",
      "5       slope       0.120\n",
      "7     weights       0.120\n",
      "2         TWI       0.113\n",
      "6   elevation       0.113\n",
      "1    disToRiv       0.107\n",
      "0  Unnamed: 0       0.093\n",
      "The best parameters: {'bootstrap': True, 'max_depth': None, 'max_features': 0.2, 'max_leaf_nodes': 2, 'n_estimators': 150}\n",
      "Mean Absolute Error:  34.39349279809314\n",
      "Mean Squared Error:  1329.3643275148124\n",
      "Root Mean Squared Error:  36.46044881120928\n",
      "runtime: 0:07:09.029299\n"
     ]
    }
   ],
   "source": [
    "with timeit():\n",
    "    bestEstimator = rfReg.fitRFRegressorWeighted(False)"
   ]
  },
  {
   "cell_type": "code",
   "execution_count": null,
   "metadata": {},
   "outputs": [],
   "source": [
    "import executeRFReg as exe\n",
    "with timeit():\n",
    "    exe.main()"
   ]
  }
 ],
 "metadata": {
  "kernelspec": {
   "display_name": "Python 3 (ipykernel)",
   "language": "python",
   "name": "python3"
  },
  "language_info": {
   "codemirror_mode": {
    "name": "ipython",
    "version": 3
   },
   "file_extension": ".py",
   "mimetype": "text/x-python",
   "name": "python",
   "nbconvert_exporter": "python",
   "pygments_lexer": "ipython3",
   "version": "3.9.13"
  },
  "vscode": {
   "interpreter": {
    "hash": "c444c068df4da933f83035bc75b2ed5aea8e7fb8bc113357e2f14ee7cca6a8fe"
   }
  }
 },
 "nbformat": 4,
 "nbformat_minor": 2
}

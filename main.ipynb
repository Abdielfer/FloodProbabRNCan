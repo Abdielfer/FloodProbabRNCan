{
 "cells": [
  {
   "cell_type": "code",
   "execution_count": null,
   "metadata": {
    "scrolled": true
   },
   "outputs": [],
   "source": [
    "import os\n",
    "import myServices \n",
    "import randForReg as rfr\n",
    "import numpy as np\n",
    "import pandas as pd"
   ]
  },
  {
   "cell_type": "code",
   "execution_count": null,
   "metadata": {
    "scrolled": true
   },
   "outputs": [],
   "source": [
    "df = pd.read_csv(\"/Users/abdielfer/DESS/Internship2022/RNCanWork/datasetBasin1.csv\")\n",
    "# df=pd.to_csv('./teatDF.csv')"
   ]
  },
  {
   "cell_type": "code",
   "execution_count": 9,
   "metadata": {},
   "outputs": [
    {
     "name": "stdout",
     "output_type": "stream",
     "text": [
      "   percentage   disToRiv       TWI      TPI      FAcc  slope  elevation  \\\n",
      "0           0  589.61853  10.29305  0.03323  29.52681    NaN   73.69112   \n",
      "1           0  587.72870  10.76732  0.01434  47.44482    NaN   73.55061   \n",
      "2           0  585.87543  10.93453 -0.02701  56.07990    NaN   73.37184   \n",
      "3           0  586.94122  10.12663  0.08641  25.00000    NaN   73.84685   \n",
      "4           0  585.00000  10.55997  0.03105  38.55986    NaN   73.66492   \n",
      "\n",
      "   x_coord  y_coord  \n",
      "0   370033  5267983  \n",
      "1   370038  5267983  \n",
      "2   370043  5267983  \n",
      "3   370028  5267978  \n",
      "4   370033  5267978  \n"
     ]
    }
   ],
   "source": [
    "print(df.head())"
   ]
  },
  {
   "cell_type": "code",
   "execution_count": 20,
   "metadata": {},
   "outputs": [],
   "source": [
    "df=teatDF.to_csv('./teatDF.csv')"
   ]
  },
  {
   "cell_type": "code",
   "execution_count": null,
   "metadata": {},
   "outputs": [],
   "source": [
    "# to compute ececution time do:\n",
    "# with timeit():\n",
    "#     # your code, e.g., \n",
    "class timeit(): \n",
    "    from datetime import datetime\n",
    "    def __enter__(self):\n",
    "        self.tic = self.datetime.now()\n",
    "    def __exit__(self, *args, **kwargs):\n",
    "        print('runtime: {}'.format(self.datetime.now() - self.tic))"
   ]
  },
  {
   "cell_type": "markdown",
   "metadata": {},
   "source": [
    "## Random Forest Section"
   ]
  },
  {
   "cell_type": "code",
   "execution_count": null,
   "metadata": {},
   "outputs": [],
   "source": [
    "#Data import and exploration\n",
    "datasetPath = ''\n",
    "rfReg  = rfr.RandomForestRegression(datasetPath,'porcentage')\n",
    "x_train,x_validation,y_train, y_validation = rfReg.getSplitedDataset()\n",
    "rfr.printDataBalace(x_train, x_validation, y_train, y_validation,'porcentage')"
   ]
  },
  {
   "cell_type": "code",
   "execution_count": null,
   "metadata": {},
   "outputs": [],
   "source": [
    "\n",
    "\n"
   ]
  }
 ],
 "metadata": {
  "kernelspec": {
   "display_name": "Python 3 (ipykernel)",
   "language": "python",
   "name": "python3"
  },
  "language_info": {
   "codemirror_mode": {
    "name": "ipython",
    "version": 3
   },
   "file_extension": ".py",
   "mimetype": "text/x-python",
   "name": "python",
   "nbconvert_exporter": "python",
   "pygments_lexer": "ipython3",
   "version": "3.9.13"
  }
 },
 "nbformat": 4,
 "nbformat_minor": 2
}

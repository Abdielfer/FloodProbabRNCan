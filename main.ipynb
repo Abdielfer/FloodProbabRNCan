{
 "cells": [
  {
   "cell_type": "code",
   "execution_count": 1,
   "metadata": {
    "scrolled": true
   },
   "outputs": [
    {
     "name": "stderr",
     "output_type": "stream",
     "text": [
      "/Users/abdielfer/DESS/Internship2022/RNCanWork/FloodProbabRNCanAbd/randForReg.py:228: UserWarning: \n",
      "The version_base parameter is not specified.\n",
      "Please specify a compatability version level, or None.\n",
      "Will assume defaults for version 1.1\n",
      "  @hydra.main(config_path=f\"config\", config_name=\"config.yaml\")\n"
     ]
    }
   ],
   "source": [
    "import os\n",
    "import myServices as ms\n",
    "import randForReg as rfr\n",
    "import numpy as np\n",
    "import pandas as pd\n",
    "import sklearn\n",
    "import joblib"
   ]
  },
  {
   "cell_type": "code",
   "execution_count": 2,
   "metadata": {},
   "outputs": [],
   "source": [
    "# to compute ececution time do:\n",
    "# with timeit():\n",
    "#     # your code, e.g., \n",
    "class timeit(): \n",
    "    from datetime import datetime\n",
    "    def __enter__(self):\n",
    "        self.tic = self.datetime.now()\n",
    "    def __exit__(self, *args, **kwargs):\n",
    "        print('runtime: {}'.format(self.datetime.now() - self.tic))"
   ]
  },
  {
   "cell_type": "markdown",
   "metadata": {},
   "source": [
    "## Random Forest Section"
   ]
  },
  {
   "cell_type": "code",
   "execution_count": null,
   "metadata": {},
   "outputs": [],
   "source": [
    "sklearn.metrics.get_scorer_names()"
   ]
  },
  {
   "cell_type": "code",
   "execution_count": 2,
   "metadata": {},
   "outputs": [],
   "source": [
    "DS = pd.read_csv('./basin1CleanToTrain.csv')"
   ]
  },
  {
   "cell_type": "code",
   "execution_count": null,
   "metadata": {},
   "outputs": [],
   "source": [
    "# DS.isna().sum()\n",
    "# DS.dropna(inplace = True)\n",
    "DS.drop(columns=['Unnamed: 0','x_coord', 'y_coord'],inplace = True)"
   ]
  },
  {
   "cell_type": "code",
   "execution_count": 9,
   "metadata": {},
   "outputs": [
    {
     "name": "stdout",
     "output_type": "stream",
     "text": [
      "<class 'pandas.core.frame.DataFrame'>\n",
      "RangeIndex: 2479538 entries, 0 to 2479537\n",
      "Data columns (total 7 columns):\n",
      " #   Column      Dtype  \n",
      "---  ------      -----  \n",
      " 0   percentage  int64  \n",
      " 1   disToRiv    float64\n",
      " 2   TWI         float64\n",
      " 3   TPI         float64\n",
      " 4   FAcc        float64\n",
      " 5   slope       float64\n",
      " 6   elevation   float64\n",
      "dtypes: float64(6), int64(1)\n",
      "memory usage: 132.4 MB\n"
     ]
    }
   ],
   "source": [
    "DS.info()"
   ]
  },
  {
   "cell_type": "code",
   "execution_count": 4,
   "metadata": {},
   "outputs": [
    {
     "data": {
      "text/plain": [
       "array([0, 1, 5])"
      ]
     },
     "execution_count": 4,
     "metadata": {},
     "output_type": "execute_result"
    }
   ],
   "source": [
    "DS['percentage'].unique()"
   ]
  },
  {
   "cell_type": "code",
   "execution_count": 35,
   "metadata": {},
   "outputs": [
    {
     "data": {
      "text/plain": [
       "0    2426656\n",
       "5      43820\n",
       "1       9062\n",
       "Name: percentage, dtype: int64"
      ]
     },
     "execution_count": 35,
     "metadata": {},
     "output_type": "execute_result"
    }
   ],
   "source": [
    "DS['percentage'].value_counts()"
   ]
  },
  {
   "cell_type": "code",
   "execution_count": 3,
   "metadata": {},
   "outputs": [
    {
     "name": "stdout",
     "output_type": "stream",
     "text": [
      "values, counts\n",
      "[[      0 2426656]\n",
      " [      1    9062]\n",
      " [      5   43820]]\n"
     ]
    }
   ],
   "source": [
    "rfr.printArrayBalance(np.array(DS['percentage']))"
   ]
  },
  {
   "cell_type": "code",
   "execution_count": 11,
   "metadata": {},
   "outputs": [],
   "source": [
    "DS.to_csv('./basin1CleanToTrain.csv')"
   ]
  },
  {
   "cell_type": "code",
   "execution_count": 10,
   "metadata": {},
   "outputs": [
    {
     "name": "stdout",
     "output_type": "stream",
     "text": [
      "<bound method NDFrame.head of          Unnamed: 0  percentage   disToRiv       TWI      TPI         FAcc  \\\n",
      "1551985     1551985           0  254.01772   1.88030  0.10611     25.27690   \n",
      "417661       417661           0  125.00000  12.98989  0.00656    437.96182   \n",
      "1767520     1767520           0  303.64453  10.19885  0.14658     26.87236   \n",
      "935600       935600           0   11.18034  18.14402 -0.73233  75831.19531   \n",
      "2197356     2197356           0   58.52350  14.58681 -0.03200   2162.57227   \n",
      "...             ...         ...        ...       ...      ...          ...   \n",
      "957956       957956           0  226.38463   6.30505 -0.01903    185.85275   \n",
      "828461       828461           0  100.00000  16.24036 -0.48613  11300.52734   \n",
      "2425651     2425651           0  306.47186  14.11387  0.00378   1347.64758   \n",
      "1972384     1972384           0  161.01242   4.80573 -0.12265    150.87387   \n",
      "2075327     2075327           0   38.07887  10.61422 -0.29608   7425.96240   \n",
      "\n",
      "           slope  elevation  \n",
      "1551985  0.93483  212.45264  \n",
      "417661   2.85565  145.83792  \n",
      "1767520  1.75951  132.97839  \n",
      "935600   7.62122  179.15100  \n",
      "2197356  1.01159  191.70093  \n",
      "...          ...        ...  \n",
      "957956   0.85846  144.97504  \n",
      "828461   2.63741  179.72444  \n",
      "2425651  2.39849  211.08972  \n",
      "1972384  3.11410  147.41536  \n",
      "2075327  1.16319  131.36469  \n",
      "\n",
      "[10000 rows x 8 columns]>\n"
     ]
    },
    {
     "data": {
      "text/plain": [
       "array([0, 5, 1])"
      ]
     },
     "execution_count": 10,
     "metadata": {},
     "output_type": "execute_result"
    }
   ],
   "source": [
    "# DS['weights'] = DS['percentage'].map({0:3, 1: 60, 5: 37})\n",
    "sample = DS.sample(n=10000) # or use : frac=0.05\n",
    "print(sample.head)\n",
    "sample['percentage'].unique()"
   ]
  },
  {
   "cell_type": "code",
   "execution_count": null,
   "metadata": {},
   "outputs": [],
   "source": [
    "sample['percentage'] = sample['percentage']*10"
   ]
  },
  {
   "cell_type": "code",
   "execution_count": 11,
   "metadata": {},
   "outputs": [
    {
     "name": "stdout",
     "output_type": "stream",
     "text": [
      "[0 5 1]\n"
     ]
    }
   ],
   "source": [
    "print(sample['percentage'].unique())"
   ]
  },
  {
   "cell_type": "code",
   "execution_count": null,
   "metadata": {},
   "outputs": [],
   "source": [
    "sample['percentage'].value_counts()"
   ]
  },
  {
   "cell_type": "code",
   "execution_count": null,
   "metadata": {},
   "outputs": [],
   "source": [
    "sample.drop(columns=['x_coord', 'y_coord'],inplace = True)\n",
    "print(sample.head)"
   ]
  },
  {
   "cell_type": "code",
   "execution_count": 12,
   "metadata": {},
   "outputs": [],
   "source": [
    "sample.to_csv('./sample.csv')"
   ]
  },
  {
   "cell_type": "code",
   "execution_count": 2,
   "metadata": {
    "scrolled": true
   },
   "outputs": [],
   "source": [
    "#Data import and exploration\n",
    "datasetPath = './sample.csv'\n",
    "rfReg  = rfr.implementRandomForestRegressor(datasetPath,'percentage', 0.2)\n",
    "x_train,x_validation,y_train, y_validation = rfReg.getSplitedDataset()"
   ]
  },
  {
   "cell_type": "code",
   "execution_count": null,
   "metadata": {
    "scrolled": true
   },
   "outputs": [],
   "source": [
    "with timeit():\n",
    "    bestEstimator = rfReg.fitRFRegressorWeighted(False)"
   ]
  },
  {
   "cell_type": "code",
   "execution_count": null,
   "metadata": {},
   "outputs": [],
   "source": []
  },
  {
   "cell_type": "code",
   "execution_count": null,
   "metadata": {},
   "outputs": [],
   "source": [
    "# import executeRFReg as exe\n",
    "with timeit():\n",
    "    rfr.main()"
   ]
  },
  {
   "cell_type": "code",
   "execution_count": 3,
   "metadata": {},
   "outputs": [],
   "source": [
    "estimator = joblib.load('./models/rwReg/rfwgs_2207200845.pkl')"
   ]
  },
  {
   "cell_type": "code",
   "execution_count": 4,
   "metadata": {},
   "outputs": [
    {
     "name": "stdout",
     "output_type": "stream",
     "text": [
      "RandomForestRegressor(max_depth=12, max_features=0.30000000000000004,\n",
      "                      n_estimators=65, random_state=50)\n"
     ]
    }
   ],
   "source": [
    "print(estimator)"
   ]
  },
  {
   "cell_type": "code",
   "execution_count": 10,
   "metadata": {},
   "outputs": [
    {
     "name": "stdout",
     "output_type": "stream",
     "text": [
      "-33.022138505829034\n"
     ]
    }
   ],
   "source": [
    "weights = rfr.createWeightVector(y_validation,0,0.1)\n",
    "y_hate = estimator.predict(x_validation)\n",
    "r2 = sklearn.metrics.r2_score(y_validation,y_hate,sample_weight = weights)\n",
    "print(r2)"
   ]
  },
  {
   "cell_type": "code",
   "execution_count": 21,
   "metadata": {},
   "outputs": [
    {
     "name": "stdout",
     "output_type": "stream",
     "text": [
      "-200.0360085221386\n"
     ]
    }
   ],
   "source": [
    "y_validation =  (np.array(y_validation).astype('float')).ravel()\n",
    "print(rfr.validateWithR2(estimator,x_validation,\n",
    "                         y_validation, False, 0,0.3))"
   ]
  },
  {
   "cell_type": "code",
   "execution_count": null,
   "metadata": {},
   "outputs": [],
   "source": [
    "k = ms.importConfig()"
   ]
  },
  {
   "cell_type": "code",
   "execution_count": 6,
   "metadata": {},
   "outputs": [
    {
     "name": "stdout",
     "output_type": "stream",
     "text": [
      "'./sample.csv'\n",
      "\n"
     ]
    }
   ],
   "source": [
    "print(k[0])"
   ]
  },
  {
   "cell_type": "code",
   "execution_count": 15,
   "metadata": {},
   "outputs": [],
   "source": [
    "X = [0,1,0,1,5,5,0,1,5,0]"
   ]
  },
  {
   "cell_type": "code",
   "execution_count": 16,
   "metadata": {},
   "outputs": [
    {
     "name": "stdout",
     "output_type": "stream",
     "text": [
      "[0.  0.7 0.  0.7 1.  1.  0.  0.7 1.  0. ]\n"
     ]
    }
   ],
   "source": [
    "X = rfr.quadraticRechapeLabes(X, -0.125, 0.825)\n",
    "print(X)"
   ]
  },
  {
   "cell_type": "code",
   "execution_count": 13,
   "metadata": {},
   "outputs": [
    {
     "name": "stdout",
     "output_type": "stream",
     "text": [
      "[0 1 0 1 5 5 0 1 5 0]\n",
      "[0.  0.7 0.  0.7 1.  1.  0.  0.7 1.  0. ]\n"
     ]
    }
   ],
   "source": [
    "x = [0,1,0,1,5,5,0,1,5,0]\n",
    "x = np.array(x.copy())\n",
    "v = (-0.125*x*x) + (0.825*x) \n",
    "print(x)\n",
    "print(v)"
   ]
  },
  {
   "cell_type": "code",
   "execution_count": 14,
   "metadata": {},
   "outputs": [
    {
     "name": "stdout",
     "output_type": "stream",
     "text": [
      "[0 1 0 1 5 5 0 1 5 0]\n"
     ]
    }
   ],
   "source": [
    "print(x)\n"
   ]
  },
  {
   "cell_type": "code",
   "execution_count": 7,
   "metadata": {},
   "outputs": [
    {
     "name": "stdout",
     "output_type": "stream",
     "text": [
      "[ 80  83  87  91  94  98 102 105 109 113 116 120 124 127 131 135 138 142\n",
      " 146 150]\n"
     ]
    }
   ],
   "source": [
    "print(eval(\"np.linspace(80, 150, 20).astype(int)\"))"
   ]
  },
  {
   "cell_type": "code",
   "execution_count": null,
   "metadata": {},
   "outputs": [],
   "source": []
  },
  {
   "cell_type": "code",
   "execution_count": null,
   "metadata": {},
   "outputs": [],
   "source": []
  },
  {
   "cell_type": "code",
   "execution_count": null,
   "metadata": {},
   "outputs": [],
   "source": []
  },
  {
   "cell_type": "code",
   "execution_count": null,
   "metadata": {},
   "outputs": [],
   "source": []
  },
  {
   "cell_type": "code",
   "execution_count": null,
   "metadata": {},
   "outputs": [],
   "source": []
  }
 ],
 "metadata": {
  "kernelspec": {
   "display_name": "Python 3 (ipykernel)",
   "language": "python",
   "name": "python3"
  },
  "language_info": {
   "codemirror_mode": {
    "name": "ipython",
    "version": 3
   },
   "file_extension": ".py",
   "mimetype": "text/x-python",
   "name": "python",
   "nbconvert_exporter": "python",
   "pygments_lexer": "ipython3",
   "version": "3.9.13"
  },
  "vscode": {
   "interpreter": {
    "hash": "c444c068df4da933f83035bc75b2ed5aea8e7fb8bc113357e2f14ee7cca6a8fe"
   }
  }
 },
 "nbformat": 4,
 "nbformat_minor": 2
}

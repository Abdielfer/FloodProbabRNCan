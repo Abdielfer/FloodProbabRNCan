{
 "cells": [
  {
   "cell_type": "code",
   "execution_count": null,
   "metadata": {
    "scrolled": true
   },
   "outputs": [],
   "source": [
    "import os\n",
    "from collections import Counter\n",
    "import seaborn as sns\n",
    "import matplotlib.pyplot as plt\n",
    "import myServices as ms\n",
    "import models as md\n",
    "import numpy as np\n",
    "import pandas as pd\n",
    "import sklearn\n",
    "from sklearn import metrics\n",
    "from sklearn.model_selection import train_test_split\n",
    "from sklearn.metrics import accuracy_score,roc_curve, auc, roc_auc_score, f1_score\n",
    "import joblib"
   ]
  },
  {
   "cell_type": "code",
   "execution_count": null,
   "metadata": {},
   "outputs": [],
   "source": [
    "# to compute ececution time do: \n",
    "# with timeit():\n",
    "#     # your code, e.g., \n",
    "class timeit(): \n",
    "    from datetime import datetime\n",
    "    def __enter__(self):\n",
    "        self.tic = self.datetime.now()\n",
    "    def __exit__(self, *args, **kwargs):\n",
    "        print('runtime: {}'.format(self.datetime.now() - self.tic))"
   ]
  },
  {
   "cell_type": "markdown",
   "metadata": {},
   "source": [
    "## Importing and manipulating datasets"
   ]
  },
  {
   "cell_type": "code",
   "execution_count": null,
   "metadata": {},
   "outputs": [],
   "source": [
    "sklearn.metrics.get_scorer_names()"
   ]
  },
  {
   "cell_type": "code",
   "execution_count": 13,
   "metadata": {},
   "outputs": [
    {
     "name": "stdout",
     "output_type": "stream",
     "text": [
      "<class 'pandas.core.frame.DataFrame'>\n",
      "RangeIndex: 2134268 entries, 0 to 2134267\n",
      "Data columns (total 14 columns):\n",
      " #   Column      Dtype  \n",
      "---  ------      -----  \n",
      " 0   percentage  int64  \n",
      " 1   TWI         float64\n",
      " 2   TPI         float64\n",
      " 3   FAcc        float64\n",
      " 4   slope       float64\n",
      " 5   elevation   float64\n",
      " 6   x_coord     int64  \n",
      " 7   y_coord     int64  \n",
      " 8   DLSOL4R150  float64\n",
      " 9   DLSOL5R150  float64\n",
      " 10  DLSOL5R200  float64\n",
      " 11  FAProx_01   float64\n",
      " 12  FAProx_025  float64\n",
      " 13  visibility  float64\n",
      "dtypes: float64(11), int64(3)\n",
      "memory usage: 228.0 MB\n",
      "None\n"
     ]
    },
    {
     "data": {
      "text/html": [
       "<div>\n",
       "<style scoped>\n",
       "    .dataframe tbody tr th:only-of-type {\n",
       "        vertical-align: middle;\n",
       "    }\n",
       "\n",
       "    .dataframe tbody tr th {\n",
       "        vertical-align: top;\n",
       "    }\n",
       "\n",
       "    .dataframe thead th {\n",
       "        text-align: right;\n",
       "    }\n",
       "</style>\n",
       "<table border=\"1\" class=\"dataframe\">\n",
       "  <thead>\n",
       "    <tr style=\"text-align: right;\">\n",
       "      <th></th>\n",
       "      <th>percentage</th>\n",
       "      <th>TWI</th>\n",
       "      <th>TPI</th>\n",
       "      <th>FAcc</th>\n",
       "      <th>slope</th>\n",
       "      <th>elevation</th>\n",
       "      <th>x_coord</th>\n",
       "      <th>y_coord</th>\n",
       "      <th>DLSOL4R150</th>\n",
       "      <th>DLSOL5R150</th>\n",
       "      <th>DLSOL5R200</th>\n",
       "      <th>FAProx_01</th>\n",
       "      <th>FAProx_025</th>\n",
       "      <th>visibility</th>\n",
       "    </tr>\n",
       "  </thead>\n",
       "  <tbody>\n",
       "    <tr>\n",
       "      <th>count</th>\n",
       "      <td>2.134268e+06</td>\n",
       "      <td>2.134268e+06</td>\n",
       "      <td>2.134268e+06</td>\n",
       "      <td>2.134268e+06</td>\n",
       "      <td>2.134268e+06</td>\n",
       "      <td>2.134268e+06</td>\n",
       "      <td>2.134268e+06</td>\n",
       "      <td>2.134268e+06</td>\n",
       "      <td>2.134268e+06</td>\n",
       "      <td>2.134268e+06</td>\n",
       "      <td>2.134268e+06</td>\n",
       "      <td>2.134268e+06</td>\n",
       "      <td>2.134268e+06</td>\n",
       "      <td>2.134268e+06</td>\n",
       "    </tr>\n",
       "    <tr>\n",
       "      <th>mean</th>\n",
       "      <td>1.069041e-01</td>\n",
       "      <td>9.498964e+00</td>\n",
       "      <td>-4.539183e-04</td>\n",
       "      <td>8.007268e-04</td>\n",
       "      <td>4.741202e+00</td>\n",
       "      <td>1.397329e+02</td>\n",
       "      <td>3.650266e+05</td>\n",
       "      <td>5.264290e+06</td>\n",
       "      <td>1.044776e-03</td>\n",
       "      <td>2.254555e-03</td>\n",
       "      <td>2.256526e-03</td>\n",
       "      <td>6.722759e+01</td>\n",
       "      <td>1.744695e+02</td>\n",
       "      <td>7.398875e-02</td>\n",
       "    </tr>\n",
       "    <tr>\n",
       "      <th>std</th>\n",
       "      <td>7.114130e-01</td>\n",
       "      <td>4.106028e+00</td>\n",
       "      <td>1.970134e-01</td>\n",
       "      <td>1.769646e-02</td>\n",
       "      <td>5.027564e+00</td>\n",
       "      <td>4.454908e+01</td>\n",
       "      <td>3.131664e+03</td>\n",
       "      <td>1.759008e+03</td>\n",
       "      <td>1.957305e-03</td>\n",
       "      <td>2.784430e-03</td>\n",
       "      <td>2.364806e-03</td>\n",
       "      <td>5.539541e+01</td>\n",
       "      <td>1.873320e+02</td>\n",
       "      <td>6.815981e-02</td>\n",
       "    </tr>\n",
       "    <tr>\n",
       "      <th>min</th>\n",
       "      <td>0.000000e+00</td>\n",
       "      <td>-9.252120e+00</td>\n",
       "      <td>-4.857010e+00</td>\n",
       "      <td>0.000000e+00</td>\n",
       "      <td>4.700000e-04</td>\n",
       "      <td>-3.685000e-02</td>\n",
       "      <td>3.589130e+05</td>\n",
       "      <td>5.260383e+06</td>\n",
       "      <td>0.000000e+00</td>\n",
       "      <td>0.000000e+00</td>\n",
       "      <td>0.000000e+00</td>\n",
       "      <td>0.000000e+00</td>\n",
       "      <td>0.000000e+00</td>\n",
       "      <td>1.000000e-05</td>\n",
       "    </tr>\n",
       "    <tr>\n",
       "      <th>25%</th>\n",
       "      <td>0.000000e+00</td>\n",
       "      <td>5.566240e+00</td>\n",
       "      <td>-6.273000e-02</td>\n",
       "      <td>9.678852e-07</td>\n",
       "      <td>1.535188e+00</td>\n",
       "      <td>1.115880e+02</td>\n",
       "      <td>3.623380e+05</td>\n",
       "      <td>5.262823e+06</td>\n",
       "      <td>0.000000e+00</td>\n",
       "      <td>0.000000e+00</td>\n",
       "      <td>0.000000e+00</td>\n",
       "      <td>2.404163e+01</td>\n",
       "      <td>0.000000e+00</td>\n",
       "      <td>2.217000e-02</td>\n",
       "    </tr>\n",
       "    <tr>\n",
       "      <th>50%</th>\n",
       "      <td>0.000000e+00</td>\n",
       "      <td>1.025559e+01</td>\n",
       "      <td>-2.600000e-04</td>\n",
       "      <td>4.083652e-06</td>\n",
       "      <td>3.069940e+00</td>\n",
       "      <td>1.428864e+02</td>\n",
       "      <td>3.650230e+05</td>\n",
       "      <td>5.264423e+06</td>\n",
       "      <td>0.000000e+00</td>\n",
       "      <td>6.200000e-04</td>\n",
       "      <td>1.810000e-03</td>\n",
       "      <td>5.374012e+01</td>\n",
       "      <td>1.096586e+02</td>\n",
       "      <td>5.424000e-02</td>\n",
       "    </tr>\n",
       "    <tr>\n",
       "      <th>75%</th>\n",
       "      <td>0.000000e+00</td>\n",
       "      <td>1.286854e+01</td>\n",
       "      <td>6.117000e-02</td>\n",
       "      <td>2.111712e-05</td>\n",
       "      <td>6.042707e+00</td>\n",
       "      <td>1.742564e+02</td>\n",
       "      <td>3.673980e+05</td>\n",
       "      <td>5.265748e+06</td>\n",
       "      <td>1.000000e-03</td>\n",
       "      <td>4.330000e-03</td>\n",
       "      <td>3.690000e-03</td>\n",
       "      <td>9.580188e+01</td>\n",
       "      <td>3.244226e+02</td>\n",
       "      <td>1.036100e-01</td>\n",
       "    </tr>\n",
       "    <tr>\n",
       "      <th>max</th>\n",
       "      <td>5.000000e+00</td>\n",
       "      <td>2.486353e+01</td>\n",
       "      <td>3.891020e+00</td>\n",
       "      <td>1.000000e+00</td>\n",
       "      <td>6.023912e+01</td>\n",
       "      <td>2.546740e+02</td>\n",
       "      <td>3.719280e+05</td>\n",
       "      <td>5.267893e+06</td>\n",
       "      <td>1.095000e-02</td>\n",
       "      <td>1.719000e-02</td>\n",
       "      <td>1.427000e-02</td>\n",
       "      <td>2.940017e+02</td>\n",
       "      <td>6.000000e+02</td>\n",
       "      <td>3.765600e-01</td>\n",
       "    </tr>\n",
       "  </tbody>\n",
       "</table>\n",
       "</div>"
      ],
      "text/plain": [
       "         percentage           TWI           TPI          FAcc         slope  \\\n",
       "count  2.134268e+06  2.134268e+06  2.134268e+06  2.134268e+06  2.134268e+06   \n",
       "mean   1.069041e-01  9.498964e+00 -4.539183e-04  8.007268e-04  4.741202e+00   \n",
       "std    7.114130e-01  4.106028e+00  1.970134e-01  1.769646e-02  5.027564e+00   \n",
       "min    0.000000e+00 -9.252120e+00 -4.857010e+00  0.000000e+00  4.700000e-04   \n",
       "25%    0.000000e+00  5.566240e+00 -6.273000e-02  9.678852e-07  1.535188e+00   \n",
       "50%    0.000000e+00  1.025559e+01 -2.600000e-04  4.083652e-06  3.069940e+00   \n",
       "75%    0.000000e+00  1.286854e+01  6.117000e-02  2.111712e-05  6.042707e+00   \n",
       "max    5.000000e+00  2.486353e+01  3.891020e+00  1.000000e+00  6.023912e+01   \n",
       "\n",
       "          elevation       x_coord       y_coord    DLSOL4R150    DLSOL5R150  \\\n",
       "count  2.134268e+06  2.134268e+06  2.134268e+06  2.134268e+06  2.134268e+06   \n",
       "mean   1.397329e+02  3.650266e+05  5.264290e+06  1.044776e-03  2.254555e-03   \n",
       "std    4.454908e+01  3.131664e+03  1.759008e+03  1.957305e-03  2.784430e-03   \n",
       "min   -3.685000e-02  3.589130e+05  5.260383e+06  0.000000e+00  0.000000e+00   \n",
       "25%    1.115880e+02  3.623380e+05  5.262823e+06  0.000000e+00  0.000000e+00   \n",
       "50%    1.428864e+02  3.650230e+05  5.264423e+06  0.000000e+00  6.200000e-04   \n",
       "75%    1.742564e+02  3.673980e+05  5.265748e+06  1.000000e-03  4.330000e-03   \n",
       "max    2.546740e+02  3.719280e+05  5.267893e+06  1.095000e-02  1.719000e-02   \n",
       "\n",
       "         DLSOL5R200     FAProx_01    FAProx_025    visibility  \n",
       "count  2.134268e+06  2.134268e+06  2.134268e+06  2.134268e+06  \n",
       "mean   2.256526e-03  6.722759e+01  1.744695e+02  7.398875e-02  \n",
       "std    2.364806e-03  5.539541e+01  1.873320e+02  6.815981e-02  \n",
       "min    0.000000e+00  0.000000e+00  0.000000e+00  1.000000e-05  \n",
       "25%    0.000000e+00  2.404163e+01  0.000000e+00  2.217000e-02  \n",
       "50%    1.810000e-03  5.374012e+01  1.096586e+02  5.424000e-02  \n",
       "75%    3.690000e-03  9.580188e+01  3.244226e+02  1.036100e-01  \n",
       "max    1.427000e-02  2.940017e+02  6.000000e+02  3.765600e-01  "
      ]
     },
     "execution_count": 13,
     "metadata": {},
     "output_type": "execute_result"
    }
   ],
   "source": [
    "### Cleaning basin1DataSet \n",
    "basin1Light = pd.read_csv('basin1Light_Clean.csv', index_col = None)\n",
    "# basin1Light = pd.read_csv('datasetBasin1_NoDataFree.csv', index_col = None)\n",
    "print(basin1Light.info())\n",
    "basin1Light.describe()"
   ]
  },
  {
   "cell_type": "code",
   "execution_count": null,
   "metadata": {},
   "outputs": [],
   "source": [
    "basin1Light.isna().any()"
   ]
  },
  {
   "cell_type": "code",
   "execution_count": null,
   "metadata": {},
   "outputs": [],
   "source": [
    "basin1Light['percentage'].unique()\n",
    "Counter(basin1Light['percentage'])"
   ]
  },
  {
   "cell_type": "code",
   "execution_count": null,
   "metadata": {},
   "outputs": [],
   "source": [
    "basin1Light.isna().sum()"
   ]
  },
  {
   "cell_type": "code",
   "execution_count": 8,
   "metadata": {},
   "outputs": [
    {
     "name": "stdout",
     "output_type": "stream",
     "text": [
      "62824496.0\n"
     ]
    }
   ],
   "source": [
    "print(basin1Light['FAcc'].max())"
   ]
  },
  {
   "cell_type": "code",
   "execution_count": 9,
   "metadata": {},
   "outputs": [],
   "source": [
    "#### NOrmalize Flow Accumulation\n",
    "basin1Light['FAcc'] = (basin1Light['FAcc']- basin1Light['FAcc'].min())/(basin1Light['FAcc'].max()-basin1Light['FAcc'].min())"
   ]
  },
  {
   "cell_type": "code",
   "execution_count": null,
   "metadata": {},
   "outputs": [],
   "source": [
    "basin1Light['FAProx_025'] = [0 if basin1Light['FAProx_025'][i] == -9999 \n",
    "                             else basin1Light['FAProx_025'][i] \n",
    "                             for i  in range(len(basin1Light['FAProx_025']))]"
   ]
  },
  {
   "cell_type": "code",
   "execution_count": 10,
   "metadata": {},
   "outputs": [
    {
     "data": {
      "text/html": [
       "<div>\n",
       "<style scoped>\n",
       "    .dataframe tbody tr th:only-of-type {\n",
       "        vertical-align: middle;\n",
       "    }\n",
       "\n",
       "    .dataframe tbody tr th {\n",
       "        vertical-align: top;\n",
       "    }\n",
       "\n",
       "    .dataframe thead th {\n",
       "        text-align: right;\n",
       "    }\n",
       "</style>\n",
       "<table border=\"1\" class=\"dataframe\">\n",
       "  <thead>\n",
       "    <tr style=\"text-align: right;\">\n",
       "      <th></th>\n",
       "      <th>percentage</th>\n",
       "      <th>TWI</th>\n",
       "      <th>TPI</th>\n",
       "      <th>FAcc</th>\n",
       "      <th>slope</th>\n",
       "      <th>elevation</th>\n",
       "      <th>x_coord</th>\n",
       "      <th>y_coord</th>\n",
       "      <th>DLSOL4R150</th>\n",
       "      <th>DLSOL5R150</th>\n",
       "      <th>DLSOL5R200</th>\n",
       "      <th>FAProx_01</th>\n",
       "      <th>FAProx_025</th>\n",
       "      <th>visibility</th>\n",
       "    </tr>\n",
       "  </thead>\n",
       "  <tbody>\n",
       "    <tr>\n",
       "      <th>count</th>\n",
       "      <td>2.134268e+06</td>\n",
       "      <td>2.134268e+06</td>\n",
       "      <td>2.134268e+06</td>\n",
       "      <td>2.134268e+06</td>\n",
       "      <td>2.134268e+06</td>\n",
       "      <td>2.134268e+06</td>\n",
       "      <td>2.134268e+06</td>\n",
       "      <td>2.134268e+06</td>\n",
       "      <td>2.134268e+06</td>\n",
       "      <td>2.134268e+06</td>\n",
       "      <td>2.134268e+06</td>\n",
       "      <td>2.134268e+06</td>\n",
       "      <td>2.134268e+06</td>\n",
       "      <td>2.134268e+06</td>\n",
       "    </tr>\n",
       "    <tr>\n",
       "      <th>mean</th>\n",
       "      <td>1.069041e-01</td>\n",
       "      <td>9.498964e+00</td>\n",
       "      <td>-4.539183e-04</td>\n",
       "      <td>8.007268e-04</td>\n",
       "      <td>4.741202e+00</td>\n",
       "      <td>1.397329e+02</td>\n",
       "      <td>3.650266e+05</td>\n",
       "      <td>5.264290e+06</td>\n",
       "      <td>1.044776e-03</td>\n",
       "      <td>2.254555e-03</td>\n",
       "      <td>2.256526e-03</td>\n",
       "      <td>6.722759e+01</td>\n",
       "      <td>1.744695e+02</td>\n",
       "      <td>7.398875e-02</td>\n",
       "    </tr>\n",
       "    <tr>\n",
       "      <th>std</th>\n",
       "      <td>7.114130e-01</td>\n",
       "      <td>4.106028e+00</td>\n",
       "      <td>1.970134e-01</td>\n",
       "      <td>1.769646e-02</td>\n",
       "      <td>5.027564e+00</td>\n",
       "      <td>4.454908e+01</td>\n",
       "      <td>3.131664e+03</td>\n",
       "      <td>1.759008e+03</td>\n",
       "      <td>1.957305e-03</td>\n",
       "      <td>2.784430e-03</td>\n",
       "      <td>2.364806e-03</td>\n",
       "      <td>5.539541e+01</td>\n",
       "      <td>1.873320e+02</td>\n",
       "      <td>6.815981e-02</td>\n",
       "    </tr>\n",
       "    <tr>\n",
       "      <th>min</th>\n",
       "      <td>0.000000e+00</td>\n",
       "      <td>-9.252120e+00</td>\n",
       "      <td>-4.857010e+00</td>\n",
       "      <td>0.000000e+00</td>\n",
       "      <td>4.700000e-04</td>\n",
       "      <td>-3.685000e-02</td>\n",
       "      <td>3.589130e+05</td>\n",
       "      <td>5.260383e+06</td>\n",
       "      <td>0.000000e+00</td>\n",
       "      <td>0.000000e+00</td>\n",
       "      <td>0.000000e+00</td>\n",
       "      <td>0.000000e+00</td>\n",
       "      <td>0.000000e+00</td>\n",
       "      <td>1.000000e-05</td>\n",
       "    </tr>\n",
       "    <tr>\n",
       "      <th>25%</th>\n",
       "      <td>0.000000e+00</td>\n",
       "      <td>5.566240e+00</td>\n",
       "      <td>-6.273000e-02</td>\n",
       "      <td>9.678852e-07</td>\n",
       "      <td>1.535188e+00</td>\n",
       "      <td>1.115880e+02</td>\n",
       "      <td>3.623380e+05</td>\n",
       "      <td>5.262823e+06</td>\n",
       "      <td>0.000000e+00</td>\n",
       "      <td>0.000000e+00</td>\n",
       "      <td>0.000000e+00</td>\n",
       "      <td>2.404163e+01</td>\n",
       "      <td>0.000000e+00</td>\n",
       "      <td>2.217000e-02</td>\n",
       "    </tr>\n",
       "    <tr>\n",
       "      <th>50%</th>\n",
       "      <td>0.000000e+00</td>\n",
       "      <td>1.025559e+01</td>\n",
       "      <td>-2.600000e-04</td>\n",
       "      <td>4.083652e-06</td>\n",
       "      <td>3.069940e+00</td>\n",
       "      <td>1.428864e+02</td>\n",
       "      <td>3.650230e+05</td>\n",
       "      <td>5.264423e+06</td>\n",
       "      <td>0.000000e+00</td>\n",
       "      <td>6.200000e-04</td>\n",
       "      <td>1.810000e-03</td>\n",
       "      <td>5.374012e+01</td>\n",
       "      <td>1.096586e+02</td>\n",
       "      <td>5.424000e-02</td>\n",
       "    </tr>\n",
       "    <tr>\n",
       "      <th>75%</th>\n",
       "      <td>0.000000e+00</td>\n",
       "      <td>1.286854e+01</td>\n",
       "      <td>6.117000e-02</td>\n",
       "      <td>2.111712e-05</td>\n",
       "      <td>6.042707e+00</td>\n",
       "      <td>1.742564e+02</td>\n",
       "      <td>3.673980e+05</td>\n",
       "      <td>5.265748e+06</td>\n",
       "      <td>1.000000e-03</td>\n",
       "      <td>4.330000e-03</td>\n",
       "      <td>3.690000e-03</td>\n",
       "      <td>9.580188e+01</td>\n",
       "      <td>3.244226e+02</td>\n",
       "      <td>1.036100e-01</td>\n",
       "    </tr>\n",
       "    <tr>\n",
       "      <th>max</th>\n",
       "      <td>5.000000e+00</td>\n",
       "      <td>2.486353e+01</td>\n",
       "      <td>3.891020e+00</td>\n",
       "      <td>1.000000e+00</td>\n",
       "      <td>6.023912e+01</td>\n",
       "      <td>2.546740e+02</td>\n",
       "      <td>3.719280e+05</td>\n",
       "      <td>5.267893e+06</td>\n",
       "      <td>1.095000e-02</td>\n",
       "      <td>1.719000e-02</td>\n",
       "      <td>1.427000e-02</td>\n",
       "      <td>2.940017e+02</td>\n",
       "      <td>6.000000e+02</td>\n",
       "      <td>3.765600e-01</td>\n",
       "    </tr>\n",
       "  </tbody>\n",
       "</table>\n",
       "</div>"
      ],
      "text/plain": [
       "         percentage           TWI           TPI          FAcc         slope  \\\n",
       "count  2.134268e+06  2.134268e+06  2.134268e+06  2.134268e+06  2.134268e+06   \n",
       "mean   1.069041e-01  9.498964e+00 -4.539183e-04  8.007268e-04  4.741202e+00   \n",
       "std    7.114130e-01  4.106028e+00  1.970134e-01  1.769646e-02  5.027564e+00   \n",
       "min    0.000000e+00 -9.252120e+00 -4.857010e+00  0.000000e+00  4.700000e-04   \n",
       "25%    0.000000e+00  5.566240e+00 -6.273000e-02  9.678852e-07  1.535188e+00   \n",
       "50%    0.000000e+00  1.025559e+01 -2.600000e-04  4.083652e-06  3.069940e+00   \n",
       "75%    0.000000e+00  1.286854e+01  6.117000e-02  2.111712e-05  6.042707e+00   \n",
       "max    5.000000e+00  2.486353e+01  3.891020e+00  1.000000e+00  6.023912e+01   \n",
       "\n",
       "          elevation       x_coord       y_coord    DLSOL4R150    DLSOL5R150  \\\n",
       "count  2.134268e+06  2.134268e+06  2.134268e+06  2.134268e+06  2.134268e+06   \n",
       "mean   1.397329e+02  3.650266e+05  5.264290e+06  1.044776e-03  2.254555e-03   \n",
       "std    4.454908e+01  3.131664e+03  1.759008e+03  1.957305e-03  2.784430e-03   \n",
       "min   -3.685000e-02  3.589130e+05  5.260383e+06  0.000000e+00  0.000000e+00   \n",
       "25%    1.115880e+02  3.623380e+05  5.262823e+06  0.000000e+00  0.000000e+00   \n",
       "50%    1.428864e+02  3.650230e+05  5.264423e+06  0.000000e+00  6.200000e-04   \n",
       "75%    1.742564e+02  3.673980e+05  5.265748e+06  1.000000e-03  4.330000e-03   \n",
       "max    2.546740e+02  3.719280e+05  5.267893e+06  1.095000e-02  1.719000e-02   \n",
       "\n",
       "         DLSOL5R200     FAProx_01    FAProx_025    visibility  \n",
       "count  2.134268e+06  2.134268e+06  2.134268e+06  2.134268e+06  \n",
       "mean   2.256526e-03  6.722759e+01  1.744695e+02  7.398875e-02  \n",
       "std    2.364806e-03  5.539541e+01  1.873320e+02  6.815981e-02  \n",
       "min    0.000000e+00  0.000000e+00  0.000000e+00  1.000000e-05  \n",
       "25%    0.000000e+00  2.404163e+01  0.000000e+00  2.217000e-02  \n",
       "50%    1.810000e-03  5.374012e+01  1.096586e+02  5.424000e-02  \n",
       "75%    3.690000e-03  9.580188e+01  3.244226e+02  1.036100e-01  \n",
       "max    1.427000e-02  2.940017e+02  6.000000e+02  3.765600e-01  "
      ]
     },
     "execution_count": 10,
     "metadata": {},
     "output_type": "execute_result"
    }
   ],
   "source": [
    "basin1Light.describe()"
   ]
  },
  {
   "cell_type": "code",
   "execution_count": 11,
   "metadata": {},
   "outputs": [],
   "source": [
    "basin1Light.to_csv('basin1Light_Clean.csv', index=None)"
   ]
  },
  {
   "cell_type": "code",
   "execution_count": 12,
   "metadata": {},
   "outputs": [
    {
     "name": "stdout",
     "output_type": "stream",
     "text": [
      "Counter({0: 2081386, 5: 43820, 1: 9062})\n"
     ]
    }
   ],
   "source": [
    "### Making quadratic transformation in Labels for regression\n",
    "DS = pd.read_csv('basin1Light_Clean.csv', index_col = None)\n",
    "print(Counter(DS['percentage']))\n",
    "\n",
    "# y_Quad = md.quadraticRechapeLabes(DS['percentage'], -0.125, 0.825)\n",
    "# DS['percentage'] = y_Quad\n",
    "# print(Counter(DS['percentage']))\n",
    "# DS.to_csv('basin1TrainUnbalanced_QuadTarget.csv', index = None)"
   ]
  },
  {
   "cell_type": "markdown",
   "metadata": {},
   "source": [
    "## balanced sampling"
   ]
  },
  {
   "cell_type": "code",
   "execution_count": 14,
   "metadata": {},
   "outputs": [
    {
     "name": "stdout",
     "output_type": "stream",
     "text": [
      "TRAIN: 1707414 TEST: 426854\n"
     ]
    }
   ],
   "source": [
    "## Stratified Split\n",
    "from sklearn.model_selection import StratifiedShuffleSplit\n",
    "\n",
    "X,Y = ms.importDataSet('basin1Light_Clean.csv', 'percentage')\n",
    "sss = StratifiedShuffleSplit(n_splits=1, test_size=0.2, random_state=50)\n",
    "for train_index, test_index in sss.split(X, Y):\n",
    "    print(\"TRAIN:\", train_index.size, \"TEST:\", test_index.size)\n",
    "    X_train = X.iloc[train_index]\n",
    "    y_train = Y.iloc[train_index]\n",
    "    X_test = X.iloc[test_index]\n",
    "    y_test = Y.iloc[test_index]"
   ]
  },
  {
   "cell_type": "code",
   "execution_count": 15,
   "metadata": {},
   "outputs": [
    {
     "name": "stdout",
     "output_type": "stream",
     "text": [
      "              TWI      TPI          FAcc     slope  elevation  x_coord  \\\n",
      "1557788  10.58693  0.03369  2.326111e-07   1.84963  132.86208   365103   \n",
      "82111    15.58900 -0.46507  9.337768e-05  12.92790  149.62212   371683   \n",
      "996271    9.81174 -0.00002  8.556172e-04   0.01081  157.50583   361518   \n",
      "59417     4.95368 -0.00207  4.681277e-06  10.14120   92.06225   369233   \n",
      "2049714   3.12636  0.07556  3.835162e-08   1.15742  158.74361   363738   \n",
      "\n",
      "         y_coord  DLSOL4R150  DLSOL5R150  DLSOL5R200  FAProx_01  FAProx_025  \\\n",
      "1557788  5262978      0.0000     0.00000     0.00000   70.17834   350.89172   \n",
      "82111    5267033      0.0000     0.00000     0.00000  128.65457     0.00000   \n",
      "996271   5264608      0.0041     0.00687     0.00511   14.14214    70.71068   \n",
      "59417    5267143      0.0000     0.00000     0.00000  146.11298     0.00000   \n",
      "2049714  5261333      0.0000     0.00000     0.00000   91.28527   474.13080   \n",
      "\n",
      "         visibility  \n",
      "1557788     0.14484  \n",
      "82111       0.01794  \n",
      "996271      0.02141  \n",
      "59417       0.04377  \n",
      "2049714     0.17479  \n",
      "              TWI      TPI          FAcc     slope  elevation  x_coord  \\\n",
      "1557788  10.58693  0.03369  2.326111e-07   1.84963  132.86208   365103   \n",
      "82111    15.58900 -0.46507  9.337768e-05  12.92790  149.62212   371683   \n",
      "996271    9.81174 -0.00002  8.556172e-04   0.01081  157.50583   361518   \n",
      "59417     4.95368 -0.00207  4.681277e-06  10.14120   92.06225   369233   \n",
      "2049714   3.12636  0.07556  3.835162e-08   1.15742  158.74361   363738   \n",
      "\n",
      "         y_coord  DLSOL4R150  DLSOL5R150  DLSOL5R200  FAProx_01  FAProx_025  \\\n",
      "1557788  5262978      0.0000     0.00000     0.00000   70.17834   350.89172   \n",
      "82111    5267033      0.0000     0.00000     0.00000  128.65457     0.00000   \n",
      "996271   5264608      0.0041     0.00687     0.00511   14.14214    70.71068   \n",
      "59417    5267143      0.0000     0.00000     0.00000  146.11298     0.00000   \n",
      "2049714  5261333      0.0000     0.00000     0.00000   91.28527   474.13080   \n",
      "\n",
      "         visibility  percentage  \n",
      "1557788     0.14484           0  \n",
      "82111       0.01794           0  \n",
      "996271      0.02141           0  \n",
      "59417       0.04377           0  \n",
      "2049714     0.17479           0  \n",
      "<class 'pandas.core.frame.DataFrame'>\n",
      "Int64Index: 1707414 entries, 1557788 to 580149\n",
      "Data columns (total 14 columns):\n",
      " #   Column      Dtype  \n",
      "---  ------      -----  \n",
      " 0   TWI         float64\n",
      " 1   TPI         float64\n",
      " 2   FAcc        float64\n",
      " 3   slope       float64\n",
      " 4   elevation   float64\n",
      " 5   x_coord     int64  \n",
      " 6   y_coord     int64  \n",
      " 7   DLSOL4R150  float64\n",
      " 8   DLSOL5R150  float64\n",
      " 9   DLSOL5R200  float64\n",
      " 10  FAProx_01   float64\n",
      " 11  FAProx_025  float64\n",
      " 12  visibility  float64\n",
      " 13  percentage  int64  \n",
      "dtypes: float64(11), int64(3)\n",
      "memory usage: 195.4 MB\n",
      "None\n"
     ]
    },
    {
     "name": "stderr",
     "output_type": "stream",
     "text": [
      "/var/folders/s5/cqkwnnps0f1_35_bccj0y8q80000gn/T/ipykernel_68213/4087394376.py:3: SettingWithCopyWarning: \n",
      "A value is trying to be set on a copy of a slice from a DataFrame.\n",
      "Try using .loc[row_indexer,col_indexer] = value instead\n",
      "\n",
      "See the caveats in the documentation: https://pandas.pydata.org/pandas-docs/stable/user_guide/indexing.html#returning-a-view-versus-a-copy\n",
      "  X_train['percentage'] = y_train\n"
     ]
    }
   ],
   "source": [
    "#####. Creating training set\n",
    "print(X_train.head())\n",
    "X_train['percentage'] = y_train\n",
    "print(X_train.head())\n",
    "print(X_train.info())"
   ]
  },
  {
   "cell_type": "code",
   "execution_count": 18,
   "metadata": {},
   "outputs": [
    {
     "data": {
      "text/plain": [
       "Counter({0: 1665108, 5: 35056, 1: 7250})"
      ]
     },
     "execution_count": 18,
     "metadata": {},
     "output_type": "execute_result"
    }
   ],
   "source": [
    "Counter(X_train['percentage'])"
   ]
  },
  {
   "cell_type": "code",
   "execution_count": 23,
   "metadata": {},
   "outputs": [],
   "source": [
    "X_train.to_csv('basin1Light_Clean_Training.csv', index=None)"
   ]
  },
  {
   "cell_type": "code",
   "execution_count": 19,
   "metadata": {},
   "outputs": [
    {
     "name": "stdout",
     "output_type": "stream",
     "text": [
      "              TWI      TPI          FAcc     slope  elevation  x_coord  \\\n",
      "1592749  12.00829 -0.01655  2.214255e-06   4.27861  104.39072   366388   \n",
      "1053040  13.13035 -0.10490  7.624587e-06   2.01197   83.10753   366258   \n",
      "1054709  11.03252  0.08052  5.866025e-07   5.32466  113.71653   365133   \n",
      "17606     6.92525  0.25009  2.725090e-06   7.23430   84.06801   369428   \n",
      "236318   13.87000  0.03528  1.641081e-05  11.45676  165.05980   360753   \n",
      "\n",
      "         y_coord  DLSOL4R150  DLSOL5R150  DLSOL5R200  FAProx_01  FAProx_025  \\\n",
      "1592749  5262853     0.00345     0.00628     0.00752   21.93171   109.65857   \n",
      "1053040  5264463     0.00485     0.00485     0.00606   20.88061   104.40307   \n",
      "1054709  5264458     0.00000     0.00000     0.00000   55.32631   276.63153   \n",
      "17606    5267463     0.00000     0.00405     0.00327  188.82796     0.00000   \n",
      "236318   5266533     0.00000     0.00129     0.00180  116.21101     0.00000   \n",
      "\n",
      "         visibility  \n",
      "1592749     0.10265  \n",
      "1053040     0.01525  \n",
      "1054709     0.08346  \n",
      "17606       0.03762  \n",
      "236318      0.12910  \n",
      "              TWI      TPI          FAcc     slope  elevation  x_coord  \\\n",
      "1592749  12.00829 -0.01655  2.214255e-06   4.27861  104.39072   366388   \n",
      "1053040  13.13035 -0.10490  7.624587e-06   2.01197   83.10753   366258   \n",
      "1054709  11.03252  0.08052  5.866025e-07   5.32466  113.71653   365133   \n",
      "17606     6.92525  0.25009  2.725090e-06   7.23430   84.06801   369428   \n",
      "236318   13.87000  0.03528  1.641081e-05  11.45676  165.05980   360753   \n",
      "\n",
      "         y_coord  DLSOL4R150  DLSOL5R150  DLSOL5R200  FAProx_01  FAProx_025  \\\n",
      "1592749  5262853     0.00345     0.00628     0.00752   21.93171   109.65857   \n",
      "1053040  5264463     0.00485     0.00485     0.00606   20.88061   104.40307   \n",
      "1054709  5264458     0.00000     0.00000     0.00000   55.32631   276.63153   \n",
      "17606    5267463     0.00000     0.00405     0.00327  188.82796     0.00000   \n",
      "236318   5266533     0.00000     0.00129     0.00180  116.21101     0.00000   \n",
      "\n",
      "         visibility  percentage  \n",
      "1592749     0.10265           0  \n",
      "1053040     0.01525           0  \n",
      "1054709     0.08346           0  \n",
      "17606       0.03762           0  \n",
      "236318      0.12910           0  \n",
      "<class 'pandas.core.frame.DataFrame'>\n",
      "Int64Index: 426854 entries, 1592749 to 1444057\n",
      "Data columns (total 14 columns):\n",
      " #   Column      Non-Null Count   Dtype  \n",
      "---  ------      --------------   -----  \n",
      " 0   TWI         426854 non-null  float64\n",
      " 1   TPI         426854 non-null  float64\n",
      " 2   FAcc        426854 non-null  float64\n",
      " 3   slope       426854 non-null  float64\n",
      " 4   elevation   426854 non-null  float64\n",
      " 5   x_coord     426854 non-null  int64  \n",
      " 6   y_coord     426854 non-null  int64  \n",
      " 7   DLSOL4R150  426854 non-null  float64\n",
      " 8   DLSOL5R150  426854 non-null  float64\n",
      " 9   DLSOL5R200  426854 non-null  float64\n",
      " 10  FAProx_01   426854 non-null  float64\n",
      " 11  FAProx_025  426854 non-null  float64\n",
      " 12  visibility  426854 non-null  float64\n",
      " 13  percentage  426854 non-null  int64  \n",
      "dtypes: float64(11), int64(3)\n",
      "memory usage: 48.8 MB\n",
      "None\n"
     ]
    },
    {
     "name": "stderr",
     "output_type": "stream",
     "text": [
      "/var/folders/s5/cqkwnnps0f1_35_bccj0y8q80000gn/T/ipykernel_68213/4228406273.py:3: SettingWithCopyWarning: \n",
      "A value is trying to be set on a copy of a slice from a DataFrame.\n",
      "Try using .loc[row_indexer,col_indexer] = value instead\n",
      "\n",
      "See the caveats in the documentation: https://pandas.pydata.org/pandas-docs/stable/user_guide/indexing.html#returning-a-view-versus-a-copy\n",
      "  X_test['percentage'] = y_test\n"
     ]
    }
   ],
   "source": [
    "#####. Creating training set\n",
    "print(X_test.head())\n",
    "X_test['percentage'] = y_test\n",
    "print(X_test.head())\n",
    "print(X_test.info())"
   ]
  },
  {
   "cell_type": "code",
   "execution_count": 20,
   "metadata": {},
   "outputs": [
    {
     "data": {
      "text/plain": [
       "Counter({0: 416278, 5: 8764, 1: 1812})"
      ]
     },
     "execution_count": 20,
     "metadata": {},
     "output_type": "execute_result"
    }
   ],
   "source": [
    "Counter(X_test['percentage'])"
   ]
  },
  {
   "cell_type": "code",
   "execution_count": 21,
   "metadata": {},
   "outputs": [],
   "source": [
    "X_test.to_csv('basin1Light_Clean_Test.csv', index=None)"
   ]
  },
  {
   "cell_type": "code",
   "execution_count": 22,
   "metadata": {},
   "outputs": [
    {
     "name": "stdout",
     "output_type": "stream",
     "text": [
      "Summary of traning and test dataset class balance\n",
      "Training Set: \n",
      " Class 0: 0.975  Class 1: 0.0042 Class 5: 0.0205\n",
      "Testing Set: \n",
      " Class 0: 0.975  Class 1: 0.0042 Class 5: 0.0205\n"
     ]
    }
   ],
   "source": [
    "## This proportions are the reason why a sample_weight of 0.01 for the majority class give best results for regression\n",
    "totalTrain = sum([1665108, 35056, 7250])\n",
    "totalValidation = sum([416278,8764, 1812])\n",
    "print(\"Summary of traning and test dataset class balance\")\n",
    "print(f\"Training Set:\", '\\n', \"Class 0: %.3f\" %(1665108/totalTrain), \" Class 1: %.4f\" %(7250/totalTrain), \"Class 5: %.4f\"%(35056/totalTrain))\n",
    "print(\"Testing Set:\", '\\n', \"Class 0: %.3f\" %(416278/totalValidation),\" Class 1: %.4f\" %(1812/totalValidation),  \"Class 5: %.4f\"%(8764/totalValidation))\n",
    "\n"
   ]
  },
  {
   "cell_type": "code",
   "execution_count": null,
   "metadata": {},
   "outputs": [],
   "source": [
    "print(sum([416278,8764, 1812]))"
   ]
  },
  {
   "cell_type": "code",
   "execution_count": null,
   "metadata": {},
   "outputs": [],
   "source": [
    "model = ms.loadModel('./outputs/2022-08-05/00-35-58/2208050035.pkl')\n",
    "dataSetToSave = ms.makePredictionToImportAsSHP(csvName, model, X, Y, 'percentage')\n",
    "print(dataSetToSave.head())"
   ]
  },
  {
   "cell_type": "markdown",
   "metadata": {},
   "source": [
    "## Controled sampling"
   ]
  },
  {
   "cell_type": "code",
   "execution_count": 26,
   "metadata": {},
   "outputs": [
    {
     "name": "stdout",
     "output_type": "stream",
     "text": [
      "        TWI      TPI          FAcc     slope  elevation  x_coord  y_coord  \\\n",
      "0  10.58693  0.03369  2.326111e-07   1.84963  132.86208   365103  5262978   \n",
      "1  15.58900 -0.46507  9.337768e-05  12.92790  149.62212   371683  5267033   \n",
      "2   9.81174 -0.00002  8.556172e-04   0.01081  157.50583   361518  5264608   \n",
      "3   4.95368 -0.00207  4.681277e-06  10.14120   92.06225   369233  5267143   \n",
      "4   3.12636  0.07556  3.835162e-08   1.15742  158.74361   363738  5261333   \n",
      "\n",
      "   DLSOL4R150  DLSOL5R150  DLSOL5R200  FAProx_01  FAProx_025  visibility  \\\n",
      "0      0.0000     0.00000     0.00000   70.17834   350.89172     0.14484   \n",
      "1      0.0000     0.00000     0.00000  128.65457     0.00000     0.01794   \n",
      "2      0.0041     0.00687     0.00511   14.14214    70.71068     0.02141   \n",
      "3      0.0000     0.00000     0.00000  146.11298     0.00000     0.04377   \n",
      "4      0.0000     0.00000     0.00000   91.28527   474.13080     0.17479   \n",
      "\n",
      "   percentage  \n",
      "0           0  \n",
      "1           0  \n",
      "2           0  \n",
      "3           0  \n",
      "4           0  \n"
     ]
    }
   ],
   "source": [
    "DS = pd.read_csv('basin1Light_Clean_Training.csv', index_col = None)\n",
    "print(DS.head())\n"
   ]
  },
  {
   "cell_type": "code",
   "execution_count": null,
   "metadata": {},
   "outputs": [],
   "source": [
    "plt.boxplot(DS['FAcc']) # , , DS['elevation'], DS['disToRiv']]"
   ]
  },
  {
   "cell_type": "code",
   "execution_count": null,
   "metadata": {},
   "outputs": [],
   "source": [
    "## Resampling appliying class selection by rule:\n",
    "\n",
    "# RULE1: Select point at a distance to river less than 300m. \n",
    "\n",
    "# # newDS = pseudoClassCreation(DS, \"distanceToRiver\", 300, 2)\n",
    "def pseudoClassCreation(dataset, conditionVariable, threshold, pseudoClass, targetClassName):\n",
    "    '''\n",
    "    Replace <targetClass> by  <pseudoClass> where <conditionVariable >= threshold>. \n",
    "    Return:\n",
    "      dataset with new classes group. \n",
    "    '''\n",
    "    datsetReclassified = dataset.copy()\n",
    "    actualTarget = (np.array(dataset[targetClassName])).ravel()\n",
    "    conditionVar = (np.array(dataset[conditionVariable])).ravel()\n",
    "    datsetReclassified[targetClassName] = [ pseudoClass if conditionVar[j] >= threshold \n",
    "                                           else actualTarget[j]\n",
    "                                           for j in range(len(actualTarget))]\n",
    "    print(Counter(datsetReclassified[targetClassName]))\n",
    "    return  datsetReclassified\n",
    "\n",
    "def revertPseudoClassCreation(dataset, originalClass, pseudoClass, targetClassName):\n",
    "    '''\n",
    "    Restablich  <targetClass> with <originalClass> where <targetClassName == pseudoClass>. \n",
    "    Return:\n",
    "      dataset with original classes group. \n",
    "    '''\n",
    "    datsetReclassified = dataset.copy()\n",
    "    actualTarget = (np.array(dataset[targetClassName])).ravel()\n",
    "    datsetReclassified[targetClassName] = [ originalClass if actualTarget[j] == pseudoClass\n",
    "                                           else actualTarget[j]\n",
    "                                           for j in range(len(actualTarget))]\n",
    "    print(Counter(datsetReclassified[targetClassName]))\n",
    "    return  datsetReclassified\n",
    "\n",
    "\n",
    "print(Counter(X_train['percentage']))\n",
    "newDS = pseudoClassCreation(X_train, 'disToRiv', 200, 2, 'percentage')\n",
    "y = newDS['percentage']\n",
    "newDS.drop(['percentage'], axis=1, inplace = True)\n",
    "x_res,y_res = ms.randomUndersampling(newDS, y, )\n",
    "x_res['percentage'] = y_res\n",
    "# newDatase = revertPseudoClassCreation(x_res, 0, 2, 'percentage')\n"
   ]
  },
  {
   "cell_type": "code",
   "execution_count": null,
   "metadata": {},
   "outputs": [],
   "source": [
    "x_res.to_csv('basin1ControlClass0Sampling4Class_ToSHP.csv',index = None)"
   ]
  },
  {
   "cell_type": "markdown",
   "metadata": {},
   "source": [
    "# Data description and visualization"
   ]
  },
  {
   "cell_type": "code",
   "execution_count": null,
   "metadata": {},
   "outputs": [],
   "source": []
  },
  {
   "cell_type": "code",
   "execution_count": null,
   "metadata": {},
   "outputs": [],
   "source": [
    "### FAcc vs Labels\n",
    "targets = DS['percentage']\n",
    "FAcc = original['FAcc']\n",
    "FAcc_norm = DS['FAcc_norm']\n",
    "fig, axs = plt.subplots(1, 2, figsize=(13,4), sharey=True)\n",
    "fig.text(-0.02, 0.5, 'labels', va='center', rotation='vertical')\n",
    "fig.text(0.5, 1, 'Flow accumulation vs labels distribution', ha ='center')\n",
    "axs[0].scatter(FAcc,targets)\n",
    "# axs[0].set_title(\"Facc\")\n",
    "axs[0].set(xlabel='a) Flow Accumulation')\n",
    "axs[1].scatter(FAcc_norm,targets)\n",
    "# axs[1].set_title(\"FAcc_norm\")\n",
    "axs[1].set(xlabel='b) Flow Accumulation estandardized')\n",
    "plt.rcParams['font.size'] = '20'\n",
    "fig.tight_layout()\n"
   ]
  },
  {
   "cell_type": "code",
   "execution_count": null,
   "metadata": {
    "scrolled": true
   },
   "outputs": [],
   "source": [
    "##3 Al features vs labels\n",
    "# 'disToRiv', 'TWI', 'TPI', 'slope', 'elevation',\n",
    "targets = DS['percentage']\n",
    "# targets = np.where( targets == 5, 2,targets)\n",
    "\n",
    "E = DS['elevation'] \n",
    "slope = DS['slope']\n",
    "FAcc = DS['FAcc_norm']\n",
    "S = DS['disToRiv']\n",
    "TWI = DS['TWI']\n",
    "TPI = DS['TPI']\n",
    "\n",
    "fig, axs = plt.subplots(3, 2, figsize=(13, 8), sharey=True)\n",
    "fig.supylabel('Labels')\n",
    "plt.rcParams['font.size'] = '15'\n",
    "plt.yticks([0,1,5])\n",
    "axs[0, 0].scatter(E,targets)\n",
    "axs[0, 0].set_title(\"Elevation\")\n",
    "axs[1, 0].scatter(slope,targets)\n",
    "axs[1, 0].set_title(\"Slope\")\n",
    "axs[2, 0].scatter(FAcc,targets)\n",
    "axs[2, 0].set_title(\"Flow accumulation\")\n",
    "axs[0, 1].scatter(S,targets)\n",
    "axs[0, 1].set_title(\"Distance to river\")\n",
    "axs[1, 1].scatter(TWI,targets)\n",
    "axs[1, 1].set_title(\"TWI\")\n",
    "axs[2, 1].scatter(TPI,targets)\n",
    "axs[2, 1].set_title('TPI')\n",
    "fig.tight_layout()\n"
   ]
  },
  {
   "cell_type": "code",
   "execution_count": null,
   "metadata": {},
   "outputs": [],
   "source": [
    "print(DS.head())\n",
    "#  Return a dataset with the rows corresponding to the index where condition in DS.columName is valid. \n",
    "dsArray = DS[DS.percentage != 0] print(dsArray.head())\n",
    "print(dsArray.head()) "
   ]
  },
  {
   "cell_type": "code",
   "execution_count": null,
   "metadata": {
    "scrolled": true
   },
   "outputs": [],
   "source": [
    "sns.set(font_scale=1.5)\n",
    "sns.pairplot(DS, hue = 'percentage', diag_kind = 'kde', \n",
    "             plot_kws = {'alpha': 0.8, 's': 100},\n",
    "             height = 4, corner=True, palette = \"Set2\")# vars = ['life_exp', 'log_pop', 'log_gdp_per_cap'],\n",
    "\n",
    "# sns.pairplot(DS, hue=\"percentage\")"
   ]
  },
  {
   "cell_type": "code",
   "execution_count": null,
   "metadata": {},
   "outputs": [],
   "source": [
    "####. Covariance Matrix\n",
    "matrix = DS.corr().round(2)\n",
    "sns.heatmap(matrix, annot=True)\n",
    "plt.show()"
   ]
  },
  {
   "cell_type": "code",
   "execution_count": null,
   "metadata": {},
   "outputs": [],
   "source": [
    "from sklearn.multiclass import OneVsRestClassifier\n",
    "from sklearn.ensemble import RandomForestClassifier\n",
    "\n",
    "estimator = RandomForestClassifier(criterion='entropy', random_state = 50)\n",
    "x_train,y_train = ms.importDataSet('basin1Train.csv', 'percentage')\n",
    "classifier = OneVsRestClassifier(estimator).fit(x_train,y_train)\n"
   ]
  },
  {
   "cell_type": "code",
   "execution_count": null,
   "metadata": {},
   "outputs": [],
   "source": [
    "classifier = ms.loadModel('./outputs/2022-08-05/11-01-57/2208051101.pkl')\n",
    "x_test,y_test = ms.importDataSet('basin1Test.csv', 'percentage')\n",
    "\n",
    "x_test = ms.removeCoordinatesFromDataSet(x_test)\n",
    "\n",
    "# y_prob = classifier.predict_proba(x_test)\n",
    "#print(np.unique(y_prob))"
   ]
  },
  {
   "cell_type": "code",
   "execution_count": null,
   "metadata": {},
   "outputs": [],
   "source": [
    "md.plot_ROC_AUC_OneVsRest(classifier, x_test, y_test)"
   ]
  },
  {
   "cell_type": "code",
   "execution_count": null,
   "metadata": {},
   "outputs": [],
   "source": [
    "_,y_test = ms.importDataSet('./bestModels/Classifier/10-18-08/2208051018prediction_basin1Test.csv', 'prediction')\n",
    "unique, count = np.unique(y_test, return_counts=True)\n",
    "total = count.sum()\n",
    "print(total)\n",
    "percent = np.round(np.zeros_like(unique).astype('float16'),3)\n",
    "print('values, counts , percent')\n",
    "for i in range(len(unique)):    \n",
    "   percent[i] = (count[i]/total)*100\n",
    "   print(unique[i],\"\\t\", count[i], percent[i])\n"
   ]
  },
  {
   "cell_type": "code",
   "execution_count": null,
   "metadata": {},
   "outputs": [],
   "source": []
  },
  {
   "cell_type": "code",
   "execution_count": null,
   "metadata": {},
   "outputs": [],
   "source": []
  }
 ],
 "metadata": {
  "celltoolbar": "Raw Cell Format",
  "kernelspec": {
   "display_name": "Python 3 (ipykernel)",
   "language": "python",
   "name": "python3"
  },
  "language_info": {
   "codemirror_mode": {
    "name": "ipython",
    "version": 3
   },
   "file_extension": ".py",
   "mimetype": "text/x-python",
   "name": "python",
   "nbconvert_exporter": "python",
   "pygments_lexer": "ipython3",
   "version": "3.9.13"
  },
  "vscode": {
   "interpreter": {
    "hash": "c444c068df4da933f83035bc75b2ed5aea8e7fb8bc113357e2f14ee7cca6a8fe"
   }
  }
 },
 "nbformat": 4,
 "nbformat_minor": 2
}

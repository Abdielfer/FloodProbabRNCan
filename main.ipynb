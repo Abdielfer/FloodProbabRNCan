{
 "cells": [
  {
   "cell_type": "code",
   "execution_count": 1,
   "metadata": {
    "scrolled": true
   },
   "outputs": [],
   "source": [
    "import os\n",
    "from collections import Counter\n",
    "import seaborn as sns\n",
    "import matplotlib.pyplot as plt\n",
    "import myServices as ms\n",
    "import models as md\n",
    "import numpy as np\n",
    "import pandas as pd\n",
    "import sklearn\n",
    "from sklearn import metrics\n",
    "from sklearn.model_selection import train_test_split\n",
    "from sklearn.metrics import accuracy_score,roc_curve, auc, roc_auc_score, f1_score\n",
    "import joblib"
   ]
  },
  {
   "cell_type": "code",
   "execution_count": 2,
   "metadata": {},
   "outputs": [],
   "source": [
    "# to compute ececution time do: \n",
    "# with timeit():\n",
    "#     # your code, e.g., \n",
    "class timeit(): \n",
    "    from datetime import datetime\n",
    "    def __enter__(self):\n",
    "        self.tic = self.datetime.now()\n",
    "    def __exit__(self, *args, **kwargs):\n",
    "        print('runtime: {}'.format(self.datetime.now() - self.tic))"
   ]
  },
  {
   "cell_type": "markdown",
   "metadata": {},
   "source": [
    "## Importing and manipulating datasets"
   ]
  },
  {
   "cell_type": "code",
   "execution_count": null,
   "metadata": {},
   "outputs": [],
   "source": [
    "sklearn.metrics.get_scorer_names()"
   ]
  },
  {
   "cell_type": "code",
   "execution_count": 3,
   "metadata": {},
   "outputs": [
    {
     "name": "stdout",
     "output_type": "stream",
     "text": [
      "<class 'pandas.core.frame.DataFrame'>\n",
      "RangeIndex: 279641 entries, 0 to 279640\n",
      "Data columns (total 13 columns):\n",
      " #   Column      Non-Null Count   Dtype  \n",
      "---  ------      --------------   -----  \n",
      " 0   percentage  15956 non-null   float64\n",
      " 1   TPI         277252 non-null  float64\n",
      " 2   TWI         279641 non-null  float64\n",
      " 3   visibility  279641 non-null  float64\n",
      " 4   LDSOL5R200  269307 non-null  float64\n",
      " 5   LDSOL5R150  269307 non-null  float64\n",
      " 6   LDSOL4R150  264969 non-null  float64\n",
      " 7   FAProx_025  279641 non-null  float64\n",
      " 8   FAProx_01   279641 non-null  float64\n",
      " 9   slope       279636 non-null  float64\n",
      " 10  elevation   279641 non-null  float64\n",
      " 11  x_coord     279641 non-null  int64  \n",
      " 12  y_coord     279641 non-null  int64  \n",
      "dtypes: float64(11), int64(2)\n",
      "memory usage: 27.7 MB\n",
      "None\n"
     ]
    },
    {
     "data": {
      "text/html": [
       "<div>\n",
       "<style scoped>\n",
       "    .dataframe tbody tr th:only-of-type {\n",
       "        vertical-align: middle;\n",
       "    }\n",
       "\n",
       "    .dataframe tbody tr th {\n",
       "        vertical-align: top;\n",
       "    }\n",
       "\n",
       "    .dataframe thead th {\n",
       "        text-align: right;\n",
       "    }\n",
       "</style>\n",
       "<table border=\"1\" class=\"dataframe\">\n",
       "  <thead>\n",
       "    <tr style=\"text-align: right;\">\n",
       "      <th></th>\n",
       "      <th>percentage</th>\n",
       "      <th>TPI</th>\n",
       "      <th>TWI</th>\n",
       "      <th>visibility</th>\n",
       "      <th>LDSOL5R200</th>\n",
       "      <th>LDSOL5R150</th>\n",
       "      <th>LDSOL4R150</th>\n",
       "      <th>FAProx_025</th>\n",
       "      <th>FAProx_01</th>\n",
       "      <th>slope</th>\n",
       "      <th>elevation</th>\n",
       "      <th>x_coord</th>\n",
       "      <th>y_coord</th>\n",
       "    </tr>\n",
       "  </thead>\n",
       "  <tbody>\n",
       "    <tr>\n",
       "      <th>count</th>\n",
       "      <td>15956.000000</td>\n",
       "      <td>277252.000000</td>\n",
       "      <td>279641.000000</td>\n",
       "      <td>279641.000000</td>\n",
       "      <td>269307.000000</td>\n",
       "      <td>269307.000000</td>\n",
       "      <td>264969.000000</td>\n",
       "      <td>279641.000000</td>\n",
       "      <td>279641.000000</td>\n",
       "      <td>279636.000000</td>\n",
       "      <td>279641.000000</td>\n",
       "      <td>279641.000000</td>\n",
       "      <td>2.796410e+05</td>\n",
       "    </tr>\n",
       "    <tr>\n",
       "      <th>mean</th>\n",
       "      <td>4.168714</td>\n",
       "      <td>-0.000226</td>\n",
       "      <td>9.311844</td>\n",
       "      <td>0.061356</td>\n",
       "      <td>0.006653</td>\n",
       "      <td>0.006699</td>\n",
       "      <td>0.003132</td>\n",
       "      <td>272.570003</td>\n",
       "      <td>181.913610</td>\n",
       "      <td>6.353948</td>\n",
       "      <td>136.706610</td>\n",
       "      <td>361059.731023</td>\n",
       "      <td>5.273251e+06</td>\n",
       "    </tr>\n",
       "    <tr>\n",
       "      <th>std</th>\n",
       "      <td>1.623044</td>\n",
       "      <td>0.202981</td>\n",
       "      <td>4.026503</td>\n",
       "      <td>0.048661</td>\n",
       "      <td>0.003409</td>\n",
       "      <td>0.004169</td>\n",
       "      <td>0.003029</td>\n",
       "      <td>201.496830</td>\n",
       "      <td>131.952031</td>\n",
       "      <td>5.963830</td>\n",
       "      <td>30.371439</td>\n",
       "      <td>922.890858</td>\n",
       "      <td>1.112358e+03</td>\n",
       "    </tr>\n",
       "    <tr>\n",
       "      <th>min</th>\n",
       "      <td>1.000000</td>\n",
       "      <td>-4.801120</td>\n",
       "      <td>-6.874480</td>\n",
       "      <td>0.000050</td>\n",
       "      <td>0.000000</td>\n",
       "      <td>0.000000</td>\n",
       "      <td>0.000000</td>\n",
       "      <td>0.000000</td>\n",
       "      <td>0.000000</td>\n",
       "      <td>0.000390</td>\n",
       "      <td>0.000000</td>\n",
       "      <td>359138.000000</td>\n",
       "      <td>5.270818e+06</td>\n",
       "    </tr>\n",
       "    <tr>\n",
       "      <th>25%</th>\n",
       "      <td>5.000000</td>\n",
       "      <td>-0.078290</td>\n",
       "      <td>5.699740</td>\n",
       "      <td>0.027310</td>\n",
       "      <td>0.004060</td>\n",
       "      <td>0.003400</td>\n",
       "      <td>0.000000</td>\n",
       "      <td>110.453610</td>\n",
       "      <td>74.330350</td>\n",
       "      <td>2.285347</td>\n",
       "      <td>129.270280</td>\n",
       "      <td>360253.000000</td>\n",
       "      <td>5.272333e+06</td>\n",
       "    </tr>\n",
       "    <tr>\n",
       "      <th>50%</th>\n",
       "      <td>5.000000</td>\n",
       "      <td>-0.000820</td>\n",
       "      <td>10.311960</td>\n",
       "      <td>0.047120</td>\n",
       "      <td>0.006530</td>\n",
       "      <td>0.006400</td>\n",
       "      <td>0.002570</td>\n",
       "      <td>232.594070</td>\n",
       "      <td>156.604600</td>\n",
       "      <td>4.910465</td>\n",
       "      <td>142.805010</td>\n",
       "      <td>361113.000000</td>\n",
       "      <td>5.273358e+06</td>\n",
       "    </tr>\n",
       "    <tr>\n",
       "      <th>75%</th>\n",
       "      <td>5.000000</td>\n",
       "      <td>0.078480</td>\n",
       "      <td>12.538330</td>\n",
       "      <td>0.082310</td>\n",
       "      <td>0.009020</td>\n",
       "      <td>0.009550</td>\n",
       "      <td>0.005360</td>\n",
       "      <td>395.000000</td>\n",
       "      <td>268.700590</td>\n",
       "      <td>8.516732</td>\n",
       "      <td>153.404530</td>\n",
       "      <td>361838.000000</td>\n",
       "      <td>5.274063e+06</td>\n",
       "    </tr>\n",
       "    <tr>\n",
       "      <th>max</th>\n",
       "      <td>5.000000</td>\n",
       "      <td>4.880940</td>\n",
       "      <td>22.801570</td>\n",
       "      <td>0.448310</td>\n",
       "      <td>0.019030</td>\n",
       "      <td>0.021440</td>\n",
       "      <td>0.012770</td>\n",
       "      <td>975.140990</td>\n",
       "      <td>675.740360</td>\n",
       "      <td>67.607030</td>\n",
       "      <td>216.042620</td>\n",
       "      <td>362883.000000</td>\n",
       "      <td>5.275618e+06</td>\n",
       "    </tr>\n",
       "  </tbody>\n",
       "</table>\n",
       "</div>"
      ],
      "text/plain": [
       "         percentage            TPI            TWI     visibility  \\\n",
       "count  15956.000000  277252.000000  279641.000000  279641.000000   \n",
       "mean       4.168714      -0.000226       9.311844       0.061356   \n",
       "std        1.623044       0.202981       4.026503       0.048661   \n",
       "min        1.000000      -4.801120      -6.874480       0.000050   \n",
       "25%        5.000000      -0.078290       5.699740       0.027310   \n",
       "50%        5.000000      -0.000820      10.311960       0.047120   \n",
       "75%        5.000000       0.078480      12.538330       0.082310   \n",
       "max        5.000000       4.880940      22.801570       0.448310   \n",
       "\n",
       "          LDSOL5R200     LDSOL5R150     LDSOL4R150     FAProx_025  \\\n",
       "count  269307.000000  269307.000000  264969.000000  279641.000000   \n",
       "mean        0.006653       0.006699       0.003132     272.570003   \n",
       "std         0.003409       0.004169       0.003029     201.496830   \n",
       "min         0.000000       0.000000       0.000000       0.000000   \n",
       "25%         0.004060       0.003400       0.000000     110.453610   \n",
       "50%         0.006530       0.006400       0.002570     232.594070   \n",
       "75%         0.009020       0.009550       0.005360     395.000000   \n",
       "max         0.019030       0.021440       0.012770     975.140990   \n",
       "\n",
       "           FAProx_01          slope      elevation        x_coord  \\\n",
       "count  279641.000000  279636.000000  279641.000000  279641.000000   \n",
       "mean      181.913610       6.353948     136.706610  361059.731023   \n",
       "std       131.952031       5.963830      30.371439     922.890858   \n",
       "min         0.000000       0.000390       0.000000  359138.000000   \n",
       "25%        74.330350       2.285347     129.270280  360253.000000   \n",
       "50%       156.604600       4.910465     142.805010  361113.000000   \n",
       "75%       268.700590       8.516732     153.404530  361838.000000   \n",
       "max       675.740360      67.607030     216.042620  362883.000000   \n",
       "\n",
       "            y_coord  \n",
       "count  2.796410e+05  \n",
       "mean   5.273251e+06  \n",
       "std    1.112358e+03  \n",
       "min    5.270818e+06  \n",
       "25%    5.272333e+06  \n",
       "50%    5.273358e+06  \n",
       "75%    5.274063e+06  \n",
       "max    5.275618e+06  "
      ]
     },
     "execution_count": 3,
     "metadata": {},
     "output_type": "execute_result"
    }
   ],
   "source": [
    "### Cleaning basin1DataSet \n",
    "dataSetPath = 'datasets/basin4_RawData.csv'\n",
    "basinDataSet = pd.read_csv(dataSetPath, index_col = None)\n",
    "# basin1Light = pd.read_csv('datasetBasin1_NoDataFree.csv', index_col = None)\n",
    "print(basinDataSet.info())\n",
    "basinDataSet.describe()"
   ]
  },
  {
   "cell_type": "code",
   "execution_count": 21,
   "metadata": {},
   "outputs": [
    {
     "data": {
      "text/plain": [
       "percentage    False\n",
       "TPI           False\n",
       "TWI           False\n",
       "visibility    False\n",
       "LDSOL5R200    False\n",
       "LDSOL5R150    False\n",
       "LDSOL4R150    False\n",
       "FAProx_025    False\n",
       "FAProx_01     False\n",
       "slope         False\n",
       "elevation     False\n",
       "x_coord       False\n",
       "y_coord       False\n",
       "dtype: bool"
      ]
     },
     "execution_count": 21,
     "metadata": {},
     "output_type": "execute_result"
    }
   ],
   "source": [
    "basinDataSet.isna().any()"
   ]
  },
  {
   "cell_type": "code",
   "execution_count": 12,
   "metadata": {},
   "outputs": [],
   "source": [
    "basinDataSet['percentage'].fillna(0,inplace=True)"
   ]
  },
  {
   "cell_type": "code",
   "execution_count": 13,
   "metadata": {},
   "outputs": [],
   "source": [
    "basinDataSet.dropna(subset=['TPI'],inplace=True)"
   ]
  },
  {
   "cell_type": "code",
   "execution_count": 22,
   "metadata": {},
   "outputs": [
    {
     "data": {
      "text/plain": [
       "percentage    0\n",
       "TPI           0\n",
       "TWI           0\n",
       "visibility    0\n",
       "LDSOL5R200    0\n",
       "LDSOL5R150    0\n",
       "LDSOL4R150    0\n",
       "FAProx_025    0\n",
       "FAProx_01     0\n",
       "slope         0\n",
       "elevation     0\n",
       "x_coord       0\n",
       "y_coord       0\n",
       "dtype: int64"
      ]
     },
     "execution_count": 22,
     "metadata": {},
     "output_type": "execute_result"
    }
   ],
   "source": [
    "basinDataSet.isna().sum()"
   ]
  },
  {
   "cell_type": "code",
   "execution_count": null,
   "metadata": {},
   "outputs": [],
   "source": [
    "basinDataSet.dropna(inplace=True)"
   ]
  },
  {
   "cell_type": "code",
   "execution_count": 67,
   "metadata": {},
   "outputs": [
    {
     "data": {
      "text/plain": [
       "percentage    0\n",
       "TWI           0\n",
       "TPI           0\n",
       "LDSOL3R150    0\n",
       "LDSOL4R150    0\n",
       "LDSOL4R200    0\n",
       "FAProx_01     0\n",
       "FAProx_025    0\n",
       "visibility    0\n",
       "slope         0\n",
       "elevation     0\n",
       "x_coord       0\n",
       "y_coord       0\n",
       "dtype: int64"
      ]
     },
     "execution_count": 67,
     "metadata": {},
     "output_type": "execute_result"
    }
   ],
   "source": [
    "basinDataSet.isna().sum()\n",
    "# print(basinDataSet['FAcc'].max())"
   ]
  },
  {
   "cell_type": "code",
   "execution_count": null,
   "metadata": {},
   "outputs": [],
   "source": [
    "#### NOrmalize Flow Accumulation\n",
    "basinDataSet['FAcc'] = (basinDataSet['FAcc']- basinDataSet['FAcc'].min())/(basinDataSet['FAcc'].max()-basinDataSet['FAcc'].min())\n"
   ]
  },
  {
   "cell_type": "code",
   "execution_count": null,
   "metadata": {},
   "outputs": [],
   "source": [
    "### Replacing with 0 \n",
    "repalcer  = basinDataSet['FAProx_01'].to_numpy()\n",
    "basinDataSet['FAProx_01'] = [0 if repalcer[j] == -9999 else repalcer[j] for j in range(len(repalcer))]                                                                                                                         \n",
    "                                                                                                                          "
   ]
  },
  {
   "cell_type": "code",
   "execution_count": 26,
   "metadata": {},
   "outputs": [],
   "source": [
    "## Transform a column datatype\n",
    "repalcer  = basinDataSet['percentage'].to_numpy().astype('int')\n",
    "basinDataSet.loc[:,'percentage'] = repalcer"
   ]
  },
  {
   "cell_type": "code",
   "execution_count": 23,
   "metadata": {},
   "outputs": [
    {
     "data": {
      "text/html": [
       "<div>\n",
       "<style scoped>\n",
       "    .dataframe tbody tr th:only-of-type {\n",
       "        vertical-align: middle;\n",
       "    }\n",
       "\n",
       "    .dataframe tbody tr th {\n",
       "        vertical-align: top;\n",
       "    }\n",
       "\n",
       "    .dataframe thead th {\n",
       "        text-align: right;\n",
       "    }\n",
       "</style>\n",
       "<table border=\"1\" class=\"dataframe\">\n",
       "  <thead>\n",
       "    <tr style=\"text-align: right;\">\n",
       "      <th></th>\n",
       "      <th>percentage</th>\n",
       "      <th>TPI</th>\n",
       "      <th>TWI</th>\n",
       "      <th>visibility</th>\n",
       "      <th>LDSOL5R200</th>\n",
       "      <th>LDSOL5R150</th>\n",
       "      <th>LDSOL4R150</th>\n",
       "      <th>FAProx_025</th>\n",
       "      <th>FAProx_01</th>\n",
       "      <th>slope</th>\n",
       "      <th>elevation</th>\n",
       "      <th>x_coord</th>\n",
       "      <th>y_coord</th>\n",
       "    </tr>\n",
       "  </thead>\n",
       "  <tbody>\n",
       "    <tr>\n",
       "      <th>count</th>\n",
       "      <td>277252.000000</td>\n",
       "      <td>277252.000000</td>\n",
       "      <td>277252.000000</td>\n",
       "      <td>277252.000000</td>\n",
       "      <td>277252.000000</td>\n",
       "      <td>277252.000000</td>\n",
       "      <td>277252.000000</td>\n",
       "      <td>277252.000000</td>\n",
       "      <td>277252.000000</td>\n",
       "      <td>277252.000000</td>\n",
       "      <td>277252.000000</td>\n",
       "      <td>277252.000000</td>\n",
       "      <td>2.772520e+05</td>\n",
       "    </tr>\n",
       "    <tr>\n",
       "      <th>mean</th>\n",
       "      <td>0.239677</td>\n",
       "      <td>-0.000226</td>\n",
       "      <td>9.322267</td>\n",
       "      <td>0.060643</td>\n",
       "      <td>0.006447</td>\n",
       "      <td>0.006494</td>\n",
       "      <td>0.002990</td>\n",
       "      <td>271.329211</td>\n",
       "      <td>180.848976</td>\n",
       "      <td>6.362444</td>\n",
       "      <td>136.693555</td>\n",
       "      <td>361058.502016</td>\n",
       "      <td>5.273243e+06</td>\n",
       "    </tr>\n",
       "    <tr>\n",
       "      <th>std</th>\n",
       "      <td>1.045516</td>\n",
       "      <td>0.202981</td>\n",
       "      <td>4.026137</td>\n",
       "      <td>0.047200</td>\n",
       "      <td>0.003559</td>\n",
       "      <td>0.004272</td>\n",
       "      <td>0.003032</td>\n",
       "      <td>201.201950</td>\n",
       "      <td>131.322930</td>\n",
       "      <td>5.969607</td>\n",
       "      <td>30.189266</td>\n",
       "      <td>919.139056</td>\n",
       "      <td>1.110446e+03</td>\n",
       "    </tr>\n",
       "    <tr>\n",
       "      <th>min</th>\n",
       "      <td>0.000000</td>\n",
       "      <td>-4.801120</td>\n",
       "      <td>-6.874480</td>\n",
       "      <td>0.000050</td>\n",
       "      <td>0.000000</td>\n",
       "      <td>0.000000</td>\n",
       "      <td>0.000000</td>\n",
       "      <td>0.000000</td>\n",
       "      <td>0.000000</td>\n",
       "      <td>0.000390</td>\n",
       "      <td>0.454800</td>\n",
       "      <td>359148.000000</td>\n",
       "      <td>5.270818e+06</td>\n",
       "    </tr>\n",
       "    <tr>\n",
       "      <th>25%</th>\n",
       "      <td>0.000000</td>\n",
       "      <td>-0.078290</td>\n",
       "      <td>5.709468</td>\n",
       "      <td>0.027240</td>\n",
       "      <td>0.003770</td>\n",
       "      <td>0.003080</td>\n",
       "      <td>0.000000</td>\n",
       "      <td>110.000000</td>\n",
       "      <td>74.330350</td>\n",
       "      <td>2.282698</td>\n",
       "      <td>129.274703</td>\n",
       "      <td>360258.000000</td>\n",
       "      <td>5.272328e+06</td>\n",
       "    </tr>\n",
       "    <tr>\n",
       "      <th>50%</th>\n",
       "      <td>0.000000</td>\n",
       "      <td>-0.000820</td>\n",
       "      <td>10.316390</td>\n",
       "      <td>0.046935</td>\n",
       "      <td>0.006400</td>\n",
       "      <td>0.006220</td>\n",
       "      <td>0.002260</td>\n",
       "      <td>230.488600</td>\n",
       "      <td>155.563490</td>\n",
       "      <td>4.922205</td>\n",
       "      <td>142.743010</td>\n",
       "      <td>361113.000000</td>\n",
       "      <td>5.273353e+06</td>\n",
       "    </tr>\n",
       "    <tr>\n",
       "      <th>75%</th>\n",
       "      <td>0.000000</td>\n",
       "      <td>0.078480</td>\n",
       "      <td>12.549648</td>\n",
       "      <td>0.081700</td>\n",
       "      <td>0.008920</td>\n",
       "      <td>0.009450</td>\n",
       "      <td>0.005250</td>\n",
       "      <td>392.460170</td>\n",
       "      <td>266.833280</td>\n",
       "      <td>8.533800</td>\n",
       "      <td>153.260227</td>\n",
       "      <td>361833.000000</td>\n",
       "      <td>5.274053e+06</td>\n",
       "    </tr>\n",
       "    <tr>\n",
       "      <th>max</th>\n",
       "      <td>5.000000</td>\n",
       "      <td>4.880940</td>\n",
       "      <td>22.760400</td>\n",
       "      <td>0.448310</td>\n",
       "      <td>0.019030</td>\n",
       "      <td>0.021440</td>\n",
       "      <td>0.012770</td>\n",
       "      <td>975.140990</td>\n",
       "      <td>670.913570</td>\n",
       "      <td>67.607030</td>\n",
       "      <td>216.042620</td>\n",
       "      <td>362868.000000</td>\n",
       "      <td>5.275608e+06</td>\n",
       "    </tr>\n",
       "  </tbody>\n",
       "</table>\n",
       "</div>"
      ],
      "text/plain": [
       "          percentage            TPI            TWI     visibility  \\\n",
       "count  277252.000000  277252.000000  277252.000000  277252.000000   \n",
       "mean        0.239677      -0.000226       9.322267       0.060643   \n",
       "std         1.045516       0.202981       4.026137       0.047200   \n",
       "min         0.000000      -4.801120      -6.874480       0.000050   \n",
       "25%         0.000000      -0.078290       5.709468       0.027240   \n",
       "50%         0.000000      -0.000820      10.316390       0.046935   \n",
       "75%         0.000000       0.078480      12.549648       0.081700   \n",
       "max         5.000000       4.880940      22.760400       0.448310   \n",
       "\n",
       "          LDSOL5R200     LDSOL5R150     LDSOL4R150     FAProx_025  \\\n",
       "count  277252.000000  277252.000000  277252.000000  277252.000000   \n",
       "mean        0.006447       0.006494       0.002990     271.329211   \n",
       "std         0.003559       0.004272       0.003032     201.201950   \n",
       "min         0.000000       0.000000       0.000000       0.000000   \n",
       "25%         0.003770       0.003080       0.000000     110.000000   \n",
       "50%         0.006400       0.006220       0.002260     230.488600   \n",
       "75%         0.008920       0.009450       0.005250     392.460170   \n",
       "max         0.019030       0.021440       0.012770     975.140990   \n",
       "\n",
       "           FAProx_01          slope      elevation        x_coord  \\\n",
       "count  277252.000000  277252.000000  277252.000000  277252.000000   \n",
       "mean      180.848976       6.362444     136.693555  361058.502016   \n",
       "std       131.322930       5.969607      30.189266     919.139056   \n",
       "min         0.000000       0.000390       0.454800  359148.000000   \n",
       "25%        74.330350       2.282698     129.274703  360258.000000   \n",
       "50%       155.563490       4.922205     142.743010  361113.000000   \n",
       "75%       266.833280       8.533800     153.260227  361833.000000   \n",
       "max       670.913570      67.607030     216.042620  362868.000000   \n",
       "\n",
       "            y_coord  \n",
       "count  2.772520e+05  \n",
       "mean   5.273243e+06  \n",
       "std    1.110446e+03  \n",
       "min    5.270818e+06  \n",
       "25%    5.272328e+06  \n",
       "50%    5.273353e+06  \n",
       "75%    5.274053e+06  \n",
       "max    5.275608e+06  "
      ]
     },
     "execution_count": 23,
     "metadata": {},
     "output_type": "execute_result"
    }
   ],
   "source": [
    "basinDataSet.describe()"
   ]
  },
  {
   "cell_type": "code",
   "execution_count": 27,
   "metadata": {},
   "outputs": [],
   "source": [
    "basinDataSet.to_csv('datasets/basin4_CleanDataSet.csv', index=None)"
   ]
  },
  {
   "cell_type": "code",
   "execution_count": 28,
   "metadata": {},
   "outputs": [
    {
     "name": "stdout",
     "output_type": "stream",
     "text": [
      "Counter({0: 261309, 5: 12627, 1: 3316})\n"
     ]
    }
   ],
   "source": [
    "### Making quadratic transformation in Labels for regression\n",
    "DS = pd.read_csv('datasets/basin4_CleanDataSet.csv', index_col = None)\n",
    "print(Counter(DS['percentage']))\n",
    "\n",
    "# y_Quad = md.quadraticRechapeLabes(DS['percentage'], -0.125, 0.825)\n",
    "# DS['percentage'] = y_Quad\n",
    "# print(Counter(DS['percentage']))\n",
    "# DS.to_csv('basin1TrainUnbalanced_QuadTarget.csv', index = None)"
   ]
  },
  {
   "cell_type": "code",
   "execution_count": 17,
   "metadata": {},
   "outputs": [
    {
     "name": "stdout",
     "output_type": "stream",
     "text": [
      "{'Datas':    percentage      TPI       TWI  visibility  LDSOL5R200  LDSOL5R150  \\\n",
      "0         0.0 -0.05424  11.17568     0.26287         0.0         0.0   \n",
      "1         0.0  0.19205  10.12663     0.27911         0.0         0.0   \n",
      "2         0.0  0.09936  10.32567     0.27625         0.0         0.0   \n",
      "3         0.0  0.06192   5.88959     0.10397         0.0         0.0   \n",
      "4         0.0 -0.04243  11.30930     0.08822         0.0         0.0   \n",
      "\n",
      "   LDSOL4R150  FAProx_025  FAProx_01    slope  elevation  x_coord  y_coord  \n",
      "0         0.0   443.22681  440.36914  0.56349  128.15756   359173  5274413  \n",
      "1         0.0   438.32065  435.48825  0.75803  128.33572   359178  5274413  \n",
      "2         0.0   423.61539  420.86218  1.58734  128.00537   359193  5274413  \n",
      "3         0.0   418.71829  415.99277  2.55058  127.80929   359198  5274413  \n",
      "4         0.0   413.82361  411.12653  2.13726  127.53185   359203  5274413  }\n"
     ]
    }
   ],
   "source": [
    "ds = DS.head(5)\n",
    "s = {}\n",
    "s['Datas'] = ds\n",
    "print(s)"
   ]
  },
  {
   "cell_type": "markdown",
   "metadata": {},
   "source": [
    "## balanced sampling"
   ]
  },
  {
   "cell_type": "code",
   "execution_count": 29,
   "metadata": {},
   "outputs": [
    {
     "name": "stdout",
     "output_type": "stream",
     "text": [
      "TRAIN: 221801 TEST: 55451\n"
     ]
    }
   ],
   "source": [
    "## Stratified Split\n",
    "from sklearn.model_selection import StratifiedShuffleSplit\n",
    "\n",
    "X,Y = ms.importDataSet('datasets/basin4_CleanDataSet.csv', 'percentage')\n",
    "sss = StratifiedShuffleSplit(n_splits=1, test_size=0.2, random_state=50)\n",
    "for train_index, test_index in sss.split(X, Y):\n",
    "    print(\"TRAIN:\", train_index.size, \"TEST:\", test_index.size)\n",
    "    X_train = X.iloc[train_index]\n",
    "    y_train = Y.iloc[train_index]\n",
    "    X_test = X.iloc[test_index]\n",
    "    y_test = Y.iloc[test_index]"
   ]
  },
  {
   "cell_type": "code",
   "execution_count": 30,
   "metadata": {},
   "outputs": [
    {
     "name": "stdout",
     "output_type": "stream",
     "text": [
      "221801 221801\n"
     ]
    },
    {
     "data": {
      "text/plain": [
       "Counter({0: 209047, 5: 10101, 1: 2653})"
      ]
     },
     "execution_count": 30,
     "metadata": {},
     "output_type": "execute_result"
    }
   ],
   "source": [
    "## Describing training set\n",
    "print(len(X_train['elevation']), len(y_train) )\n",
    "Counter(y_train)"
   ]
  },
  {
   "cell_type": "code",
   "execution_count": 32,
   "metadata": {},
   "outputs": [
    {
     "name": "stdout",
     "output_type": "stream",
     "text": [
      "            TPI       TWI  visibility  LDSOL5R200  LDSOL5R150  LDSOL4R150  \\\n",
      "251774 -0.00034  14.39598     0.01397     0.00774     0.01004     0.00474   \n",
      "160243 -0.21971  13.37331     0.10493     0.00310     0.00114     0.00000   \n",
      "27303   0.00001  15.71532     0.01069     0.00544     0.00800     0.00197   \n",
      "189468 -0.24402   9.40016     0.04387     0.00712     0.00975     0.00550   \n",
      "265065  0.06554   5.30098     0.18383     0.00202     0.00269     0.00000   \n",
      "\n",
      "        FAProx_025  FAProx_01     slope  elevation  x_coord  y_coord  \\\n",
      "251774   255.04901   76.32169   0.63286  143.95445   361653  5271843   \n",
      "160243   276.81219  276.81219   6.91255  149.28308   360853  5273343   \n",
      "27303    325.96011  111.01802   0.01081  122.72339   360073  5273768   \n",
      "189468     7.07107    5.00000  12.48343  139.97217   361783  5272973   \n",
      "265065   822.51135  428.51486   2.63780  183.58789   359913  5271303   \n",
      "\n",
      "        percentage  \n",
      "251774           0  \n",
      "160243           0  \n",
      "27303            5  \n",
      "189468           0  \n",
      "265065           0  \n"
     ]
    },
    {
     "name": "stderr",
     "output_type": "stream",
     "text": [
      "/var/folders/s5/cqkwnnps0f1_35_bccj0y8q80000gn/T/ipykernel_36263/424696301.py:2: SettingWithCopyWarning: \n",
      "A value is trying to be set on a copy of a slice from a DataFrame.\n",
      "Try using .loc[row_indexer,col_indexer] = value instead\n",
      "\n",
      "See the caveats in the documentation: https://pandas.pydata.org/pandas-docs/stable/user_guide/indexing.html#returning-a-view-versus-a-copy\n",
      "  X_train.loc[:,'percentage'] = y_train\n"
     ]
    },
    {
     "data": {
      "text/plain": [
       "Counter({0: 209047, 5: 10101, 1: 2653})"
      ]
     },
     "execution_count": 32,
     "metadata": {},
     "output_type": "execute_result"
    }
   ],
   "source": [
    "#####    Creating training set     #####\n",
    "X_train.loc[:,'percentage'] = y_train\n",
    "print(X_train.head())\n",
    "## Removing coordinates from training set\n",
    "X_train.drop(['x_coord','y_coord'], axis =1, inplace=True)\n",
    "X_train.head()\n",
    "Counter(X_train['percentage'])"
   ]
  },
  {
   "cell_type": "code",
   "execution_count": 33,
   "metadata": {},
   "outputs": [
    {
     "name": "stderr",
     "output_type": "stream",
     "text": [
      "/var/folders/s5/cqkwnnps0f1_35_bccj0y8q80000gn/T/ipykernel_36263/1019043263.py:2: SettingWithCopyWarning: \n",
      "A value is trying to be set on a copy of a slice from a DataFrame\n",
      "\n",
      "See the caveats in the documentation: https://pandas.pydata.org/pandas-docs/stable/user_guide/indexing.html#returning-a-view-versus-a-copy\n",
      "  X_train.drop(['x_coord','y_coord'], axis =1, inplace=True)\n"
     ]
    },
    {
     "data": {
      "text/html": [
       "<div>\n",
       "<style scoped>\n",
       "    .dataframe tbody tr th:only-of-type {\n",
       "        vertical-align: middle;\n",
       "    }\n",
       "\n",
       "    .dataframe tbody tr th {\n",
       "        vertical-align: top;\n",
       "    }\n",
       "\n",
       "    .dataframe thead th {\n",
       "        text-align: right;\n",
       "    }\n",
       "</style>\n",
       "<table border=\"1\" class=\"dataframe\">\n",
       "  <thead>\n",
       "    <tr style=\"text-align: right;\">\n",
       "      <th></th>\n",
       "      <th>TPI</th>\n",
       "      <th>TWI</th>\n",
       "      <th>visibility</th>\n",
       "      <th>LDSOL5R200</th>\n",
       "      <th>LDSOL5R150</th>\n",
       "      <th>LDSOL4R150</th>\n",
       "      <th>FAProx_025</th>\n",
       "      <th>FAProx_01</th>\n",
       "      <th>slope</th>\n",
       "      <th>elevation</th>\n",
       "      <th>percentage</th>\n",
       "    </tr>\n",
       "  </thead>\n",
       "  <tbody>\n",
       "    <tr>\n",
       "      <th>251774</th>\n",
       "      <td>-0.00034</td>\n",
       "      <td>14.39598</td>\n",
       "      <td>0.01397</td>\n",
       "      <td>0.00774</td>\n",
       "      <td>0.01004</td>\n",
       "      <td>0.00474</td>\n",
       "      <td>255.04901</td>\n",
       "      <td>76.32169</td>\n",
       "      <td>0.63286</td>\n",
       "      <td>143.95445</td>\n",
       "      <td>0</td>\n",
       "    </tr>\n",
       "    <tr>\n",
       "      <th>160243</th>\n",
       "      <td>-0.21971</td>\n",
       "      <td>13.37331</td>\n",
       "      <td>0.10493</td>\n",
       "      <td>0.00310</td>\n",
       "      <td>0.00114</td>\n",
       "      <td>0.00000</td>\n",
       "      <td>276.81219</td>\n",
       "      <td>276.81219</td>\n",
       "      <td>6.91255</td>\n",
       "      <td>149.28308</td>\n",
       "      <td>0</td>\n",
       "    </tr>\n",
       "    <tr>\n",
       "      <th>27303</th>\n",
       "      <td>0.00001</td>\n",
       "      <td>15.71532</td>\n",
       "      <td>0.01069</td>\n",
       "      <td>0.00544</td>\n",
       "      <td>0.00800</td>\n",
       "      <td>0.00197</td>\n",
       "      <td>325.96011</td>\n",
       "      <td>111.01802</td>\n",
       "      <td>0.01081</td>\n",
       "      <td>122.72339</td>\n",
       "      <td>5</td>\n",
       "    </tr>\n",
       "    <tr>\n",
       "      <th>189468</th>\n",
       "      <td>-0.24402</td>\n",
       "      <td>9.40016</td>\n",
       "      <td>0.04387</td>\n",
       "      <td>0.00712</td>\n",
       "      <td>0.00975</td>\n",
       "      <td>0.00550</td>\n",
       "      <td>7.07107</td>\n",
       "      <td>5.00000</td>\n",
       "      <td>12.48343</td>\n",
       "      <td>139.97217</td>\n",
       "      <td>0</td>\n",
       "    </tr>\n",
       "    <tr>\n",
       "      <th>265065</th>\n",
       "      <td>0.06554</td>\n",
       "      <td>5.30098</td>\n",
       "      <td>0.18383</td>\n",
       "      <td>0.00202</td>\n",
       "      <td>0.00269</td>\n",
       "      <td>0.00000</td>\n",
       "      <td>822.51135</td>\n",
       "      <td>428.51486</td>\n",
       "      <td>2.63780</td>\n",
       "      <td>183.58789</td>\n",
       "      <td>0</td>\n",
       "    </tr>\n",
       "  </tbody>\n",
       "</table>\n",
       "</div>"
      ],
      "text/plain": [
       "            TPI       TWI  visibility  LDSOL5R200  LDSOL5R150  LDSOL4R150  \\\n",
       "251774 -0.00034  14.39598     0.01397     0.00774     0.01004     0.00474   \n",
       "160243 -0.21971  13.37331     0.10493     0.00310     0.00114     0.00000   \n",
       "27303   0.00001  15.71532     0.01069     0.00544     0.00800     0.00197   \n",
       "189468 -0.24402   9.40016     0.04387     0.00712     0.00975     0.00550   \n",
       "265065  0.06554   5.30098     0.18383     0.00202     0.00269     0.00000   \n",
       "\n",
       "        FAProx_025  FAProx_01     slope  elevation  percentage  \n",
       "251774   255.04901   76.32169   0.63286  143.95445           0  \n",
       "160243   276.81219  276.81219   6.91255  149.28308           0  \n",
       "27303    325.96011  111.01802   0.01081  122.72339           5  \n",
       "189468     7.07107    5.00000  12.48343  139.97217           0  \n",
       "265065   822.51135  428.51486   2.63780  183.58789           0  "
      ]
     },
     "execution_count": 33,
     "metadata": {},
     "output_type": "execute_result"
    }
   ],
   "source": []
  },
  {
   "cell_type": "code",
   "execution_count": 35,
   "metadata": {},
   "outputs": [],
   "source": [
    "X_train.to_csv('datasets/basin4_Training.csv', index=None)"
   ]
  },
  {
   "cell_type": "code",
   "execution_count": 36,
   "metadata": {},
   "outputs": [
    {
     "name": "stdout",
     "output_type": "stream",
     "text": [
      "            TPI       TWI  visibility  LDSOL5R200  LDSOL5R150  LDSOL4R150  \\\n",
      "8972    0.36684   6.83490     0.06692     0.00889     0.00573     0.00043   \n",
      "270688  0.09789  12.68315     0.20336     0.00152     0.00001     0.00000   \n",
      "91516  -0.25639   9.15047     0.01869     0.00978     0.01067     0.00550   \n",
      "115409  0.06341   3.66044     0.07109     0.00868     0.00885     0.00484   \n",
      "214249  0.05304   4.62529     0.06147     0.00702     0.00338     0.00128   \n",
      "\n",
      "        FAProx_025  FAProx_01     slope  elevation  x_coord  y_coord  \n",
      "8972     141.50972  141.50972   9.06672  130.94017   360243  5274248  \n",
      "270688   876.81244  434.10828   7.19772  174.65186   359968  5271153  \n",
      "91516    107.00467  107.00467  13.66632   63.74500   359728  5274558  \n",
      "115409    55.00000   55.00000   0.38351  125.55405   360913  5273953  \n",
      "214249   228.08989  156.60460   2.54051  153.73796   361913  5272473  \n",
      "            TPI       TWI  visibility  LDSOL5R200  LDSOL5R150  LDSOL4R150  \\\n",
      "8972    0.36684   6.83490     0.06692     0.00889     0.00573     0.00043   \n",
      "270688  0.09789  12.68315     0.20336     0.00152     0.00001     0.00000   \n",
      "91516  -0.25639   9.15047     0.01869     0.00978     0.01067     0.00550   \n",
      "115409  0.06341   3.66044     0.07109     0.00868     0.00885     0.00484   \n",
      "214249  0.05304   4.62529     0.06147     0.00702     0.00338     0.00128   \n",
      "\n",
      "        FAProx_025  FAProx_01     slope  elevation  x_coord  y_coord  \\\n",
      "8972     141.50972  141.50972   9.06672  130.94017   360243  5274248   \n",
      "270688   876.81244  434.10828   7.19772  174.65186   359968  5271153   \n",
      "91516    107.00467  107.00467  13.66632   63.74500   359728  5274558   \n",
      "115409    55.00000   55.00000   0.38351  125.55405   360913  5273953   \n",
      "214249   228.08989  156.60460   2.54051  153.73796   361913  5272473   \n",
      "\n",
      "        percentage  \n",
      "8972             0  \n",
      "270688           0  \n",
      "91516            0  \n",
      "115409           0  \n",
      "214249           0  \n",
      "<class 'pandas.core.frame.DataFrame'>\n",
      "Int64Index: 55451 entries, 8972 to 118382\n",
      "Data columns (total 13 columns):\n",
      " #   Column      Non-Null Count  Dtype  \n",
      "---  ------      --------------  -----  \n",
      " 0   TPI         55451 non-null  float64\n",
      " 1   TWI         55451 non-null  float64\n",
      " 2   visibility  55451 non-null  float64\n",
      " 3   LDSOL5R200  55451 non-null  float64\n",
      " 4   LDSOL5R150  55451 non-null  float64\n",
      " 5   LDSOL4R150  55451 non-null  float64\n",
      " 6   FAProx_025  55451 non-null  float64\n",
      " 7   FAProx_01   55451 non-null  float64\n",
      " 8   slope       55451 non-null  float64\n",
      " 9   elevation   55451 non-null  float64\n",
      " 10  x_coord     55451 non-null  int64  \n",
      " 11  y_coord     55451 non-null  int64  \n",
      " 12  percentage  55451 non-null  int64  \n",
      "dtypes: float64(10), int64(3)\n",
      "memory usage: 5.9 MB\n",
      "None\n"
     ]
    },
    {
     "name": "stderr",
     "output_type": "stream",
     "text": [
      "/var/folders/s5/cqkwnnps0f1_35_bccj0y8q80000gn/T/ipykernel_36263/1397829333.py:3: SettingWithCopyWarning: \n",
      "A value is trying to be set on a copy of a slice from a DataFrame.\n",
      "Try using .loc[row_indexer,col_indexer] = value instead\n",
      "\n",
      "See the caveats in the documentation: https://pandas.pydata.org/pandas-docs/stable/user_guide/indexing.html#returning-a-view-versus-a-copy\n",
      "  X_test.loc[:,'percentage'] = y_test\n"
     ]
    },
    {
     "data": {
      "text/plain": [
       "Counter({0: 52262, 5: 2526, 1: 663})"
      ]
     },
     "execution_count": 36,
     "metadata": {},
     "output_type": "execute_result"
    }
   ],
   "source": [
    "#####. Creating training set\n",
    "print(X_test.head())\n",
    "X_test.loc[:,'percentage'] = y_test\n",
    "print(X_test.head())\n",
    "print(X_test.info())\n",
    "Counter(X_test['percentage'])\n"
   ]
  },
  {
   "cell_type": "code",
   "execution_count": 37,
   "metadata": {},
   "outputs": [],
   "source": [
    "X_test.to_csv('datasets/basin4_Test.csv', index=None)"
   ]
  },
  {
   "cell_type": "code",
   "execution_count": 38,
   "metadata": {},
   "outputs": [
    {
     "name": "stdout",
     "output_type": "stream",
     "text": [
      "Summary of traning and test dataset class balance\n",
      "Training Set: \n",
      " Class 0: 0.942  Class 1: 0.0120 Class 5: 0.0455\n",
      "Testing Set: \n",
      " Class 0: 0.942  Class 1: 0.0120 Class 5: 0.0456\n"
     ]
    }
   ],
   "source": [
    "## This proportions are the reason why a sample_weight of 0.01 for the majority class give best results for regression\n",
    "totalTrain = sum([209047, 10101, 2653])\n",
    "totalValidation = sum([52262, 2526, 663])\n",
    "print(\"Summary of traning and test dataset class balance\")\n",
    "print(f\"Training Set:\", '\\n', \"Class 0: %.3f\" %(209047/totalTrain), \" Class 1: %.4f\" %(2653/totalTrain), \"Class 5: %.4f\"%(10101/totalTrain))\n",
    "print(\"Testing Set:\", '\\n', \"Class 0: %.3f\" %(52262/totalValidation),\" Class 1: %.4f\" %(663/totalValidation),  \"Class 5: %.4f\"%(2526/totalValidation))\n",
    "\n"
   ]
  },
  {
   "cell_type": "code",
   "execution_count": 40,
   "metadata": {},
   "outputs": [
    {
     "name": "stdout",
     "output_type": "stream",
     "text": [
      "221801 55451\n"
     ]
    }
   ],
   "source": [
    "print(totalTrain, totalValidation)"
   ]
  },
  {
   "cell_type": "code",
   "execution_count": null,
   "metadata": {},
   "outputs": [],
   "source": [
    "model = ms.loadModel('./outputs/2022-08-05/00-35-58/2208050035.pkl')\n",
    "dataSetToSave = ms.makePredictionToImportAsSHP(csvName, model, X, Y, 'percentage')\n",
    "print(dataSetToSave.head())"
   ]
  },
  {
   "cell_type": "markdown",
   "metadata": {},
   "source": [
    "## Controled sampling"
   ]
  },
  {
   "cell_type": "code",
   "execution_count": null,
   "metadata": {},
   "outputs": [],
   "source": [
    "DS = pd.read_csv('basin1Light_Clean_Training.csv', index_col = None)\n",
    "print(DS.head())\n"
   ]
  },
  {
   "cell_type": "code",
   "execution_count": null,
   "metadata": {},
   "outputs": [],
   "source": [
    "print(DS.columns)"
   ]
  },
  {
   "cell_type": "code",
   "execution_count": null,
   "metadata": {},
   "outputs": [],
   "source": [
    "plt.boxplot(DS['FAcc']) # , , DS['elevation'], DS['disToRiv']]"
   ]
  },
  {
   "cell_type": "code",
   "execution_count": null,
   "metadata": {},
   "outputs": [],
   "source": [
    "## Resampling appliying class selection by rule:\n",
    "\n",
    "# RULE1: Select point at a distance to river less than 300m. \n",
    "\n",
    "# # newDS = pseudoClassCreation(DS, \"distanceToRiver\", 300, 2)\n",
    "def pseudoClassCreation(dataset, conditionVariable, threshold, pseudoClass, targetClassName):\n",
    "    '''\n",
    "    Replace <targetClass> by  <pseudoClass> where <conditionVariable >= threshold>. \n",
    "    Return:\n",
    "      dataset with new classes group. \n",
    "    '''\n",
    "    datsetReclassified = dataset.copy()\n",
    "    actualTarget = (np.array(dataset[targetClassName])).ravel()\n",
    "    conditionVar = (np.array(dataset[conditionVariable])).ravel()\n",
    "    datsetReclassified[targetClassName] = [ pseudoClass if conditionVar[j] >= threshold \n",
    "                                           else actualTarget[j]\n",
    "                                           for j in range(len(actualTarget))]\n",
    "    print(Counter(datsetReclassified[targetClassName]))\n",
    "    return  datsetReclassified\n",
    "\n",
    "def revertPseudoClassCreation(dataset, originalClass, pseudoClass, targetClassName):\n",
    "    '''\n",
    "    Restablich  <targetClass> with <originalClass> where <targetClassName == pseudoClass>. \n",
    "    Return:\n",
    "      dataset with original classes group. \n",
    "    '''\n",
    "    datsetReclassified = dataset.copy()\n",
    "    actualTarget = (np.array(dataset[targetClassName])).ravel()\n",
    "    datsetReclassified[targetClassName] = [ originalClass if actualTarget[j] == pseudoClass\n",
    "                                           else actualTarget[j]\n",
    "                                           for j in range(len(actualTarget))]\n",
    "    print(Counter(datsetReclassified[targetClassName]))\n",
    "    return  datsetReclassified\n",
    "\n",
    "\n",
    "print(Counter(X_train['percentage']))\n",
    "newDS = pseudoClassCreation(X_train, 'disToRiv', 200, 2, 'percentage')\n",
    "y = newDS['percentage']\n",
    "newDS.drop(['percentage'], axis=1, inplace = True)\n",
    "x_res,y_res = ms.randomUndersampling(newDS, y, )\n",
    "x_res['percentage'] = y_res\n",
    "# newDatase = revertPseudoClassCreation(x_res, 0, 2, 'percentage')\n"
   ]
  },
  {
   "cell_type": "code",
   "execution_count": null,
   "metadata": {},
   "outputs": [],
   "source": [
    "x_res.to_csv('basin1ControlClass0Sampling4Class_ToSHP.csv',index = None)"
   ]
  },
  {
   "cell_type": "markdown",
   "metadata": {},
   "source": [
    "# Data description and visualization"
   ]
  },
  {
   "cell_type": "code",
   "execution_count": null,
   "metadata": {},
   "outputs": [],
   "source": [
    "#### import dataset to describe\n",
    "\n",
    "DS= pd.read_csv('datasets/basin1Light_Clean.csv', index_col=None)\n",
    "DS.head()"
   ]
  },
  {
   "cell_type": "code",
   "execution_count": null,
   "metadata": {},
   "outputs": [],
   "source": [
    "DS.drop(['x_coord','y_coord'], axis = 1, inplace=True)\n",
    "DS.head()"
   ]
  },
  {
   "cell_type": "code",
   "execution_count": null,
   "metadata": {},
   "outputs": [],
   "source": [
    "### FAcc vs Labels\n",
    "targets = DS['percentage']\n",
    "FAcc = original['FAcc']\n",
    "FAcc_norm = DS['FAcc_norm']\n",
    "fig, axs = plt.subplots(1, 2, figsize=(13,4), sharey=True)\n",
    "fig.text(-0.02, 0.5, 'labels', va='center', rotation='vertical')\n",
    "fig.text(0.5, 1, 'Flow accumulation vs labels distribution', ha ='center')\n",
    "axs[0].scatter(FAcc,targets)\n",
    "# axs[0].set_title(\"Facc\")\n",
    "axs[0].set(xlabel='a) Flow Accumulation')\n",
    "axs[1].scatter(FAcc_norm,targets)\n",
    "# axs[1].set_title(\"FAcc_norm\")\n",
    "axs[1].set(xlabel='b) Flow Accumulation estandardized')\n",
    "plt.rcParams['font.size'] = '20'\n",
    "fig.tight_layout()\n"
   ]
  },
  {
   "cell_type": "code",
   "execution_count": null,
   "metadata": {
    "scrolled": true
   },
   "outputs": [],
   "source": [
    "\n",
    "## Plot all features vs labels\n",
    "# 'disToRiv', 'TWI', 'TPI', 'slope', 'elevation',\n",
    "\n",
    "targets = DS['percentage']\n",
    "# targets = np.where(targets == 5,2,targets)\n",
    "\n",
    "E = DS['elevation'] \n",
    "slope = DS['slope']\n",
    "FAcc = DS['FAcc']\n",
    "TWI = DS['TWI']\n",
    "TPI = DS['TPI']\n",
    "DLSOL4R150 = DS['DLSOL4R150']\n",
    "DLSOL5R150 = DS['DLSOL5R150']\n",
    "DLSOL5R200 = DS['DLSOL5R200']\n",
    "FAProx_01 = DS['FAProx_01']\n",
    "FAProx_025 = DS['FAProx_025']\n",
    "visibility = DS['visibility']\n",
    "\n",
    "fig, axs = plt.subplots(4,3, figsize=(13, 8), sharey=True)\n",
    "fig.supylabel('Labels')\n",
    "plt.rcParams['font.size'] = '15'\n",
    "plt.yticks([0,1,5])\n",
    "\n",
    "'''\n",
    "E = DS['elevation'] \n",
    "slope = DS['slope']\n",
    "FAcc = DS['FAcc']\n",
    "TWI = DS['TWI']\n",
    "'''\n",
    "axs[0, 0].scatter(E,targets)\n",
    "axs[0, 0].set_title(\"Elevation\")\n",
    "axs[1, 0].scatter(slope,targets)\n",
    "axs[1, 0].set_title(\"Slope\")\n",
    "axs[2, 0].scatter(FAcc,targets)\n",
    "axs[2, 0].set_title(\"Flow accumulation\")\n",
    "axs[3, 0].scatter(TWI,targets)\n",
    "axs[3, 0].set_title(\"TWI\")\n",
    "\n",
    "'''\n",
    "TPI = DS['TPI']\n",
    "DLSOL4R150 = DS['DLSOL4R150']\n",
    "DLSOL5R150 = DS['DLSOL5R150']\n",
    "DLSOL5R200 = DS['DLSOL5R200']\n",
    "'''\n",
    "axs[0, 1].scatter(TPI,targets)\n",
    "axs[0, 1].set_title('TPI')\n",
    "axs[1, 1].scatter(DLSOL4R150,targets)\n",
    "axs[1, 1].set_title(\"DLSOL4R150\")\n",
    "axs[2, 1].scatter(DLSOL5R150,targets)\n",
    "axs[2, 1].set_title(\"DLSOL5R150\")\n",
    "axs[3, 1].scatter(DLSOL5R200,targets)\n",
    "axs[3, 1].set_title(\"DLSOL5R200\")\n",
    "\n",
    "'''\n",
    "FAProx_01 = DS['FAProx_01']\n",
    "FAProx_025 = DS['FAProx_025']\n",
    "visibility = DS['visibility']\n",
    "'''\n",
    "axs[0, 2].scatter(FAProx_01,targets)\n",
    "axs[0, 2].set_title('FAProx_01')\n",
    "axs[1, 2].scatter(FAProx_025,targets)\n",
    "axs[1, 2].set_title(\"FAProx_025\")\n",
    "axs[2, 2].scatter(visibility,targets)\n",
    "axs[2, 2].set_title(\"Visibility\")\n",
    "\n",
    "fig.tight_layout()\n"
   ]
  },
  {
   "cell_type": "code",
   "execution_count": null,
   "metadata": {},
   "outputs": [],
   "source": [
    "print(DS.head())\n",
    "#  Return a dataset with the rows corresponding to the index where condition in DS.columName is valid. \n",
    "dsArray = DS[DS.percentage != 0] print(dsArray.head())\n",
    "print(dsArray.head()) "
   ]
  },
  {
   "cell_type": "code",
   "execution_count": null,
   "metadata": {
    "scrolled": true
   },
   "outputs": [],
   "source": [
    "sns.set(font_scale=1.5)\n",
    "sns.pairplot(DS, hue = 'percentage', diag_kind = 'kde', \n",
    "             plot_kws = {'alpha': 0.8, 's': 100},\n",
    "             height = 4, corner=True, palette = \"Set2\")# vars = ['life_exp', 'log_pop', 'log_gdp_per_cap'],\n",
    "\n",
    "# sns.pairplot(DS, hue=\"percentage\")"
   ]
  },
  {
   "cell_type": "code",
   "execution_count": null,
   "metadata": {},
   "outputs": [],
   "source": [
    "####. Covariance Matrix\n",
    "sns.set(font_scale=0.7)\n",
    "matrix = DS.corr().round(2)\n",
    "sns.heatmap(matrix, annot=True)\n",
    "plt.set_figsize=(25,20)\n",
    "plt.show()"
   ]
  },
  {
   "cell_type": "code",
   "execution_count": null,
   "metadata": {},
   "outputs": [],
   "source": [
    "from sklearn.multiclass import OneVsRestClassifier\n",
    "from sklearn.ensemble import RandomForestClassifier\n",
    "\n",
    "estimator = RandomForestClassifier(criterion='entropy', random_state = 50)\n",
    "x_train,y_train = ms.importDataSet('basin1Train.csv', 'percentage')\n",
    "classifier = OneVsRestClassifier(estimator).fit(x_train,y_train)\n"
   ]
  },
  {
   "cell_type": "code",
   "execution_count": null,
   "metadata": {},
   "outputs": [],
   "source": [
    "classifier = ms.loadModel('./outputs/2022-08-05/11-01-57/2208051101.pkl')\n",
    "x_test,y_test = ms.importDataSet('basin1Test.csv', 'percentage')\n",
    "\n",
    "x_test = ms.removeCoordinatesFromDataSet(x_test)\n",
    "\n",
    "# y_prob = classifier.predict_proba(x_test)\n",
    "#print(np.unique(y_prob))"
   ]
  },
  {
   "cell_type": "code",
   "execution_count": null,
   "metadata": {},
   "outputs": [],
   "source": [
    "md.plot_ROC_AUC_OneVsRest(classifier, x_test, y_test)"
   ]
  },
  {
   "cell_type": "code",
   "execution_count": null,
   "metadata": {},
   "outputs": [],
   "source": [
    "_,y_test = ms.importDataSet('./bestModels/Classifier/10-18-08/2208051018prediction_basin1Test.csv', 'prediction')\n",
    "unique, count = np.unique(y_test, return_counts=True)\n",
    "total = count.sum()\n",
    "print(total)\n",
    "percent = np.round(np.zeros_like(unique).astype('float16'),3)\n",
    "print('values, counts , percent')\n",
    "for i in range(len(unique)):    \n",
    "   percent[i] = (count[i]/total)*100\n",
    "   print(unique[i],\"\\t\", count[i], percent[i])\n"
   ]
  },
  {
   "cell_type": "code",
   "execution_count": null,
   "metadata": {},
   "outputs": [],
   "source": []
  },
  {
   "cell_type": "code",
   "execution_count": null,
   "metadata": {},
   "outputs": [],
   "source": []
  }
 ],
 "metadata": {
  "celltoolbar": "Raw Cell Format",
  "kernelspec": {
   "display_name": "Python 3 (ipykernel)",
   "language": "python",
   "name": "python3"
  },
  "language_info": {
   "codemirror_mode": {
    "name": "ipython",
    "version": 3
   },
   "file_extension": ".py",
   "mimetype": "text/x-python",
   "name": "python",
   "nbconvert_exporter": "python",
   "pygments_lexer": "ipython3",
   "version": "3.9.13"
  },
  "vscode": {
   "interpreter": {
    "hash": "c444c068df4da933f83035bc75b2ed5aea8e7fb8bc113357e2f14ee7cca6a8fe"
   }
  }
 },
 "nbformat": 4,
 "nbformat_minor": 2
}

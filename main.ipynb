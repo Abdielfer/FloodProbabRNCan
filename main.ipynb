{
 "cells": [
  {
   "cell_type": "code",
   "execution_count": 1,
   "metadata": {
    "scrolled": true
   },
   "outputs": [],
   "source": [
    "import myServices as ms\n",
    "import models as md\n",
    "import os\n",
    "import gc\n",
    "from collections import Counter\n",
    "import seaborn as sns\n",
    "import matplotlib.pyplot as plt\n",
    "from mpl_toolkits.mplot3d import Axes3D\n",
    "import numpy as np\n",
    "import pandas as pd\n",
    "import sklearn\n",
    "from sklearn import metrics\n",
    "from sklearn.model_selection import train_test_split\n",
    "from sklearn.metrics import accuracy_score,roc_curve, auc, roc_auc_score, f1_score\n",
    "from sklearn.metrics.pairwise import cosine_similarity as csim \n",
    "\n",
    "import joblib\n",
    "import random\n",
    "# import umap\n",
    "import torch as T\n",
    "from scipy.interpolate import UnivariateSpline\n",
    "import holoviews as hv\n",
    "import panel as pn\n",
    "import bokeh\n",
    "from bokeh.resources import INLINE\n",
    "\n"
   ]
  },
  {
   "cell_type": "code",
   "execution_count": null,
   "metadata": {},
   "outputs": [],
   "source": [
    "# to compute ececution time do: \n",
    "# with timeit():\n",
    "#     # your code, e.g., \n",
    "class timeit(): \n",
    "    from datetime import datetime\n",
    "    def __enter__(self):\n",
    "        self.tic = self.datetime.now()\n",
    "    def __exit__(self, *args, **kwargs):\n",
    "        print('runtime: {}'.format(self.datetime.now() - self.tic))"
   ]
  },
  {
   "cell_type": "code",
   "execution_count": null,
   "metadata": {},
   "outputs": [],
   "source": [
    "sklearn.metrics.get_scorer_names()"
   ]
  },
  {
   "cell_type": "markdown",
   "metadata": {},
   "source": [
    "## Reading hydro logs\n"
   ]
  },
  {
   "cell_type": "code",
   "execution_count": null,
   "metadata": {},
   "outputs": [],
   "source": [
    "\n",
    "def isKeyInLog(log, key:str=''):\n",
    "    with open(log, 'r') as f:\n",
    "        for l in f:\n",
    "            spl = l.split('-')\n",
    "            for text in spl:\n",
    "                if (text == key or text == ' '+key+' '):\n",
    "                    f.close()\n",
    "                    return True\n",
    "    f.close()\n",
    "    return False\n",
    "\n",
    "def getKeyContentFromLog(log, key:str=''):\n",
    "    keyInLog = isKeyInLog(log,key)\n",
    "    if keyInLog:\n",
    "        with open(log, 'r') as f:\n",
    "            lines = f.readlines()\n",
    "            lines = [line.strip() for line in lines]\n",
    "            for l in lines:\n",
    "                spl = l.split(' - ')\n",
    "                for i in range(len(spl)):\n",
    "                    if (spl[i] == key or spl[i]  == ' '+key+' '):\n",
    "                        f.close()\n",
    "                        return spl[i+1]\n",
    "    \n",
    "    else:\n",
    "        return ''\n",
    "\n",
    "def scrapeLog(log,keyList:list):\n",
    "    outDict = {}\n",
    "    for key in keyList:\n",
    "        outDict[key] = getKeyContentFromLog(log,key)\n",
    "    return outDict    \n",
    "\n",
    "def add_row_to_excel(dictionary, filename):\n",
    "    '''\n",
    "    This function use df.to_excel() to add a line to an existing Excel file. If the Excel file is missing, or damaged, the function will create a new one in the place. \n",
    "    '''\n",
    "    # Open the Excel file\n",
    "    try:\n",
    "        df = pd.read_excel(filename)\n",
    "    except FileNotFoundError:\n",
    "        # If the file does not exist, create an empty DataFrame\n",
    "        df = pd.DataFrame()\n",
    "\n",
    "    # Convert the dictionary to a DataFrame\n",
    "    new_row = pd.DataFrame([dictionary])\n",
    "\n",
    "    # Append the new row to the DataFrame\n",
    "    df = pd.concat([df, new_row], ignore_index=True)\n",
    "\n",
    "    # Write the DataFrame back to the Excel file\n",
    "    df.to_excel(filename, index=False)\n"
   ]
  },
  {
   "cell_type": "markdown",
   "metadata": {},
   "source": [
    "## Importing and manipulating datasets"
   ]
  },
  {
   "cell_type": "code",
   "execution_count": null,
   "metadata": {},
   "outputs": [],
   "source": [
    "keyList = ['model','model name','Epochs','Batch Size','metric','Test metric','Data Set']\n",
    "folderToScrape= r'C:\\Users\\abfernan\\CrossCanFloodMapping\\FloodProbabRNCanAbd\\multirun'\n",
    "\n",
    "subStr = 'executeModels.log'\n",
    "excellPath = os.path.join(folderToScrape,'logSummaryMultirun.xlsx') \n",
    "listOfLosgs = ms.listALLFilesInDirByExt_fullPath(folderToScrape,'.log')\n",
    "\n",
    "for log in listOfLosgs:\n",
    "    ditToWrite = scrapeLog(log,keyList)\n",
    "    add_row_to_excel(ditToWrite,excellPath)\n",
    "\n"
   ]
  },
  {
   "cell_type": "markdown",
   "metadata": {},
   "source": [
    "### Data Analyse"
   ]
  },
  {
   "cell_type": "code",
   "execution_count": 22,
   "metadata": {
    "scrolled": true
   },
   "outputs": [
    {
     "name": "stdout",
     "output_type": "stream",
     "text": [
      "            x_coord        y_coord         GMorph        RelElev  \\\n",
      "count  2.878480e+05  287848.000000  287848.000000  287848.000000   \n",
      "mean  -1.269122e+06  254549.037992       0.609553       0.535586   \n",
      "std    2.291042e+03    3919.335357       0.182634       0.169836   \n",
      "min   -1.275256e+06  249032.000000       0.200000       0.218750   \n",
      "25%   -1.270232e+06  251112.000000       0.500000       0.366071   \n",
      "50%   -1.268712e+06  253640.000000       0.600000       0.589286   \n",
      "75%   -1.267336e+06  257944.000000       0.700000       0.683036   \n",
      "max   -1.265752e+06  262488.000000       1.000000       0.776786   \n",
      "\n",
      "               Slope      dInfFAcc           HAND      proximity  \\\n",
      "count  287848.000000  2.878480e+05  287848.000000  287848.000000   \n",
      "mean        0.056933  4.621921e-02       0.312629       0.425134   \n",
      "std         0.060854  6.452237e-01       0.199137       0.280041   \n",
      "min         0.000000  0.000000e+00       0.000000       0.000000   \n",
      "25%         0.008491  4.043389e-07       0.105607       0.181425   \n",
      "50%         0.030289  1.618066e-06       0.380791       0.392439   \n",
      "75%         0.091593  6.471317e-06       0.497093       0.648631   \n",
      "max         0.526019  9.925529e+00       0.592504       1.000000   \n",
      "\n",
      "              Labels  \n",
      "count  287848.000000  \n",
      "mean        0.170618  \n",
      "std         0.376175  \n",
      "min         0.000000  \n",
      "25%         0.000000  \n",
      "50%         0.000000  \n",
      "75%         0.000000  \n",
      "max         1.000000  \n"
     ]
    }
   ],
   "source": [
    "class1_Tr = r'C:\\Users\\abfernan\\CrossCanFloodMapping\\FloodMappingProjData\\HRDTMByAOI\\A_DatasetsForMLP\\RegionalModelingExplorationDatasets\\IndividualsClass1ForRegModelingExpl\\TrainingDatasets\\TrainingDatasetCombined\\Al_Lethbridge_Vs_2_5_13_19_30_31\\AL_Lethbridge_RMAOI_normalWRT_Top5Tr.csv'\n",
    "# class1_Val = r'C:\\Users\\abfernan\\CrossCanFloodMapping\\FloodMappingProjData\\HRDTMByAOI\\A_DatasetsForMLP\\RegionalModelingExplorationDatasets\\IndividualsClass1ForRegModelingExpl\\TrainingDatasets\\TrainingDatasetCombined\\validationSet_19_23_Normal.csv'\n",
    "\n",
    "\n",
    "class1_tr_DS =  pd.read_csv(class1_Tr,index_col=None)\n",
    "# print(class1_tr_DS.describe())\n",
    "\n",
    "# class1_Val_DS =  pd.read_csv(class1_Val,index_col=None)\n",
    "# print(class1_Val_DS.describe())\n",
    "\n",
    "# reader = pd.concat([class1_tr_DS,class1_Val_DS]) # reader = class1_tr_DS # \n",
    "reader = class1_tr_DS\n",
    "descriptor = reader.describe()\n",
    "\n",
    "print(descriptor)\n",
    "\n",
    "# dfDescriptorXclx = r'C:\\Users\\abfernan\\CrossCanFloodMapping\\FloodProbabRNCanAbd\\outputs\\Descriptor_class5_Full_Normalized.xlsx'\n",
    "\n",
    "# descriptor.to_excel(dfDescriptorXclx, index=True)\n"
   ]
  },
  {
   "cell_type": "code",
   "execution_count": 24,
   "metadata": {},
   "outputs": [
    {
     "data": {
      "text/html": [
       "<div>\n",
       "<style scoped>\n",
       "    .dataframe tbody tr th:only-of-type {\n",
       "        vertical-align: middle;\n",
       "    }\n",
       "\n",
       "    .dataframe tbody tr th {\n",
       "        vertical-align: top;\n",
       "    }\n",
       "\n",
       "    .dataframe thead th {\n",
       "        text-align: right;\n",
       "    }\n",
       "</style>\n",
       "<table border=\"1\" class=\"dataframe\">\n",
       "  <thead>\n",
       "    <tr style=\"text-align: right;\">\n",
       "      <th></th>\n",
       "      <th>RelElev</th>\n",
       "      <th>GMorph</th>\n",
       "      <th>Slope</th>\n",
       "      <th>dInfFAcc</th>\n",
       "      <th>HAND</th>\n",
       "      <th>proximity</th>\n",
       "      <th>Labels</th>\n",
       "    </tr>\n",
       "  </thead>\n",
       "  <tbody>\n",
       "    <tr>\n",
       "      <th>count</th>\n",
       "      <td>287848.000000</td>\n",
       "      <td>287848.000000</td>\n",
       "      <td>287848.000000</td>\n",
       "      <td>2.878480e+05</td>\n",
       "      <td>287848.000000</td>\n",
       "      <td>287848.000000</td>\n",
       "      <td>287848.000000</td>\n",
       "    </tr>\n",
       "    <tr>\n",
       "      <th>mean</th>\n",
       "      <td>0.535586</td>\n",
       "      <td>0.609553</td>\n",
       "      <td>0.056933</td>\n",
       "      <td>4.621921e-02</td>\n",
       "      <td>0.312629</td>\n",
       "      <td>0.425134</td>\n",
       "      <td>0.170618</td>\n",
       "    </tr>\n",
       "    <tr>\n",
       "      <th>std</th>\n",
       "      <td>0.169836</td>\n",
       "      <td>0.182634</td>\n",
       "      <td>0.060854</td>\n",
       "      <td>6.452237e-01</td>\n",
       "      <td>0.199137</td>\n",
       "      <td>0.280041</td>\n",
       "      <td>0.376175</td>\n",
       "    </tr>\n",
       "    <tr>\n",
       "      <th>min</th>\n",
       "      <td>0.218750</td>\n",
       "      <td>0.200000</td>\n",
       "      <td>0.000000</td>\n",
       "      <td>0.000000e+00</td>\n",
       "      <td>0.000000</td>\n",
       "      <td>0.000000</td>\n",
       "      <td>0.000000</td>\n",
       "    </tr>\n",
       "    <tr>\n",
       "      <th>25%</th>\n",
       "      <td>0.366071</td>\n",
       "      <td>0.500000</td>\n",
       "      <td>0.008491</td>\n",
       "      <td>4.043389e-07</td>\n",
       "      <td>0.105607</td>\n",
       "      <td>0.181425</td>\n",
       "      <td>0.000000</td>\n",
       "    </tr>\n",
       "    <tr>\n",
       "      <th>50%</th>\n",
       "      <td>0.589286</td>\n",
       "      <td>0.600000</td>\n",
       "      <td>0.030289</td>\n",
       "      <td>1.618066e-06</td>\n",
       "      <td>0.380791</td>\n",
       "      <td>0.392439</td>\n",
       "      <td>0.000000</td>\n",
       "    </tr>\n",
       "    <tr>\n",
       "      <th>75%</th>\n",
       "      <td>0.683036</td>\n",
       "      <td>0.700000</td>\n",
       "      <td>0.091593</td>\n",
       "      <td>6.471317e-06</td>\n",
       "      <td>0.497093</td>\n",
       "      <td>0.648631</td>\n",
       "      <td>0.000000</td>\n",
       "    </tr>\n",
       "    <tr>\n",
       "      <th>max</th>\n",
       "      <td>0.776786</td>\n",
       "      <td>1.000000</td>\n",
       "      <td>0.526019</td>\n",
       "      <td>9.925529e+00</td>\n",
       "      <td>0.592504</td>\n",
       "      <td>1.000000</td>\n",
       "      <td>1.000000</td>\n",
       "    </tr>\n",
       "  </tbody>\n",
       "</table>\n",
       "</div>"
      ],
      "text/plain": [
       "             RelElev         GMorph          Slope      dInfFAcc  \\\n",
       "count  287848.000000  287848.000000  287848.000000  2.878480e+05   \n",
       "mean        0.535586       0.609553       0.056933  4.621921e-02   \n",
       "std         0.169836       0.182634       0.060854  6.452237e-01   \n",
       "min         0.218750       0.200000       0.000000  0.000000e+00   \n",
       "25%         0.366071       0.500000       0.008491  4.043389e-07   \n",
       "50%         0.589286       0.600000       0.030289  1.618066e-06   \n",
       "75%         0.683036       0.700000       0.091593  6.471317e-06   \n",
       "max         0.776786       1.000000       0.526019  9.925529e+00   \n",
       "\n",
       "                HAND      proximity         Labels  \n",
       "count  287848.000000  287848.000000  287848.000000  \n",
       "mean        0.312629       0.425134       0.170618  \n",
       "std         0.199137       0.280041       0.376175  \n",
       "min         0.000000       0.000000       0.000000  \n",
       "25%         0.105607       0.181425       0.000000  \n",
       "50%         0.380791       0.392439       0.000000  \n",
       "75%         0.497093       0.648631       0.000000  \n",
       "max         0.592504       1.000000       1.000000  "
      ]
     },
     "execution_count": 24,
     "metadata": {},
     "output_type": "execute_result"
    }
   ],
   "source": [
    "max = 2238.\n",
    "min = 1.0\n",
    "\n",
    "\n",
    "# reader['Elev'] = class1_tr_DS['Cilp']\n",
    "\n",
    "\n",
    "# reader['Elev'] = (class1_tr_DS['D8FDir']-min)/(max-min)\n",
    "\n",
    "listeNames = ['RelElev','GMorph','Slope','dInfFAcc','HAND','proximity','Labels']\n",
    "\n",
    "reader = reader[listeNames]\n",
    "reader.describe()"
   ]
  },
  {
   "cell_type": "code",
   "execution_count": 25,
   "metadata": {
    "scrolled": true
   },
   "outputs": [
    {
     "name": "stdout",
     "output_type": "stream",
     "text": [
      "           RelElev  GMorph  Slope  dInfFAcc   HAND  proximity  Labels\n",
      "RelElev      1.000  -0.557 -0.215    -0.112  0.987      0.773  -0.674\n",
      "GMorph      -0.557   1.000 -0.044     0.129 -0.561     -0.366   0.497\n",
      "Slope       -0.215  -0.044  1.000    -0.050 -0.227     -0.351  -0.163\n",
      "dInfFAcc    -0.112   0.129 -0.050     1.000 -0.112     -0.108   0.152\n",
      "HAND         0.987  -0.561 -0.227    -0.112  1.000      0.803  -0.687\n",
      "proximity    0.773  -0.366 -0.351    -0.108  0.803      1.000  -0.563\n",
      "Labels      -0.674   0.497 -0.163     0.152 -0.687     -0.563   1.000\n"
     ]
    },
    {
     "data": {
      "text/plain": [
       "<Axes: >"
      ]
     },
     "execution_count": 25,
     "metadata": {},
     "output_type": "execute_result"
    },
    {
     "data": {
      "image/png": "[encoded data removed]",
      "text/plain": [
       "<Figure size 1100x800 with 2 Axes>"
      ]
     },
     "metadata": {},
     "output_type": "display_data"
    }
   ],
   "source": [
    "####. Covariance Matrix\n",
    "fig, ax = plt.subplots(figsize=(11, 8))\n",
    "ax.font_scale = 10\n",
    "sns.set_theme(font_scale=1)\n",
    "matrix = reader.corr().round(3)\n",
    "print(matrix)\n",
    "\n",
    "sns.heatmap(matrix,annot=True, linewidth=1)"
   ]
  },
  {
   "cell_type": "code",
   "execution_count": null,
   "metadata": {},
   "outputs": [],
   "source": [
    "### Pairplot ###\n",
    "sns.set_theme(font_scale=1.5)\n",
    "sns.pairplot(reader, hue = 'Labels', diag_kind = 'kde', \n",
    "             plot_kws = {'alpha': 0.8, 's': 100},\n",
    "             height = 4, corner=True, palette = \"Set2\")# vars = ['life_exp', 'log_pop', 'log_gdp_per_cap'],\n",
    "\n",
    "# sns.pairplot(DS, hue=\"percentage\")"
   ]
  },
  {
   "cell_type": "code",
   "execution_count": null,
   "metadata": {},
   "outputs": [],
   "source": [
    "# listeNames = ['Elev','RelElev','GMorph','FloodOrd','Slope','d8fllowAcc','HAND','proximity','Labels', 'Aoi_Id']\n",
    "\n",
    "plt.figure(figsize=(10, 6))\n",
    "sns.scatterplot(data=reader, x='Elev', y='RelElev', hue='Labels', palette='Set2')"
   ]
  },
  {
   "cell_type": "code",
   "execution_count": null,
   "metadata": {},
   "outputs": [],
   "source": [
    "class1_Tr = r'C:\\Users\\abfernan\\CrossCanFloodMapping\\FloodMappingProjData\\HRDTMByAOI\\A_DatasetsForMLP\\StratifiedSampling\\class5_Full.csv'\n",
    "reader =  pd.read_csv(class1_Tr,index_col=None)\n",
    "count = reader.shape[0]\n",
    "print(count)\n",
    "positives = reader[reader['Labels'] == 1].shape[0]\n",
    "posPercent = positives/count\n",
    "\n",
    "negatives = reader[reader['Labels'] == 0].shape[0]\n",
    "print(count)\n",
    "negPercent = negatives/count\n",
    "\n",
    "print(positives, posPercent)\n",
    "print(negatives, negPercent)\n"
   ]
  },
  {
   "cell_type": "markdown",
   "metadata": {},
   "source": [
    "##### Euclidean distance between Datasets"
   ]
  },
  {
   "cell_type": "code",
   "execution_count": null,
   "metadata": {},
   "outputs": [],
   "source": [
    "colsToCompare = ['RelElev','HAND','proximity',]\n",
    "pathA = r'C:\\Users\\abfernan\\CrossCanFloodMapping\\FloodMappingProjData\\HRDTMByAOI\\A_DatasetsForMLP\\RegionalModelingApplication\\NF_StJohnsMultyResolution\\class1_TrainingAllVsStJohns_RasterizedMode_Cleaned_Normal.csv'\n",
    "pathB = r'C:\\Users\\abfernan\\CrossCanFloodMapping\\FloodMappingProjData\\HRDTMByAOI\\A_DatasetsForMLP\\RegionalModelingApplication\\NF_StJohnsMultyResolution\\StJohns16m_Dataset_Class1_Cleaned_Normal.csv'\n",
    "\n",
    "datasetA = pd.read_csv(pathA,index_col=None)\n",
    "datasetA = datasetA[datasetA['proximity']<=1500]\n",
    "print(datasetA.describe())\n",
    "datasetB = pd.read_csv(pathB,index_col=None)\n",
    "datasetB = datasetB[datasetB['proximity']<=1500][10000:10003]\n",
    "\n",
    "gc.collect()"
   ]
  },
  {
   "cell_type": "code",
   "execution_count": null,
   "metadata": {},
   "outputs": [],
   "source": [
    "distanceByFeature, meanDist = ms.datasetsEuclideanDistances(datasetA,datasetB,colsToCompare)\n",
    "print(distanceByFeature)\n",
    "\n",
    "del distanceByFeature, meanDist\n",
    "#mean distance between the two datasets:453.64160770221173"
   ]
  },
  {
   "cell_type": "code",
   "execution_count": null,
   "metadata": {},
   "outputs": [],
   "source": [
    "a = csim(datasetA[colsToCompare],datasetB[colsToCompare])\n",
    "# print(a)\n",
    "print(np.mean(a))\n",
    "\n",
    "del a\n"
   ]
  },
  {
   "cell_type": "code",
   "execution_count": null,
   "metadata": {},
   "outputs": [],
   "source": [
    "gc.collect()"
   ]
  },
  {
   "cell_type": "markdown",
   "metadata": {},
   "source": [
    "# Model analyse"
   ]
  },
  {
   "cell_type": "markdown",
   "metadata": {},
   "source": [
    "### Model description"
   ]
  },
  {
   "cell_type": "code",
   "execution_count": null,
   "metadata": {},
   "outputs": [],
   "source": [
    "\n",
    "model = ms.loadModel(r'C:\\Users\\abfernan\\CrossCanFloodMapping\\FloodMappingProjData\\HRDTMByAOI\\MLP_Models\\2405231700.pkl')\n",
    "par,total = ms.count_parameters(model)"
   ]
  },
  {
   "cell_type": "markdown",
   "metadata": {},
   "source": [
    "### Feature importance"
   ]
  },
  {
   "cell_type": "code",
   "execution_count": null,
   "metadata": {},
   "outputs": [],
   "source": [
    "datasetPath = r'C:\\Users\\abfernan\\CrossCanFloodMapping\\FloodMappingProjData\\HRDTMByAOI\\A_DatasetsForMLP\\RegionalModelingExplorationDatasets\\IndividualsClass1ForRegModelingExpl\\TrainingDatasets\\TrainingDatasetCombined\\AL_Lethbridge_VsAll\\AL_Lethbridge_normalWRT_All.csv'\n",
    "labels = 'Labels'\n",
    "colsToDrop = ['x_coord','y_coord'] \n",
    "model = ms.loadModel(r'C:\\Users\\abfernan\\CrossCanFloodMapping\\FloodMappingProjData\\HRDTMByAOI\\MLP_Models\\2405231657.pkl')\n",
    "\n",
    "print('---------Starting feature importance ----------')\n",
    "\n",
    "met = md.F1_Macro_Average\n",
    "md.permutation_importance(datasetPath,labels,model,met,colsToDrop)\n"
   ]
  },
  {
   "cell_type": "markdown",
   "metadata": {},
   "source": [
    "# UMAP exploration"
   ]
  },
  {
   "cell_type": "code",
   "execution_count": null,
   "metadata": {},
   "outputs": [],
   "source": [
    "import umap\n",
    "\n",
    "def draw_umap(data, n_neighbors=15, min_dist=0.1, n_components=2, metric='euclidean', title=''):\n",
    "    fit = umap.UMAP(\n",
    "        n_neighbors=n_neighbors,\n",
    "        min_dist=min_dist,\n",
    "        n_components=n_components,\n",
    "        metric=metric\n",
    "    )\n",
    "    u = fit.fit_transform(data)\n",
    "    fig = plt.figure()\n",
    "    if n_components == 1:\n",
    "        ax = fig.add_subplot(111)\n",
    "        ax.scatter(u[:,0], range(len(u)), c=data)\n",
    "    if n_components == 2:\n",
    "        ax = fig.add_subplot(111)\n",
    "        ax.scatter(u[:,0], u[:,1], c=data)\n",
    "    if n_components == 3:\n",
    "        ax = fig.add_subplot(111, projection='3d')\n",
    "        ax.scatter(u[:,0], u[:,1], u[:,2], c=data, s=100)\n",
    "    plt.title(title, fontsize=18)"
   ]
  },
  {
   "cell_type": "code",
   "execution_count": null,
   "metadata": {},
   "outputs": [],
   "source": [
    "# dataNames = ['RelElev','GMorph','FloodOrd','Slope','d8fllowAcc','HAND','proximity','Labels','Aoi_Id']\n",
    "\n",
    "data = np.array(reader[['RelElev','GMorph','Slope','HAND','proximity']])\n",
    "contains_nan = np.isnan(data).any()\n",
    "print('data contains_nan? :', contains_nan)\n",
    "\n",
    "labels = np.array(reader['Labels'])\n",
    "\n",
    "embedding = umap.UMAP(n_neighbors = 15,\n",
    "                     metric='euclidean',\n",
    "                     min_dist=0.99,\n",
    "                     n_components=2,\n",
    "                     ).fit_transform(data,y=labels)"
   ]
  },
  {
   "cell_type": "code",
   "execution_count": null,
   "metadata": {},
   "outputs": [],
   "source": [
    "dataset = np.empty((embedding.shape[0],4))\n",
    "dataset[:,:2]= embedding\n",
    "dataset[:,2]= np.array(reader['Labels'])\n",
    "dataset[:,3]= np.array(reader['Aoi_Id'])\n",
    "dataFrame = pd.DataFrame(dataset, columns=['x','y','Labels','Aoi_Id'])"
   ]
  },
  {
   "cell_type": "code",
   "execution_count": null,
   "metadata": {},
   "outputs": [],
   "source": [
    "\n",
    "positives = dataFrame[dataFrame['Labels'] == 0]\n",
    "\n",
    "print(positives.shape)"
   ]
  },
  {
   "cell_type": "code",
   "execution_count": null,
   "metadata": {},
   "outputs": [],
   "source": [
    "\n",
    "classes = reader['Aoi_Id']\n",
    "classesUnique = np.unique(classes)\n",
    "print(classesUnique)\n",
    "\n",
    "fig, ax = plt.subplots(1, figsize=(10, 8))\n",
    "plt.scatter(dataFrame['x'],dataFrame['y'], s=0.1, c=dataFrame['Aoi_Id'], cmap='Spectral')\n",
    "plt.setp(ax, xticks=[], yticks=[])\n",
    "cbar = plt.colorbar(boundaries=np.arange(41)-0.5)\n",
    "cbar.set_ticks(np.arange(40))\n",
    "# cbar.set_ticklabels(classesUnique)\n",
    "plt.title('Testing UMAP in flood modeling \\n n_neighbors=15, metric=euclidean, min_dist=0.99 \\n Class5 \\n zones = [ 1  2  3  4  5  6  7 10 13 22 23 24 25 26 28 29 30]')# n_neighbors=5, metric=euclidean, min_dist=0.2"
   ]
  },
  {
   "cell_type": "code",
   "execution_count": null,
   "metadata": {},
   "outputs": [],
   "source": [
    "fig = plt.figure()\n",
    "ax = fig.add_subplot(111, projection='3d')\n",
    "ax.scatter(positives['x'], positives['y'], positives['z'], c=positives['Aoi_Id'], s=1)"
   ]
  },
  {
   "cell_type": "code",
   "execution_count": null,
   "metadata": {},
   "outputs": [],
   "source": [
    "### Import DataSet \n",
    "readSetPath = 'datasets/datasets4MLP/'\n",
    "importName = 'MLP_basin5_Test.csv'\n",
    "saveDatasetPath = 'datasets/datasets4MLP_Binary/'\n",
    "basinDataSet = pd.read_csv((readSetPath+importName), index_col = None)\n",
    "\n",
    "basinDataSet = ms.makeBinary(basinDataSet,'percentage',0,1)\n",
    "\n",
    "exportName = 'MLPBinary_basin5_Test.csv'\n",
    "basinDataSet.to_csv((saveDatasetPath+exportName), index=None)\n",
    "\n",
    "basinDataSet.describe()\n",
    "basinDataSet.head()"
   ]
  },
  {
   "cell_type": "code",
   "execution_count": null,
   "metadata": {},
   "outputs": [],
   "source": [
    "colNames = ['percentage','DLSOL5R200', 'DLSOL4R150', 'DLSOL5R150']\n",
    "for col in colNames: \n",
    "    basinDataSet[col].fillna(0,inplace=True)"
   ]
  },
  {
   "cell_type": "code",
   "execution_count": null,
   "metadata": {},
   "outputs": [],
   "source": [
    "## Transform a column datatype\n",
    "repalcer  = basinDataSet['percentage'].to_numpy().astype('int32')\n",
    "print(repalcer[0:10],repalcer.dtype)\n",
    "basinDataSet.loc[:,'percentage'] = repalcer"
   ]
  },
  {
   "cell_type": "code",
   "execution_count": null,
   "metadata": {},
   "outputs": [],
   "source": [
    "### Make binary Dataset ###\n",
    "# keep class_0 and replace with 1 all other classes. \n",
    "basinDataSet = ms.makeBinary(basinDataSet,'percentage',0,1)\n"
   ]
  },
  {
   "cell_type": "code",
   "execution_count": null,
   "metadata": {},
   "outputs": [],
   "source": [
    "basinDataSet.describe()"
   ]
  },
  {
   "cell_type": "code",
   "execution_count": null,
   "metadata": {},
   "outputs": [],
   "source": [
    "basinDataSet.head()"
   ]
  },
  {
   "cell_type": "code",
   "execution_count": null,
   "metadata": {},
   "outputs": [],
   "source": [
    "basinDataSet.isna().any()"
   ]
  },
  {
   "cell_type": "code",
   "execution_count": null,
   "metadata": {},
   "outputs": [],
   "source": [
    "exportName = 'MLPBinary_basin3_Training.csv'\n",
    "basinDataSet.to_csv((saveDatasetPath+exportName), index=None)"
   ]
  },
  {
   "cell_type": "code",
   "execution_count": null,
   "metadata": {},
   "outputs": [],
   "source": [
    "### Replacing QGIS NoData value(-9999) with 0 \n",
    "repalcer  = basinDataSet['FAProx_01'].to_numpy()\n",
    "basinDataSet['FAProx_01'] = [0 if repalcer[j] == -9999 else repalcer[j] for j in range(len(repalcer))]                                                                                                                         \n",
    "                                                                                                                          "
   ]
  },
  {
   "cell_type": "code",
   "execution_count": null,
   "metadata": {},
   "outputs": [],
   "source": [
    "basinDataSet.dropna(subset=['slope'],inplace=True)"
   ]
  },
  {
   "cell_type": "code",
   "execution_count": null,
   "metadata": {},
   "outputs": [],
   "source": [
    "basinDataSet.drop(['fid'], axis =1, inplace=True)"
   ]
  },
  {
   "cell_type": "code",
   "execution_count": null,
   "metadata": {},
   "outputs": [],
   "source": [
    "basinDataSet.isna().sum()"
   ]
  },
  {
   "cell_type": "code",
   "execution_count": null,
   "metadata": {},
   "outputs": [],
   "source": [
    "#### NOrmalize Flow Accumulation\n",
    "basinDataSet['FAcc'] = (basinDataSet['FAcc']- basinDataSet['FAcc'].min())/(basinDataSet['FAcc'].max()-basinDataSet['FAcc'].min())\n"
   ]
  },
  {
   "cell_type": "code",
   "execution_count": null,
   "metadata": {},
   "outputs": [],
   "source": [
    "ds = DS.head(5)\n",
    "s = {}\n",
    "s['Datas'] = ds\n",
    "print(s)"
   ]
  },
  {
   "cell_type": "markdown",
   "metadata": {},
   "source": [
    "## Proportional Spliting "
   ]
  },
  {
   "cell_type": "code",
   "execution_count": null,
   "metadata": {},
   "outputs": [],
   "source": [
    "## Stratified Split\n",
    "from sklearn.model_selection import StratifiedShuffleSplit\n",
    "\n",
    "X,Y = ms.importDataSet('datasets/basin1_FirstFeatureSet_Clean.csv', 'percentage')\n",
    "sss = StratifiedShuffleSplit(n_splits=1, test_size=0.2, random_state=50)\n",
    "for train_index, test_index in sss.split(X, Y):\n",
    "    print(\"TRAIN:\", train_index.size, \"TEST:\", test_index.size)\n",
    "    X_train = X.iloc[train_index]\n",
    "    y_train = Y.iloc[train_index]\n",
    "    X_test = X.iloc[test_index]\n",
    "    y_test = Y.iloc[test_index]"
   ]
  },
  {
   "cell_type": "code",
   "execution_count": null,
   "metadata": {},
   "outputs": [],
   "source": [
    "## Describing training set\n",
    "print(len(X_train['elevation']), len(y_train) )\n",
    "trainCount = Counter(y_train)\n",
    "print(trainCount)"
   ]
  },
  {
   "cell_type": "code",
   "execution_count": null,
   "metadata": {},
   "outputs": [],
   "source": [
    "#####    Creating training set     #####\n",
    "X_train.loc[:,'percentage'] = y_train\n",
    "X_train.head()\n"
   ]
  },
  {
   "cell_type": "code",
   "execution_count": null,
   "metadata": {},
   "outputs": [],
   "source": [
    "## Removing coordinates from training set\n",
    "X_train.drop(['x_coord','y_coord'], axis =1, inplace=True)\n",
    "X_train.head()"
   ]
  },
  {
   "cell_type": "code",
   "execution_count": null,
   "metadata": {},
   "outputs": [],
   "source": [
    "X_train.to_csv('datasets/basin1_FirstFeatureSet_Clean_Training.csv', index=None)"
   ]
  },
  {
   "cell_type": "code",
   "execution_count": null,
   "metadata": {},
   "outputs": [],
   "source": [
    "#####. Creating Test set\n",
    "print(X_test.head())\n",
    "X_test.loc[:,'percentage'] = y_test\n",
    "print(X_test.head())\n",
    "print(X_test.info())\n",
    "testCount = Counter(X_test['percentage'])\n",
    "print(f\"testCount:  {testCount}\")\n"
   ]
  },
  {
   "cell_type": "code",
   "execution_count": null,
   "metadata": {},
   "outputs": [],
   "source": [
    "X_test.to_csv('datasets/basin1_FirstFeatureSet_Clean_Test.csv', index=None)"
   ]
  },
  {
   "cell_type": "code",
   "execution_count": null,
   "metadata": {},
   "outputs": [],
   "source": [
    "## This proportions are the reason why a sample_weight of 0.01 for the majority class give best results for regression\n",
    "totalTrain = sum([trainCount[0], trainCount[1], trainCount[5]]) \n",
    "totalValidation = sum([testCount[0], testCount[1], testCount[5]])\n",
    "print(f\"total Train samples: {totalTrain},  total Validation samples: {totalValidation}\")\n",
    "print(\"Summary of traning and test dataset class balance\")\n",
    "print(f\"Training Set:\", '\\n', \"Class 0: %.3f\" %(trainCount[0]/totalTrain), \" Class 1: %.4f\" %(trainCount[1]/totalTrain), \"Class 5: %.4f\"%(trainCount[5]/totalTrain))\n",
    "print(\"Testing Set:\", '\\n', \"Class 0: %.3f\" %(testCount[0]/totalValidation),\" Class 1: %.4f\" %(testCount[1]/totalValidation),  \"Class 5: %.4f\"%(testCount[5]/totalValidation))\n",
    "\n"
   ]
  },
  {
   "cell_type": "code",
   "execution_count": null,
   "metadata": {},
   "outputs": [],
   "source": [
    "model = ms.loadModel('./outputs/2022-08-05/00-35-58/2208050035.pkl')\n",
    "dataSetToSave = ms.makePredictionToImportAsSHP(csvName, model, X, Y, 'percentage')\n",
    "print(dataSetToSave.head())"
   ]
  },
  {
   "cell_type": "markdown",
   "metadata": {},
   "source": [
    "## Combining dataSets to build AllVsOne_training and OneVsAll_test"
   ]
  },
  {
   "cell_type": "code",
   "execution_count": null,
   "metadata": {},
   "outputs": [],
   "source": [
    "# Concat datasets\n",
    "sourceFileForDatasets = 'datasets/'\n",
    "allDataSetsNames = ['basin1Light_Clean.csv', 'basin2_CleanDataSet.csv', 'basin3_CleanDataSet_copy.csv','basin4_CleanDataSet.csv','basin5_CleanDataSet.csv']\n",
    "# OneVsAllDataSetName = 'basin1Light_Clean.csv'\n",
    "\n",
    "for datasetForTest in allDataSetsNames:\n",
    "    filename, file_extension = os.path.splitext(datasetForTest)\n",
    "    newListOfNames = [s for s in allDataSetsNames if s != datasetForTest]\n",
    "    allDataSetsFileName = 'allVs_'+ filename +'_Training'\n",
    "    DFToConcatAll = pd.DataFrame()\n",
    "#     DFToConcatAll = pd.read_csv((sourceFileForDatasets+datasetForTest), index_col = None)\n",
    "#     print(DFToConcatAll.head())\n",
    "    for datasets in newListOfNames:\n",
    "        DFToConcatAll = pd.concat([DFToConcatAll, pd.read_csv((sourceFileForDatasets+datasets), index_col = None)])\n",
    "    nameToSafe = sourceFileForDatasets+allDataSetsFileName+file_extension\n",
    "    DFToConcatAll.drop(['x_coord','y_coord'], axis =1, inplace=True)\n",
    "    DFToConcatAll.to_csv(nameToSafe, index=None)    \n",
    "    \n",
    "\n"
   ]
  },
  {
   "cell_type": "markdown",
   "metadata": {},
   "source": [
    "## Preparing datasets for MLP"
   ]
  },
  {
   "cell_type": "code",
   "execution_count": null,
   "metadata": {},
   "outputs": [],
   "source": [
    "destiationPath = 'datasets/RFdatasets'\n",
    "listFile = os.listdir(destiationPath)\n",
    "print(listFile)"
   ]
  },
  {
   "cell_type": "code",
   "execution_count": null,
   "metadata": {},
   "outputs": [],
   "source": [
    "testList = ['basin1Light_Clean_Test.csv','basin2_Test.csv','basin3_Test.csv','basin4_Test.csv','basin5_Test.csv']\n",
    "traininList = ['basin1Light_Clean_Training.csv','basin2_Training.csv','basin3_Training.csv','basin4_Training.csv','basin5_Training.csv']"
   ]
  },
  {
   "cell_type": "code",
   "execution_count": null,
   "metadata": {},
   "outputs": [],
   "source": [
    "## Cleaning datasets: Removing not usefull variables from All_VS_ONE \n",
    "readPath = 'datasets/RFdatasets/'\n",
    "destiationPath = 'datasets/dataset4MLP/'\n",
    "datasetNamelist = ['basin1Light_Clean_Test.csv','basin2_Test.csv','basin3_Test.csv','basin4_Test.csv','basin5_Test.csv',\n",
    "                  'basin1Light_Clean_Training.csv','basin2_Training.csv','basin3_Training.csv','basin4_Training.csv',\n",
    "                   'basin5_Training.csv']\n",
    "featuresToDelete = ['TPI','TWI']\n",
    "for i in datasetNamelist:\n",
    "    path = readPath + i \n",
    "    basinDataSet = pd.read_csv(path, index_col = None)\n",
    "    basinDataSet.drop(featuresToDelete, axis=1, inplace=True)\n",
    "    savePath = destiationPath + 'MLP_'+ i\n",
    "    basinDataSet.to_csv(savePath, index=None)\n"
   ]
  },
  {
   "cell_type": "code",
   "execution_count": null,
   "metadata": {},
   "outputs": [],
   "source": [
    "###. Build dataset subset for MLP test (Only first 150K samples)\n",
    "readPath = 'datasets/dataset4MLP/'\n",
    "datasetNamelist = ['MLP_allVs_basin1Light_Clean_Training.csv','MLP_basin1Light_Clean_VsAll_Test.csv']\n",
    "for i in datasetNamelist:\n",
    "    path = readPath + i \n",
    "    basinDataSet = pd.read_csv(path, index_col = None)\n",
    "    Y = np.array(basinDataSet['percentage'])\n",
    "    count,_ = md.listClassCountPercent(Y)\n",
    "    basinDataSet.drop(basinDataSet.loc[150000:count].index,axis=0,inplace=True)\n",
    "    savePath = readPath + 'reduced_'+i\n",
    "    basinDataSet.to_csv(savePath, index=None)"
   ]
  },
  {
   "cell_type": "code",
   "execution_count": null,
   "metadata": {},
   "outputs": [],
   "source": [
    "### Exploring datasets\n",
    "dataset = ['reduced_MLP_allVs_basin1Light_Clean_Training.csv','reduced_MLP_basin1Light_Clean_VsAll_Test.csv']\n",
    "for i in dataset:\n",
    "    path = readPath + i \n",
    "    print(path)\n",
    "    basinDataSet = pd.read_csv(path, index_col = None)\n",
    "    print(basinDataSet.head())\n",
    "    Y = np.array(basinDataSet['percentage'])\n",
    "    print(md.listClassCountPercent(Y))"
   ]
  },
  {
   "cell_type": "code",
   "execution_count": null,
   "metadata": {},
   "outputs": [],
   "source": [
    "####.  Training TEST\n",
    "readPath = 'datasets/dataset4MLP/'\n",
    "trainingPath = readPath + 'MLP_allVs_basin1Light_Clean_Training.csv'\n",
    "params = {'random_state':50, 'hidden_layer_sizes': 2,\n",
    "                'early_stopping':True,'max_iter':200,'verbose':False,\n",
    "                'tol':0.00010,'validation_fraction':0.1,'warm_start':False}\n",
    "mlpc = md.implementingMLPCalssifier(trainingPath,'percentage',params)\n",
    "mlpc.fitMLPClassifier()\n",
    "mlpc.plotLossBehaviour()\n",
    "\n",
    "mlpClassifier = mlpc.getMLPClassifier()\n",
    "\n",
    "# #Validating un unseen datase\n",
    "# validation = readPath + 'MLP_basin1Light_Clean_VsAll_Test.csv'\n",
    "# x_val,y_val = ms.importDataSet(validation, 'percentage')\n",
    "# prediction = ms.makePredictionToImportAsSHP(mlpClassifier, x_val, y_val, 'percentage')\n",
    "\n",
    "# ## Compute metrics\n",
    "# X = x_val.copy()\n",
    "# X.drop(['x_coord','y_coord'], axis=1, inplace=True)\n",
    "# metrics = md.computeClassificationMetrics(mlpClassifier,X,y_val)"
   ]
  },
  {
   "cell_type": "code",
   "execution_count": null,
   "metadata": {},
   "outputs": [],
   "source": [
    "print(mlpc.get_logsDic())\n",
    "mlpc.logMLPClassifier({'test':34})\n",
    "print(mlpc.get_logsDic())"
   ]
  },
  {
   "cell_type": "code",
   "execution_count": null,
   "metadata": {},
   "outputs": [],
   "source": [
    "prediction.to_csv(('outputs/'+ 'MLP_basin1Light_firstResult_HL280.csv'),index=None)"
   ]
  },
  {
   "cell_type": "code",
   "execution_count": null,
   "metadata": {},
   "outputs": [],
   "source": [
    "### Implement bets hiddenLayerSize exploration\n",
    "readPath = 'datasets/dataset4MLP/'\n",
    "trainingPath = readPath + 'MLP_allVs_basin1Light_Clean_Training.csv'\n",
    "validation = readPath + 'MLP_basin1Light_Clean_VsAll_Test.csv'\n",
    "# dataset = pd.read_csv(trainingPath, index_col = None)\n",
    "params = {'random_state':50, 'hidden_layer_sizes': 2,\n",
    "                'early_stopping':False,'max_iter':2,'verbose':True,\n",
    "                'tol':0.00010,'validation_fraction':0.1,'warm_start':False}\n",
    "mlpc = md.implementingMLPCalssifier(trainingPath,'percentage',params)\n",
    "\n",
    "x_val,Y_val = ms.importDataSet(validation, 'percentage')\n",
    "X = x_val.copy()\n",
    "X.drop(['x_coord','y_coord'], axis=1, inplace=True)\n",
    "firstInterval = np.arange(100,1009,100)\n",
    "mlpc.explore4BestHLSize(X,Y_val,firstInterval,'5',3)"
   ]
  },
  {
   "cell_type": "markdown",
   "metadata": {},
   "source": [
    "## Controled sampling"
   ]
  },
  {
   "cell_type": "code",
   "execution_count": null,
   "metadata": {},
   "outputs": [],
   "source": [
    "DS = pd.read_csv('datasets/basin2 _Training.csv', index_col = None)\n",
    "print(DS.head())\n"
   ]
  },
  {
   "cell_type": "code",
   "execution_count": null,
   "metadata": {},
   "outputs": [],
   "source": [
    "print(DS.columns)"
   ]
  },
  {
   "cell_type": "code",
   "execution_count": null,
   "metadata": {},
   "outputs": [],
   "source": [
    "plt.boxplot(DS['FAProx_01']) # , , DS['elevation'], DS['disToRiv']]"
   ]
  },
  {
   "cell_type": "code",
   "execution_count": null,
   "metadata": {},
   "outputs": [],
   "source": [
    "## Resampling appliying class selection by rule:\n",
    "\n",
    "# RULE1: Select point at a distance to river less than 300m. \n",
    "\n",
    "# # newDS = pseudoClassCreation(DS, \"distanceToRiver\", 300, 2)\n",
    "def pseudoClassCreation(dataset, conditionVariable, threshold, pseudoClass, targetClassName):\n",
    "    '''\n",
    "    Replace <targetClass> by  <pseudoClass> where <conditionVariable >= threshold>. \n",
    "    Return:\n",
    "      dataset with new classes group. \n",
    "    '''\n",
    "    datsetReclassified = dataset.copy()\n",
    "    actualTarget = (np.array(dataset[targetClassName])).ravel()\n",
    "    conditionVar = (np.array(dataset[conditionVariable])).ravel()\n",
    "    datsetReclassified[targetClassName] = [ pseudoClass if conditionVar[j] >= threshold \n",
    "                                           else actualTarget[j]\n",
    "                                           for j in range(len(actualTarget))]\n",
    "    print(Counter(datsetReclassified[targetClassName]))\n",
    "    return  datsetReclassified\n",
    "\n",
    "def revertPseudoClassCreation(dataset, originalClass, pseudoClass, targetClassName):\n",
    "    '''\n",
    "    Restablich  <targetClass> with <originalClass> where <targetClassName == pseudoClass>. \n",
    "    Return:\n",
    "      dataset with original classes group. \n",
    "    '''\n",
    "    datsetReclassified = dataset.copy()\n",
    "    actualTarget = (np.array(dataset[targetClassName])).ravel()\n",
    "    datsetReclassified[targetClassName] = [ originalClass if actualTarget[j] == pseudoClass\n",
    "                                           else actualTarget[j]\n",
    "                                           for j in range(len(actualTarget))]\n",
    "    print(Counter(datsetReclassified[targetClassName]))\n",
    "    return  datsetReclassified\n",
    "\n",
    "\n",
    "print(Counter(X_train['percentage']))\n",
    "newDS = pseudoClassCreation(X_train, 'disToRiv', 200, 2, 'percentage')\n",
    "y = newDS['percentage']\n",
    "newDS.drop(['percentage'], axis=1, inplace = True)\n",
    "x_res,y_res = ms.randomUndersampling(newDS, y, )\n",
    "x_res['percentage'] = y_res\n",
    "# newDatase = revertPseudoClassCreation(x_res, 0, 2, 'percentage')\n"
   ]
  },
  {
   "cell_type": "code",
   "execution_count": null,
   "metadata": {},
   "outputs": [],
   "source": [
    "x_res.to_csv('basin1ControlClass0Sampling4Class_ToSHP.csv',index = None)"
   ]
  },
  {
   "cell_type": "markdown",
   "metadata": {},
   "source": [
    "# Data description and visualization"
   ]
  },
  {
   "cell_type": "code",
   "execution_count": null,
   "metadata": {},
   "outputs": [],
   "source": [
    "#### import dataset to describe\n",
    "DS= pd.read_csv('datasets/RFDatasets/basin5_CleanDataSet.csv', index_col=None)\n",
    "DS.drop(['x_coord','y_coord'], axis=1, inplace=True)\n",
    "DS.head()"
   ]
  },
  {
   "cell_type": "code",
   "execution_count": null,
   "metadata": {
    "scrolled": true
   },
   "outputs": [],
   "source": [
    "####. Covariance Matrix\n",
    "fig, ax = plt.subplots(figsize=(15, 10))\n",
    "ax.font_scale = 9\n",
    "# sns.set(font_scale=1.5)\n",
    "matrix = DS.corr().round(2)\n",
    "sns.heatmap(matrix, annot=True, linewidth=1)\n"
   ]
  },
  {
   "cell_type": "code",
   "execution_count": null,
   "metadata": {},
   "outputs": [],
   "source": [
    "DS.drop(['x_coord','y_coord'], axis = 1, inplace=True)\n",
    "DS.head()"
   ]
  },
  {
   "cell_type": "code",
   "execution_count": null,
   "metadata": {},
   "outputs": [],
   "source": [
    "def plotVectorsPDFComparison(vectorList:list,nameList:list=[],title:str='PDF', histBins:int=1, addmax= False):\n",
    "    '''\n",
    "    # this create the kernel, given an array, it will estimate the probability over that values\n",
    "    kde = gaussian_kde( data )\n",
    "    # these are the values over which your kernel will be evaluated\n",
    "    dist_space = linspace( min(data), max(data), 100 )\n",
    "    # plot the results\n",
    "    plt.plot( dist_space, kde(dist_space))\n",
    "    @vectorList:list,\n",
    "    @title:str='RasterPDF' \n",
    "    @bins:int = 100 \n",
    "    ''' \n",
    "    global_Min = 0\n",
    "    global_Max = -np.inf\n",
    "    fullDataSet = np.array([], dtype=np.float32)\n",
    "    i= 0\n",
    "\n",
    "    ### Prepare plot\n",
    "    fig, ax = plt.subplots(1,sharey=True, sharex=True, tight_layout=True,facecolor='none')\n",
    "    plt.grid(True, color='black', linestyle='--', linewidth=0.1)\n",
    "    # plt.legend(loc=0, bbox_to_anchor=(1.1,1.5))\n",
    "    colors = plt.cm.turbo(np.linspace(0, 1, 10*len(vectorList)))# \n",
    "    '''\n",
    "    turbo; jet; nipy_spectral;gist_ncar;gist_rainbow;rainbow, brg\n",
    "    '''\n",
    "    colorIdx = 4\n",
    "    for item in vectorList:\n",
    "        dataMin =  np.min(item)\n",
    "        relativeElevation = np.subtract(item,dataMin)\n",
    "        fullDataSet = np.concatenate((fullDataSet,relativeElevation))\n",
    "        dataMin =  np.min(relativeElevation)\n",
    "        dataMax = np.max(relativeElevation)\n",
    "        global_Min = np.minimum(global_Min,dataMin)\n",
    "        global_Max = np.maximum(global_Max,dataMax)\n",
    "\n",
    "        ## If <bins> is a list, add the maximum value to <bins>.  \n",
    "        if (addmax and isinstance(bins,list)):\n",
    "            bins.append(global_Max).astype(int)\n",
    "        counts, bins = np.histogram(item, bins=histBins)\n",
    "        bin_centers = 0.5 * (bins[:-1] + bins[1:])\n",
    "        ax.plot(bin_centers, counts,color=colors[colorIdx],linewidth=0.8)\n",
    "        # nameList.append(f'Vector {i}')\n",
    "        i+=1\n",
    "        colorIdx+=4\n",
    "        \n",
    "    # ## UNcoment to Plot global PDF\n",
    "    # counts, bins = np.histogram(fullDataSet, bins= 400)\n",
    "    # bin_centers = 0.5 * (bins[:-1] + bins[1:])\n",
    "    # ax.plot(bin_centers, counts,color='red',linewidth=0.9, label='global')\n",
    "    # nameList.append('global')\n",
    "    \n",
    "    ## Complet plot space\n",
    "    ax.legend(nameList, prop={'size': 11},loc ='upper right')\n",
    "    ax.set_title(title)\n",
    "    ax.set_ylabel('Frequency')\n",
    "    ax.set_xlabel('Normalized values')"
   ]
  },
  {
   "cell_type": "code",
   "execution_count": null,
   "metadata": {},
   "outputs": [],
   "source": [
    "## Histograms\n",
    "## Import \n",
    "colsToDescribe = ['RelElev', 'GMorph','Slope','d8fllowAcc','HAND','proximity']\n",
    "\n",
    "colsToCompare = ['RelElev','HAND','proximity']\n",
    "\n",
    "pathTrainingDataset = r'C:\\Users\\abfernan\\CrossCanFloodMapping\\FloodMappingProjData\\HRDTMByAOI\\A_DatasetsForMLP\\RegionalModelingExplorationDatasets\\IndividualsClass1ForRegModelingExpl\\TrainingDatasets\\TrainingDatasetCombined\\Al_Lethbridge_Vs_2_5_13_19_30_31\\AL_Lethbridge_Top5TrNorm.csv'\n",
    "\n",
    "pathValidationDataset = r'C:\\Users\\abfernan\\CrossCanFloodMapping\\FloodMappingProjData\\HRDTMByAOI\\A_DatasetsForMLP\\RegionalModelingExplorationDatasets\\IndividualsClass1ForRegModelingExpl\\TrainingDatasets\\TrainingDatasetCombined\\Al_Lethbridge_Vs_2_5_13_19_30_31\\AL_Lethbridge_RMAOI_normalWRT_Top5Tr.csv'\n",
    "\n",
    "datasetA = pd.read_csv(pathTrainingDataset,index_col=None)\n",
    "print(datasetA.describe())\n",
    "datasetB = pd.read_csv(pathValidationDataset,index_col=None)\n",
    "print(datasetB.describe())\n",
    "\n",
    "labelsA = datasetA['Labels'].values\n",
    "unique, counts = np.unique(labelsA, return_counts=True)\n",
    "print(\"Label balance on Training set: \", \"\\n\",unique,\"\\n\",counts)\n",
    "\n",
    "labelsB = datasetB['Labels'].values\n",
    "unique, counts = np.unique(labelsB, return_counts=True)\n",
    "print(\"Label balance on validation set: \", \"\\n\",unique,\"\\n\",counts)\n",
    "\n",
    "\n",
    "### Satandardize:\n",
    "# datasetB = ms.normalizeDatasetByColNameList(pathTrainingDataset,colNamesList=colsToCompare)\n",
    "# datasetA = ms.normalizeDatasetByColNameList(pathTrainingDataset,pathValidationDataset,colNamesList=colsToCompare)\n",
    "\n",
    "\n",
    "### Save Summary\n",
    "# datasetA[colsToDescribel].describe().round(2).to_csv(r'C:\\Users\\abfernan\\CrossCanFloodMapping\\GitLabRepos\\FloodProbabRNCanAbd\\local\\NF_PortugalCove_Sumary.csv', sep=';')\n",
    "# datasetB[colsToDescribel].describe().round(2).to_csv(r'C:\\Users\\abfernan\\CrossCanFloodMapping\\GitLabRepos\\FloodProbabRNCanAbd\\local\\NF_Shearstown_Sumary.csv', sep=';')\n",
    "# print(datasetA.describe(),'\\n', datasetB.describe())\n",
    "\n",
    "\n",
    "### Plot Histogramas of all values. \n",
    "namelist = ['All available basins','AL_Lethbridge']\n",
    "bins = 80\n",
    "\n",
    "colName = 'RelElev'\n",
    "plotVectorsPDFComparison([datasetA[colName].values,datasetB[colName].values],namelist,title=colName, histBins=bins)\n",
    "colName = 'HAND'\n",
    "plotVectorsPDFComparison([datasetA[colName].values,datasetB[colName].values],namelist,title=colName, histBins=bins)\n",
    "colName = 'proximity'\n",
    "plotVectorsPDFComparison([datasetA[colName].values,datasetB[colName].values],namelist,title=colName, histBins=bins)\n",
    "# # _,_ = ms.datasetsEuclideanDistances(datasetA,datasetB,colsToCompare)"
   ]
  },
  {
   "cell_type": "code",
   "execution_count": null,
   "metadata": {},
   "outputs": [],
   "source": [
    "# Crear datos de vectores\n",
    "vectorB = datasetB[colsToCompare].values\n",
    "vectorA = datasetA[colsToCompare].values\n",
    "\n",
    "# Crear la figura 3D\n",
    "ax = plt.axes(projection='3d')\n",
    "# ax = fig.add_subplot(111, projection='3d')\n",
    "\n",
    "# # Dibujar cada vector\n",
    "# for vector in vectorB:\n",
    "#     ax.quiver(0, 0, 0, vector[0], vector[1], vector[2])\n",
    "xb= vectorB\n",
    "yb= vectorB\n",
    "zb= vectorB\n",
    "xa= vectorA\n",
    "ya= vectorA\n",
    "za= vectorA\n",
    "\n",
    "# Establecer límites de la gráfica\n",
    "ax.set_xlim([-0.1, 25])\n",
    "ax.set_ylim([-0.1, 25])\n",
    "ax.set_zlim([-0.1, 25])\n",
    "\n",
    "ax.scatter(xb,yb,zb, marker='o', alpha=0.1)\n",
    "ax.scatter(xa,ya,za, marker='x', alpha=0.1)\n",
    "\n",
    "\n",
    "# Mostrar la gráfica\n",
    "plt.show()"
   ]
  },
  {
   "cell_type": "code",
   "execution_count": null,
   "metadata": {},
   "outputs": [],
   "source": [
    "### 3D Visualization\n",
    "\n",
    "from stl import mesh\n",
    "\n",
    "\n",
    "def vectorTo_STL(vector_3d, stlPath):\n",
    "    dims = vector_3d.shape\n",
    "    print(vector_3d.shape)\n",
    "    print(vector_3d[0])\n",
    "    # Crea el objeto mesh\n",
    "    your_mesh = mesh.Mesh(np.zeros((dims[0],dims[1]), dtype=mesh.Mesh.dtype))\n",
    "\n",
    "    for i, f in enumerate(vector_3d):\n",
    "        for j in range(3):\n",
    "            your_mesh.vectors[i][j] = vector_3d[i][j]\n",
    "\n",
    "    # Escribe el archivo STL\n",
    "    your_mesh.save(stlPath)"
   ]
  },
  {
   "cell_type": "code",
   "execution_count": null,
   "metadata": {},
   "outputs": [],
   "source": [
    "vectorA = datasetA[colsToCompare].values\n",
    "path = 'vectorA.stl'\n",
    "vectorTo_STL(vectorA,path)"
   ]
  },
  {
   "cell_type": "code",
   "execution_count": null,
   "metadata": {},
   "outputs": [],
   "source": [
    "vectorB = datasetB[colsToCompare].values\n",
    "path = 'vectorB.stl'\n",
    "vectorTo_STL(vectorB,path)"
   ]
  },
  {
   "cell_type": "code",
   "execution_count": null,
   "metadata": {},
   "outputs": [],
   "source": [
    "import faiss  \n",
    "\n",
    "# make faiss available\n",
    "vectorA = datasetA[colsToCompare].values\n",
    "index = faiss.IndexPQ()  # build the index\n",
    "print(index.is_trained)\n",
    "index.add(vectorA)                  # add vectors to the index\n",
    "print(index.ntotal)\n",
    "vectorB = datasetB[colsToCompare].values\n",
    "index.add(vectorB[:1])                  # add vectors to the index\n",
    "print(index.ntotal)"
   ]
  },
  {
   "cell_type": "code",
   "execution_count": null,
   "metadata": {},
   "outputs": [],
   "source": [
    "%%time\n",
    "k = 4                          # we want to see 4 nearest neighbors\n",
    "D, I = index.search(vectorA,10) # sanity check\n",
    "print(I.shape)\n",
    "# print(D)"
   ]
  },
  {
   "cell_type": "code",
   "execution_count": null,
   "metadata": {},
   "outputs": [],
   "source": [
    "### FAcc vs Labels\n",
    "targets = DS['percentage']\n",
    "colList = ['FAProx_01','FAProx_025','FAcc']\n",
    "fig, axs = plt.subplots(1,3, figsize=(15,5), sharey=True)\n",
    "fig.text(-0.02, 0.5, 'Flood probability (%)', va='center', rotation='vertical')\n",
    "fig.text(0.5, 1, 'Density Lines vs labels distribution', ha ='center')\n",
    "j=0\n",
    "for i in colList:\n",
    "    axs[j].scatter(DS[i],targets)\n",
    "    # axs[j].set_title(i)\n",
    "    axs[j].set(xlabel= i)\n",
    "    j+=1\n",
    "\n",
    "plt.rcParams['font.size'] = '20'\n",
    "fig.tight_layout()\n"
   ]
  },
  {
   "cell_type": "code",
   "execution_count": null,
   "metadata": {
    "scrolled": true
   },
   "outputs": [],
   "source": [
    "\n",
    "## Plot all features vs labels\n",
    "# 'disToRiv', 'TWI', 'TPI', 'slope', 'elevation',\n",
    "\n",
    "targets = DS['percentage']\n",
    "# targets = np.where(targets == 5,2,targets)\n",
    "\n",
    "E = DS['elevation'] \n",
    "slope = DS['slope']\n",
    "FAcc = DS['FAcc']\n",
    "TWI = DS['TWI']\n",
    "TPI = DS['TPI']\n",
    "DLSOL4R150 = DS['LDSOL4R150']\n",
    "DLSOL5R150 = DS['LDSOL5R150']\n",
    "DLSOL5R200 = DS['LDSOL5R200']\n",
    "FAProx_01 = DS['FAProx_01']\n",
    "FAProx_025 = DS['FAProx_025']\n",
    "visibility = DS['visibility']\n",
    "\n",
    "fig, axs = plt.subplots(4,3, figsize=(13, 8), sharey=True)\n",
    "fig.supylabel('Labels')\n",
    "plt.rcParams['font.size'] = '15'\n",
    "plt.yticks([0,1,5])\n",
    "\n",
    "'''\n",
    "E = DS['elevation'] \n",
    "slope = DS['slope']\n",
    "FAcc = DS['FAcc']\n",
    "TWI = DS['TWI']\n",
    "'''\n",
    "axs[0, 0].scatter(E,targets)\n",
    "axs[0, 0].set_title(\"Elevation\")\n",
    "axs[1, 0].scatter(slope,targets)\n",
    "axs[1, 0].set_title(\"Slope\")\n",
    "axs[2, 0].scatter(FAcc,targets)\n",
    "axs[2, 0].set_title(\"Flow accumulation\")\n",
    "axs[3, 0].scatter(TWI,targets)\n",
    "axs[3, 0].set_title(\"TWI\")\n",
    "\n",
    "'''\n",
    "TPI = DS['TPI']\n",
    "DLSOL4R150 = DS['DLSOL4R150']\n",
    "DLSOL5R150 = DS['DLSOL5R150']\n",
    "DLSOL5R200 = DS['DLSOL5R200']\n",
    "'''\n",
    "axs[0, 1].scatter(TPI,targets)\n",
    "axs[0, 1].set_title('TPI')\n",
    "axs[1, 1].scatter(DLSOL4R150,targets)\n",
    "axs[1, 1].set_title(\"DLSOL4R150\")\n",
    "axs[2, 1].scatter(DLSOL5R150,targets)\n",
    "axs[2, 1].set_title(\"DLSOL5R150\")\n",
    "axs[3, 1].scatter(DLSOL5R200,targets)\n",
    "axs[3, 1].set_title(\"DLSOL5R200\")\n",
    "\n",
    "'''\n",
    "FAProx_01 = DS['FAProx_01']\n",
    "FAProx_025 = DS['FAProx_025']\n",
    "visibility = DS['visibility']\n",
    "'''\n",
    "axs[0, 2].scatter(FAProx_01,targets)\n",
    "axs[0, 2].set_title('FAProx_01')\n",
    "axs[1, 2].scatter(FAProx_025,targets)\n",
    "axs[1, 2].set_title(\"FAProx_025\")\n",
    "axs[2, 2].scatter(visibility,targets)\n",
    "axs[2, 2].set_title(\"Visibility\")\n",
    "\n",
    "fig.tight_layout()\n"
   ]
  },
  {
   "cell_type": "code",
   "execution_count": null,
   "metadata": {},
   "outputs": [],
   "source": [
    "print(DS.head())\n",
    "#  Return a dataset with the rows corresponding to the index where condition in DS.columName is valid. \n",
    "dsArray = DS[DS.percentage != 0] \n",
    "print(dsArray.head()) "
   ]
  },
  {
   "cell_type": "code",
   "execution_count": null,
   "metadata": {
    "scrolled": true
   },
   "outputs": [],
   "source": [
    "### Pairplot ###\n",
    "\n",
    "sns.set_theme(font_scale=1.5)\n",
    "sns.pairplot(DS, hue = 'percentage', diag_kind = 'kde', \n",
    "             plot_kws = {'alpha': 0.8, 's': 100},\n",
    "             height = 4, corner=True, palette = \"Set2\")# vars = ['life_exp', 'log_pop', 'log_gdp_per_cap'],\n",
    "\n",
    "# sns.pairplot(DS, hue=\"percentage\")"
   ]
  },
  {
   "cell_type": "code",
   "execution_count": null,
   "metadata": {},
   "outputs": [],
   "source": [
    "### Pairplot ###\n",
    "\n",
    "sns.set_theme(font_scale=1.5)\n",
    "sns.pairplot(DS, hue = 'percentage', diag_kind = 'kde', \n",
    "             plot_kws = {'alpha': 0.8, 's': 100},\n",
    "             height = 4, corner=True, palette = \"Set2\")# vars = ['life_exp', 'log_pop', 'log_gdp_per_cap'],\n",
    "\n",
    "# sns.pairplot(DS, hue=\"percentage\")"
   ]
  },
  {
   "cell_type": "code",
   "execution_count": null,
   "metadata": {},
   "outputs": [],
   "source": [
    "from sklearn.multiclass import OneVsRestClassifier\n",
    "from sklearn.ensemble import RandomForestClassifier\n",
    "\n",
    "estimator = RandomForestClassifier(criterion='entropy', random_state = 50)\n",
    "x_train,y_train = ms.importDataSet('basin1Train.csv', 'percentage')\n",
    "classifier = OneVsRestClassifier(estimator).fit(x_train,y_train)\n"
   ]
  },
  {
   "cell_type": "code",
   "execution_count": null,
   "metadata": {},
   "outputs": [],
   "source": [
    "classifier = ms.loadModel('outputs/2022-11-01/10-51-40/2211011051.pkl')\n",
    "x_test,y_test = ms.importDataSet('datasets/datasets4MLP_Binary/MLPBinary_basin1_Test.csv', 'percentage')\n",
    "\n",
    "x_test = ms.removeCoordinatesFromDataSet(x_test)\n",
    "\n",
    "# y_prob = classifier.predict_proba(x_test)\n",
    "#print(np.unique(y_prob))\n",
    "\n",
    "md.plot_ROC_AUC(classifier, x_test, y_test)"
   ]
  },
  {
   "cell_type": "code",
   "execution_count": null,
   "metadata": {},
   "outputs": [],
   "source": [
    "#### ROC_AUC binary for multiples results in the same figure \n",
    "\n",
    "fig, axs = plt.subplots(1,figsize=(13,4), sharey=True)\n",
    "plt.rcParams.update({'font.size': 14})\n",
    "plt.ylabel('True Positive Rate', fontsize=16)\n",
    "plt.xlabel('False Positive Rate', fontsize=16)\n",
    "plt.figure(0).clf()\n",
    "axs.set_title('MLP binary in Basin 5')\n",
    "\n",
    "classifierList = ['outputs/2022-11-02/09-30-03/2211020930.pkl', 'outputs/2022-10-31/09-57-31/2210310957.pkl']\n",
    "testSetList = ['datasets/datasets4MLP_Binary/MLPBinary_basin5_Test.csv', 'datasets/datasets4MLP_Binary/MLPBinary_basin5_VsAll_Test.csv']\n",
    "nameList = ['Intra-Basins','one-vs-rest']\n",
    "for i in range(len(classifierList)):\n",
    "    classifier = ms.loadModel(classifierList[i])\n",
    "    x_test,y_test = ms.importDataSet(testSetList[i], 'percentage')\n",
    "    x_test = ms.removeCoordinatesFromDataSet(x_test)\n",
    "    y_prob = classifier.predict_proba(x_test)  \n",
    "    y_hat = classifier.predict(x_test)\n",
    "    fpr,tpr,thresholds = metrics.roc_curve(y_test, y_prob[:,1], drop_intermediate=False) \n",
    "    print(thresholds)\n",
    "    roc_auc = roc_auc_score(y_test, y_hat, average = \"macro\")\n",
    "    axs.plot(fpr,tpr,label = str(nameList[i]) + \" AUC : \" + format(roc_auc,\".4f\")) \n",
    "    axs.legend()"
   ]
  },
  {
   "cell_type": "markdown",
   "metadata": {},
   "source": [
    "### Inference "
   ]
  },
  {
   "cell_type": "code",
   "execution_count": null,
   "metadata": {},
   "outputs": [],
   "source": [
    "modelsFolder = r'C:\\Users\\abfernan\\CrossCanFloodMapping\\FloodMappingProjData\\HRDTMByAOI\\MLP_Models'\n",
    "modelName = '2401222228'\n",
    "model = ms.loadModel(os.path.join(modelsFolder,modelName+'.pkl'))\n",
    "datasetPath = r'C:\\Users\\abfernan\\CrossCanFloodMapping\\FloodMappingProjData\\HRDTMByAOI\\A_DatasetsForMLP\\RegionalModelingExplorationDatasets\\RasterMode\\ValidationDataset_RastMode_Normalized_class1.csv'\n",
    "colsToDrop = ['x_coord','y_coord','Labels']\n",
    "y_hat = md.inferenceMLP(datasetPath,model=model,colsToDrop=colsToDrop)\n",
    "# print(metrics)"
   ]
  },
  {
   "cell_type": "code",
   "execution_count": null,
   "metadata": {},
   "outputs": [],
   "source": [
    "## Prepare output dataset for QGIS\n",
    "outDataFrame = pd.DataFrame()\n",
    "inDataFrame = pd.read_csv(datasetPath, index_col=None)\n",
    "# colsToDrop.append('Labels')\n",
    "outDataFrame = inDataFrame[colsToDrop]\n",
    "\n",
    "outDataFrame['y_hat'] = y_hat\n",
    "\n",
    "# print(outDataFrame.describe())\n",
    "RMA_outputs =r'C:\\Users\\abfernan\\CrossCanFloodMapping\\FloodMappingProjData\\HRDTMByAOI\\A_DatasetsForMLP\\RegionalModelingApplication\\RMA_outputs'\n",
    "_,name,ext = ms.get_parenPath_name_ext(datasetPath)\n",
    "outPrediction = os.path.join(RMA_outputs,name+'_RMA_'+modelName+ext)\n",
    "\n",
    "#r'C:\\Users\\abfernan\\CrossCanFloodMapping\\FloodMappingProjData\\HRDTMByAOI\\A_DatasetsForMLP\\RegionalModelingApplication\\RMA_outputs\\QC_Plessisville_FullBasin_RMA_Scaled_Class_5_RMA_2401161113.csv'\n",
    "print(outDataFrame.describe())\n",
    "outDataFrame.to_csv(outPrediction, index=False)"
   ]
  },
  {
   "cell_type": "code",
   "execution_count": null,
   "metadata": {},
   "outputs": [],
   "source": [
    "ms.buildShapefilePointFromCsvDataframe(outPrediction)"
   ]
  },
  {
   "cell_type": "code",
   "execution_count": null,
   "metadata": {},
   "outputs": [],
   "source": []
  }
 ],
 "metadata": {
  "celltoolbar": "Raw Cell Format",
  "kernelspec": {
   "display_name": "Python 3 (ipykernel)",
   "language": "python",
   "name": "python3"
  },
  "language_info": {
   "codemirror_mode": {
    "name": "ipython",
    "version": 3
   },
   "file_extension": ".py",
   "mimetype": "text/x-python",
   "name": "python",
   "nbconvert_exporter": "python",
   "pygments_lexer": "ipython3",
   "version": "3.11.6"
  },
  "vscode": {
   "interpreter": {
    "hash": "c444c068df4da933f83035bc75b2ed5aea8e7fb8bc113357e2f14ee7cca6a8fe"
   }
  }
 },
 "nbformat": 4,
 "nbformat_minor": 2
}

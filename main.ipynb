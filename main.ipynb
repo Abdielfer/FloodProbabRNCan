{
 "cells": [
  {
   "cell_type": "code",
   "execution_count": 5,
   "metadata": {},
   "outputs": [],
   "source": [
    "import services as svs"
   ]
  },
  {
   "cell_type": "code",
   "execution_count": 6,
   "metadata": {},
   "outputs": [
    {
     "ename": "TypeError",
     "evalue": "stat: path should be string, bytes, os.PathLike or integer, not NoneType",
     "output_type": "error",
     "traceback": [
      "\u001b[0;31m---------------------------------------------------------------------------\u001b[0m",
      "\u001b[0;31mTypeError\u001b[0m                                 Traceback (most recent call last)",
      "\u001b[1;32m/Users/abdielfer/DESS/Internship2022/RNCanWork/FloodProbabRNCanAbd/main.ipynb Cell 2'\u001b[0m in \u001b[0;36m<cell line: 5>\u001b[0;34m()\u001b[0m\n\u001b[1;32m      <a href='vscode-notebook-cell:/Users/abdielfer/DESS/Internship2022/RNCanWork/FloodProbabRNCanAbd/main.ipynb#ch0000001?line=2'>3</a>\u001b[0m listTails \u001b[39m=\u001b[39m svs\u001b[39m.\u001b[39mimportListFromExelCol(excell_file,\u001b[39m'\u001b[39m\u001b[39mFeuil1\u001b[39m\u001b[39m'\u001b[39m,\u001b[39m'\u001b[39m\u001b[39mftp_dtm\u001b[39m\u001b[39m'\u001b[39m)\n\u001b[1;32m      <a href='vscode-notebook-cell:/Users/abdielfer/DESS/Internship2022/RNCanWork/FloodProbabRNCanAbd/main.ipynb#ch0000001?line=3'>4</a>\u001b[0m importer \u001b[39m=\u001b[39m svs\u001b[39m.\u001b[39mdtmTailImporter(listTails)\n\u001b[0;32m----> <a href='vscode-notebook-cell:/Users/abdielfer/DESS/Internship2022/RNCanWork/FloodProbabRNCanAbd/main.ipynb#ch0000001?line=4'>5</a>\u001b[0m importer\u001b[39m.\u001b[39;49mimpotTailToLocalDir()\n",
      "File \u001b[0;32m~/DESS/Internship2022/RNCanWork/FloodProbabRNCanAbd/services.py:44\u001b[0m, in \u001b[0;36mdtmTailImporter.impotTailToLocalDir\u001b[0;34m(self)\u001b[0m\n\u001b[1;32m     <a href='file:///Users/abdielfer/DESS/Internship2022/RNCanWork/FloodProbabRNCanAbd/services.py?line=39'>40</a>\u001b[0m \u001b[39mdef\u001b[39;00m \u001b[39mimpotTailToLocalDir\u001b[39m(\u001b[39mself\u001b[39m):\n\u001b[1;32m     <a href='file:///Users/abdielfer/DESS/Internship2022/RNCanWork/FloodProbabRNCanAbd/services.py?line=40'>41</a>\u001b[0m     \u001b[39m'''\u001b[39;00m\n\u001b[1;32m     <a href='file:///Users/abdielfer/DESS/Internship2022/RNCanWork/FloodProbabRNCanAbd/services.py?line=41'>42</a>\u001b[0m \u001b[39m    import the tails in the url <tail_URL_NamesList> to the local directory defined in <localPath> \u001b[39;00m\n\u001b[1;32m     <a href='file:///Users/abdielfer/DESS/Internship2022/RNCanWork/FloodProbabRNCanAbd/services.py?line=42'>43</a>\u001b[0m \u001b[39m    '''\u001b[39;00m\n\u001b[0;32m---> <a href='file:///Users/abdielfer/DESS/Internship2022/RNCanWork/FloodProbabRNCanAbd/services.py?line=43'>44</a>\u001b[0m     \u001b[39mif\u001b[39;00m os\u001b[39m.\u001b[39;49mpath\u001b[39m.\u001b[39;49misfile(\u001b[39mself\u001b[39;49m\u001b[39m.\u001b[39;49mlocalPath): \n\u001b[1;32m     <a href='file:///Users/abdielfer/DESS/Internship2022/RNCanWork/FloodProbabRNCanAbd/services.py?line=44'>45</a>\u001b[0m         \u001b[39mfor\u001b[39;00m path \u001b[39min\u001b[39;00m \u001b[39mself\u001b[39m\u001b[39m.\u001b[39mtail_URL_NamesList:\n\u001b[1;32m     <a href='file:///Users/abdielfer/DESS/Internship2022/RNCanWork/FloodProbabRNCanAbd/services.py?line=45'>46</a>\u001b[0m             download_url(path, \u001b[39mself\u001b[39m\u001b[39m.\u001b[39mlocalPath)\n",
      "File \u001b[0;32m/usr/local/Cellar/python@3.9/3.9.12_1/Frameworks/Python.framework/Versions/3.9/lib/python3.9/genericpath.py:30\u001b[0m, in \u001b[0;36misfile\u001b[0;34m(path)\u001b[0m\n\u001b[1;32m     <a href='file:///usr/local/Cellar/python%403.9/3.9.12_1/Frameworks/Python.framework/Versions/3.9/lib/python3.9/genericpath.py?line=27'>28</a>\u001b[0m \u001b[39m\"\"\"Test whether a path is a regular file\"\"\"\u001b[39;00m\n\u001b[1;32m     <a href='file:///usr/local/Cellar/python%403.9/3.9.12_1/Frameworks/Python.framework/Versions/3.9/lib/python3.9/genericpath.py?line=28'>29</a>\u001b[0m \u001b[39mtry\u001b[39;00m:\n\u001b[0;32m---> <a href='file:///usr/local/Cellar/python%403.9/3.9.12_1/Frameworks/Python.framework/Versions/3.9/lib/python3.9/genericpath.py?line=29'>30</a>\u001b[0m     st \u001b[39m=\u001b[39m os\u001b[39m.\u001b[39;49mstat(path)\n\u001b[1;32m     <a href='file:///usr/local/Cellar/python%403.9/3.9.12_1/Frameworks/Python.framework/Versions/3.9/lib/python3.9/genericpath.py?line=30'>31</a>\u001b[0m \u001b[39mexcept\u001b[39;00m (\u001b[39mOSError\u001b[39;00m, \u001b[39mValueError\u001b[39;00m):\n\u001b[1;32m     <a href='file:///usr/local/Cellar/python%403.9/3.9.12_1/Frameworks/Python.framework/Versions/3.9/lib/python3.9/genericpath.py?line=31'>32</a>\u001b[0m     \u001b[39mreturn\u001b[39;00m \u001b[39mFalse\u001b[39;00m\n",
      "\u001b[0;31mTypeError\u001b[0m: stat: path should be string, bytes, os.PathLike or integer, not NoneType"
     ]
    }
   ],
   "source": [
    "# Import tails form an xxcell doc. ]\n",
    "excell_file = '/Users/abdielfer/DESS/Internship2022/RNCanWork/FloodProbabRNCanAbd/saint_john_NFL_DTM.xlsx'\n",
    "listTails = svs.importListFromExelCol(excell_file,'Feuil1','ftp_dtm')\n",
    "importer = svs.dtmTailImporter(listTails)\n",
    "importer.impotTailToLocalDir()"
   ]
  },
  {
   "cell_type": "code",
   "execution_count": null,
   "metadata": {},
   "outputs": [],
   "source": [
    "transformer = svs.dtmTransformer()"
   ]
  },
  {
   "cell_type": "code",
   "execution_count": null,
   "metadata": {},
   "outputs": [],
   "source": [
    "transformer.computeMosaic('zone_one.tif')"
   ]
  },
  {
   "cell_type": "code",
   "execution_count": null,
   "metadata": {},
   "outputs": [],
   "source": [
    "dtmName = 'zone_one.tif' \n",
    "transformer.computeSlope(dtmName)\n",
    "# transformer.computeAspect(dtmName)"
   ]
  }
 ],
 "metadata": {
  "interpreter": {
   "hash": "f3d9516b24a79ab9dbb253d0a6a8b4e0289f78c37ae4de49cc288060e42b4bef"
  },
  "kernelspec": {
   "display_name": "Python 3.9.12 ('floodProbProj': venv)",
   "language": "python",
   "name": "python3"
  },
  "language_info": {
   "codemirror_mode": {
    "name": "ipython",
    "version": 3
   },
   "file_extension": ".py",
   "mimetype": "text/x-python",
   "name": "python",
   "nbconvert_exporter": "python",
   "pygments_lexer": "ipython3",
   "version": "3.9.12"
  },
  "orig_nbformat": 4
 },
 "nbformat": 4,
 "nbformat_minor": 2
}

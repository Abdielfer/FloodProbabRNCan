{
 "cells": [
  {
   "cell_type": "code",
   "execution_count": 1,
   "metadata": {
    "scrolled": true
   },
   "outputs": [],
   "source": [
    "import os\n",
    "from collections import Counter\n",
    "import seaborn as sns\n",
    "import matplotlib.pyplot as plt\n",
    "import myServices as ms\n",
    "import models as md\n",
    "import numpy as np\n",
    "import pandas as pd\n",
    "import sklearn\n",
    "from sklearn import metrics\n",
    "from sklearn.model_selection import train_test_split\n",
    "from sklearn.metrics import accuracy_score,roc_curve, auc, roc_auc_score, f1_score\n",
    "import joblib"
   ]
  },
  {
   "cell_type": "code",
   "execution_count": 2,
   "metadata": {},
   "outputs": [],
   "source": [
    "# to compute ececution time do: \n",
    "# with timeit():\n",
    "#     # your code, e.g., \n",
    "class timeit(): \n",
    "    from datetime import datetime\n",
    "    def __enter__(self):\n",
    "        self.tic = self.datetime.now()\n",
    "    def __exit__(self, *args, **kwargs):\n",
    "        print('runtime: {}'.format(self.datetime.now() - self.tic))"
   ]
  },
  {
   "cell_type": "markdown",
   "metadata": {},
   "source": [
    "## Importing and manipulating datasets"
   ]
  },
  {
   "cell_type": "code",
   "execution_count": null,
   "metadata": {},
   "outputs": [],
   "source": [
    "sklearn.metrics.get_scorer_names()"
   ]
  },
  {
   "cell_type": "code",
   "execution_count": 3,
   "metadata": {},
   "outputs": [
    {
     "name": "stdout",
     "output_type": "stream",
     "text": [
      "<class 'pandas.core.frame.DataFrame'>\n",
      "RangeIndex: 279641 entries, 0 to 279640\n",
      "Data columns (total 13 columns):\n",
      " #   Column      Non-Null Count   Dtype  \n",
      "---  ------      --------------   -----  \n",
      " 0   percentage  15956 non-null   float64\n",
      " 1   visibility  279641 non-null  float64\n",
      " 2   TPI         277252 non-null  float64\n",
      " 3   TWI         279641 non-null  float64\n",
      " 4   LDSOL5R200  269307 non-null  float64\n",
      " 5   LDSOL5R150  269307 non-null  float64\n",
      " 6   LDSOL4R150  264969 non-null  float64\n",
      " 7   FAProx025   279641 non-null  float64\n",
      " 8   FAProx01    279641 non-null  float64\n",
      " 9   slope       279636 non-null  float64\n",
      " 10  elevation   279641 non-null  float64\n",
      " 11  x_coord     279641 non-null  int64  \n",
      " 12  y_coord     279641 non-null  int64  \n",
      "dtypes: float64(11), int64(2)\n",
      "memory usage: 27.7 MB\n",
      "None\n"
     ]
    },
    {
     "data": {
      "text/html": [
       "<div>\n",
       "<style scoped>\n",
       "    .dataframe tbody tr th:only-of-type {\n",
       "        vertical-align: middle;\n",
       "    }\n",
       "\n",
       "    .dataframe tbody tr th {\n",
       "        vertical-align: top;\n",
       "    }\n",
       "\n",
       "    .dataframe thead th {\n",
       "        text-align: right;\n",
       "    }\n",
       "</style>\n",
       "<table border=\"1\" class=\"dataframe\">\n",
       "  <thead>\n",
       "    <tr style=\"text-align: right;\">\n",
       "      <th></th>\n",
       "      <th>percentage</th>\n",
       "      <th>visibility</th>\n",
       "      <th>TPI</th>\n",
       "      <th>TWI</th>\n",
       "      <th>LDSOL5R200</th>\n",
       "      <th>LDSOL5R150</th>\n",
       "      <th>LDSOL4R150</th>\n",
       "      <th>FAProx025</th>\n",
       "      <th>FAProx01</th>\n",
       "      <th>slope</th>\n",
       "      <th>elevation</th>\n",
       "      <th>x_coord</th>\n",
       "      <th>y_coord</th>\n",
       "    </tr>\n",
       "  </thead>\n",
       "  <tbody>\n",
       "    <tr>\n",
       "      <th>count</th>\n",
       "      <td>15956.000000</td>\n",
       "      <td>279641.000000</td>\n",
       "      <td>277252.000000</td>\n",
       "      <td>279641.000000</td>\n",
       "      <td>269307.000000</td>\n",
       "      <td>269307.000000</td>\n",
       "      <td>264969.000000</td>\n",
       "      <td>279641.000000</td>\n",
       "      <td>279641.000000</td>\n",
       "      <td>279636.000000</td>\n",
       "      <td>279641.000000</td>\n",
       "      <td>279641.000000</td>\n",
       "      <td>2.796410e+05</td>\n",
       "    </tr>\n",
       "    <tr>\n",
       "      <th>mean</th>\n",
       "      <td>4.168714</td>\n",
       "      <td>0.061356</td>\n",
       "      <td>-0.000226</td>\n",
       "      <td>9.311844</td>\n",
       "      <td>0.006653</td>\n",
       "      <td>0.006699</td>\n",
       "      <td>0.003132</td>\n",
       "      <td>272.570003</td>\n",
       "      <td>181.913610</td>\n",
       "      <td>6.353948</td>\n",
       "      <td>126.258612</td>\n",
       "      <td>361059.731023</td>\n",
       "      <td>5.273251e+06</td>\n",
       "    </tr>\n",
       "    <tr>\n",
       "      <th>std</th>\n",
       "      <td>1.623044</td>\n",
       "      <td>0.048661</td>\n",
       "      <td>0.202981</td>\n",
       "      <td>4.026503</td>\n",
       "      <td>0.003409</td>\n",
       "      <td>0.004169</td>\n",
       "      <td>0.003029</td>\n",
       "      <td>201.496830</td>\n",
       "      <td>131.952031</td>\n",
       "      <td>5.963830</td>\n",
       "      <td>30.371440</td>\n",
       "      <td>922.890858</td>\n",
       "      <td>1.112358e+03</td>\n",
       "    </tr>\n",
       "    <tr>\n",
       "      <th>min</th>\n",
       "      <td>1.000000</td>\n",
       "      <td>0.000050</td>\n",
       "      <td>-4.801120</td>\n",
       "      <td>-6.874480</td>\n",
       "      <td>0.000000</td>\n",
       "      <td>0.000000</td>\n",
       "      <td>0.000000</td>\n",
       "      <td>0.000000</td>\n",
       "      <td>0.000000</td>\n",
       "      <td>0.000390</td>\n",
       "      <td>-10.448000</td>\n",
       "      <td>359138.000000</td>\n",
       "      <td>5.270818e+06</td>\n",
       "    </tr>\n",
       "    <tr>\n",
       "      <th>25%</th>\n",
       "      <td>5.000000</td>\n",
       "      <td>0.027310</td>\n",
       "      <td>-0.078290</td>\n",
       "      <td>5.699740</td>\n",
       "      <td>0.004060</td>\n",
       "      <td>0.003400</td>\n",
       "      <td>0.000000</td>\n",
       "      <td>110.453610</td>\n",
       "      <td>74.330350</td>\n",
       "      <td>2.285347</td>\n",
       "      <td>118.822280</td>\n",
       "      <td>360253.000000</td>\n",
       "      <td>5.272333e+06</td>\n",
       "    </tr>\n",
       "    <tr>\n",
       "      <th>50%</th>\n",
       "      <td>5.000000</td>\n",
       "      <td>0.047120</td>\n",
       "      <td>-0.000820</td>\n",
       "      <td>10.311960</td>\n",
       "      <td>0.006530</td>\n",
       "      <td>0.006400</td>\n",
       "      <td>0.002570</td>\n",
       "      <td>232.594070</td>\n",
       "      <td>156.604600</td>\n",
       "      <td>4.910465</td>\n",
       "      <td>132.357010</td>\n",
       "      <td>361113.000000</td>\n",
       "      <td>5.273358e+06</td>\n",
       "    </tr>\n",
       "    <tr>\n",
       "      <th>75%</th>\n",
       "      <td>5.000000</td>\n",
       "      <td>0.082310</td>\n",
       "      <td>0.078480</td>\n",
       "      <td>12.538330</td>\n",
       "      <td>0.009020</td>\n",
       "      <td>0.009550</td>\n",
       "      <td>0.005360</td>\n",
       "      <td>395.000000</td>\n",
       "      <td>268.700590</td>\n",
       "      <td>8.516732</td>\n",
       "      <td>142.956530</td>\n",
       "      <td>361838.000000</td>\n",
       "      <td>5.274063e+06</td>\n",
       "    </tr>\n",
       "    <tr>\n",
       "      <th>max</th>\n",
       "      <td>5.000000</td>\n",
       "      <td>0.448310</td>\n",
       "      <td>4.880940</td>\n",
       "      <td>22.801570</td>\n",
       "      <td>0.019030</td>\n",
       "      <td>0.021440</td>\n",
       "      <td>0.012770</td>\n",
       "      <td>975.140990</td>\n",
       "      <td>675.740360</td>\n",
       "      <td>67.607030</td>\n",
       "      <td>205.594620</td>\n",
       "      <td>362883.000000</td>\n",
       "      <td>5.275618e+06</td>\n",
       "    </tr>\n",
       "  </tbody>\n",
       "</table>\n",
       "</div>"
      ],
      "text/plain": [
       "         percentage     visibility            TPI            TWI  \\\n",
       "count  15956.000000  279641.000000  277252.000000  279641.000000   \n",
       "mean       4.168714       0.061356      -0.000226       9.311844   \n",
       "std        1.623044       0.048661       0.202981       4.026503   \n",
       "min        1.000000       0.000050      -4.801120      -6.874480   \n",
       "25%        5.000000       0.027310      -0.078290       5.699740   \n",
       "50%        5.000000       0.047120      -0.000820      10.311960   \n",
       "75%        5.000000       0.082310       0.078480      12.538330   \n",
       "max        5.000000       0.448310       4.880940      22.801570   \n",
       "\n",
       "          LDSOL5R200     LDSOL5R150     LDSOL4R150      FAProx025  \\\n",
       "count  269307.000000  269307.000000  264969.000000  279641.000000   \n",
       "mean        0.006653       0.006699       0.003132     272.570003   \n",
       "std         0.003409       0.004169       0.003029     201.496830   \n",
       "min         0.000000       0.000000       0.000000       0.000000   \n",
       "25%         0.004060       0.003400       0.000000     110.453610   \n",
       "50%         0.006530       0.006400       0.002570     232.594070   \n",
       "75%         0.009020       0.009550       0.005360     395.000000   \n",
       "max         0.019030       0.021440       0.012770     975.140990   \n",
       "\n",
       "            FAProx01          slope      elevation        x_coord  \\\n",
       "count  279641.000000  279636.000000  279641.000000  279641.000000   \n",
       "mean      181.913610       6.353948     126.258612  361059.731023   \n",
       "std       131.952031       5.963830      30.371440     922.890858   \n",
       "min         0.000000       0.000390     -10.448000  359138.000000   \n",
       "25%        74.330350       2.285347     118.822280  360253.000000   \n",
       "50%       156.604600       4.910465     132.357010  361113.000000   \n",
       "75%       268.700590       8.516732     142.956530  361838.000000   \n",
       "max       675.740360      67.607030     205.594620  362883.000000   \n",
       "\n",
       "            y_coord  \n",
       "count  2.796410e+05  \n",
       "mean   5.273251e+06  \n",
       "std    1.112358e+03  \n",
       "min    5.270818e+06  \n",
       "25%    5.272333e+06  \n",
       "50%    5.273358e+06  \n",
       "75%    5.274063e+06  \n",
       "max    5.275618e+06  "
      ]
     },
     "execution_count": 3,
     "metadata": {},
     "output_type": "execute_result"
    }
   ],
   "source": [
    "### Cleaning basin1DataSet \n",
    "dataSetPath = 'datasets/basin4_RawData.csv'\n",
    "basinDataSet = pd.read_csv(dataSetPath, index_col = None)\n",
    "# basin1Light = pd.read_csv('datasetBasin1_NoDataFree.csv', index_col = None)\n",
    "print(basinDataSet.info())\n",
    "basinDataSet.describe()"
   ]
  },
  {
   "cell_type": "code",
   "execution_count": 4,
   "metadata": {},
   "outputs": [
    {
     "data": {
      "text/plain": [
       "percentage     True\n",
       "visibility    False\n",
       "TPI            True\n",
       "TWI           False\n",
       "LDSOL5R200     True\n",
       "LDSOL5R150     True\n",
       "LDSOL4R150     True\n",
       "FAProx025     False\n",
       "FAProx01      False\n",
       "slope          True\n",
       "elevation     False\n",
       "x_coord       False\n",
       "y_coord       False\n",
       "dtype: bool"
      ]
     },
     "execution_count": 4,
     "metadata": {},
     "output_type": "execute_result"
    }
   ],
   "source": [
    "basinDataSet.isna().any()"
   ]
  },
  {
   "cell_type": "code",
   "execution_count": 59,
   "metadata": {},
   "outputs": [],
   "source": [
    "basinDataSet['LDSOL4R200'].fillna(0,inplace=True)"
   ]
  },
  {
   "cell_type": "code",
   "execution_count": null,
   "metadata": {},
   "outputs": [],
   "source": [
    "basinDataSet.dropna(subset=['TPI'],inplace=True)"
   ]
  },
  {
   "cell_type": "code",
   "execution_count": 61,
   "metadata": {},
   "outputs": [
    {
     "data": {
      "text/plain": [
       "percentage    109798\n",
       "TWI                0\n",
       "TPI                0\n",
       "LDSOL3R150         0\n",
       "LDSOL4R150         0\n",
       "LDSOL4R200         0\n",
       "FAProx_01          0\n",
       "FAProx_025         0\n",
       "visibility         0\n",
       "slope              0\n",
       "elevation          0\n",
       "x_coord            0\n",
       "y_coord            0\n",
       "dtype: int64"
      ]
     },
     "execution_count": 61,
     "metadata": {},
     "output_type": "execute_result"
    }
   ],
   "source": [
    "basinDataSet.isna().sum()"
   ]
  },
  {
   "cell_type": "code",
   "execution_count": null,
   "metadata": {},
   "outputs": [],
   "source": [
    "basinDataSet.dropna(inplace=True)"
   ]
  },
  {
   "cell_type": "code",
   "execution_count": 66,
   "metadata": {},
   "outputs": [],
   "source": [
    "basinDataSet['percentage'].fillna(0,inplace=True)  # ,'DLSOL5R150','DLSOL5R200'"
   ]
  },
  {
   "cell_type": "code",
   "execution_count": 67,
   "metadata": {},
   "outputs": [
    {
     "data": {
      "text/plain": [
       "percentage    0\n",
       "TWI           0\n",
       "TPI           0\n",
       "LDSOL3R150    0\n",
       "LDSOL4R150    0\n",
       "LDSOL4R200    0\n",
       "FAProx_01     0\n",
       "FAProx_025    0\n",
       "visibility    0\n",
       "slope         0\n",
       "elevation     0\n",
       "x_coord       0\n",
       "y_coord       0\n",
       "dtype: int64"
      ]
     },
     "execution_count": 67,
     "metadata": {},
     "output_type": "execute_result"
    }
   ],
   "source": [
    "basinDataSet.isna().sum()\n",
    "# print(basinDataSet['FAcc'].max())"
   ]
  },
  {
   "cell_type": "code",
   "execution_count": null,
   "metadata": {},
   "outputs": [],
   "source": [
    "#### NOrmalize Flow Accumulation\n",
    "basinDataSet['FAcc'] = (basinDataSet['FAcc']- basinDataSet['FAcc'].min())/(basinDataSet['FAcc'].max()-basinDataSet['FAcc'].min())\n"
   ]
  },
  {
   "cell_type": "code",
   "execution_count": null,
   "metadata": {},
   "outputs": [],
   "source": [
    "### Replacing with 0 \n",
    "repalcer  = basinDataSet['FAProx_01'].to_numpy()\n",
    "basinDataSet['FAProx_01'] = [0 if repalcer[j] == -9999 else repalcer[j] for j in range(len(repalcer))]                                                                                                                         \n",
    "                                                                                                                          "
   ]
  },
  {
   "cell_type": "code",
   "execution_count": 72,
   "metadata": {},
   "outputs": [],
   "source": [
    "## Transform datatype of a column\n",
    "repalcer  = basinDataSet['percentage'].to_numpy().astype('int')\n",
    "basinDataSet.loc[:,'percentage'] = repalcer"
   ]
  },
  {
   "cell_type": "code",
   "execution_count": 63,
   "metadata": {},
   "outputs": [
    {
     "data": {
      "text/html": [
       "<div>\n",
       "<style scoped>\n",
       "    .dataframe tbody tr th:only-of-type {\n",
       "        vertical-align: middle;\n",
       "    }\n",
       "\n",
       "    .dataframe tbody tr th {\n",
       "        vertical-align: top;\n",
       "    }\n",
       "\n",
       "    .dataframe thead th {\n",
       "        text-align: right;\n",
       "    }\n",
       "</style>\n",
       "<table border=\"1\" class=\"dataframe\">\n",
       "  <thead>\n",
       "    <tr style=\"text-align: right;\">\n",
       "      <th></th>\n",
       "      <th>percentage</th>\n",
       "      <th>TWI</th>\n",
       "      <th>TPI</th>\n",
       "      <th>LDSOL3R150</th>\n",
       "      <th>LDSOL4R150</th>\n",
       "      <th>LDSOL4R200</th>\n",
       "      <th>FAProx_01</th>\n",
       "      <th>FAProx_025</th>\n",
       "      <th>visibility</th>\n",
       "      <th>slope</th>\n",
       "      <th>elevation</th>\n",
       "      <th>x_coord</th>\n",
       "      <th>y_coord</th>\n",
       "    </tr>\n",
       "  </thead>\n",
       "  <tbody>\n",
       "    <tr>\n",
       "      <th>count</th>\n",
       "      <td>2984.000000</td>\n",
       "      <td>112782.000000</td>\n",
       "      <td>112782.000000</td>\n",
       "      <td>112782.000000</td>\n",
       "      <td>112782.000000</td>\n",
       "      <td>112782.000000</td>\n",
       "      <td>112782.000000</td>\n",
       "      <td>112782.000000</td>\n",
       "      <td>112782.000000</td>\n",
       "      <td>112782.000000</td>\n",
       "      <td>112782.000000</td>\n",
       "      <td>112782.000000</td>\n",
       "      <td>1.127820e+05</td>\n",
       "    </tr>\n",
       "    <tr>\n",
       "      <th>mean</th>\n",
       "      <td>4.182306</td>\n",
       "      <td>9.426335</td>\n",
       "      <td>-0.000350</td>\n",
       "      <td>0.003837</td>\n",
       "      <td>0.007590</td>\n",
       "      <td>0.007421</td>\n",
       "      <td>92.264157</td>\n",
       "      <td>27.500874</td>\n",
       "      <td>0.114898</td>\n",
       "      <td>6.303644</td>\n",
       "      <td>123.901570</td>\n",
       "      <td>359743.982426</td>\n",
       "      <td>5.273088e+06</td>\n",
       "    </tr>\n",
       "    <tr>\n",
       "      <th>std</th>\n",
       "      <td>1.613390</td>\n",
       "      <td>4.067111</td>\n",
       "      <td>0.208581</td>\n",
       "      <td>0.003375</td>\n",
       "      <td>0.004548</td>\n",
       "      <td>0.003981</td>\n",
       "      <td>74.957074</td>\n",
       "      <td>21.349713</td>\n",
       "      <td>0.076658</td>\n",
       "      <td>5.480844</td>\n",
       "      <td>27.467651</td>\n",
       "      <td>456.708242</td>\n",
       "      <td>6.424637e+02</td>\n",
       "    </tr>\n",
       "    <tr>\n",
       "      <th>min</th>\n",
       "      <td>1.000000</td>\n",
       "      <td>-5.067620</td>\n",
       "      <td>-2.566120</td>\n",
       "      <td>0.000000</td>\n",
       "      <td>0.000000</td>\n",
       "      <td>0.000000</td>\n",
       "      <td>0.000000</td>\n",
       "      <td>0.000000</td>\n",
       "      <td>0.000160</td>\n",
       "      <td>0.005530</td>\n",
       "      <td>0.372080</td>\n",
       "      <td>358698.000000</td>\n",
       "      <td>5.271343e+06</td>\n",
       "    </tr>\n",
       "    <tr>\n",
       "      <th>25%</th>\n",
       "      <td>5.000000</td>\n",
       "      <td>5.777007</td>\n",
       "      <td>-0.087020</td>\n",
       "      <td>0.000400</td>\n",
       "      <td>0.004220</td>\n",
       "      <td>0.004340</td>\n",
       "      <td>31.622780</td>\n",
       "      <td>10.198040</td>\n",
       "      <td>0.053740</td>\n",
       "      <td>2.722058</td>\n",
       "      <td>106.734668</td>\n",
       "      <td>359383.000000</td>\n",
       "      <td>5.272668e+06</td>\n",
       "    </tr>\n",
       "    <tr>\n",
       "      <th>50%</th>\n",
       "      <td>5.000000</td>\n",
       "      <td>10.394990</td>\n",
       "      <td>-0.001010</td>\n",
       "      <td>0.003750</td>\n",
       "      <td>0.007550</td>\n",
       "      <td>0.007480</td>\n",
       "      <td>74.330350</td>\n",
       "      <td>22.803510</td>\n",
       "      <td>0.104230</td>\n",
       "      <td>4.991620</td>\n",
       "      <td>122.139580</td>\n",
       "      <td>359763.000000</td>\n",
       "      <td>5.273128e+06</td>\n",
       "    </tr>\n",
       "    <tr>\n",
       "      <th>75%</th>\n",
       "      <td>5.000000</td>\n",
       "      <td>12.656813</td>\n",
       "      <td>0.085148</td>\n",
       "      <td>0.005570</td>\n",
       "      <td>0.010970</td>\n",
       "      <td>0.010290</td>\n",
       "      <td>136.014710</td>\n",
       "      <td>40.521600</td>\n",
       "      <td>0.164190</td>\n",
       "      <td>8.282625</td>\n",
       "      <td>145.815840</td>\n",
       "      <td>360083.000000</td>\n",
       "      <td>5.273553e+06</td>\n",
       "    </tr>\n",
       "    <tr>\n",
       "      <th>max</th>\n",
       "      <td>5.000000</td>\n",
       "      <td>21.760160</td>\n",
       "      <td>2.504120</td>\n",
       "      <td>0.016930</td>\n",
       "      <td>0.023630</td>\n",
       "      <td>0.018680</td>\n",
       "      <td>409.175990</td>\n",
       "      <td>114.280360</td>\n",
       "      <td>0.499120</td>\n",
       "      <td>50.978400</td>\n",
       "      <td>200.815220</td>\n",
       "      <td>360758.000000</td>\n",
       "      <td>5.274413e+06</td>\n",
       "    </tr>\n",
       "  </tbody>\n",
       "</table>\n",
       "</div>"
      ],
      "text/plain": [
       "        percentage            TWI            TPI     LDSOL3R150  \\\n",
       "count  2984.000000  112782.000000  112782.000000  112782.000000   \n",
       "mean      4.182306       9.426335      -0.000350       0.003837   \n",
       "std       1.613390       4.067111       0.208581       0.003375   \n",
       "min       1.000000      -5.067620      -2.566120       0.000000   \n",
       "25%       5.000000       5.777007      -0.087020       0.000400   \n",
       "50%       5.000000      10.394990      -0.001010       0.003750   \n",
       "75%       5.000000      12.656813       0.085148       0.005570   \n",
       "max       5.000000      21.760160       2.504120       0.016930   \n",
       "\n",
       "          LDSOL4R150     LDSOL4R200      FAProx_01     FAProx_025  \\\n",
       "count  112782.000000  112782.000000  112782.000000  112782.000000   \n",
       "mean        0.007590       0.007421      92.264157      27.500874   \n",
       "std         0.004548       0.003981      74.957074      21.349713   \n",
       "min         0.000000       0.000000       0.000000       0.000000   \n",
       "25%         0.004220       0.004340      31.622780      10.198040   \n",
       "50%         0.007550       0.007480      74.330350      22.803510   \n",
       "75%         0.010970       0.010290     136.014710      40.521600   \n",
       "max         0.023630       0.018680     409.175990     114.280360   \n",
       "\n",
       "          visibility          slope      elevation        x_coord  \\\n",
       "count  112782.000000  112782.000000  112782.000000  112782.000000   \n",
       "mean        0.114898       6.303644     123.901570  359743.982426   \n",
       "std         0.076658       5.480844      27.467651     456.708242   \n",
       "min         0.000160       0.005530       0.372080  358698.000000   \n",
       "25%         0.053740       2.722058     106.734668  359383.000000   \n",
       "50%         0.104230       4.991620     122.139580  359763.000000   \n",
       "75%         0.164190       8.282625     145.815840  360083.000000   \n",
       "max         0.499120      50.978400     200.815220  360758.000000   \n",
       "\n",
       "            y_coord  \n",
       "count  1.127820e+05  \n",
       "mean   5.273088e+06  \n",
       "std    6.424637e+02  \n",
       "min    5.271343e+06  \n",
       "25%    5.272668e+06  \n",
       "50%    5.273128e+06  \n",
       "75%    5.273553e+06  \n",
       "max    5.274413e+06  "
      ]
     },
     "execution_count": 63,
     "metadata": {},
     "output_type": "execute_result"
    }
   ],
   "source": [
    "basinDataSet.describe()"
   ]
  },
  {
   "cell_type": "code",
   "execution_count": 73,
   "metadata": {},
   "outputs": [],
   "source": [
    "basinDataSet.to_csv('datasets/basin3_CleanDataSet.csv', index=None)"
   ]
  },
  {
   "cell_type": "code",
   "execution_count": 74,
   "metadata": {},
   "outputs": [
    {
     "name": "stdout",
     "output_type": "stream",
     "text": [
      "Counter({0: 109798, 5: 2374, 1: 610})\n"
     ]
    }
   ],
   "source": [
    "### Making quadratic transformation in Labels for regression\n",
    "DS = pd.read_csv('datasets/basin3_CleanDataSet.csv', index_col = None)\n",
    "print(Counter(DS['percentage']))\n",
    "\n",
    "# y_Quad = md.quadraticRechapeLabes(DS['percentage'], -0.125, 0.825)\n",
    "# DS['percentage'] = y_Quad\n",
    "# print(Counter(DS['percentage']))\n",
    "# DS.to_csv('basin1TrainUnbalanced_QuadTarget.csv', index = None)"
   ]
  },
  {
   "cell_type": "code",
   "execution_count": null,
   "metadata": {},
   "outputs": [],
   "source": [
    "ds = DS.head(5)\n",
    "s = {}\n",
    "s['Datas'] = ds\n",
    "print(s)"
   ]
  },
  {
   "cell_type": "markdown",
   "metadata": {},
   "source": [
    "## balanced sampling"
   ]
  },
  {
   "cell_type": "code",
   "execution_count": 75,
   "metadata": {},
   "outputs": [
    {
     "name": "stdout",
     "output_type": "stream",
     "text": [
      "TRAIN: 90225 TEST: 22557\n"
     ]
    }
   ],
   "source": [
    "## Stratified Split\n",
    "from sklearn.model_selection import StratifiedShuffleSplit\n",
    "\n",
    "X,Y = ms.importDataSet('datasets/basin3_CleanDataSet.csv', 'percentage')\n",
    "sss = StratifiedShuffleSplit(n_splits=1, test_size=0.2, random_state=50)\n",
    "for train_index, test_index in sss.split(X, Y):\n",
    "    print(\"TRAIN:\", train_index.size, \"TEST:\", test_index.size)\n",
    "    X_train = X.iloc[train_index]\n",
    "    y_train = Y.iloc[train_index]\n",
    "    X_test = X.iloc[test_index]\n",
    "    y_test = Y.iloc[test_index]"
   ]
  },
  {
   "cell_type": "code",
   "execution_count": 76,
   "metadata": {},
   "outputs": [
    {
     "name": "stdout",
     "output_type": "stream",
     "text": [
      "90225 90225\n"
     ]
    },
    {
     "data": {
      "text/plain": [
       "Counter({0: 87838, 5: 1899, 1: 488})"
      ]
     },
     "execution_count": 76,
     "metadata": {},
     "output_type": "execute_result"
    }
   ],
   "source": [
    "print(len(X_train['elevation']), len(y_train) )\n",
    "Counter(y_train)"
   ]
  },
  {
   "cell_type": "code",
   "execution_count": 77,
   "metadata": {},
   "outputs": [
    {
     "name": "stdout",
     "output_type": "stream",
     "text": [
      "             TWI      TPI  LDSOL3R150  LDSOL4R150  LDSOL4R200  FAProx_01  \\\n",
      "106195  13.59353 -0.15649     0.00315     0.00693     0.00671   85.00000   \n",
      "32043    4.63718 -0.00439     0.00415     0.01119     0.01205   55.00000   \n",
      "89371   11.71443 -0.41978     0.00092     0.00764     0.01099  125.00000   \n",
      "112187  11.53867  0.02208     0.00000     0.00390     0.00264  114.01755   \n",
      "23716    4.67272  0.19862     0.00379     0.00568     0.00567   93.00538   \n",
      "\n",
      "        FAProx_025  visibility     slope  elevation  x_coord  y_coord  \\\n",
      "106195    25.94224     0.04296   9.59954  159.47165   359848  5271963   \n",
      "32043     11.18034     0.09969   6.23723   94.90872   359373  5273488   \n",
      "89371     29.96665     0.07519  10.90686  134.19553   360123  5272568   \n",
      "112187    72.53275     0.02210   4.82951  178.78873   359813  5271498   \n",
      "23716     19.79899     0.20469   8.11566   86.85973   358933  5273638   \n",
      "\n",
      "        percentage  \n",
      "106195           0  \n",
      "32043            0  \n",
      "89371            0  \n",
      "112187           0  \n",
      "23716            0  \n"
     ]
    },
    {
     "name": "stderr",
     "output_type": "stream",
     "text": [
      "/var/folders/s5/cqkwnnps0f1_35_bccj0y8q80000gn/T/ipykernel_9529/1088689243.py:2: SettingWithCopyWarning: \n",
      "A value is trying to be set on a copy of a slice from a DataFrame.\n",
      "Try using .loc[row_indexer,col_indexer] = value instead\n",
      "\n",
      "See the caveats in the documentation: https://pandas.pydata.org/pandas-docs/stable/user_guide/indexing.html#returning-a-view-versus-a-copy\n",
      "  X_train.loc[:,'percentage'] = y_train\n"
     ]
    }
   ],
   "source": [
    "#####. Creating training set\n",
    "X_train.loc[:,'percentage'] = y_train\n",
    "print(X_train.head())"
   ]
  },
  {
   "cell_type": "code",
   "execution_count": 78,
   "metadata": {},
   "outputs": [
    {
     "name": "stdout",
     "output_type": "stream",
     "text": [
      "             TWI      TPI  LDSOL3R150  LDSOL4R150  LDSOL4R200  FAProx_01  \\\n",
      "106195  13.59353 -0.15649     0.00315     0.00693     0.00671   85.00000   \n",
      "32043    4.63718 -0.00439     0.00415     0.01119     0.01205   55.00000   \n",
      "89371   11.71443 -0.41978     0.00092     0.00764     0.01099  125.00000   \n",
      "112187  11.53867  0.02208     0.00000     0.00390     0.00264  114.01755   \n",
      "23716    4.67272  0.19862     0.00379     0.00568     0.00567   93.00538   \n",
      "\n",
      "        FAProx_025  visibility     slope  elevation  x_coord  y_coord  \\\n",
      "106195    25.94224     0.04296   9.59954  159.47165   359848  5271963   \n",
      "32043     11.18034     0.09969   6.23723   94.90872   359373  5273488   \n",
      "89371     29.96665     0.07519  10.90686  134.19553   360123  5272568   \n",
      "112187    72.53275     0.02210   4.82951  178.78873   359813  5271498   \n",
      "23716     19.79899     0.20469   8.11566   86.85973   358933  5273638   \n",
      "\n",
      "        percentage  \n",
      "106195           0  \n",
      "32043            0  \n",
      "89371            0  \n",
      "112187           0  \n",
      "23716            0  \n"
     ]
    },
    {
     "data": {
      "text/plain": [
       "Counter({0: 87838, 5: 1899, 1: 488})"
      ]
     },
     "execution_count": 78,
     "metadata": {},
     "output_type": "execute_result"
    }
   ],
   "source": [
    "print(X_train.head())\n",
    "Counter(X_train['percentage'])"
   ]
  },
  {
   "cell_type": "code",
   "execution_count": 79,
   "metadata": {},
   "outputs": [
    {
     "name": "stderr",
     "output_type": "stream",
     "text": [
      "/var/folders/s5/cqkwnnps0f1_35_bccj0y8q80000gn/T/ipykernel_9529/2609724293.py:1: SettingWithCopyWarning: \n",
      "A value is trying to be set on a copy of a slice from a DataFrame\n",
      "\n",
      "See the caveats in the documentation: https://pandas.pydata.org/pandas-docs/stable/user_guide/indexing.html#returning-a-view-versus-a-copy\n",
      "  X_train.drop(['x_coord','y_coord'], axis =1, inplace=True)\n"
     ]
    },
    {
     "data": {
      "text/html": [
       "<div>\n",
       "<style scoped>\n",
       "    .dataframe tbody tr th:only-of-type {\n",
       "        vertical-align: middle;\n",
       "    }\n",
       "\n",
       "    .dataframe tbody tr th {\n",
       "        vertical-align: top;\n",
       "    }\n",
       "\n",
       "    .dataframe thead th {\n",
       "        text-align: right;\n",
       "    }\n",
       "</style>\n",
       "<table border=\"1\" class=\"dataframe\">\n",
       "  <thead>\n",
       "    <tr style=\"text-align: right;\">\n",
       "      <th></th>\n",
       "      <th>TWI</th>\n",
       "      <th>TPI</th>\n",
       "      <th>LDSOL3R150</th>\n",
       "      <th>LDSOL4R150</th>\n",
       "      <th>LDSOL4R200</th>\n",
       "      <th>FAProx_01</th>\n",
       "      <th>FAProx_025</th>\n",
       "      <th>visibility</th>\n",
       "      <th>slope</th>\n",
       "      <th>elevation</th>\n",
       "      <th>percentage</th>\n",
       "    </tr>\n",
       "  </thead>\n",
       "  <tbody>\n",
       "    <tr>\n",
       "      <th>106195</th>\n",
       "      <td>13.59353</td>\n",
       "      <td>-0.15649</td>\n",
       "      <td>0.00315</td>\n",
       "      <td>0.00693</td>\n",
       "      <td>0.00671</td>\n",
       "      <td>85.00000</td>\n",
       "      <td>25.94224</td>\n",
       "      <td>0.04296</td>\n",
       "      <td>9.59954</td>\n",
       "      <td>159.47165</td>\n",
       "      <td>0</td>\n",
       "    </tr>\n",
       "    <tr>\n",
       "      <th>32043</th>\n",
       "      <td>4.63718</td>\n",
       "      <td>-0.00439</td>\n",
       "      <td>0.00415</td>\n",
       "      <td>0.01119</td>\n",
       "      <td>0.01205</td>\n",
       "      <td>55.00000</td>\n",
       "      <td>11.18034</td>\n",
       "      <td>0.09969</td>\n",
       "      <td>6.23723</td>\n",
       "      <td>94.90872</td>\n",
       "      <td>0</td>\n",
       "    </tr>\n",
       "    <tr>\n",
       "      <th>89371</th>\n",
       "      <td>11.71443</td>\n",
       "      <td>-0.41978</td>\n",
       "      <td>0.00092</td>\n",
       "      <td>0.00764</td>\n",
       "      <td>0.01099</td>\n",
       "      <td>125.00000</td>\n",
       "      <td>29.96665</td>\n",
       "      <td>0.07519</td>\n",
       "      <td>10.90686</td>\n",
       "      <td>134.19553</td>\n",
       "      <td>0</td>\n",
       "    </tr>\n",
       "    <tr>\n",
       "      <th>112187</th>\n",
       "      <td>11.53867</td>\n",
       "      <td>0.02208</td>\n",
       "      <td>0.00000</td>\n",
       "      <td>0.00390</td>\n",
       "      <td>0.00264</td>\n",
       "      <td>114.01755</td>\n",
       "      <td>72.53275</td>\n",
       "      <td>0.02210</td>\n",
       "      <td>4.82951</td>\n",
       "      <td>178.78873</td>\n",
       "      <td>0</td>\n",
       "    </tr>\n",
       "    <tr>\n",
       "      <th>23716</th>\n",
       "      <td>4.67272</td>\n",
       "      <td>0.19862</td>\n",
       "      <td>0.00379</td>\n",
       "      <td>0.00568</td>\n",
       "      <td>0.00567</td>\n",
       "      <td>93.00538</td>\n",
       "      <td>19.79899</td>\n",
       "      <td>0.20469</td>\n",
       "      <td>8.11566</td>\n",
       "      <td>86.85973</td>\n",
       "      <td>0</td>\n",
       "    </tr>\n",
       "  </tbody>\n",
       "</table>\n",
       "</div>"
      ],
      "text/plain": [
       "             TWI      TPI  LDSOL3R150  LDSOL4R150  LDSOL4R200  FAProx_01  \\\n",
       "106195  13.59353 -0.15649     0.00315     0.00693     0.00671   85.00000   \n",
       "32043    4.63718 -0.00439     0.00415     0.01119     0.01205   55.00000   \n",
       "89371   11.71443 -0.41978     0.00092     0.00764     0.01099  125.00000   \n",
       "112187  11.53867  0.02208     0.00000     0.00390     0.00264  114.01755   \n",
       "23716    4.67272  0.19862     0.00379     0.00568     0.00567   93.00538   \n",
       "\n",
       "        FAProx_025  visibility     slope  elevation  percentage  \n",
       "106195    25.94224     0.04296   9.59954  159.47165           0  \n",
       "32043     11.18034     0.09969   6.23723   94.90872           0  \n",
       "89371     29.96665     0.07519  10.90686  134.19553           0  \n",
       "112187    72.53275     0.02210   4.82951  178.78873           0  \n",
       "23716     19.79899     0.20469   8.11566   86.85973           0  "
      ]
     },
     "execution_count": 79,
     "metadata": {},
     "output_type": "execute_result"
    }
   ],
   "source": [
    "X_train.drop(['x_coord','y_coord'], axis =1, inplace=True)\n",
    "X_train.head()"
   ]
  },
  {
   "cell_type": "code",
   "execution_count": 80,
   "metadata": {},
   "outputs": [],
   "source": [
    "X_train.to_csv('datasets/basin3_Training.csv', index=None)"
   ]
  },
  {
   "cell_type": "code",
   "execution_count": 81,
   "metadata": {},
   "outputs": [
    {
     "name": "stdout",
     "output_type": "stream",
     "text": [
      "            TWI      TPI  LDSOL3R150  LDSOL4R150  LDSOL4R200  FAProx_01  \\\n",
      "41078  11.78652 -0.02912     0.00497     0.01353     0.01384  101.24229   \n",
      "76818  11.09787 -0.06277     0.01116     0.01408     0.01234   35.35534   \n",
      "86254   2.85848  0.07752     0.00791     0.01357     0.01096   60.00000   \n",
      "28142   1.70899  0.24947     0.00482     0.01076     0.01006   49.49747   \n",
      "19505  15.95014 -0.02366     0.00517     0.00996     0.00884   30.41381   \n",
      "\n",
      "       FAProx_025  visibility    slope  elevation  x_coord  y_coord  \n",
      "41078    26.47640     0.18092  7.61512  121.83397   360003  5273348  \n",
      "76818     7.81025     0.10706  2.43555  116.16261   359898  5272813  \n",
      "86254    12.00000     0.10051  0.68381  123.42653   359863  5272633  \n",
      "28142     9.89950     0.11470  4.03959   96.31892   359478  5273553  \n",
      "19505    32.24903     0.06111  3.11087  103.15604   359578  5273738  \n",
      "            TWI      TPI  LDSOL3R150  LDSOL4R150  LDSOL4R200  FAProx_01  \\\n",
      "41078  11.78652 -0.02912     0.00497     0.01353     0.01384  101.24229   \n",
      "76818  11.09787 -0.06277     0.01116     0.01408     0.01234   35.35534   \n",
      "86254   2.85848  0.07752     0.00791     0.01357     0.01096   60.00000   \n",
      "28142   1.70899  0.24947     0.00482     0.01076     0.01006   49.49747   \n",
      "19505  15.95014 -0.02366     0.00517     0.00996     0.00884   30.41381   \n",
      "\n",
      "       FAProx_025  visibility    slope  elevation  x_coord  y_coord  \\\n",
      "41078    26.47640     0.18092  7.61512  121.83397   360003  5273348   \n",
      "76818     7.81025     0.10706  2.43555  116.16261   359898  5272813   \n",
      "86254    12.00000     0.10051  0.68381  123.42653   359863  5272633   \n",
      "28142     9.89950     0.11470  4.03959   96.31892   359478  5273553   \n",
      "19505    32.24903     0.06111  3.11087  103.15604   359578  5273738   \n",
      "\n",
      "       percentage  \n",
      "41078           0  \n",
      "76818           0  \n",
      "86254           0  \n",
      "28142           0  \n",
      "19505           0  \n",
      "<class 'pandas.core.frame.DataFrame'>\n",
      "Int64Index: 22557 entries, 41078 to 90526\n",
      "Data columns (total 13 columns):\n",
      " #   Column      Non-Null Count  Dtype  \n",
      "---  ------      --------------  -----  \n",
      " 0   TWI         22557 non-null  float64\n",
      " 1   TPI         22557 non-null  float64\n",
      " 2   LDSOL3R150  22557 non-null  float64\n",
      " 3   LDSOL4R150  22557 non-null  float64\n",
      " 4   LDSOL4R200  22557 non-null  float64\n",
      " 5   FAProx_01   22557 non-null  float64\n",
      " 6   FAProx_025  22557 non-null  float64\n",
      " 7   visibility  22557 non-null  float64\n",
      " 8   slope       22557 non-null  float64\n",
      " 9   elevation   22557 non-null  float64\n",
      " 10  x_coord     22557 non-null  int64  \n",
      " 11  y_coord     22557 non-null  int64  \n",
      " 12  percentage  22557 non-null  int64  \n",
      "dtypes: float64(10), int64(3)\n",
      "memory usage: 2.4 MB\n",
      "None\n"
     ]
    },
    {
     "name": "stderr",
     "output_type": "stream",
     "text": [
      "/var/folders/s5/cqkwnnps0f1_35_bccj0y8q80000gn/T/ipykernel_9529/2312397218.py:3: SettingWithCopyWarning: \n",
      "A value is trying to be set on a copy of a slice from a DataFrame.\n",
      "Try using .loc[row_indexer,col_indexer] = value instead\n",
      "\n",
      "See the caveats in the documentation: https://pandas.pydata.org/pandas-docs/stable/user_guide/indexing.html#returning-a-view-versus-a-copy\n",
      "  X_test.loc[:,'percentage'] = y_test\n"
     ]
    }
   ],
   "source": [
    "#####. Creating training set\n",
    "print(X_test.head())\n",
    "X_test.loc[:,'percentage'] = y_test\n",
    "print(X_test.head())\n",
    "print(X_test.info())\n"
   ]
  },
  {
   "cell_type": "code",
   "execution_count": 82,
   "metadata": {},
   "outputs": [
    {
     "data": {
      "text/plain": [
       "Counter({0: 21960, 5: 475, 1: 122})"
      ]
     },
     "execution_count": 82,
     "metadata": {},
     "output_type": "execute_result"
    }
   ],
   "source": [
    "Counter(X_test['percentage'])"
   ]
  },
  {
   "cell_type": "code",
   "execution_count": 87,
   "metadata": {},
   "outputs": [],
   "source": [
    "X_test.to_csv('datasets/basin3_Test.csv', index=None)"
   ]
  },
  {
   "cell_type": "code",
   "execution_count": 84,
   "metadata": {},
   "outputs": [
    {
     "name": "stdout",
     "output_type": "stream",
     "text": [
      "Summary of traning and test dataset class balance\n",
      "Training Set: \n",
      " Class 0: 0.974  Class 1: 0.0054 Class 5: 0.0210\n",
      "Testing Set: \n",
      " Class 0: 0.974  Class 1: 0.0054 Class 5: 0.0211\n"
     ]
    }
   ],
   "source": [
    "## This proportions are the reason why a sample_weight of 0.01 for the majority class give best results for regression\n",
    "totalTrain = sum([87838, 1899, 488])\n",
    "totalValidation = sum([21960,475, 122])\n",
    "print(\"Summary of traning and test dataset class balance\")\n",
    "print(f\"Training Set:\", '\\n', \"Class 0: %.3f\" %(87838/totalTrain), \" Class 1: %.4f\" %(488/totalTrain), \"Class 5: %.4f\"%(1899/totalTrain))\n",
    "print(\"Testing Set:\", '\\n', \"Class 0: %.3f\" %(21960/totalValidation),\" Class 1: %.4f\" %(122/totalValidation),  \"Class 5: %.4f\"%(475/totalValidation))\n",
    "\n"
   ]
  },
  {
   "cell_type": "code",
   "execution_count": 86,
   "metadata": {},
   "outputs": [
    {
     "name": "stdout",
     "output_type": "stream",
     "text": [
      "90225\n"
     ]
    }
   ],
   "source": [
    "print(totalTrain)"
   ]
  },
  {
   "cell_type": "code",
   "execution_count": null,
   "metadata": {},
   "outputs": [],
   "source": [
    "model = ms.loadModel('./outputs/2022-08-05/00-35-58/2208050035.pkl')\n",
    "dataSetToSave = ms.makePredictionToImportAsSHP(csvName, model, X, Y, 'percentage')\n",
    "print(dataSetToSave.head())"
   ]
  },
  {
   "cell_type": "markdown",
   "metadata": {},
   "source": [
    "## Controled sampling"
   ]
  },
  {
   "cell_type": "code",
   "execution_count": null,
   "metadata": {},
   "outputs": [],
   "source": [
    "DS = pd.read_csv('basin1Light_Clean_Training.csv', index_col = None)\n",
    "print(DS.head())\n"
   ]
  },
  {
   "cell_type": "code",
   "execution_count": null,
   "metadata": {},
   "outputs": [],
   "source": [
    "print(DS.columns)"
   ]
  },
  {
   "cell_type": "code",
   "execution_count": null,
   "metadata": {},
   "outputs": [],
   "source": [
    "plt.boxplot(DS['FAcc']) # , , DS['elevation'], DS['disToRiv']]"
   ]
  },
  {
   "cell_type": "code",
   "execution_count": null,
   "metadata": {},
   "outputs": [],
   "source": [
    "## Resampling appliying class selection by rule:\n",
    "\n",
    "# RULE1: Select point at a distance to river less than 300m. \n",
    "\n",
    "# # newDS = pseudoClassCreation(DS, \"distanceToRiver\", 300, 2)\n",
    "def pseudoClassCreation(dataset, conditionVariable, threshold, pseudoClass, targetClassName):\n",
    "    '''\n",
    "    Replace <targetClass> by  <pseudoClass> where <conditionVariable >= threshold>. \n",
    "    Return:\n",
    "      dataset with new classes group. \n",
    "    '''\n",
    "    datsetReclassified = dataset.copy()\n",
    "    actualTarget = (np.array(dataset[targetClassName])).ravel()\n",
    "    conditionVar = (np.array(dataset[conditionVariable])).ravel()\n",
    "    datsetReclassified[targetClassName] = [ pseudoClass if conditionVar[j] >= threshold \n",
    "                                           else actualTarget[j]\n",
    "                                           for j in range(len(actualTarget))]\n",
    "    print(Counter(datsetReclassified[targetClassName]))\n",
    "    return  datsetReclassified\n",
    "\n",
    "def revertPseudoClassCreation(dataset, originalClass, pseudoClass, targetClassName):\n",
    "    '''\n",
    "    Restablich  <targetClass> with <originalClass> where <targetClassName == pseudoClass>. \n",
    "    Return:\n",
    "      dataset with original classes group. \n",
    "    '''\n",
    "    datsetReclassified = dataset.copy()\n",
    "    actualTarget = (np.array(dataset[targetClassName])).ravel()\n",
    "    datsetReclassified[targetClassName] = [ originalClass if actualTarget[j] == pseudoClass\n",
    "                                           else actualTarget[j]\n",
    "                                           for j in range(len(actualTarget))]\n",
    "    print(Counter(datsetReclassified[targetClassName]))\n",
    "    return  datsetReclassified\n",
    "\n",
    "\n",
    "print(Counter(X_train['percentage']))\n",
    "newDS = pseudoClassCreation(X_train, 'disToRiv', 200, 2, 'percentage')\n",
    "y = newDS['percentage']\n",
    "newDS.drop(['percentage'], axis=1, inplace = True)\n",
    "x_res,y_res = ms.randomUndersampling(newDS, y, )\n",
    "x_res['percentage'] = y_res\n",
    "# newDatase = revertPseudoClassCreation(x_res, 0, 2, 'percentage')\n"
   ]
  },
  {
   "cell_type": "code",
   "execution_count": null,
   "metadata": {},
   "outputs": [],
   "source": [
    "x_res.to_csv('basin1ControlClass0Sampling4Class_ToSHP.csv',index = None)"
   ]
  },
  {
   "cell_type": "markdown",
   "metadata": {},
   "source": [
    "# Data description and visualization"
   ]
  },
  {
   "cell_type": "code",
   "execution_count": null,
   "metadata": {},
   "outputs": [],
   "source": [
    "#### import dataset to describe\n",
    "\n",
    "DS= pd.read_csv('datasets/basin1Light_Clean.csv', index_col=None)\n",
    "DS.head()"
   ]
  },
  {
   "cell_type": "code",
   "execution_count": null,
   "metadata": {},
   "outputs": [],
   "source": [
    "DS.drop(['x_coord','y_coord'], axis = 1, inplace=True)\n",
    "DS.head()"
   ]
  },
  {
   "cell_type": "code",
   "execution_count": null,
   "metadata": {},
   "outputs": [],
   "source": [
    "### FAcc vs Labels\n",
    "targets = DS['percentage']\n",
    "FAcc = original['FAcc']\n",
    "FAcc_norm = DS['FAcc_norm']\n",
    "fig, axs = plt.subplots(1, 2, figsize=(13,4), sharey=True)\n",
    "fig.text(-0.02, 0.5, 'labels', va='center', rotation='vertical')\n",
    "fig.text(0.5, 1, 'Flow accumulation vs labels distribution', ha ='center')\n",
    "axs[0].scatter(FAcc,targets)\n",
    "# axs[0].set_title(\"Facc\")\n",
    "axs[0].set(xlabel='a) Flow Accumulation')\n",
    "axs[1].scatter(FAcc_norm,targets)\n",
    "# axs[1].set_title(\"FAcc_norm\")\n",
    "axs[1].set(xlabel='b) Flow Accumulation estandardized')\n",
    "plt.rcParams['font.size'] = '20'\n",
    "fig.tight_layout()\n"
   ]
  },
  {
   "cell_type": "code",
   "execution_count": null,
   "metadata": {
    "scrolled": true
   },
   "outputs": [],
   "source": [
    "\n",
    "## Plot all features vs labels\n",
    "# 'disToRiv', 'TWI', 'TPI', 'slope', 'elevation',\n",
    "\n",
    "targets = DS['percentage']\n",
    "# targets = np.where(targets == 5,2,targets)\n",
    "\n",
    "E = DS['elevation'] \n",
    "slope = DS['slope']\n",
    "FAcc = DS['FAcc']\n",
    "TWI = DS['TWI']\n",
    "TPI = DS['TPI']\n",
    "DLSOL4R150 = DS['DLSOL4R150']\n",
    "DLSOL5R150 = DS['DLSOL5R150']\n",
    "DLSOL5R200 = DS['DLSOL5R200']\n",
    "FAProx_01 = DS['FAProx_01']\n",
    "FAProx_025 = DS['FAProx_025']\n",
    "visibility = DS['visibility']\n",
    "\n",
    "fig, axs = plt.subplots(4,3, figsize=(13, 8), sharey=True)\n",
    "fig.supylabel('Labels')\n",
    "plt.rcParams['font.size'] = '15'\n",
    "plt.yticks([0,1,5])\n",
    "\n",
    "'''\n",
    "E = DS['elevation'] \n",
    "slope = DS['slope']\n",
    "FAcc = DS['FAcc']\n",
    "TWI = DS['TWI']\n",
    "'''\n",
    "axs[0, 0].scatter(E,targets)\n",
    "axs[0, 0].set_title(\"Elevation\")\n",
    "axs[1, 0].scatter(slope,targets)\n",
    "axs[1, 0].set_title(\"Slope\")\n",
    "axs[2, 0].scatter(FAcc,targets)\n",
    "axs[2, 0].set_title(\"Flow accumulation\")\n",
    "axs[3, 0].scatter(TWI,targets)\n",
    "axs[3, 0].set_title(\"TWI\")\n",
    "\n",
    "'''\n",
    "TPI = DS['TPI']\n",
    "DLSOL4R150 = DS['DLSOL4R150']\n",
    "DLSOL5R150 = DS['DLSOL5R150']\n",
    "DLSOL5R200 = DS['DLSOL5R200']\n",
    "'''\n",
    "axs[0, 1].scatter(TPI,targets)\n",
    "axs[0, 1].set_title('TPI')\n",
    "axs[1, 1].scatter(DLSOL4R150,targets)\n",
    "axs[1, 1].set_title(\"DLSOL4R150\")\n",
    "axs[2, 1].scatter(DLSOL5R150,targets)\n",
    "axs[2, 1].set_title(\"DLSOL5R150\")\n",
    "axs[3, 1].scatter(DLSOL5R200,targets)\n",
    "axs[3, 1].set_title(\"DLSOL5R200\")\n",
    "\n",
    "'''\n",
    "FAProx_01 = DS['FAProx_01']\n",
    "FAProx_025 = DS['FAProx_025']\n",
    "visibility = DS['visibility']\n",
    "'''\n",
    "axs[0, 2].scatter(FAProx_01,targets)\n",
    "axs[0, 2].set_title('FAProx_01')\n",
    "axs[1, 2].scatter(FAProx_025,targets)\n",
    "axs[1, 2].set_title(\"FAProx_025\")\n",
    "axs[2, 2].scatter(visibility,targets)\n",
    "axs[2, 2].set_title(\"Visibility\")\n",
    "\n",
    "fig.tight_layout()\n"
   ]
  },
  {
   "cell_type": "code",
   "execution_count": null,
   "metadata": {},
   "outputs": [],
   "source": [
    "print(DS.head())\n",
    "#  Return a dataset with the rows corresponding to the index where condition in DS.columName is valid. \n",
    "dsArray = DS[DS.percentage != 0] print(dsArray.head())\n",
    "print(dsArray.head()) "
   ]
  },
  {
   "cell_type": "code",
   "execution_count": null,
   "metadata": {
    "scrolled": true
   },
   "outputs": [],
   "source": [
    "sns.set(font_scale=1.5)\n",
    "sns.pairplot(DS, hue = 'percentage', diag_kind = 'kde', \n",
    "             plot_kws = {'alpha': 0.8, 's': 100},\n",
    "             height = 4, corner=True, palette = \"Set2\")# vars = ['life_exp', 'log_pop', 'log_gdp_per_cap'],\n",
    "\n",
    "# sns.pairplot(DS, hue=\"percentage\")"
   ]
  },
  {
   "cell_type": "code",
   "execution_count": null,
   "metadata": {},
   "outputs": [],
   "source": [
    "####. Covariance Matrix\n",
    "sns.set(font_scale=0.7)\n",
    "matrix = DS.corr().round(2)\n",
    "sns.heatmap(matrix, annot=True)\n",
    "plt.set_figsize=(25,20)\n",
    "plt.show()"
   ]
  },
  {
   "cell_type": "code",
   "execution_count": null,
   "metadata": {},
   "outputs": [],
   "source": [
    "from sklearn.multiclass import OneVsRestClassifier\n",
    "from sklearn.ensemble import RandomForestClassifier\n",
    "\n",
    "estimator = RandomForestClassifier(criterion='entropy', random_state = 50)\n",
    "x_train,y_train = ms.importDataSet('basin1Train.csv', 'percentage')\n",
    "classifier = OneVsRestClassifier(estimator).fit(x_train,y_train)\n"
   ]
  },
  {
   "cell_type": "code",
   "execution_count": null,
   "metadata": {},
   "outputs": [],
   "source": [
    "classifier = ms.loadModel('./outputs/2022-08-05/11-01-57/2208051101.pkl')\n",
    "x_test,y_test = ms.importDataSet('basin1Test.csv', 'percentage')\n",
    "\n",
    "x_test = ms.removeCoordinatesFromDataSet(x_test)\n",
    "\n",
    "# y_prob = classifier.predict_proba(x_test)\n",
    "#print(np.unique(y_prob))"
   ]
  },
  {
   "cell_type": "code",
   "execution_count": null,
   "metadata": {},
   "outputs": [],
   "source": [
    "md.plot_ROC_AUC_OneVsRest(classifier, x_test, y_test)"
   ]
  },
  {
   "cell_type": "code",
   "execution_count": null,
   "metadata": {},
   "outputs": [],
   "source": [
    "_,y_test = ms.importDataSet('./bestModels/Classifier/10-18-08/2208051018prediction_basin1Test.csv', 'prediction')\n",
    "unique, count = np.unique(y_test, return_counts=True)\n",
    "total = count.sum()\n",
    "print(total)\n",
    "percent = np.round(np.zeros_like(unique).astype('float16'),3)\n",
    "print('values, counts , percent')\n",
    "for i in range(len(unique)):    \n",
    "   percent[i] = (count[i]/total)*100\n",
    "   print(unique[i],\"\\t\", count[i], percent[i])\n"
   ]
  },
  {
   "cell_type": "code",
   "execution_count": null,
   "metadata": {},
   "outputs": [],
   "source": []
  },
  {
   "cell_type": "code",
   "execution_count": null,
   "metadata": {},
   "outputs": [],
   "source": []
  }
 ],
 "metadata": {
  "celltoolbar": "Raw Cell Format",
  "kernelspec": {
   "display_name": "Python 3 (ipykernel)",
   "language": "python",
   "name": "python3"
  },
  "language_info": {
   "codemirror_mode": {
    "name": "ipython",
    "version": 3
   },
   "file_extension": ".py",
   "mimetype": "text/x-python",
   "name": "python",
   "nbconvert_exporter": "python",
   "pygments_lexer": "ipython3",
   "version": "3.9.13"
  },
  "vscode": {
   "interpreter": {
    "hash": "c444c068df4da933f83035bc75b2ed5aea8e7fb8bc113357e2f14ee7cca6a8fe"
   }
  }
 },
 "nbformat": 4,
 "nbformat_minor": 2
}
